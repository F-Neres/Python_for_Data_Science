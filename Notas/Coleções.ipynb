{
 "cells": [
  {
   "cell_type": "markdown",
   "metadata": {},
   "source": [
    "# Coleções"
   ]
  },
  {
   "cell_type": "markdown",
   "metadata": {},
   "source": [
    "São objetos iteráveis: contém outros objetos, com os quais é possível contar e, a cada contagem, executar determinada ação.  \n",
    "São essenciais para algoritmos de laço (loop)."
   ]
  },
  {
   "attachments": {},
   "cell_type": "markdown",
   "metadata": {},
   "source": [
    "Um iterador é sempre um iterável, mas que produz um valor a cada vez que é usado como argumento da função nativa next().\n",
    "\n",
    "Um iterador deve sempre implementar o método next(), no Python 2, ou \"\\_\\_next\\_\\_\"(), no Python 3. Esse método deve retornar a exceção _StopIteration_ quando não há mais valores para o iterador produzir.\n",
    "\n",
    "[O que são Iteradores no Python.](https://www.alura.com.br/artigos/o-que-sao-iteradores-no-python)"
   ]
  },
  {
   "attachments": {},
   "cell_type": "markdown",
   "metadata": {},
   "source": [
    "**Tipos de coleções:**  \n",
    "*  Lista\n",
    "*  Tupla\n",
    "*  Dicionário\n",
    "*  String\n",
    "*  Set\n",
    "*  Range"
   ]
  },
  {
   "cell_type": "markdown",
   "metadata": {},
   "source": [
    "Alguns pacotes proveem seus próprios objetos iteráveis, como o *numpy*, com seu array e o *pandas*, que dispõe séries e dataframes."
   ]
  },
  {
   "attachments": {},
   "cell_type": "markdown",
   "metadata": {},
   "source": [
    "Usaremos, primeiramente, as funções *print()*, *type()* e *len()* que, respectivamente, imprime o objeto, retorna o tipo do objeto e retorna o número de item dentro da coleção."
   ]
  },
  {
   "cell_type": "code",
   "execution_count": 10,
   "metadata": {},
   "outputs": [],
   "source": [
    "# Para imprimir o tipo dos objetos:\n",
    "\n",
    "printype = lambda x: print(type(x))\n",
    "printlen = lambda x: print(len(x))"
   ]
  },
  {
   "attachments": {},
   "cell_type": "markdown",
   "metadata": {},
   "source": [
    "## String"
   ]
  },
  {
   "attachments": {},
   "cell_type": "markdown",
   "metadata": {},
   "source": [
    "Em geral, é a forma como o Python entende o formato de texto.\n",
    "* Contém tudo que estiver entre aspas simples ou aspas duplas.\n",
    "* Cada caractere dentro de uma string também é uma string (uma string de apenas um caractere ainda é uma coleção)\n",
    "* Números dentro de strings são identificados como strings e não podem participar de operações matemáticas - é preciso converter o tipo."
   ]
  },
  {
   "cell_type": "code",
   "execution_count": 11,
   "metadata": {},
   "outputs": [
    {
     "name": "stdout",
     "output_type": "stream",
     "text": [
      "Isso é uma \"string\".\n",
      "<class 'str'>\n",
      "20\n"
     ]
    }
   ],
   "source": [
    "Texto = 'Isso é uma \"string\".'\n",
    "\n",
    "print(Texto)\n",
    "printype(Texto)\n",
    "printlen(Texto)"
   ]
  },
  {
   "cell_type": "code",
   "execution_count": 12,
   "metadata": {},
   "outputs": [
    {
     "name": "stdout",
     "output_type": "stream",
     "text": [
      " \n",
      "<class 'str'>\n",
      "1\n"
     ]
    }
   ],
   "source": [
    "# Uma string com apenas um caractere ainda é uma coleção\n",
    "# E espaços também contam como caractere\n",
    "\n",
    "Espaço = ' '\n",
    "\n",
    "print(Espaço)\n",
    "printype(Espaço)\n",
    "printlen(Espaço)"
   ]
  },
  {
   "cell_type": "code",
   "execution_count": 13,
   "metadata": {},
   "outputs": [
    {
     "name": "stdout",
     "output_type": "stream",
     "text": [
      "\n",
      "Todos estes que aí estão\n",
      "Atravancando o meu caminho,\n",
      "Eles passarão.\n",
      "Eu passarinho! 🐦\n",
      "\n"
     ]
    }
   ],
   "source": [
    "# Escrevendo um texto corrido\n",
    "\n",
    "Quintana = '''\n",
    "Todos estes que aí estão\n",
    "Atravancando o meu caminho,\n",
    "Eles passarão.\n",
    "Eu passarinho! 🐦\n",
    "'''\n",
    "\n",
    "print(Quintana)"
   ]
  },
  {
   "cell_type": "code",
   "execution_count": 14,
   "metadata": {},
   "outputs": [
    {
     "name": "stdout",
     "output_type": "stream",
     "text": [
      "3\n",
      "3\n",
      "a\ta\n"
     ]
    }
   ],
   "source": [
    "# Quebra de linha é designada como \\n\n",
    "# conta como um caractere\n",
    "\n",
    "Quebra = 'a\\na'\n",
    "\n",
    "printlen(Quebra)\n",
    "\n",
    "Quebra = '''a\n",
    "a'''\n",
    "\n",
    "printlen(Quebra)\n",
    "\n",
    "###\n",
    "\n",
    "# Tab é designado como \\t\n",
    "print('a\\ta')"
   ]
  },
  {
   "cell_type": "code",
   "execution_count": 15,
   "metadata": {},
   "outputs": [
    {
     "name": "stdout",
     "output_type": "stream",
     "text": [
      "['Isso', 'é', 'uma', '\"string\".']\n",
      "<class 'list'>\n",
      "\n",
      "['', 'Todos estes que aí estão', 'Atravancando o meu caminho,', 'Eles passarão.', 'Eu passarinho! 🐦']\n",
      "<class 'list'>\n"
     ]
    }
   ],
   "source": [
    "# O método \"split()\" transforma a string em lista, separando por um caractere definido no parâmetro.\n",
    "# Se nenhum parâmetro é informado, a divisão ocorre nos espaços.\n",
    "\n",
    "Texto_Split = Texto.split()\n",
    "\n",
    "print(Texto_Split)\n",
    "printype(Texto_Split)\n",
    "\n",
    "print()\n",
    "# O método \"splitlines()\" faz o mesmo, mas apenas nas quebras de linhas\n",
    "\n",
    "Texto_Split_Line = Quintana.splitlines()\n",
    "\n",
    "print(Texto_Split_Line)\n",
    "printype(Texto_Split_Line)"
   ]
  },
  {
   "cell_type": "code",
   "execution_count": 16,
   "metadata": {},
   "outputs": [
    {
     "name": "stdout",
     "output_type": "stream",
     "text": [
      "isto é uma string\t sim, é.\n",
      "Isto é uma string\t sim, é.\n",
      "isto é uma string\t sim, é.\n",
      ".             isto é uma string\t sim, é.             .\n",
      "3\n",
      "False\n",
      "isto é uma string                                                                sim, é.\n",
      "12\n",
      "12\n",
      "False\n",
      "False\n",
      "isto é uma string\t sim, é.\n",
      "isto é uma string\t sim, é.\n"
     ]
    }
   ],
   "source": [
    "Texto_Exemplo = 'isto é uma string\\t sim, é.'\n",
    "\n",
    "print(Texto_Exemplo)\n",
    "\n",
    "Texto_Exemplo = Texto_Exemplo.capitalize()\n",
    "print(Texto_Exemplo)\n",
    "\n",
    "Texto_Exemplo = Texto_Exemplo.casefold()\n",
    "print(Texto_Exemplo)\n",
    "\n",
    "print('.',Texto_Exemplo.center(50),'.')\n",
    "\n",
    "print(Texto_Exemplo.count('i'))\n",
    "\n",
    "print(Texto_Exemplo.endswith('ng'))\n",
    "\n",
    "print(Texto_Exemplo.expandtabs(80))\n",
    "\n",
    "print(Texto_Exemplo.find('tri'))\n",
    "\n",
    "print(Texto_Exemplo.find('tri'))\n",
    "\n",
    "# Um identificador não contém espaçamento nem inicia com número.\n",
    "print(Texto_Exemplo.isidentifier())\n",
    "\n",
    "# Em inglês, diferentemente do português, todas as palavras do título inicial com letra maiúscula.\n",
    "print(Texto_Exemplo.istitle())\n",
    "\n",
    "# Justificado à esquerda\n",
    "print(Texto_Exemplo.ljust(20,'.'))\n",
    "\n",
    "# Versão cortada à esquerda\n",
    "print(Texto_Exemplo.lstrip())\n",
    "\n"
   ]
  },
  {
   "cell_type": "code",
   "execution_count": 17,
   "metadata": {},
   "outputs": [
    {
     "name": "stdout",
     "output_type": "stream",
     "text": [
      "{105: 121}\n",
      "ysto é uma stryng\t sym, é.\n"
     ]
    }
   ],
   "source": [
    "# Conversão/tradução: substituição de caracteres\n",
    "\n",
    "# O método maketrans() retorna um dicionário descrevendo cada substituição, em unicode:\n",
    "Tábula = Texto_Exemplo.maketrans('i','y')\n",
    "print(Tábula)\n",
    "\n",
    "print(Texto_Exemplo.translate(Tábula))"
   ]
  },
  {
   "cell_type": "code",
   "execution_count": 18,
   "metadata": {},
   "outputs": [
    {
     "name": "stdout",
     "output_type": "stream",
     "text": [
      "Custa apenas R$47,00.\n",
      "Custa apenas R$47.00.\n",
      "Custa apenas R$47,00.\n",
      "Custa apenas R$47,00.\n"
     ]
    }
   ],
   "source": [
    "# Valores cambiáveis na string\n",
    "\n",
    "Preço = 47\n",
    "\n",
    "Resposta = f'Custa apenas R${Preço},00.'\n",
    "print(Resposta)\n",
    "\n",
    "Resposta = 'Custa apenas R${price:.2f}.'\n",
    "print(Resposta.format(price = Preço))\n",
    "\n",
    "Resposta = 'Custa apenas R${price},00.'\n",
    "print(Resposta.format(price = Preço))\n",
    "\n",
    "Resposta = 'Custa apenas R${price},00.'.format(price = Preço)\n",
    "print(Resposta)\n"
   ]
  },
  {
   "cell_type": "code",
   "execution_count": 19,
   "metadata": {},
   "outputs": [
    {
     "name": "stdout",
     "output_type": "stream",
     "text": [
      "esta string \n",
      "ão tem quebra de linha\n",
      "\n",
      "esta string \\não tem quebra de linha\n"
     ]
    }
   ],
   "source": [
    "# O prefixo 'r' na string faz com que a contrabarra não seja associada a um próximo caractere.\n",
    "\n",
    "print('esta string \\não tem quebra de linha')\n",
    "\n",
    "print()\n",
    "\n",
    "print(r'esta string \\não tem quebra de linha')"
   ]
  },
  {
   "cell_type": "markdown",
   "metadata": {},
   "source": [
    "## Listas"
   ]
  },
  {
   "attachments": {},
   "cell_type": "markdown",
   "metadata": {},
   "source": [
    "* Os elementos dentro da lista são separados por vírgula \n",
    "* Contém tudo que estiver entre Abre e Fecha Conchetes\n",
    "* Podem ser modificadas\n",
    "* Cada item dentro de uma lista possui um índice implícito, sendo o primeiro índice de número 0"
   ]
  },
  {
   "cell_type": "code",
   "execution_count": 20,
   "metadata": {},
   "outputs": [],
   "source": [
    "lista = ['a','b','c','d','e','f','g','h']\n"
   ]
  },
  {
   "cell_type": "code",
   "execution_count": 72,
   "metadata": {},
   "outputs": [
    {
     "data": {
      "text/plain": [
       "'a'"
      ]
     },
     "execution_count": 72,
     "metadata": {},
     "output_type": "execute_result"
    }
   ],
   "source": [
    "lista[0]"
   ]
  },
  {
   "cell_type": "code",
   "execution_count": 73,
   "metadata": {},
   "outputs": [
    {
     "data": {
      "text/plain": [
       "0"
      ]
     },
     "execution_count": 73,
     "metadata": {},
     "output_type": "execute_result"
    }
   ],
   "source": [
    "lista.index('a')"
   ]
  },
  {
   "cell_type": "code",
   "execution_count": 21,
   "metadata": {},
   "outputs": [
    {
     "name": "stdout",
     "output_type": "stream",
     "text": [
      "('a', 'd', 'g')\n",
      "<class 'tuple'>\n",
      "('b', 'e', 'h')\n",
      "<class 'tuple'>\n",
      "\n",
      "a d g\n",
      "b e h\n"
     ]
    }
   ],
   "source": [
    "# Zip une listas em uma iteração, retornando, em cada item, uma tupla composta dos valores de ambas as listas para o mesmo índice\n",
    "# O número de itens resultantes será igual ao comprimeito da menor dentre as listas.\n",
    "\n",
    "Lista1 = ['a','b','c','i']\n",
    "Lista2 = ['d','e','f']\n",
    "Lista3 = ['g','h']\n",
    "\n",
    "for i in zip(Lista1,Lista2,Lista3):\n",
    "    print(i)\n",
    "    print(type(i))\n",
    "\n",
    "print()\n",
    "\n",
    "for i,j,k in zip(Lista1,Lista2,Lista3):\n",
    "    print(i,j,k)"
   ]
  },
  {
   "cell_type": "code",
   "execution_count": 22,
   "metadata": {},
   "outputs": [
    {
     "data": {
      "text/plain": [
       "[1, 2, 3, 4, 1, 2, 3, 4]"
      ]
     },
     "execution_count": 22,
     "metadata": {},
     "output_type": "execute_result"
    }
   ],
   "source": [
    "# Concatenação de listas\n",
    "\n",
    "l1 = [1,2,3,4]\n",
    "\n",
    "l1 + l1"
   ]
  },
  {
   "cell_type": "code",
   "execution_count": 79,
   "metadata": {},
   "outputs": [
    {
     "name": "stdout",
     "output_type": "stream",
     "text": [
      "A lista não está vazia\n",
      "A lista está preenchida\n"
     ]
    }
   ],
   "source": [
    "# Verificação lógica a partir de listas vazias ou preenchidas\n",
    "\n",
    "Vazia = []\n",
    "\n",
    "Cheia = [1]\n",
    "\n",
    "if Vazia: #False\n",
    "    print('A lista está vazia.')\n",
    "\n",
    "if not Vazia: # not False\n",
    "    print('A lista não está vazia')\n",
    "\n",
    "if Cheia: # True\n",
    "    print('A lista está preenchida')\n",
    "\n",
    "if not Cheia: # not True\n",
    "    print('A lista não está cheia.')\n",
    "\n",
    "# Sempre lê-se \"if contém\" ou \"if not contém\""
   ]
  },
  {
   "cell_type": "markdown",
   "metadata": {},
   "source": [
    "## Tupla"
   ]
  },
  {
   "cell_type": "code",
   "execution_count": 23,
   "metadata": {},
   "outputs": [
    {
     "data": {
      "text/plain": [
       "('isso', 'é', 'muito', 'limitado')"
      ]
     },
     "execution_count": 23,
     "metadata": {},
     "output_type": "execute_result"
    }
   ],
   "source": [
    "#Tuplas são criadas com parênteses\n",
    "tupla = ('isso', 'é', 'muito', 'limitado')\n",
    "tupla"
   ]
  },
  {
   "attachments": {},
   "cell_type": "markdown",
   "metadata": {},
   "source": [
    "Tuplas são imutáveis. Não recebem nem perdem valores."
   ]
  },
  {
   "cell_type": "code",
   "execution_count": 24,
   "metadata": {},
   "outputs": [
    {
     "data": {
      "text/plain": [
       "20"
      ]
     },
     "execution_count": 24,
     "metadata": {},
     "output_type": "execute_result"
    }
   ],
   "source": [
    "# É possível apenas obter informações da tupla\n",
    "tupla2 = (1,2,3,4,5,6,7,8,9,0,0,9,8,7,6,5,4,3,2,1)\n",
    "len(tupla2)"
   ]
  },
  {
   "cell_type": "code",
   "execution_count": 25,
   "metadata": {},
   "outputs": [
    {
     "data": {
      "text/plain": [
       "4"
      ]
     },
     "execution_count": 25,
     "metadata": {},
     "output_type": "execute_result"
    }
   ],
   "source": [
    "#O índice de determinado item de uma tupla\n",
    "tupla2.index(5)"
   ]
  },
  {
   "cell_type": "code",
   "execution_count": 26,
   "metadata": {},
   "outputs": [
    {
     "data": {
      "text/plain": [
       "2"
      ]
     },
     "execution_count": 26,
     "metadata": {},
     "output_type": "execute_result"
    }
   ],
   "source": [
    "#Quantas vezes determinado item aparece numa tupla\n",
    "tupla2.count(5)"
   ]
  },
  {
   "cell_type": "code",
   "execution_count": 27,
   "metadata": {},
   "outputs": [
    {
     "data": {
      "text/plain": [
       "[1, 2, 3, 4, 5, 6, 7, 8, 9, 0, 0, 9, 8, 7, 6, 5, 4, 3, 2, 1]"
      ]
     },
     "execution_count": 27,
     "metadata": {},
     "output_type": "execute_result"
    }
   ],
   "source": [
    "#Conversão de tupla para lista\n",
    "listupla = list(tupla2)\n",
    "listupla"
   ]
  },
  {
   "cell_type": "code",
   "execution_count": 28,
   "metadata": {},
   "outputs": [
    {
     "data": {
      "text/plain": [
       "(1, 2, 3, 4, 5, 6, 7, 8, 9, 0, 0, 9, 8, 7, 6, 5, 4, 3, 2, 1)"
      ]
     },
     "execution_count": 28,
     "metadata": {},
     "output_type": "execute_result"
    }
   ],
   "source": [
    "#Conversão de tupla para lista\n",
    "tuplista = tuple(listupla)\n",
    "tuplista"
   ]
  },
  {
   "cell_type": "code",
   "execution_count": 29,
   "metadata": {},
   "outputs": [
    {
     "data": {
      "text/plain": [
       "[1, 2, 3, 4, 5, 6, 7, 8, 9, 0, 0, 9, 8, 7, 6, 5, 4, 3, 2, 1]"
      ]
     },
     "execution_count": 29,
     "metadata": {},
     "output_type": "execute_result"
    }
   ],
   "source": [
    "# Substituição com autoatribuição\n",
    "tuplista = list(tuplista)\n",
    "tuplista"
   ]
  },
  {
   "cell_type": "code",
   "execution_count": null,
   "metadata": {},
   "outputs": [],
   "source": []
  },
  {
   "cell_type": "markdown",
   "metadata": {},
   "source": [
    "## Dicionário"
   ]
  },
  {
   "cell_type": "code",
   "execution_count": 30,
   "metadata": {},
   "outputs": [
    {
     "name": "stdout",
     "output_type": "stream",
     "text": [
      "{'Listado': [5, 10, 15, 20, 25, 30]}\n"
     ]
    }
   ],
   "source": [
    "lista = [5, 10, 15, 20, 25, 30]\n",
    "\n",
    "dict_4 = dict(Listado=lista)\n",
    "\n",
    "print(dict_4)"
   ]
  },
  {
   "cell_type": "code",
   "execution_count": 31,
   "metadata": {},
   "outputs": [],
   "source": [
    "dict1 = {'k1':4,'k2':6,'k3':8}\n",
    "dict2 = {'k1':3,'k2':5,'k3':7}\n",
    "dict3 = {'k1':2,'k2':10,'k3':17}"
   ]
  },
  {
   "cell_type": "code",
   "execution_count": 71,
   "metadata": {},
   "outputs": [
    {
     "data": {
      "text/plain": [
       "3"
      ]
     },
     "execution_count": 71,
     "metadata": {},
     "output_type": "execute_result"
    }
   ],
   "source": [
    "# A chave, no dicionário, funciona como índice\n",
    "\n",
    "dict1['k1']"
   ]
  },
  {
   "cell_type": "code",
   "execution_count": 67,
   "metadata": {},
   "outputs": [
    {
     "name": "stdout",
     "output_type": "stream",
     "text": [
      "k1\n",
      "k2\n",
      "k3\n"
     ]
    }
   ],
   "source": [
    "# Iterar pelo dicionário trará apenas as chaves\n",
    "\n",
    "for i in dict1:\n",
    "    print(i)"
   ]
  },
  {
   "cell_type": "code",
   "execution_count": 77,
   "metadata": {},
   "outputs": [
    {
     "name": "stdout",
     "output_type": "stream",
     "text": [
      "k 1\n",
      "k 2\n",
      "k 3\n",
      "k1 4\n",
      "k2 6\n",
      "k3 8\n"
     ]
    }
   ],
   "source": [
    "dict1 = {'k1':4,'k2':6,'k3':8}\n",
    "\n",
    "for i, j in dict1:\n",
    "    print(i,j)\n",
    "\n",
    "# Às vezes isso pode retornar um erro, além de apenas omitir os valores\n",
    "\n",
    "for i,j in dict1.items():\n",
    "    print(i,j)"
   ]
  },
  {
   "cell_type": "code",
   "execution_count": 32,
   "metadata": {},
   "outputs": [
    {
     "name": "stdout",
     "output_type": "stream",
     "text": [
      "4\n",
      "6\n",
      "8\n",
      "k1\n",
      "k2\n",
      "k3\n",
      "<class 'dict_values'>\n",
      "<class 'dict_keys'>\n"
     ]
    }
   ],
   "source": [
    "# Chaves e valores dos dicionários são iteráveis\n",
    "\n",
    "Valores = dict1.values()\n",
    "Chaves = dict1.keys()\n",
    "\n",
    "for i in Valores:\n",
    "    print(i)\n",
    "for i in Chaves:\n",
    "    print(i)\n",
    "\n",
    "print(type(Valores))\n",
    "print(type(Chaves))"
   ]
  },
  {
   "cell_type": "code",
   "execution_count": 33,
   "metadata": {},
   "outputs": [
    {
     "name": "stdout",
     "output_type": "stream",
     "text": [
      "3\n",
      "5\n"
     ]
    }
   ],
   "source": [
    "# Normalmente, igualar cria uma cópia autônoma da variável original.\n",
    "\n",
    "jjj = 3\n",
    "kkk = jjj\n",
    "\n",
    "kkk += 2\n",
    "\n",
    "print(jjj)\n",
    "print(kkk)"
   ]
  },
  {
   "cell_type": "code",
   "execution_count": 34,
   "metadata": {},
   "outputs": [
    {
     "name": "stdout",
     "output_type": "stream",
     "text": [
      "{'k1': 4, 'k2': 18, 'k3': 8}\n",
      "{'k1': 4, 'k2': 18, 'k3': 8}\n"
     ]
    }
   ],
   "source": [
    "# Especificidade dos dicionários:\n",
    "# o símbolo de igualdade não cria uma cópia, mas uma chamada\n",
    "# O que ocorre com a chamada, ocorre com o dicionário original\n",
    "# Igualar a outro dicionário não altera o dicionário original, mas altera a chamada para outro dicionário.\n",
    "\n",
    "dict_atual = dict1\n",
    "dict_atual['k2'] += dict_atual['k2']*2\n",
    "\n",
    "print(dict_atual)\n",
    "print(dict1)"
   ]
  },
  {
   "cell_type": "code",
   "execution_count": 35,
   "metadata": {},
   "outputs": [
    {
     "name": "stdout",
     "output_type": "stream",
     "text": [
      "{'k1': 4, 'k2': 18}\n"
     ]
    }
   ],
   "source": [
    "del dict_atual['k3']\n",
    "print(dict1)"
   ]
  },
  {
   "cell_type": "code",
   "execution_count": 36,
   "metadata": {},
   "outputs": [
    {
     "name": "stdout",
     "output_type": "stream",
     "text": [
      "{'k1': 3, 'k2': 15, 'k3': 7}\n",
      "{'k1': 3, 'k2': 5, 'k3': 7}\n",
      "{'k1': 3, 'k2': 15, 'k3': 7}\n"
     ]
    }
   ],
   "source": [
    "#É preciso utilizar o comando .uptade para copiar os itens de um dicionário para outro.\n",
    "#receptor.update(fonte)\n",
    "#qualquer item do dict fonte que tiver a mesma chave do dict receptor acaba por sobrescrevê-lo.\n",
    "\n",
    "dict_atual.update(dict2)\n",
    "dict_atual['k2'] += dict_atual['k2']*2\n",
    "\n",
    "print(dict_atual)\n",
    "print(dict2)\n",
    "print(dict1)"
   ]
  },
  {
   "cell_type": "code",
   "execution_count": 37,
   "metadata": {},
   "outputs": [
    {
     "name": "stdout",
     "output_type": "stream",
     "text": [
      "{'k1': 3, 'k2': 5, 'k3': 5}\n",
      "{'k1': 3, 'k2': 5, 'k3': 7}\n",
      "{'k1': 2, 'k2': 10, 'k3': 17}\n"
     ]
    }
   ],
   "source": [
    "#Antes de usar o update, é preciso criar a cópia, mesmo que seja vazia.\n",
    "#O comando .update transfere o conteúdo de um dict a outro.\n",
    "\n",
    "dict_atual_2 = {}\n",
    "dict_atual_2.update(dict2)\n",
    "\n",
    "dict_atual_2['k3'] = dict_atual_2['k3']-2\n",
    "\n",
    "print(dict_atual_2)\n",
    "print(dict2)\n",
    "\n",
    "dict_atual_2.update(dict3)\n",
    "\n",
    "print(dict_atual_2)"
   ]
  },
  {
   "cell_type": "code",
   "execution_count": 38,
   "metadata": {},
   "outputs": [
    {
     "name": "stdout",
     "output_type": "stream",
     "text": [
      "{'k1': 3, 'k2': 5, 'k3': 7}\n",
      "{'k1': 3, 'k2': 5, 'k3': 888, 'ki': 8, 'kii': 88}\n"
     ]
    }
   ],
   "source": [
    "dictAppendable = {'ki':8,'kii':88,'k3':888}\n",
    "\n",
    "#Aqui, como o dict2 tem chaves iguais às do dict_atual_2, elas são substituídas\n",
    "dict_atual_2.update(dict2)\n",
    "print(dict_atual_2)\n",
    "\n",
    "#Aqui, como o dictAppendable tem chaves distintas, elas são adicionadas.\n",
    "#Umas das chaves é igual, então ela sobrescreve como visto anteriormente\n",
    "dict_atual_2.update(dictAppendable)\n",
    "print(dict_atual_2)"
   ]
  },
  {
   "cell_type": "code",
   "execution_count": 39,
   "metadata": {},
   "outputs": [
    {
     "name": "stdout",
     "output_type": "stream",
     "text": [
      "{'k1': 3, 'k2': 5, 'k3': 888, 'ki': 8, 'kii': 88}\n"
     ]
    }
   ],
   "source": [
    "#Uma forma (nada conveniente) de garantir que um dicionário será sobrescrito não obstante as chaves é:\n",
    "#1 - Deletar o dicionário que seria sobrescrito\n",
    "#2 - Recriar o dicionário que seria sobrescrito\n",
    "#3 - Utilizar o método .append\n",
    "\n",
    "def override(self,dict_overrider):\n",
    "    del self\n",
    "    self = {}\n",
    "    self.update(dict_overrider)\n",
    "\n",
    "override(dict_atual_2,dictAppendable)\n",
    "print(dict_atual_2)"
   ]
  },
  {
   "cell_type": "markdown",
   "metadata": {},
   "source": [
    "## Set"
   ]
  },
  {
   "attachments": {},
   "cell_type": "markdown",
   "metadata": {},
   "source": [
    "## Looping"
   ]
  },
  {
   "cell_type": "markdown",
   "metadata": {},
   "source": [
    "Trata-se de uma estrutura de código que implica em repetição de uma tarefa um número de vezes pré-estabelecido ou um até que uma condição seja atingida."
   ]
  },
  {
   "attachments": {},
   "cell_type": "markdown",
   "metadata": {},
   "source": [
    "Diferença entre 'pass' e 'continue'."
   ]
  },
  {
   "cell_type": "code",
   "execution_count": 40,
   "metadata": {},
   "outputs": [],
   "source": [
    "# 'for'"
   ]
  },
  {
   "cell_type": "code",
   "execution_count": 41,
   "metadata": {},
   "outputs": [],
   "source": [
    "# 'break'"
   ]
  },
  {
   "cell_type": "code",
   "execution_count": 42,
   "metadata": {},
   "outputs": [],
   "source": [
    "# 'while True' e 'break'"
   ]
  },
  {
   "cell_type": "code",
   "execution_count": 43,
   "metadata": {},
   "outputs": [
    {
     "name": "stdout",
     "output_type": "stream",
     "text": [
      "Esse não. Outro.\n",
      "1\n",
      "Esse não. Outro.\n",
      "2\n",
      "Esse não. Outro.\n",
      "3\n",
      "Esse não. Outro.\n",
      "4\n",
      "Pode ser.\n"
     ]
    }
   ],
   "source": [
    "x = 0\n",
    "\n",
    "# 'pass' pula a verificação atual\n",
    "    # Neste caso, passa pelo 'print(x)'\n",
    "\n",
    "while True:\n",
    "    x += 1\n",
    "    if float(x) < 5:\n",
    "        print('Esse não. Outro.')\n",
    "        pass # <-- # <-- # <-- # <-- # <-- #\n",
    "    else:\n",
    "        print('Pode ser.')\n",
    "        break\n",
    "    print(x)"
   ]
  },
  {
   "cell_type": "code",
   "execution_count": 44,
   "metadata": {},
   "outputs": [
    {
     "name": "stdout",
     "output_type": "stream",
     "text": [
      "Esse não. Outro.\n",
      "Esse não. Outro.\n",
      "Esse não. Outro.\n",
      "Esse não. Outro.\n",
      "Pode ser.\n"
     ]
    }
   ],
   "source": [
    "x = 0\n",
    "\n",
    "# 'continue' retorna o loop para o início\n",
    "    # Neste caso, não passa por mais nada abaixo disso.\n",
    "\n",
    "while True:\n",
    "    x += 1\n",
    "    if float(x) < 5:\n",
    "        print('Esse não. Outro.')\n",
    "        continue  # <-- # <-- # <-- # <-- # <-- #\n",
    "    else:\n",
    "        print('Pode ser.')\n",
    "        break\n",
    "    print(x)"
   ]
  },
  {
   "attachments": {},
   "cell_type": "markdown",
   "metadata": {},
   "source": [
    "## Operações e Iteraçõs"
   ]
  },
  {
   "attachments": {},
   "cell_type": "markdown",
   "metadata": {},
   "source": [
    "### Converções"
   ]
  },
  {
   "cell_type": "code",
   "execution_count": 45,
   "metadata": {},
   "outputs": [
    {
     "name": "stdout",
     "output_type": "stream",
     "text": [
      "John # Peter # Vicky\n",
      "Nome 1 # Nome 2 # Nome 3\n"
     ]
    }
   ],
   "source": [
    "# De tupla ou lista para string\n",
    "# Todos os itens devem ser strings\n",
    "\n",
    "Tupla_Nomes = (\"John\", \"Peter\", \"Vicky\")\n",
    "\n",
    "# Aqui, separaremos os itens com sustenido entre espaços.\n",
    "x = \" # \".join(Tupla_Nomes)\n",
    "\n",
    "print(x)\n",
    "\n",
    "Dicio_Nomes = {'Nome 1':\"John\", 'Nome 2':\"Peter\", 'Nome 3':\"Vicky\"}\n",
    "\n",
    "# Conforme a iteraçõo de um dicionário passa apenas pelas chaves, aqui também apenas as chaves são convertidas.\n",
    "# Aqui, separaremos os itens com sustenido entre espaços.\n",
    "x = \" # \".join(Dicio_Nomes)\n",
    "\n",
    "print(x)"
   ]
  },
  {
   "cell_type": "code",
   "execution_count": 46,
   "metadata": {},
   "outputs": [
    {
     "name": "stdout",
     "output_type": "stream",
     "text": [
      "{0: 'a', 1: 'b', 2: 'c', 3: 'd', 4: 'e', 5: 'f', 6: 'g', 7: 'h'}\n"
     ]
    }
   ],
   "source": [
    "#Transformando uma lista em um dicionário.\n",
    "#As chaves serão os índices.\n",
    "\n",
    "lista = ['a','b','c','d','e','f','g','h']\n",
    "\n",
    "dict_da_lista = {i:j for i,j in enumerate(lista)}\n",
    "print(dict_da_lista)\n",
    "\n",
    "# Mais detalhes sobre a função 'enumerate' são dadas abaixo"
   ]
  },
  {
   "cell_type": "code",
   "execution_count": 47,
   "metadata": {},
   "outputs": [
    {
     "name": "stdout",
     "output_type": "stream",
     "text": [
      "True\n"
     ]
    }
   ],
   "source": [
    "# Transformando em lista\n",
    "\n",
    "String_to_List = list('ABCD')\n",
    "\n",
    "Tuple_to_List = list(('A', 'B', 'C', 'D'))\n",
    "\n",
    "print(String_to_List == Tuple_to_List)"
   ]
  },
  {
   "attachments": {},
   "cell_type": "markdown",
   "metadata": {},
   "source": [
    "### Map"
   ]
  },
  {
   "cell_type": "markdown",
   "metadata": {},
   "source": [
    "Aplica uma função a todos os elementos de uma coleção. A função não recebe coleções, mas elementos individuais"
   ]
  },
  {
   "cell_type": "markdown",
   "metadata": {},
   "source": [
    "Um atalho para loop."
   ]
  },
  {
   "cell_type": "markdown",
   "metadata": {},
   "source": [
    "map(função,coleção,coleção,...)"
   ]
  },
  {
   "cell_type": "code",
   "execution_count": 48,
   "metadata": {},
   "outputs": [],
   "source": [
    "#Duas listas iguais e uma função com return\n",
    "\n",
    "a = [2,3,1,5,7,3,4,6,8,5,3,3,5,8,9]\n",
    "b = [4,2,6,4,3,6,5,4,6,5,3,1,7,1,6]\n",
    "\n",
    "def funcao(itemA,itemB):\n",
    "    if itemA == itemB:\n",
    "        return 'iguais'\n",
    "    elif itemA > itemB:\n",
    "        return 'primeiro maior'\n",
    "    else:\n",
    "        return 'segundo maior'"
   ]
  },
  {
   "cell_type": "code",
   "execution_count": 49,
   "metadata": {},
   "outputs": [
    {
     "name": "stdout",
     "output_type": "stream",
     "text": [
      "<map object at 0x000001C16B9F16C0>\n",
      "\n",
      "['segundo maior', 'primeiro maior', 'segundo maior', 'primeiro maior', 'primeiro maior', 'segundo maior', 'segundo maior', 'primeiro maior', 'primeiro maior', 'iguais', 'iguais', 'primeiro maior', 'segundo maior', 'primeiro maior', 'primeiro maior']\n"
     ]
    }
   ],
   "source": [
    "# O resultado é um iterador.\n",
    "#Precisa ser transformado em uma lista ou tupla\n",
    "\n",
    "print(map(funcao,a,b))\n",
    "print('')\n",
    "print(list(map(funcao,a,b)))"
   ]
  },
  {
   "cell_type": "code",
   "execution_count": 50,
   "metadata": {},
   "outputs": [
    {
     "name": "stdout",
     "output_type": "stream",
     "text": [
      "[81, 1, 94, 86, 15, 76, 50, 77, 53, 100, 73, 62, 71, 44, 29, 3, 27, 31, 70, 22]\n",
      "\n",
      "[35, 57, 78, 41, 78, 9, 22, 2, 87, 31, 69, 64, 51, 62, 52, 58, 58, 72, 37, 78, 34]\n",
      "\n",
      "['primeiro maior', 'segundo maior', 'primeiro maior', 'primeiro maior', 'segundo maior', 'primeiro maior', 'primeiro maior', 'primeiro maior', 'segundo maior', 'primeiro maior', 'primeiro maior', 'segundo maior', 'primeiro maior', 'segundo maior', 'segundo maior', 'segundo maior', 'segundo maior', 'segundo maior', 'primeiro maior', 'segundo maior']\n",
      "\n",
      "Tamanho da lista mapeada: 20\n",
      "\n",
      "81 35 primeiro maior\n",
      "1 57 segundo maior\n",
      "94 78 primeiro maior\n",
      "86 41 primeiro maior\n",
      "15 78 segundo maior\n",
      "76 9 primeiro maior\n",
      "50 22 primeiro maior\n",
      "77 2 primeiro maior\n",
      "53 87 segundo maior\n",
      "100 31 primeiro maior\n",
      "73 69 primeiro maior\n",
      "62 64 segundo maior\n",
      "71 51 primeiro maior\n",
      "44 62 segundo maior\n",
      "29 52 segundo maior\n",
      "3 58 segundo maior\n",
      "27 58 segundo maior\n",
      "31 72 segundo maior\n",
      "70 37 primeiro maior\n",
      "22 78 segundo maior\n"
     ]
    }
   ],
   "source": [
    "#Listas de tamanhos diferentes.\n",
    "#O resultado terá o tamanhno da menor lista\n",
    "\n",
    "import random\n",
    "\n",
    "c = []\n",
    "for i in range(20):\n",
    "    c.append(random.randint(1,100))\n",
    "print(c)\n",
    "print('')\n",
    "\n",
    "d = []\n",
    "for i in range(21):\n",
    "    d.append(random.randint(1,100))\n",
    "print(d)\n",
    "print('')\n",
    "\n",
    "mapeado = list(map(funcao,c,d))\n",
    "print(mapeado)\n",
    "print('')\n",
    "print('Tamanho da lista mapeada:',(len(mapeado)))\n",
    "print('')\n",
    "\n",
    "for i,j,k in zip(c,d,mapeado):\n",
    "    print(i,j,k)"
   ]
  },
  {
   "cell_type": "code",
   "execution_count": 51,
   "metadata": {},
   "outputs": [
    {
     "name": "stdout",
     "output_type": "stream",
     "text": [
      "[2, 1, -1, 11, 11, 9, 11, 14, 34, 15, 3, -1, 23, -1, 39]\n"
     ]
    }
   ],
   "source": [
    "# Usando lambda como função inline\n",
    "\n",
    "print(list(map(lambda x,y: x*y-x-y,a,b)))"
   ]
  },
  {
   "cell_type": "markdown",
   "metadata": {},
   "source": [
    "Map e lambda são amplamente usados com o pacote Pandas para gerar colunas a partir de funções."
   ]
  },
  {
   "attachments": {},
   "cell_type": "markdown",
   "metadata": {},
   "source": [
    "### Reduce"
   ]
  },
  {
   "cell_type": "code",
   "execution_count": 52,
   "metadata": {},
   "outputs": [],
   "source": [
    "from functools import reduce"
   ]
  },
  {
   "cell_type": "markdown",
   "metadata": {},
   "source": [
    "A função reduce, do pacote functools, é similar à função map, mas retorna apenas um valor ao invés de uma coleção"
   ]
  },
  {
   "attachments": {},
   "cell_type": "markdown",
   "metadata": {},
   "source": [
    "A função deve comportar exatamente 2 argumentos."
   ]
  },
  {
   "cell_type": "code",
   "execution_count": 53,
   "metadata": {},
   "outputs": [],
   "source": [
    "#Criando uma sequência de elementos numa lista para exemplo\n",
    "\n",
    "from random import randint\n",
    "\n",
    "a = []\n",
    "for i in range(100):\n",
    "    a.append(randint(1,1000))\n",
    "    \n",
    "b = []\n",
    "for i in range(100):\n",
    "    b.append(randint(1,1000))"
   ]
  },
  {
   "cell_type": "code",
   "execution_count": 54,
   "metadata": {},
   "outputs": [
    {
     "name": "stdout",
     "output_type": "stream",
     "text": [
      "50331\n"
     ]
    }
   ],
   "source": [
    "#Recebe uma função e uma coleção como argumentos.\n",
    "#Os argumentos da função estipulada como argumento do reduce serão os elementos da lista.\n",
    "#O retorno é aplicado ao próximo item da lista.\n",
    "\n",
    "def soma2(x,y):\n",
    "    return x+y\n",
    "\n",
    "resultado_da_soma2 = reduce(soma2,a)\n",
    "\n",
    "print(resultado_da_soma2)"
   ]
  },
  {
   "cell_type": "code",
   "execution_count": 55,
   "metadata": {},
   "outputs": [
    {
     "name": "stdout",
     "output_type": "stream",
     "text": [
      "50331\n"
     ]
    }
   ],
   "source": [
    "# Usando lambda\n",
    "\n",
    "resultado_da_soma4 = reduce(lambda x, y: x+y, a)\n",
    "print(resultado_da_soma4)"
   ]
  },
  {
   "cell_type": "code",
   "execution_count": 56,
   "metadata": {},
   "outputs": [
    {
     "name": "stdout",
     "output_type": "stream",
     "text": [
      "975\n"
     ]
    }
   ],
   "source": [
    "# Encontrar o maior valor\n",
    "\n",
    "resultado_maior = reduce(lambda x,y: x if x>y else y, a)\n",
    "\n",
    "print(resultado_maior)"
   ]
  },
  {
   "attachments": {},
   "cell_type": "markdown",
   "metadata": {},
   "source": [
    "### Filter"
   ]
  },
  {
   "cell_type": "markdown",
   "metadata": {},
   "source": [
    "Exige uma função que retorna unicamente um resultado booleano, e uma coleção de valores que serão verificados."
   ]
  },
  {
   "cell_type": "markdown",
   "metadata": {},
   "source": [
    "O resultado é uma coleção de itens iguais aos itens da lista dada como parâmetro, mas excluindo aqueles cuja função avaliou como \"False\"."
   ]
  },
  {
   "cell_type": "code",
   "execution_count": 57,
   "metadata": {},
   "outputs": [
    {
     "name": "stdout",
     "output_type": "stream",
     "text": [
      "[372, 837, 983, 223, 927, 518, 546, 54, 791, 720, 84, 117, 620, 160, 695, 386, 821, 579, 86, 133, 474, 458, 722, 645, 739, 354, 164, 38, 933, 105, 445, 873, 942, 579, 796, 228, 900, 910, 709, 184, 256, 461, 374, 328, 265, 721, 212, 600, 839, 414, 445, 282, 877, 110, 630, 903, 955, 501, 835, 330, 824, 61, 449, 169, 388, 204, 920, 274, 130, 278, 737, 758, 231, 841, 286, 221, 191, 721, 327, 300, 521, 832, 417, 743, 93, 524, 320, 957, 884, 476, 171, 776, 681, 772, 718, 944, 476, 679, 515, 960]\n"
     ]
    }
   ],
   "source": [
    "# A famigerada lista de números aleatórios\n",
    "from random import randint\n",
    "\n",
    "a = [randint(1,1000) for i in range (100)]\n",
    "print(a)"
   ]
  },
  {
   "cell_type": "code",
   "execution_count": 58,
   "metadata": {},
   "outputs": [],
   "source": [
    "def par(a):\n",
    "    if a%2 == 0:\n",
    "        return True\n",
    "    #else:\n",
    "        #False"
   ]
  },
  {
   "cell_type": "code",
   "execution_count": 59,
   "metadata": {},
   "outputs": [
    {
     "name": "stdout",
     "output_type": "stream",
     "text": [
      "<filter object at 0x000001C16B9F8E20>\n",
      "[372, 518, 546, 54, 720, 84, 620, 160, 386, 86, 474, 458, 722, 354, 164, 38, 942, 796, 228, 900, 910, 184, 256, 374, 328, 212, 600, 414, 282, 110, 630, 330, 824, 388, 204, 920, 274, 130, 278, 758, 286, 300, 832, 524, 320, 884, 476, 776, 772, 718, 944, 476, 960]\n"
     ]
    }
   ],
   "source": [
    "#Fora da lista, o resultado é um iterador.\n",
    "\n",
    "print(filter(par,a))\n",
    "\n",
    "print(list(filter(par,a)))"
   ]
  },
  {
   "cell_type": "code",
   "execution_count": 60,
   "metadata": {},
   "outputs": [
    {
     "data": {
      "text/plain": [
       "50"
      ]
     },
     "execution_count": 60,
     "metadata": {},
     "output_type": "execute_result"
    }
   ],
   "source": [
    "#Inline\n",
    "\n",
    "list(filter(lambda x: True if x%2 == 0 else False,[randint(1,1000) for i in range (100)]))\n",
    "\n",
    "len(list(filter(lambda x: True if x%2 == 0 else False,[randint(1,1000) for i in range (100)])))"
   ]
  },
  {
   "cell_type": "code",
   "execution_count": 61,
   "metadata": {},
   "outputs": [
    {
     "data": {
      "text/plain": [
       "[940,\n",
       " 710,\n",
       " 222,\n",
       " 734,\n",
       " 502,\n",
       " 842,\n",
       " 822,\n",
       " 666,\n",
       " 426,\n",
       " 420,\n",
       " 986,\n",
       " 178,\n",
       " 354,\n",
       " 806,\n",
       " 494,\n",
       " 304,\n",
       " 886,\n",
       " 438,\n",
       " 702,\n",
       " 64,\n",
       " 46,\n",
       " 388,\n",
       " 324,\n",
       " 854,\n",
       " 428,\n",
       " 162,\n",
       " 318,\n",
       " 162,\n",
       " 496,\n",
       " 464,\n",
       " 346,\n",
       " 830,\n",
       " 950,\n",
       " 98,\n",
       " 412,\n",
       " 918,\n",
       " 748,\n",
       " 60,\n",
       " 602,\n",
       " 954,\n",
       " 616,\n",
       " 62,\n",
       " 698,\n",
       " 994,\n",
       " 934,\n",
       " 446,\n",
       " 630,\n",
       " 56,\n",
       " 794,\n",
       " 202,\n",
       " 686]"
      ]
     },
     "execution_count": 61,
     "metadata": {},
     "output_type": "execute_result"
    }
   ],
   "source": [
    "#Apenas a verificação já basta, sem o 'if'\n",
    "\n",
    "list(filter(lambda x: x%2 == 0 ,[randint(1,1000) for i in range (100)]))"
   ]
  },
  {
   "attachments": {},
   "cell_type": "markdown",
   "metadata": {},
   "source": [
    "### Zip"
   ]
  },
  {
   "attachments": {},
   "cell_type": "markdown",
   "metadata": {},
   "source": [
    "Com coleções de mesmo tamanho e tipo, as coleções são emparelhadas e são formadas tuplas. Cada tupla na nova coleção é composta pelos elementos das coleções fornecidas que tenham seu mesmo índice. A coleção resultante terá o mesmo tamanho das coleções fornecidas."
   ]
  },
  {
   "cell_type": "code",
   "execution_count": 62,
   "metadata": {},
   "outputs": [
    {
     "name": "stdout",
     "output_type": "stream",
     "text": [
      "<zip object at 0x000001C16CA46040>\n",
      "[('a', 1), ('b', 2), ('c', 3), ('d', 4), ('e', 5)]\n"
     ]
    }
   ],
   "source": [
    "#O objeto criado pelo zip é um iterador.\n",
    "\n",
    "listaA = ['a','b','c','d','e']\n",
    "listaB = [1,2,3,4,5]\n",
    "\n",
    "zipado = zip(listaA,listaB)\n",
    "\n",
    "print(zipado)\n",
    "\n",
    "print(list(zipado))"
   ]
  },
  {
   "cell_type": "code",
   "execution_count": 63,
   "metadata": {},
   "outputs": [
    {
     "name": "stdout",
     "output_type": "stream",
     "text": [
      "{'a': 1, 'b': 2, 'c': 3, 'd': 4, 'e': 5}\n"
     ]
    }
   ],
   "source": [
    "#Uma aplicação recorrete do zip é na criação de dicionários a partir de outras coleções\n",
    "\n",
    "dictzip = {}\n",
    "for i,j in zip(listaA,listaB):\n",
    "    dictzip[i] = j\n",
    "print(dictzip) "
   ]
  },
  {
   "cell_type": "code",
   "execution_count": 64,
   "metadata": {},
   "outputs": [
    {
     "name": "stdout",
     "output_type": "stream",
     "text": [
      "{'a': 1, 'b': 2, 'c': 3, 'd': 4, 'e': 5}\n"
     ]
    }
   ],
   "source": [
    "#A mesma funcionalidade acima utilizando dict comprehention\n",
    "\n",
    "dictcomprehended = {i:j for i,j in zip(listaA,listaB)}\n",
    "\n",
    "print(dictcomprehended)"
   ]
  },
  {
   "cell_type": "code",
   "execution_count": 65,
   "metadata": {},
   "outputs": [
    {
     "name": "stdout",
     "output_type": "stream",
     "text": [
      "{'a': 'a', 'b': 'b', 'c': 'c', 'd': 'd', 'e': 'e'}\n"
     ]
    }
   ],
   "source": [
    "#Como o pedido de apenas valores ou apenas chaves de um dicionário é dado como uma coleção indexada,\n",
    "# também é possível lidar diretamente com elas.\n",
    "\n",
    "#Objetos de dict não são evocáveis, mas podem ser pedidos como listas\n",
    "\n",
    "dictkeys = {abra:cadabra for abra,cadabra in zip(list(dictzip.keys()),list(dictzip.keys()))}\n",
    "print(dictkeys)"
   ]
  },
  {
   "attachments": {},
   "cell_type": "markdown",
   "metadata": {},
   "source": [
    "### Enumerate"
   ]
  },
  {
   "cell_type": "code",
   "execution_count": 66,
   "metadata": {},
   "outputs": [
    {
     "name": "stdout",
     "output_type": "stream",
     "text": [
      "(0, 'a')\n",
      "<class 'tuple'>\n",
      "     > 0\n",
      "     > <class 'int'>\n",
      "     > a\n",
      "     > <class 'str'>\n",
      "\n",
      "(1, 'b')\n",
      "<class 'tuple'>\n",
      "     > 1\n",
      "     > <class 'int'>\n",
      "     > b\n",
      "     > <class 'str'>\n",
      "\n",
      "(2, 'c')\n",
      "<class 'tuple'>\n",
      "     > 2\n",
      "     > <class 'int'>\n",
      "     > c\n",
      "     > <class 'str'>\n",
      "\n",
      "----------------------\n",
      "0 a\n",
      "1 b\n",
      "2 c\n"
     ]
    }
   ],
   "source": [
    "# enumerate altera a iteração entre as listas, onde cada item passa a ser uma tupla composta de índice e valor daquela lista\n",
    "\n",
    "Lista_Curta = ['a','b','c']\n",
    "\n",
    "for i in enumerate(Lista_Curta):\n",
    "    print(i)\n",
    "    print(type(i))\n",
    "    for j in i:\n",
    "        print('     >',j)\n",
    "        print('     >',type(j))\n",
    "    print()\n",
    "\n",
    "print('----------------------')\n",
    "\n",
    "for i,j in enumerate(Lista_Curta):\n",
    "    print(i,j)\n",
    "\n"
   ]
  },
  {
   "cell_type": "code",
   "execution_count": null,
   "metadata": {},
   "outputs": [],
   "source": []
  }
 ],
 "metadata": {
  "kernelspec": {
   "display_name": "Python 3.10.8 64-bit (microsoft store)",
   "language": "python",
   "name": "python3"
  },
  "language_info": {
   "codemirror_mode": {
    "name": "ipython",
    "version": 3
   },
   "file_extension": ".py",
   "mimetype": "text/x-python",
   "name": "python",
   "nbconvert_exporter": "python",
   "pygments_lexer": "ipython3",
   "version": "3.10.11"
  },
  "orig_nbformat": 4,
  "vscode": {
   "interpreter": {
    "hash": "91b18657112df8a6dc2946b9dfe3559ddfc8e1e2117c2c8071424b5e043bd8e1"
   }
  }
 },
 "nbformat": 4,
 "nbformat_minor": 2
}
