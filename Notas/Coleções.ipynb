{
 "cells": [
  {
   "cell_type": "markdown",
   "metadata": {},
   "source": [
    "# Coleções"
   ]
  },
  {
   "cell_type": "markdown",
   "metadata": {},
   "source": [
    "São objetos iteráveis: contém outros objetos, com os quais é possível contar e, a cada contagem, executar determinada ação.  \n",
    "São essenciais para algoritmos de laço (loop)."
   ]
  },
  {
   "attachments": {},
   "cell_type": "markdown",
   "metadata": {},
   "source": [
    "Um iterador é sempre um iterável, mas que produz um valor a cada vez que é usado como argumento da função nativa next().\n",
    "\n",
    "Um iterador deve sempre implementar o método next(), no Python 2, ou \"\\_\\_next\\_\\_\"(), no Python 3. Esse método deve retornar a exceção _StopIteration_ quando não há mais valores para o iterador produzir.\n",
    "\n",
    "[O que são Iteradores no Python.](https://www.alura.com.br/artigos/o-que-sao-iteradores-no-python)"
   ]
  },
  {
   "attachments": {},
   "cell_type": "markdown",
   "metadata": {},
   "source": [
    "**Tipos de coleções:**  \n",
    "*  Lista\n",
    "*  Tupla\n",
    "*  Dicionário\n",
    "*  String\n",
    "*  Set\n",
    "*  Range"
   ]
  },
  {
   "cell_type": "markdown",
   "metadata": {},
   "source": [
    "Alguns pacotes proveem seus próprios objetos iteráveis, como o *numpy*, com seu array e o *pandas*, que dispõe séries e dataframes."
   ]
  },
  {
   "attachments": {},
   "cell_type": "markdown",
   "metadata": {},
   "source": [
    "Usaremos, primeiramente, as funções *print()*, *type()* e *len()* que, respectivamente, imprime o objeto, retorna o tipo do objeto e retorna o número de item dentro da coleção."
   ]
  },
  {
   "cell_type": "code",
   "execution_count": 30,
   "metadata": {},
   "outputs": [],
   "source": [
    "# Para imprimir o tipo dos objetos:\n",
    "\n",
    "printype = lambda x: print(type(x))\n",
    "printlen = lambda x: print(len(x))"
   ]
  },
  {
   "attachments": {},
   "cell_type": "markdown",
   "metadata": {},
   "source": [
    "## String"
   ]
  },
  {
   "attachments": {},
   "cell_type": "markdown",
   "metadata": {},
   "source": [
    "Em geral, é a forma como o Python entende o formato de texto.\n",
    "* Contém tudo que estiver entre aspas simples ou aspas duplas.\n",
    "* Cada caractere dentro de uma string também é uma string (uma string de apenas um caractere ainda é uma coleção)\n",
    "* Números dentro de strings são identificados como strings e não podem participar de operações matemáticas - é preciso converter o tipo."
   ]
  },
  {
   "cell_type": "code",
   "execution_count": 31,
   "metadata": {},
   "outputs": [
    {
     "name": "stdout",
     "output_type": "stream",
     "text": [
      "Isso é uma \"string\".\n",
      "<class 'str'>\n",
      "20\n"
     ]
    }
   ],
   "source": [
    "Texto = 'Isso é uma \"string\".'\n",
    "\n",
    "print(Texto)\n",
    "printype(Texto)\n",
    "printlen(Texto)"
   ]
  },
  {
   "cell_type": "code",
   "execution_count": 6,
   "metadata": {},
   "outputs": [
    {
     "name": "stdout",
     "output_type": "stream",
     "text": [
      " \n",
      "<class 'str'>\n",
      "1\n"
     ]
    }
   ],
   "source": [
    "# Uma string com apenas um caractere ainda é uma coleção\n",
    "# E espaços também contam como caractere\n",
    "\n",
    "Espaço = ' '\n",
    "\n",
    "print(Espaço)\n",
    "printype(Espaço)\n",
    "printlen(Espaço)"
   ]
  },
  {
   "cell_type": "code",
   "execution_count": 8,
   "metadata": {},
   "outputs": [
    {
     "name": "stdout",
     "output_type": "stream",
     "text": [
      "\n",
      "Todos estes que aí estão\n",
      "Atravancando o meu caminho,\n",
      "Eles passarão.\n",
      "Eu passarinho! 🐦\n",
      "\n"
     ]
    }
   ],
   "source": [
    "# Escrevendo um texto corrido\n",
    "\n",
    "Quintana = '''\n",
    "Todos estes que aí estão\n",
    "Atravancando o meu caminho,\n",
    "Eles passarão.\n",
    "Eu passarinho! 🐦\n",
    "'''\n",
    "\n",
    "print(Quintana)"
   ]
  },
  {
   "cell_type": "code",
   "execution_count": 83,
   "metadata": {},
   "outputs": [
    {
     "name": "stdout",
     "output_type": "stream",
     "text": [
      "3\n",
      "3\n",
      "a\ta\n"
     ]
    }
   ],
   "source": [
    "# Quebra de linha é designada como \\n\n",
    "# conta como um caractere\n",
    "\n",
    "Quebra = 'a\\na'\n",
    "\n",
    "printlen(Quebra)\n",
    "\n",
    "Quebra = '''a\n",
    "a'''\n",
    "\n",
    "printlen(Quebra)\n",
    "\n",
    "###\n",
    "\n",
    "# Tab é designado como \\t\n",
    "print('a\\ta')"
   ]
  },
  {
   "cell_type": "code",
   "execution_count": 32,
   "metadata": {},
   "outputs": [
    {
     "name": "stdout",
     "output_type": "stream",
     "text": [
      "['Isso', 'é', 'uma', '\"string\".']\n",
      "<class 'list'>\n",
      "\n",
      "['', 'Todos estes que aí estão', 'Atravancando o meu caminho,', 'Eles passarão.', 'Eu passarinho! 🐦']\n",
      "<class 'list'>\n"
     ]
    }
   ],
   "source": [
    "# O método \"split()\" transforma a string em lista, separando por um caractere definido no parâmetro.\n",
    "# Se nenhum parâmetro é informado, a divisão ocorre nos espaços.\n",
    "\n",
    "Texto_Split = Texto.split()\n",
    "\n",
    "print(Texto_Split)\n",
    "printype(Texto_Split)\n",
    "\n",
    "print()\n",
    "# O método \"splitlines()\" faz o mesmo, mas apenas nas quebras de linhas\n",
    "\n",
    "Texto_Split_Line = Quintana.splitlines()\n",
    "\n",
    "print(Texto_Split_Line)\n",
    "printype(Texto_Split_Line)"
   ]
  },
  {
   "cell_type": "code",
   "execution_count": 89,
   "metadata": {},
   "outputs": [
    {
     "name": "stdout",
     "output_type": "stream",
     "text": [
      "isto é uma string\t sim, é.\n",
      "Isto é uma string\t sim, é.\n",
      "isto é uma string\t sim, é.\n",
      ".             isto é uma string\t sim, é.             .\n",
      "3\n",
      "False\n",
      "isto é uma string                                                                sim, é.\n",
      "12\n",
      "12\n",
      "False\n",
      "False\n",
      "isto é uma string\t sim, é.\n",
      "isto é uma string\t sim, é.\n"
     ]
    }
   ],
   "source": [
    "Texto_Exemplo = 'isto é uma string\\t sim, é.'\n",
    "\n",
    "print(Texto_Exemplo)\n",
    "\n",
    "Texto_Exemplo = Texto_Exemplo.capitalize()\n",
    "print(Texto_Exemplo)\n",
    "\n",
    "Texto_Exemplo = Texto_Exemplo.casefold()\n",
    "print(Texto_Exemplo)\n",
    "\n",
    "print('.',Texto_Exemplo.center(50),'.')\n",
    "\n",
    "print(Texto_Exemplo.count('i'))\n",
    "\n",
    "print(Texto_Exemplo.endswith('ng'))\n",
    "\n",
    "print(Texto_Exemplo.expandtabs(80))\n",
    "\n",
    "print(Texto_Exemplo.find('tri'))\n",
    "\n",
    "print(Texto_Exemplo.find('tri'))\n",
    "\n",
    "# Um identificador não contém espaçamento nem inicia com número.\n",
    "print(Texto_Exemplo.isidentifier())\n",
    "\n",
    "# Em inglês, diferentemente do português, todas as palavras do título inicial com letra maiúscula.\n",
    "print(Texto_Exemplo.istitle())\n",
    "\n",
    "# Justificado à esquerda\n",
    "print(Texto_Exemplo.ljust(20,'.'))\n",
    "\n",
    "# Versão cortada à esquerda\n",
    "print(Texto_Exemplo.lstrip())\n",
    "\n"
   ]
  },
  {
   "cell_type": "code",
   "execution_count": 93,
   "metadata": {},
   "outputs": [
    {
     "name": "stdout",
     "output_type": "stream",
     "text": [
      "{105: 121}\n",
      "ysto é uma stryng\t sym, é.\n"
     ]
    }
   ],
   "source": [
    "# Conversão/tradução: substituição de caracteres\n",
    "\n",
    "# O método maketrans() retorna um dicionário descrevendo cada substituição, em unicode:\n",
    "Tábula = Texto_Exemplo.maketrans('i','y')\n",
    "print(Tábula)\n",
    "\n",
    "print(Texto_Exemplo.translate(Tábula))"
   ]
  },
  {
   "cell_type": "code",
   "execution_count": 72,
   "metadata": {},
   "outputs": [
    {
     "name": "stdout",
     "output_type": "stream",
     "text": [
      "Custa apenas R$47,00.\n",
      "Custa apenas R$47.00.\n",
      "Custa apenas R$47,00.\n",
      "Custa apenas R$47,00.\n"
     ]
    }
   ],
   "source": [
    "# Valores cambiáveis na string\n",
    "\n",
    "Preço = 47\n",
    "\n",
    "Resposta = f'Custa apenas R${Preço},00.'\n",
    "print(Resposta)\n",
    "\n",
    "Resposta = 'Custa apenas R${price:.2f}.'\n",
    "print(Resposta.format(price = Preço))\n",
    "\n",
    "Resposta = 'Custa apenas R${price},00.'\n",
    "print(Resposta.format(price = Preço))\n",
    "\n",
    "Resposta = 'Custa apenas R${price},00.'.format(price = Preço)\n",
    "print(Resposta)\n"
   ]
  },
  {
   "cell_type": "code",
   "execution_count": 8,
   "metadata": {},
   "outputs": [
    {
     "name": "stdout",
     "output_type": "stream",
     "text": [
      "esta string \n",
      "ão tem quebra de linha\n",
      "\n",
      "esta string \\não tem quebra de linha\n"
     ]
    },
    {
     "ename": "",
     "evalue": "",
     "output_type": "error",
     "traceback": [
      "\u001b[1;31mO Kernel falhou ao executar o código na célula atual ou em uma célula anterior. Examine o código nas células para identificar uma possível causa da falha. Clique <a href=\"https://aka.ms/vscodeJupyterKernelCrash\">aqui</a> para obter mais informações. Consulte o <a href='command:jupyter.viewOutput'>log</a> do Jupyter para obter mais detalhes."
     ]
    }
   ],
   "source": [
    "# O prefixo 'r' na string faz com que a contrabarra não seja associada a um próximo caractere.\n",
    "\n",
    "print('esta string \\não tem quebra de linha')\n",
    "\n",
    "print()\n",
    "\n",
    "print(r'esta string \\não tem quebra de linha')"
   ]
  },
  {
   "cell_type": "markdown",
   "metadata": {},
   "source": [
    "## Listas"
   ]
  },
  {
   "attachments": {},
   "cell_type": "markdown",
   "metadata": {},
   "source": [
    "* Os elementos dentro da lista são separados por vírgula \n",
    "* Contém tudo que estiver entre Abre e Fecha Conchetes\n",
    "* Podem ser modificadas\n",
    "* Cada item dentro de uma lista possui um índice implícito, sendo o primeiro índice de número 0"
   ]
  },
  {
   "cell_type": "code",
   "execution_count": null,
   "metadata": {},
   "outputs": [],
   "source": []
  },
  {
   "cell_type": "code",
   "execution_count": 9,
   "metadata": {},
   "outputs": [],
   "source": [
    "lista = ['a','b','c','d','e','f','g','h']\n"
   ]
  },
  {
   "cell_type": "code",
   "execution_count": 28,
   "metadata": {},
   "outputs": [
    {
     "name": "stdout",
     "output_type": "stream",
     "text": [
      "('a', 'd', 'g')\n",
      "<class 'tuple'>\n",
      "('b', 'e', 'h')\n",
      "<class 'tuple'>\n",
      "\n",
      "a d g\n",
      "b e h\n"
     ]
    }
   ],
   "source": [
    "# Zip une listas em uma iteração, retornando, em cada item, uma tupla composta dos valores de ambas as listas para o mesmo índice\n",
    "# O número de itens resultantes será igual ao comprimeito da menor dentre as listas.\n",
    "\n",
    "Lista1 = ['a','b','c','i']\n",
    "Lista2 = ['d','e','f']\n",
    "Lista3 = ['g','h']\n",
    "\n",
    "for i in zip(Lista1,Lista2,Lista3):\n",
    "    print(i)\n",
    "    print(type(i))\n",
    "\n",
    "print()\n",
    "\n",
    "for i,j,k in zip(Lista1,Lista2,Lista3):\n",
    "    print(i,j,k)"
   ]
  },
  {
   "cell_type": "code",
   "execution_count": 1,
   "metadata": {},
   "outputs": [
    {
     "data": {
      "text/plain": [
       "[1, 2, 3, 4, 1, 2, 3, 4]"
      ]
     },
     "execution_count": 1,
     "metadata": {},
     "output_type": "execute_result"
    }
   ],
   "source": [
    "# Concatenação de listas\n",
    "\n",
    "l1 = [1,2,3,4]\n",
    "\n",
    "l1 + l1"
   ]
  },
  {
   "cell_type": "markdown",
   "metadata": {},
   "source": [
    "## Tupla"
   ]
  },
  {
   "cell_type": "code",
   "execution_count": 5,
   "metadata": {},
   "outputs": [
    {
     "data": {
      "text/plain": [
       "('isso', 'é', 'muito', 'limitado')"
      ]
     },
     "execution_count": 5,
     "metadata": {},
     "output_type": "execute_result"
    }
   ],
   "source": [
    "#Tuplas são criadas com parênteses\n",
    "tupla = ('isso', 'é', 'muito', 'limitado')\n",
    "tupla"
   ]
  },
  {
   "attachments": {},
   "cell_type": "markdown",
   "metadata": {},
   "source": [
    "Tuplas são imutáveis. Não recebem nem perdem valores."
   ]
  },
  {
   "cell_type": "code",
   "execution_count": null,
   "metadata": {},
   "outputs": [
    {
     "data": {
      "text/plain": [
       "20"
      ]
     },
     "metadata": {},
     "output_type": "display_data"
    }
   ],
   "source": [
    "# É possível apenas obter informações da tupla\n",
    "tupla2 = (1,2,3,4,5,6,7,8,9,0,0,9,8,7,6,5,4,3,2,1)\n",
    "len(tupla2)"
   ]
  },
  {
   "cell_type": "code",
   "execution_count": null,
   "metadata": {},
   "outputs": [
    {
     "data": {
      "text/plain": [
       "2"
      ]
     },
     "metadata": {},
     "output_type": "display_data"
    }
   ],
   "source": [
    "#O índice de determinado item de uma tupla\n",
    "tupla2.index(5)"
   ]
  },
  {
   "cell_type": "code",
   "execution_count": null,
   "metadata": {},
   "outputs": [
    {
     "data": {
      "text/plain": [
       "2"
      ]
     },
     "metadata": {},
     "output_type": "display_data"
    }
   ],
   "source": [
    "#Quantas vezes determinado item aparece numa tupla\n",
    "tupla2.count(5)"
   ]
  },
  {
   "cell_type": "code",
   "execution_count": null,
   "metadata": {},
   "outputs": [
    {
     "data": {
      "text/plain": [
       "[1, 2, 3, 4, 5, 6, 7, 8, 9, 0, 0, 9, 8, 7, 6, 5, 4, 3, 2, 1]"
      ]
     },
     "metadata": {},
     "output_type": "display_data"
    }
   ],
   "source": [
    "#Conversão de tupla para lista\n",
    "listupla = list(tupla2)\n",
    "listupla"
   ]
  },
  {
   "cell_type": "code",
   "execution_count": null,
   "metadata": {},
   "outputs": [
    {
     "data": {
      "text/plain": [
       "(1, 2, 3, 4, 5, 6, 7, 8, 9, 0, 0, 9, 8, 7, 6, 5, 4, 3, 2, 1)"
      ]
     },
     "metadata": {},
     "output_type": "display_data"
    }
   ],
   "source": [
    "#Conversão de tupla para lista\n",
    "tuplista = tuple(listupla)\n",
    "tuplista"
   ]
  },
  {
   "cell_type": "code",
   "execution_count": null,
   "metadata": {},
   "outputs": [
    {
     "data": {
      "text/plain": [
       "[1, 2, 3, 4, 5, 6, 7, 8, 9, 0, 0, 9, 8, 7, 6, 5, 4, 3, 2, 1]"
      ]
     },
     "metadata": {},
     "output_type": "display_data"
    }
   ],
   "source": [
    "# Substituição com autoatribuição\n",
    "tuplista = list(tuplista)\n",
    "tuplista"
   ]
  },
  {
   "cell_type": "code",
   "execution_count": null,
   "metadata": {},
   "outputs": [],
   "source": []
  },
  {
   "cell_type": "markdown",
   "metadata": {},
   "source": [
    "## Dicionário"
   ]
  },
  {
   "cell_type": "code",
   "execution_count": 4,
   "metadata": {},
   "outputs": [
    {
     "name": "stdout",
     "output_type": "stream",
     "text": [
      "{'Listado': [5, 10, 15, 20, 25, 30]}\n"
     ]
    }
   ],
   "source": [
    "lista = [5, 10, 15, 20, 25, 30]\n",
    "\n",
    "dict_4 = dict(Listado=lista)\n",
    "\n",
    "print(dict_4)"
   ]
  },
  {
   "cell_type": "code",
   "execution_count": null,
   "metadata": {},
   "outputs": [],
   "source": [
    "dict1 = {'k1':4,'k2':6,'k3':8}\n",
    "dict2 = {'k1':3,'k2':5,'k3':7}\n",
    "dict3 = {'k1':2,'k2':10,'k3':17}"
   ]
  },
  {
   "cell_type": "code",
   "execution_count": null,
   "metadata": {},
   "outputs": [
    {
     "name": "stdout",
     "output_type": "stream",
     "text": [
      "3\n",
      "5\n"
     ]
    }
   ],
   "source": [
    "# Normalmente, igualar cria uma cópia autônoma da variável original.\n",
    "\n",
    "jjj = 3\n",
    "kkk = jjj\n",
    "\n",
    "kkk += 2\n",
    "\n",
    "print(jjj)\n",
    "print(kkk)"
   ]
  },
  {
   "cell_type": "code",
   "execution_count": null,
   "metadata": {},
   "outputs": [
    {
     "name": "stdout",
     "output_type": "stream",
     "text": [
      "{'k1': 4, 'k2': 18, 'k3': 8}\n",
      "{'k1': 4, 'k2': 18, 'k3': 8}\n"
     ]
    }
   ],
   "source": [
    "#Especificidade dos dicionários:\n",
    "# o símbolo de igualdade não cria uma cópia, mas uma chamada\n",
    "#O que ocorre com a chamada, ocorre com o dicionário original\n",
    "# Igualar a outro dicionário não altera o dicionário original, mas altera a chamada para outro dicionário.\n",
    "\n",
    "dict_atual = dict1\n",
    "dict_atual['k2'] += dict_atual['k2']*2\n",
    "\n",
    "print(dict_atual)\n",
    "print(dict1)"
   ]
  },
  {
   "cell_type": "code",
   "execution_count": null,
   "metadata": {},
   "outputs": [
    {
     "name": "stdout",
     "output_type": "stream",
     "text": [
      "{'k1': 4, 'k2': 18}\n"
     ]
    }
   ],
   "source": [
    "del dict_atual['k3']\n",
    "print(dict1)"
   ]
  },
  {
   "cell_type": "code",
   "execution_count": null,
   "metadata": {},
   "outputs": [
    {
     "name": "stdout",
     "output_type": "stream",
     "text": [
      "{'k1': 3, 'k2': 15, 'k3': 7}\n",
      "{'k1': 3, 'k2': 5, 'k3': 7}\n",
      "{'k1': 3, 'k2': 15, 'k3': 7}\n"
     ]
    }
   ],
   "source": [
    "#É preciso utilizar o comando .uptade para copiar os itens de um dicionário para outro.\n",
    "#receptor.update(fonte)\n",
    "#qualquer item do dict fonte que tiver a mesma chave do dict receptor acaba por sobrescrevê-lo.\n",
    "\n",
    "dict_atual.update(dict2)\n",
    "dict_atual['k2'] += dict_atual['k2']*2\n",
    "\n",
    "print(dict_atual)\n",
    "print(dict2)\n",
    "print(dict1)"
   ]
  },
  {
   "cell_type": "code",
   "execution_count": null,
   "metadata": {},
   "outputs": [
    {
     "name": "stdout",
     "output_type": "stream",
     "text": [
      "{'k1': 3, 'k2': 5, 'k3': 5}\n",
      "{'k1': 3, 'k2': 5, 'k3': 7}\n",
      "{'k1': 2, 'k2': 10, 'k3': 17}\n"
     ]
    }
   ],
   "source": [
    "#Antes de usar o update, é preciso criar a cópia, mesmo que seja vazia.\n",
    "#O comando .update transfere o conteúdo de um dict a outro.\n",
    "\n",
    "dict_atual_2 = {}\n",
    "dict_atual_2.update(dict2)\n",
    "\n",
    "dict_atual_2['k3'] = dict_atual_2['k3']-2\n",
    "\n",
    "print(dict_atual_2)\n",
    "print(dict2)\n",
    "\n",
    "dict_atual_2.update(dict3)\n",
    "\n",
    "print(dict_atual_2)"
   ]
  },
  {
   "cell_type": "code",
   "execution_count": null,
   "metadata": {},
   "outputs": [
    {
     "name": "stdout",
     "output_type": "stream",
     "text": [
      "{'k1': 3, 'k2': 5, 'k3': 7}\n",
      "{'k1': 3, 'k2': 5, 'k3': 888, 'ki': 8, 'kii': 88}\n"
     ]
    }
   ],
   "source": [
    "dictAppendable = {'ki':8,'kii':88,'k3':888}\n",
    "\n",
    "#Aqui, como o dict2 tem chaves iguais às do dict_atual_2, elas são substituídas\n",
    "dict_atual_2.update(dict2)\n",
    "print(dict_atual_2)\n",
    "\n",
    "#Aqui, como o dictAppendable tem chaves distintas, elas são adicionadas.\n",
    "#Umas das chaves é igual, então ela sobrescreve como visto anteriormente\n",
    "dict_atual_2.update(dictAppendable)\n",
    "print(dict_atual_2)"
   ]
  },
  {
   "cell_type": "code",
   "execution_count": null,
   "metadata": {},
   "outputs": [
    {
     "name": "stdout",
     "output_type": "stream",
     "text": [
      "{'k1': 3, 'k2': 5, 'k3': 888, 'ki': 8, 'kii': 88}\n"
     ]
    }
   ],
   "source": [
    "#Uma forma (nada conveniente) de garantir que um dicionário será sobrescrito não obstante as chaves é:\n",
    "#1 - Deletar o dicionário que seria sobrescrito\n",
    "#2 - Recriar o dicionário que seria sobrescrito\n",
    "#3 - Utilizar o método .append\n",
    "\n",
    "def override(self,dict_overrider):\n",
    "    del self\n",
    "    self = {}\n",
    "    self.update(dict_overrider)\n",
    "\n",
    "override(dict_atual_2,dictAppendable)\n",
    "print(dict_atual_2)"
   ]
  },
  {
   "cell_type": "markdown",
   "metadata": {},
   "source": [
    "## Set"
   ]
  },
  {
   "attachments": {},
   "cell_type": "markdown",
   "metadata": {},
   "source": [
    "## Looping"
   ]
  },
  {
   "cell_type": "markdown",
   "metadata": {},
   "source": [
    "Trata-se de uma estrutura de código que implica em repetição de uma tarefa um número de vezes pré-estabelecido ou um até que uma condição seja atingida."
   ]
  },
  {
   "attachments": {},
   "cell_type": "markdown",
   "metadata": {},
   "source": [
    "Diferença entre 'pass' e 'continue'."
   ]
  },
  {
   "cell_type": "code",
   "execution_count": null,
   "metadata": {},
   "outputs": [],
   "source": [
    "# 'for'"
   ]
  },
  {
   "cell_type": "code",
   "execution_count": null,
   "metadata": {},
   "outputs": [],
   "source": [
    "# 'break'"
   ]
  },
  {
   "cell_type": "code",
   "execution_count": null,
   "metadata": {},
   "outputs": [],
   "source": [
    "# 'while True' e 'break'"
   ]
  },
  {
   "cell_type": "code",
   "execution_count": 100,
   "metadata": {},
   "outputs": [
    {
     "name": "stdout",
     "output_type": "stream",
     "text": [
      "Esse não. Outro.\n",
      "1\n",
      "Esse não. Outro.\n",
      "2\n",
      "Esse não. Outro.\n",
      "3\n",
      "Esse não. Outro.\n",
      "4\n",
      "Pode ser.\n"
     ]
    }
   ],
   "source": [
    "x = 0\n",
    "\n",
    "# 'pass' pula a verificação atual\n",
    "    # Neste caso, passa pelo 'print(x)'\n",
    "\n",
    "while True:\n",
    "    x += 1\n",
    "    if float(x) < 5:\n",
    "        print('Esse não. Outro.')\n",
    "        pass # <-- # <-- # <-- # <-- # <-- #\n",
    "    else:\n",
    "        print('Pode ser.')\n",
    "        break\n",
    "    print(x)"
   ]
  },
  {
   "cell_type": "code",
   "execution_count": 101,
   "metadata": {},
   "outputs": [
    {
     "name": "stdout",
     "output_type": "stream",
     "text": [
      "Esse não. Outro.\n",
      "Esse não. Outro.\n",
      "Esse não. Outro.\n",
      "Esse não. Outro.\n",
      "Pode ser.\n"
     ]
    }
   ],
   "source": [
    "x = 0\n",
    "\n",
    "# 'continue' retorna o loop para o início\n",
    "    # Neste caso, não passa por mais nada abaixo disso.\n",
    "\n",
    "while True:\n",
    "    x += 1\n",
    "    if float(x) < 5:\n",
    "        print('Esse não. Outro.')\n",
    "        continue  # <-- # <-- # <-- # <-- # <-- #\n",
    "    else:\n",
    "        print('Pode ser.')\n",
    "        break\n",
    "    print(x)"
   ]
  },
  {
   "attachments": {},
   "cell_type": "markdown",
   "metadata": {},
   "source": [
    "## Operações e Iteraçõs"
   ]
  },
  {
   "attachments": {},
   "cell_type": "markdown",
   "metadata": {},
   "source": [
    "### Converções"
   ]
  },
  {
   "cell_type": "code",
   "execution_count": 82,
   "metadata": {},
   "outputs": [
    {
     "name": "stdout",
     "output_type": "stream",
     "text": [
      "John # Peter # Vicky\n",
      "Nome 1 # Nome 2 # Nome 3\n"
     ]
    }
   ],
   "source": [
    "# De tupla ou lista para string\n",
    "# Todos os itens devem ser strings\n",
    "\n",
    "Tupla_Nomes = (\"John\", \"Peter\", \"Vicky\")\n",
    "\n",
    "# Aqui, separaremos os itens com sustenido entre espaços.\n",
    "x = \" # \".join(Tupla_Nomes)\n",
    "\n",
    "print(x)\n",
    "\n",
    "Dicio_Nomes = {'Nome 1':\"John\", 'Nome 2':\"Peter\", 'Nome 3':\"Vicky\"}\n",
    "\n",
    "# Conforme a iteraçõo de um dicionário passa apenas pelas chaves, aqui também apenas as chaves são convertidas.\n",
    "# Aqui, separaremos os itens com sustenido entre espaços.\n",
    "x = \" # \".join(Dicio_Nomes)\n",
    "\n",
    "print(x)"
   ]
  },
  {
   "cell_type": "code",
   "execution_count": null,
   "metadata": {},
   "outputs": [
    {
     "name": "stdout",
     "output_type": "stream",
     "text": [
      "{0: 'a', 1: 'b', 2: 'c', 3: 'd', 4: 'e', 5: 'f', 6: 'g', 7: 'h'}\n"
     ]
    }
   ],
   "source": [
    "#Transformando uma lista em um dicionário.\n",
    "#As chaves serão os índices.\n",
    "\n",
    "lista = ['a','b','c','d','e','f','g','h']\n",
    "\n",
    "dict_da_lista = {i:j for i,j in enumerate(lista)}\n",
    "print(dict_da_lista)\n",
    "\n",
    "# Mais detalhes sobre a função 'enumerate' são dadas abaixo"
   ]
  },
  {
   "cell_type": "code",
   "execution_count": 3,
   "metadata": {},
   "outputs": [
    {
     "name": "stdout",
     "output_type": "stream",
     "text": [
      "True\n"
     ]
    }
   ],
   "source": [
    "# Transformando em lista\n",
    "\n",
    "String_to_List = list('ABCD')\n",
    "\n",
    "Tuple_to_List = list(('A', 'B', 'C', 'D'))\n",
    "\n",
    "print(String_to_List == Tuple_to_List)"
   ]
  },
  {
   "attachments": {},
   "cell_type": "markdown",
   "metadata": {},
   "source": [
    "### Map"
   ]
  },
  {
   "cell_type": "markdown",
   "metadata": {},
   "source": [
    "Aplica uma função a todos os elementos de uma coleção. A função não recebe coleções, mas elementos individuais"
   ]
  },
  {
   "cell_type": "markdown",
   "metadata": {},
   "source": [
    "Um atalho para loop."
   ]
  },
  {
   "cell_type": "markdown",
   "metadata": {},
   "source": [
    "map(função,coleção,coleção,...)"
   ]
  },
  {
   "cell_type": "code",
   "execution_count": null,
   "metadata": {},
   "outputs": [],
   "source": [
    "#Duas listas iguais e uma função com return\n",
    "\n",
    "a = [2,3,1,5,7,3,4,6,8,5,3,3,5,8,9]\n",
    "b = [4,2,6,4,3,6,5,4,6,5,3,1,7,1,6]\n",
    "\n",
    "def funcao(itemA,itemB):\n",
    "    if itemA == itemB:\n",
    "        return 'iguais'\n",
    "    elif itemA > itemB:\n",
    "        return 'primeiro maior'\n",
    "    else:\n",
    "        return 'segundo maior'"
   ]
  },
  {
   "cell_type": "code",
   "execution_count": null,
   "metadata": {},
   "outputs": [
    {
     "name": "stdout",
     "output_type": "stream",
     "text": [
      "<map object at 0x000002485F7B8880>\n",
      "\n",
      "['segundo maior', 'primeiro maior', 'segundo maior', 'primeiro maior', 'primeiro maior', 'segundo maior', 'segundo maior', 'primeiro maior', 'primeiro maior', 'iguais', 'iguais', 'primeiro maior', 'segundo maior', 'primeiro maior', 'primeiro maior']\n"
     ]
    }
   ],
   "source": [
    "# O resultado é um iterador.\n",
    "#Precisa ser transformado em uma lista ou tupla\n",
    "\n",
    "print(map(funcao,a,b))\n",
    "print('')\n",
    "print(list(map(funcao,a,b)))"
   ]
  },
  {
   "cell_type": "code",
   "execution_count": null,
   "metadata": {},
   "outputs": [
    {
     "name": "stdout",
     "output_type": "stream",
     "text": [
      "[33, 85, 1, 87, 70, 46, 41, 15, 12, 47, 77, 81, 49, 56, 30, 92, 78, 71, 47, 48]\n",
      "\n",
      "[92, 24, 50, 93, 24, 65, 4, 72, 15, 68, 8, 38, 76, 17, 94, 45, 67, 77, 8, 10, 34]\n",
      "\n",
      "['segundo maior', 'primeiro maior', 'segundo maior', 'segundo maior', 'primeiro maior', 'segundo maior', 'primeiro maior', 'segundo maior', 'segundo maior', 'segundo maior', 'primeiro maior', 'primeiro maior', 'segundo maior', 'primeiro maior', 'segundo maior', 'primeiro maior', 'primeiro maior', 'segundo maior', 'primeiro maior', 'primeiro maior']\n",
      "\n",
      "Tamanho da lista mapeada: 20\n",
      "\n",
      "33 92 segundo maior\n",
      "85 24 primeiro maior\n",
      "1 50 segundo maior\n",
      "87 93 segundo maior\n",
      "70 24 primeiro maior\n",
      "46 65 segundo maior\n",
      "41 4 primeiro maior\n",
      "15 72 segundo maior\n",
      "12 15 segundo maior\n",
      "47 68 segundo maior\n",
      "77 8 primeiro maior\n",
      "81 38 primeiro maior\n",
      "49 76 segundo maior\n",
      "56 17 primeiro maior\n",
      "30 94 segundo maior\n",
      "92 45 primeiro maior\n",
      "78 67 primeiro maior\n",
      "71 77 segundo maior\n",
      "47 8 primeiro maior\n",
      "48 10 primeiro maior\n"
     ]
    }
   ],
   "source": [
    "#Listas de tamanhos diferentes.\n",
    "#O resultado terá o tamanhno da menor lista\n",
    "\n",
    "import random\n",
    "\n",
    "c = []\n",
    "for i in range(20):\n",
    "    c.append(random.randint(1,100))\n",
    "print(c)\n",
    "print('')\n",
    "\n",
    "d = []\n",
    "for i in range(21):\n",
    "    d.append(random.randint(1,100))\n",
    "print(d)\n",
    "print('')\n",
    "\n",
    "mapeado = list(map(funcao,c,d))\n",
    "print(mapeado)\n",
    "print('')\n",
    "print('Tamanho da lista mapeada:',(len(mapeado)))\n",
    "print('')\n",
    "\n",
    "for i,j,k in zip(c,d,mapeado):\n",
    "    print(i,j,k)"
   ]
  },
  {
   "cell_type": "code",
   "execution_count": null,
   "metadata": {},
   "outputs": [
    {
     "name": "stdout",
     "output_type": "stream",
     "text": [
      "[2, 1, -1, 11, 11, 9, 11, 14, 34, 15, 3, -1, 23, -1, 39]\n"
     ]
    }
   ],
   "source": [
    "# Usando lambda como função inline\n",
    "\n",
    "print(list(map(lambda x,y: x*y-x-y,a,b)))"
   ]
  },
  {
   "cell_type": "markdown",
   "metadata": {},
   "source": [
    "Map e lambda são amplamente usados com o pacote Pandas para gerar colunas a partir de funções."
   ]
  },
  {
   "attachments": {},
   "cell_type": "markdown",
   "metadata": {},
   "source": [
    "### Reduce"
   ]
  },
  {
   "cell_type": "code",
   "execution_count": 1,
   "metadata": {},
   "outputs": [],
   "source": [
    "from functools import reduce"
   ]
  },
  {
   "cell_type": "markdown",
   "metadata": {},
   "source": [
    "A função reduce, do pacote functools, é similar à função map, mas retorna apenas um valor ao invés de uma coleção"
   ]
  },
  {
   "attachments": {},
   "cell_type": "markdown",
   "metadata": {},
   "source": [
    "A função deve comportar exatamente 2 argumentos."
   ]
  },
  {
   "cell_type": "code",
   "execution_count": null,
   "metadata": {},
   "outputs": [],
   "source": [
    "#Criando uma sequência de elementos numa lista para exemplo\n",
    "\n",
    "from random import randint\n",
    "\n",
    "a = []\n",
    "for i in range(100):\n",
    "    a.append(randint(1,1000))\n",
    "    \n",
    "b = []\n",
    "for i in range(100):\n",
    "    b.append(randint(1,1000))"
   ]
  },
  {
   "cell_type": "code",
   "execution_count": null,
   "metadata": {},
   "outputs": [
    {
     "name": "stdout",
     "output_type": "stream",
     "text": [
      "49667\n"
     ]
    }
   ],
   "source": [
    "#Recebe uma função e uma coleção como argumentos.\n",
    "#Os argumentos da função estipulada como argumento do reduce serão os elementos da lista.\n",
    "#O retorno é aplicado ao próximo item da lista.\n",
    "\n",
    "def soma2(x,y):\n",
    "    return x+y\n",
    "\n",
    "resultado_da_soma2 = reduce(soma2,a)\n",
    "\n",
    "print(resultado_da_soma2)"
   ]
  },
  {
   "cell_type": "code",
   "execution_count": null,
   "metadata": {},
   "outputs": [
    {
     "name": "stdout",
     "output_type": "stream",
     "text": [
      "49667\n"
     ]
    }
   ],
   "source": [
    "# Usando lambda\n",
    "\n",
    "resultado_da_soma4 = reduce(lambda x, y: x+y, a)\n",
    "print(resultado_da_soma4)"
   ]
  },
  {
   "cell_type": "code",
   "execution_count": null,
   "metadata": {},
   "outputs": [
    {
     "name": "stdout",
     "output_type": "stream",
     "text": [
      "978\n"
     ]
    }
   ],
   "source": [
    "# Encontrar o maior valor\n",
    "\n",
    "resultado_maior = reduce(lambda x,y: x if x>y else y, a)\n",
    "\n",
    "print(resultado_maior)"
   ]
  },
  {
   "attachments": {},
   "cell_type": "markdown",
   "metadata": {},
   "source": [
    "### Filter"
   ]
  },
  {
   "cell_type": "markdown",
   "metadata": {},
   "source": [
    "Exige uma função que retorna unicamente um resultado booleano, e uma coleção de valores que serão verificados."
   ]
  },
  {
   "cell_type": "markdown",
   "metadata": {},
   "source": [
    "O resultado é uma coleção de itens iguais aos itens da lista dada como parâmetro, mas excluindo aqueles cuja função avaliou como \"False\"."
   ]
  },
  {
   "cell_type": "code",
   "execution_count": null,
   "metadata": {},
   "outputs": [
    {
     "name": "stdout",
     "output_type": "stream",
     "text": [
      "[867, 594, 432, 203, 162, 526, 6, 809, 827, 181, 954, 340, 620, 422, 85, 228, 999, 198, 806, 959, 146, 724, 338, 879, 762, 955, 239, 415, 390, 715, 337, 200, 769, 838, 169, 452, 620, 714, 10, 138, 546, 663, 889, 664, 662, 681, 936, 740, 556, 388, 619, 729, 598, 306, 279, 983, 759, 947, 83, 387, 969, 898, 38, 592, 968, 703, 586, 201, 395, 156, 25, 996, 10, 244, 885, 826, 422, 905, 556, 54, 674, 846, 477, 289, 402, 683, 774, 657, 692, 807, 859, 460, 599, 545, 732, 603, 864, 614, 8, 240]\n"
     ]
    }
   ],
   "source": [
    "# A famigerada lista de números aleatórios\n",
    "from random import randint\n",
    "\n",
    "a = [randint(1,1000) for i in range (100)]\n",
    "print(a)"
   ]
  },
  {
   "cell_type": "code",
   "execution_count": null,
   "metadata": {},
   "outputs": [],
   "source": [
    "def par(a):\n",
    "    if a%2 == 0:\n",
    "        return True\n",
    "    #else:\n",
    "        #False"
   ]
  },
  {
   "cell_type": "code",
   "execution_count": null,
   "metadata": {},
   "outputs": [
    {
     "name": "stdout",
     "output_type": "stream",
     "text": [
      "[594, 432, 162, 526, 6, 954, 340, 620, 422, 228, 198, 806, 146, 724, 338, 762, 390, 200, 838, 452, 620, 714, 10, 138, 546, 664, 662, 936, 740, 556, 388, 598, 306, 898, 38, 592, 968, 586, 156, 996, 10, 244, 826, 422, 556, 54, 674, 846, 402, 774, 692, 460, 732, 864, 614, 8, 240]\n"
     ]
    }
   ],
   "source": [
    "#Fora da lista, o resultado é um iterador.\n",
    "\n",
    "print(filter(par,a))\n",
    "\n",
    "print(list(filter(par,a)))"
   ]
  },
  {
   "cell_type": "code",
   "execution_count": null,
   "metadata": {},
   "outputs": [
    {
     "data": {
      "text/plain": [
       "43"
      ]
     },
     "metadata": {},
     "output_type": "display_data"
    }
   ],
   "source": [
    "#Inline\n",
    "\n",
    "list(filter(lambda x: True if x%2 == 0 else False,[randint(1,1000) for i in range (100)]))\n",
    "\n",
    "len(list(filter(lambda x: True if x%2 == 0 else False,[randint(1,1000) for i in range (100)])))"
   ]
  },
  {
   "cell_type": "code",
   "execution_count": null,
   "metadata": {},
   "outputs": [
    {
     "data": {
      "text/plain": [
       "[536,\n",
       " 488,\n",
       " 284,\n",
       " 798,\n",
       " 452,\n",
       " 572,\n",
       " 856,\n",
       " 254,\n",
       " 12,\n",
       " 350,\n",
       " 960,\n",
       " 214,\n",
       " 164,\n",
       " 124,\n",
       " 386,\n",
       " 12,\n",
       " 792,\n",
       " 902,\n",
       " 764,\n",
       " 144,\n",
       " 196,\n",
       " 604,\n",
       " 344,\n",
       " 890,\n",
       " 950,\n",
       " 720,\n",
       " 924,\n",
       " 786,\n",
       " 358,\n",
       " 50,\n",
       " 452,\n",
       " 254,\n",
       " 422,\n",
       " 484,\n",
       " 794,\n",
       " 536,\n",
       " 236,\n",
       " 4,\n",
       " 930,\n",
       " 710,\n",
       " 4,\n",
       " 150,\n",
       " 608,\n",
       " 682,\n",
       " 844,\n",
       " 1000,\n",
       " 342,\n",
       " 836,\n",
       " 850,\n",
       " 642,\n",
       " 142,\n",
       " 276,\n",
       " 244,\n",
       " 346,\n",
       " 878,\n",
       " 900,\n",
       " 486,\n",
       " 554]"
      ]
     },
     "metadata": {},
     "output_type": "display_data"
    }
   ],
   "source": [
    "#Apenas a verificação já basta, sem o 'if'\n",
    "\n",
    "list(filter(lambda x: x%2 == 0 ,[randint(1,1000) for i in range (100)]))"
   ]
  },
  {
   "attachments": {},
   "cell_type": "markdown",
   "metadata": {},
   "source": [
    "### Zip"
   ]
  },
  {
   "attachments": {},
   "cell_type": "markdown",
   "metadata": {},
   "source": [
    "Com coleções de mesmo tamanho e tipo, as coleções são emparelhadas e são formadas tuplas. Cada tupla na nova coleção é composta pelos elementos das coleções fornecidas que tenham seu mesmo índice. A coleção resultante terá o mesmo tamanho das coleções fornecidas."
   ]
  },
  {
   "cell_type": "code",
   "execution_count": null,
   "metadata": {},
   "outputs": [
    {
     "name": "stdout",
     "output_type": "stream",
     "text": [
      "<zip object at 0x000001D1F87C8E40>\n",
      "[('a', 1), ('b', 2), ('c', 3), ('d', 4), ('e', 5)]\n"
     ]
    }
   ],
   "source": [
    "#O objeto criado pelo zip é um iterador.\n",
    "\n",
    "listaA = ['a','b','c','d','e']\n",
    "listaB = [1,2,3,4,5]\n",
    "\n",
    "zipado = zip(listaA,listaB)\n",
    "\n",
    "print(zipado)\n",
    "\n",
    "print(list(zipado))"
   ]
  },
  {
   "cell_type": "code",
   "execution_count": null,
   "metadata": {},
   "outputs": [
    {
     "name": "stdout",
     "output_type": "stream",
     "text": [
      "{'a': 1, 'b': 2, 'c': 3, 'd': 4, 'e': 5}\n"
     ]
    }
   ],
   "source": [
    "#Uma aplicação recorrete do zip é na criação de dicionários a partir de outras coleções\n",
    "\n",
    "dictzip = {}\n",
    "for i,j in zip(listaA,listaB):\n",
    "    dictzip[i] = j\n",
    "print(dictzip) "
   ]
  },
  {
   "cell_type": "code",
   "execution_count": null,
   "metadata": {},
   "outputs": [
    {
     "name": "stdout",
     "output_type": "stream",
     "text": [
      "{'a': 1, 'b': 2, 'c': 3, 'd': 4, 'e': 5}\n"
     ]
    }
   ],
   "source": [
    "#A mesma funcionalidade acima utilizando dict comprehention\n",
    "\n",
    "dictcomprehended = {i:j for i,j in zip(listaA,listaB)}\n",
    "\n",
    "print(dictcomprehended)"
   ]
  },
  {
   "cell_type": "code",
   "execution_count": null,
   "metadata": {},
   "outputs": [
    {
     "name": "stdout",
     "output_type": "stream",
     "text": [
      "{'a': 'a', 'b': 'b', 'c': 'c', 'd': 'd', 'e': 'e'}\n"
     ]
    }
   ],
   "source": [
    "#Como o pedido de apenas valores ou apenas chaves de um dicionário é dado como uma coleção indexada,\n",
    "# também é possível lidar diretamente com elas.\n",
    "\n",
    "#Objetos de dict não são evocáveis, mas podem ser pedidos como listas\n",
    "\n",
    "dictkeys = {abra:cadabra for abra,cadabra in zip(list(dictzip.keys()),list(dictzip.keys()))}\n",
    "print(dictkeys)"
   ]
  },
  {
   "attachments": {},
   "cell_type": "markdown",
   "metadata": {},
   "source": [
    "### Enumerate"
   ]
  },
  {
   "cell_type": "code",
   "execution_count": 23,
   "metadata": {},
   "outputs": [
    {
     "name": "stdout",
     "output_type": "stream",
     "text": [
      "(0, 'a')\n",
      "<class 'tuple'>\n",
      "     > 0\n",
      "     > <class 'int'>\n",
      "     > a\n",
      "     > <class 'str'>\n",
      "\n",
      "(1, 'b')\n",
      "<class 'tuple'>\n",
      "     > 1\n",
      "     > <class 'int'>\n",
      "     > b\n",
      "     > <class 'str'>\n",
      "\n",
      "(2, 'c')\n",
      "<class 'tuple'>\n",
      "     > 2\n",
      "     > <class 'int'>\n",
      "     > c\n",
      "     > <class 'str'>\n",
      "\n",
      "----------------------\n",
      "0 a\n",
      "1 b\n",
      "2 c\n"
     ]
    }
   ],
   "source": [
    "# enumerate altera a iteração entre as listas, onde cada item passa a ser uma tupla composta de índice e valor daquela lista\n",
    "\n",
    "Lista_Curta = ['a','b','c']\n",
    "\n",
    "for i in enumerate(Lista_Curta):\n",
    "    print(i)\n",
    "    print(type(i))\n",
    "    for j in i:\n",
    "        print('     >',j)\n",
    "        print('     >',type(j))\n",
    "    print()\n",
    "\n",
    "print('----------------------')\n",
    "\n",
    "for i,j in enumerate(Lista_Curta):\n",
    "    print(i,j)\n",
    "\n"
   ]
  },
  {
   "cell_type": "code",
   "execution_count": null,
   "metadata": {},
   "outputs": [],
   "source": []
  }
 ],
 "metadata": {
  "kernelspec": {
   "display_name": "Python 3.10.8 64-bit (microsoft store)",
   "language": "python",
   "name": "python3"
  },
  "language_info": {
   "codemirror_mode": {
    "name": "ipython",
    "version": 3
   },
   "file_extension": ".py",
   "mimetype": "text/x-python",
   "name": "python",
   "nbconvert_exporter": "python",
   "pygments_lexer": "ipython3",
   "version": "3.10.10"
  },
  "orig_nbformat": 4,
  "vscode": {
   "interpreter": {
    "hash": "91b18657112df8a6dc2946b9dfe3559ddfc8e1e2117c2c8071424b5e043bd8e1"
   }
  }
 },
 "nbformat": 4,
 "nbformat_minor": 2
}
