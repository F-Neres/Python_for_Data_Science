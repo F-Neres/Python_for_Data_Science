{
 "cells": [
  {
   "attachments": {},
   "cell_type": "markdown",
   "metadata": {},
   "source": [
    "# Classes"
   ]
  },
  {
   "attachments": {},
   "cell_type": "markdown",
   "metadata": {},
   "source": [
    "Criar uma classe é como criar um novo tipo de objeto, com seu próprio padrão de atributos e métodos."
   ]
  },
  {
   "attachments": {},
   "cell_type": "markdown",
   "metadata": {},
   "source": [
    "Os Atributos de uma classe são como os itens de uma coleção, com a excessão de que não são iteráveis."
   ]
  },
  {
   "cell_type": "code",
   "execution_count": 43,
   "metadata": {},
   "outputs": [],
   "source": [
    "class Person:\n",
    "    \"This is a person class\"\n",
    "    def __init__(self, age):\n",
    "        self.age = age\n",
    "        self.initialage = 0\n",
    "\n",
    "    def greet(self):\n",
    "        print(f'Hello, your age is {self.age}.')"
   ]
  },
  {
   "attachments": {},
   "cell_type": "markdown",
   "metadata": {},
   "source": [
    "A criação de uma classe consiste em continente cheio de funções que funcionarão apenas \"dentro\" do objeto.  \n",
    "\n",
    "Uma das funções, nomeada necessariamente como \"\\_\\_init\\_\\_\", recebe um parâmetro (necessariamente o primeiro) que representa o objeto, quando criado, dentro dele mesmo. Uma boa prática é chamar esse parâmetro de \"self\", embora não seja uma exigência. Os demais parâmetros serão utilizados nesse método, comumente para servirem de atributo."
   ]
  },
  {
   "cell_type": "code",
   "execution_count": 44,
   "metadata": {},
   "outputs": [],
   "source": [
    "I101 = Person(12)"
   ]
  },
  {
   "attachments": {},
   "cell_type": "markdown",
   "metadata": {},
   "source": [
    "Quanto um objeto é criado como instância daquela classe, embora a função que inicia a classe exija 2 atributos, apenas um é dado. O primeiro parâmetro serve apenas para definir o nome do objeto dentro dele mesmo."
   ]
  },
  {
   "cell_type": "code",
   "execution_count": 45,
   "metadata": {},
   "outputs": [
    {
     "name": "stdout",
     "output_type": "stream",
     "text": [
      "Hello, your age is 12.\n"
     ]
    }
   ],
   "source": [
    "I101.greet()"
   ]
  },
  {
   "attachments": {},
   "cell_type": "markdown",
   "metadata": {},
   "source": [
    "O método da classe, neste exemplo, recebe apenas um parâmetro, que vem a ser o próprio objeto. O padrão se mantém em todas as funções dentro da classe que necessitarem de valores do próprio objeto."
   ]
  },
  {
   "cell_type": "code",
   "execution_count": 46,
   "metadata": {},
   "outputs": [
    {
     "data": {
      "text/plain": [
       "12"
      ]
     },
     "execution_count": 46,
     "metadata": {},
     "output_type": "execute_result"
    }
   ],
   "source": [
    "# Evocar o atributo de um objeto.\n",
    "\n",
    "I101.age"
   ]
  },
  {
   "attachments": {},
   "cell_type": "markdown",
   "metadata": {},
   "source": [
    "## Atributos"
   ]
  },
  {
   "cell_type": "code",
   "execution_count": 53,
   "metadata": {},
   "outputs": [],
   "source": [
    "# __init__ recebe o atributo \"altura\" mas não o atribui a 'p'\n",
    "#'altura' é uma informação perdida.\n",
    "\n",
    "class Pessoa:\n",
    "    def __init__(p, nome, idade, peso, altura):\n",
    "        p.n = nome\n",
    "        p.i = idade\n",
    "        p.p = peso\n",
    "\n",
    "Estudante1 = Pessoa(\"Felipe\", 33, 86.6, 1.79)"
   ]
  },
  {
   "cell_type": "code",
   "execution_count": 54,
   "metadata": {},
   "outputs": [
    {
     "name": "stdout",
     "output_type": "stream",
     "text": [
      "<class 'AttributeError'>\n"
     ]
    },
    {
     "data": {
      "text/plain": [
       "'Felipe'"
      ]
     },
     "execution_count": 54,
     "metadata": {},
     "output_type": "execute_result"
    }
   ],
   "source": [
    "import sys\n",
    "\n",
    "# Embora na __init__ da classe exijsta 'nome', a classe tem o atributo 'n'\n",
    "# Então ocorre erro de atributo\n",
    "\n",
    "try:\n",
    "    Estudante1.nome\n",
    "except:\n",
    "    print(sys.exc_info()[0])\n",
    "    \n",
    "Estudante1.n"
   ]
  },
  {
   "cell_type": "code",
   "execution_count": 55,
   "metadata": {},
   "outputs": [
    {
     "name": "stdout",
     "output_type": "stream",
     "text": [
      "False True\n"
     ]
    }
   ],
   "source": [
    "# Verificação de nome de atributos\n",
    "# Resultado booleano.\n",
    "\n",
    "verificação1 = hasattr(Estudante1, \"nome\")\n",
    "verificação2 = hasattr(Estudante1, \"n\")\n",
    "\n",
    "print(verificação1,verificação2)"
   ]
  },
  {
   "cell_type": "code",
   "execution_count": 56,
   "metadata": {},
   "outputs": [
    {
     "name": "stdout",
     "output_type": "stream",
     "text": [
      "ERRO: <class 'AttributeError'>\n",
      "none 33\n",
      "<class 'int'>\n"
     ]
    }
   ],
   "source": [
    "# Recebendo o valor de determinado atributo de um objeto.\n",
    "\n",
    "try:\n",
    "    v3 = getattr(Estudante1, \"idade\")\n",
    "except:\n",
    "    print('ERRO:',sys.exc_info()[0])\n",
    "\n",
    "v4 = getattr(Estudante1,'i')\n",
    "\n",
    "print(v3,v4)\n",
    "print(type(v4))"
   ]
  },
  {
   "cell_type": "code",
   "execution_count": 57,
   "metadata": {},
   "outputs": [
    {
     "name": "stdout",
     "output_type": "stream",
     "text": [
      "86.6\n",
      "P sumiu\n"
     ]
    }
   ],
   "source": [
    "# Deletar um atributo é uma ação não-atribuível.\n",
    "\n",
    "print(Estudante1.p)\n",
    "\n",
    "delattr(Estudante1,'p')\n",
    "try:\n",
    "    print(Estudante1.p)\n",
    "except:\n",
    "    print(\"P sumiu\")"
   ]
  },
  {
   "cell_type": "code",
   "execution_count": 58,
   "metadata": {},
   "outputs": [
    {
     "name": "stdout",
     "output_type": "stream",
     "text": [
      "90\n",
      "71\n"
     ]
    }
   ],
   "source": [
    "# Atribuindo um novo valor para um atributo\n",
    "\n",
    "# Mesmo o atributo \"p\" não existingo mais, ele pode ser criado, assim como novos atributos que não existiam quando da definição da classe.\n",
    "Estudante1.p = 90\n",
    "print(Estudante1.p)\n",
    "\n",
    "setattr(Estudante1,'p',71)\n",
    "print(Estudante1.p)"
   ]
  },
  {
   "cell_type": "code",
   "execution_count": 62,
   "metadata": {},
   "outputs": [
    {
     "data": {
      "text/plain": [
       "{'n': 'Felipe', 'i': 33, 'p': 71}"
      ]
     },
     "execution_count": 62,
     "metadata": {},
     "output_type": "execute_result"
    }
   ],
   "source": [
    "# Dicionário com as variáves\n",
    "\n",
    "vars(Estudante1)"
   ]
  },
  {
   "cell_type": "code",
   "execution_count": 59,
   "metadata": {
    "scrolled": true
   },
   "outputs": [
    {
     "name": "stdout",
     "output_type": "stream",
     "text": [
      "70\n"
     ]
    }
   ],
   "source": [
    "#É possível entregar atributos a um objeto sem parâmetros de criação, inclusive sem __init__.\n",
    "\n",
    "class PessoaNula:\n",
    "    pass\n",
    "\n",
    "Estudante2 = PessoaNula()\n",
    "Estudante2.p = 70\n",
    "print(Estudante2.p)\n",
    "\n",
    "# Não é aconselhável pelo fato de o usuário ter que saber o que e em que formato criar os atributos."
   ]
  },
  {
   "attachments": {},
   "cell_type": "markdown",
   "metadata": {},
   "source": [
    "### Atributos da classe"
   ]
  },
  {
   "cell_type": "code",
   "execution_count": 68,
   "metadata": {},
   "outputs": [],
   "source": [
    "class Círculo:\n",
    "    pi = 3.1416 # Este é um atributo que pertence à classe, não aos objetos instanciados a ela\n",
    "\n",
    "    def __init__(self, raio):\n",
    "        self.raio = raio\n",
    "    \n",
    "    def área(self):\n",
    "        return (self.raio**2) * Círculo.pi\n",
    "        # O atributo da classe pode ser evocado dentro e fora da classe através do nome (tipo) da classe."
   ]
  },
  {
   "cell_type": "code",
   "execution_count": 69,
   "metadata": {},
   "outputs": [
    {
     "name": "stdout",
     "output_type": "stream",
     "text": [
      "78.53999999999999\n"
     ]
    }
   ],
   "source": [
    "Circ1 = Círculo(5)\n",
    "\n",
    "print(Circ1.área())"
   ]
  },
  {
   "attachments": {},
   "cell_type": "markdown",
   "metadata": {},
   "source": [
    "## Alocação na memória"
   ]
  },
  {
   "attachments": {},
   "cell_type": "markdown",
   "metadata": {},
   "source": [
    "A menos que o método \\_\\_str\\_\\_ tenha sido definido, imprimir um objeto instanciado em uma classe irá mostrar a alocação do objeto na memória."
   ]
  },
  {
   "cell_type": "code",
   "execution_count": 80,
   "metadata": {},
   "outputs": [
    {
     "data": {
      "text/plain": [
       "<__main__.Círculo at 0x27b43f42880>"
      ]
     },
     "execution_count": 80,
     "metadata": {},
     "output_type": "execute_result"
    }
   ],
   "source": [
    "Circ1"
   ]
  },
  {
   "attachments": {},
   "cell_type": "markdown",
   "metadata": {},
   "source": [
    "Sendo assim, como tantos outros objetos em python, entregar o conteúdo de um nome a outro irá anexar dois nomes para o mesmo objeto, não compiá-lo."
   ]
  },
  {
   "cell_type": "code",
   "execution_count": 82,
   "metadata": {},
   "outputs": [
    {
     "name": "stdout",
     "output_type": "stream",
     "text": [
      "8\n"
     ]
    }
   ],
   "source": [
    "# Tanto 'Circ1' quando 'Circ2' correspondem ao mesmo objeto.\n",
    "Circ2 = Circ1\n",
    "\n",
    "# Alterando o atributo do objeto evocando-o pelo nome 'Circ2'.\n",
    "Circ2.raio = 8\n",
    "\n",
    "# Printando o mesmo atributo do mesmo objeto, mas agora evocando pelo nome 'Circ1'.\n",
    "print(Circ1.raio)"
   ]
  },
  {
   "cell_type": "code",
   "execution_count": 83,
   "metadata": {},
   "outputs": [
    {
     "name": "stdout",
     "output_type": "stream",
     "text": [
      "<__main__.Círculo object at 0x0000027B43F42880>\n",
      "<__main__.Círculo object at 0x0000027B43F42880>\n"
     ]
    }
   ],
   "source": [
    "print(Circ1)\n",
    "print(Circ2)"
   ]
  },
  {
   "cell_type": "markdown",
   "metadata": {},
   "source": [
    "## Métodos"
   ]
  },
  {
   "cell_type": "markdown",
   "metadata": {},
   "source": [
    "Métodos podem ter duas finalidades: i) manipular atributos e ii) executar ações de saída."
   ]
  },
  {
   "cell_type": "code",
   "execution_count": null,
   "metadata": {},
   "outputs": [],
   "source": [
    "#A função __init__ é um recurso necessário em Python para tornar a atribuição de parâmetros possível na criação do objeto\n",
    "#O primeiro parâmetro será uma variável interna do ojeto mas externa à função.\n",
    "#Quando um atributo é pedido, essa variável principal do __init__ dá lugar \n",
    "\n",
    "class Q1:\n",
    "    def __init__(a,q1,q2,q3):\n",
    "        a.a1 = q1\n",
    "        a.a2 = q2\n",
    "        a.a3 = q3\n",
    "\n",
    "Queue1 = Q1(1,2,3)"
   ]
  },
  {
   "cell_type": "code",
   "execution_count": null,
   "metadata": {},
   "outputs": [],
   "source": [
    "# Usando um metodo para alterar um atributo\n",
    "\n",
    "class Q2:\n",
    "    def __init__(a,q1,q2,q3):\n",
    "        a.a1 = q1\n",
    "        a.a2 = q2\n",
    "        a.a3 = q3\n",
    "        a.a4 = 0 #As funções a seguir só conseguem trabalhar com variáveis criadas fora de funções ou criadas pelo init\n",
    "    def conta(a):\n",
    "        a.a4 = a.a2*2+a.a3\n",
    "Queue2 = Q2(1,2,3)\n",
    "print(Queue2.a4)\n",
    "Queue2.conta() # ESSES PARÊNTESIS ME DERAM MUUUITA DOR DE CABEÇA!!!\n",
    "print(Queue2.a4)"
   ]
  },
  {
   "cell_type": "code",
   "execution_count": null,
   "metadata": {},
   "outputs": [],
   "source": [
    "#Usando um método para atribuição\n",
    "\n",
    "class Q3:\n",
    "    def __init__(a,q1,q2,q3):\n",
    "        a.a1 = q1\n",
    "        a.a2 = q2\n",
    "        a.a3 = q3\n",
    "    def addict(a,q4):\n",
    "        a.a4 = q4**2+a.a1+a.a2+a.a3 # Quando a função recebe um parâmetro além do self, ela pode criar atributos.\n",
    "\n",
    "Queue3 = Q3(1,2,3)\n",
    "Queue3.addict(4)\n",
    "print(Queue3.a4)"
   ]
  },
  {
   "cell_type": "code",
   "execution_count": null,
   "metadata": {},
   "outputs": [],
   "source": [
    "#Variáveis itrínsecas são utilizadas pela função como 'nome_da_classe'.'atributo'\n",
    "#Variáveis atribuídas fora da criação do objeto ou dos parâmetros de um método parecem não utilizáveis.\n",
    "\n",
    "class Q4:\n",
    "    a2 = 2 #Variáveis internas\n",
    "    def __init__(a,q1):\n",
    "        a.a1 = q1\n",
    "        a.a4 = 0\n",
    "    def conta(a):\n",
    "        a.a4 = a.a1+Q4.a2+Q4.a3 \n",
    "\n",
    "Queue4 = Q4(5)\n",
    "\n",
    "print(Queue4.a2)\n",
    "\n",
    "Queue4.a3 = 3\n",
    "\n",
    "print(Queue4.a3)\n",
    "\n",
    "Queue4.conta()\n",
    "\n",
    "print(Queue4.a4)"
   ]
  },
  {
   "cell_type": "code",
   "execution_count": null,
   "metadata": {},
   "outputs": [],
   "source": [
    "#Não existe forma correta de utilizar um atributo determinado fora da criação do objeto.\n",
    "\n",
    "class Q4:\n",
    "    a2 = 2 #Variáveis internas\n",
    "    def __init__(a,q1):\n",
    "        a.a1 = q1\n",
    "        a.a4 = 0\n",
    "    def conta(a):\n",
    "        a.a4 = a.a1+Q4.a2+a3 \n",
    "\n",
    "Queue4 = Q4(5)\n",
    "print(Queue4.a2)\n",
    "setattr(Queue4,'a3',3)\n",
    "print(Queue4.a3)\n",
    "Queue4.conta()\n",
    "print(Queue4.a4)"
   ]
  },
  {
   "cell_type": "markdown",
   "metadata": {},
   "source": [
    "## Métodos especiais"
   ]
  },
  {
   "cell_type": "markdown",
   "metadata": {},
   "source": [
    "Métodos especiais permitirão que seu objeto possa atuar com outras funções."
   ]
  },
  {
   "cell_type": "code",
   "execution_count": null,
   "metadata": {},
   "outputs": [],
   "source": [
    "class ClasseTotal:\n",
    "    'Classe para demonstrar métodos especiais.' # Docsring\n",
    "    def __init__(z,string,número):\n",
    "        z.s = string\n",
    "        z.i = int(número)\n",
    "        z.f = float(número)\n",
    "        z.add = []\n",
    "    def __str__(z):\n",
    "        return z.s\n",
    "    def __int__(z):\n",
    "        return z.i\n",
    "    def __float__(z):\n",
    "        return z.f\n",
    "    def __call__(z,addict):\n",
    "        z.add.append[addict]\n",
    "        return z.add\n",
    "    def __lt__(z):\n",
    "        return z.i-1\n",
    "    def __le__(z):\n",
    "        return z.i-2\n",
    "    def __eq__(z):\n",
    "        return z.i\n",
    "    def __ne__(z):\n",
    "        return -z.i\n",
    "    def __ge__(z):\n",
    "        return z.i+2\n",
    "    def __gt__(z):\n",
    "        return z.i+1\n"
   ]
  },
  {
   "cell_type": "code",
   "execution_count": null,
   "metadata": {},
   "outputs": [],
   "source": [
    "exemplo = ClasseTotal('nove',9)"
   ]
  },
  {
   "cell_type": "code",
   "execution_count": null,
   "metadata": {},
   "outputs": [
    {
     "name": "stdout",
     "output_type": "stream",
     "text": [
      "Classe para demonstrar métodos especiais.\n"
     ]
    }
   ],
   "source": [
    "# Evoca a ddocsting da classe.\n",
    "# Contém anotações sobre a classe.\n",
    "\n",
    "print(exemplo.__doc__)"
   ]
  },
  {
   "cell_type": "markdown",
   "metadata": {},
   "source": [
    "## Objetos como parâmetros de objetos."
   ]
  },
  {
   "cell_type": "markdown",
   "metadata": {},
   "source": [
    "### Classes aninhadas"
   ]
  },
  {
   "cell_type": "code",
   "execution_count": 70,
   "metadata": {},
   "outputs": [],
   "source": [
    "# A Classe interna deve estar dentro do __init__ da classe superior.\n",
    "\n",
    "class SuperClasse:\n",
    "    def __init__(q,a,b,c,d):\n",
    "        q.a = a\n",
    "        q.b = b\n",
    "        q.c = c\n",
    "        q.d = d\n",
    "        class ParteClasse:\n",
    "            def __init__(r,a,b,c,d):\n",
    "                r.lista = [a,b,c,d]\n",
    "        q.parte = ParteClasse(a,b,c,d)"
   ]
  },
  {
   "cell_type": "code",
   "execution_count": 71,
   "metadata": {},
   "outputs": [],
   "source": [
    "objeto = SuperClasse(2,4,6,8)"
   ]
  },
  {
   "cell_type": "code",
   "execution_count": 72,
   "metadata": {},
   "outputs": [
    {
     "data": {
      "text/plain": [
       "2"
      ]
     },
     "execution_count": 72,
     "metadata": {},
     "output_type": "execute_result"
    }
   ],
   "source": [
    "objeto.a"
   ]
  },
  {
   "cell_type": "code",
   "execution_count": 74,
   "metadata": {},
   "outputs": [
    {
     "name": "stdout",
     "output_type": "stream",
     "text": [
      "<__main__.SuperClasse.__init__.<locals>.ParteClasse object at 0x0000027B43F0EB80>\n"
     ]
    }
   ],
   "source": [
    "print(objeto.parte)"
   ]
  },
  {
   "cell_type": "code",
   "execution_count": 75,
   "metadata": {},
   "outputs": [
    {
     "data": {
      "text/plain": [
       "[2, 4, 6, 8]"
      ]
     },
     "execution_count": 75,
     "metadata": {},
     "output_type": "execute_result"
    }
   ],
   "source": [
    "objeto.parte.lista"
   ]
  },
  {
   "cell_type": "code",
   "execution_count": 76,
   "metadata": {},
   "outputs": [
    {
     "data": {
      "text/plain": [
       "6"
      ]
     },
     "execution_count": 76,
     "metadata": {},
     "output_type": "execute_result"
    }
   ],
   "source": [
    "objeto.parte.lista[2]"
   ]
  },
  {
   "cell_type": "markdown",
   "metadata": {},
   "source": [
    "### Método de uma classe na criação de outra"
   ]
  },
  {
   "cell_type": "code",
   "execution_count": 77,
   "metadata": {},
   "outputs": [],
   "source": [
    "class ClasseA:\n",
    "    def __init__(z,a,b,c,d):\n",
    "        z.a=a\n",
    "        z.b=b\n",
    "        z.c=c\n",
    "        z.d=d\n",
    "    def Soma(z):\n",
    "        return z.a+z.b+z.c+z.d\n",
    "        \n",
    "class ClasseB:\n",
    "    def __init__(z,A,a):\n",
    "        z.a=a\n",
    "        z.b=A.Soma()+a"
   ]
  },
  {
   "cell_type": "code",
   "execution_count": 78,
   "metadata": {},
   "outputs": [],
   "source": [
    "objA = ClasseA(1,2,3,4)\n",
    "\n",
    "# O objA é um atributo \n",
    "objB = ClasseB(objA,5)"
   ]
  },
  {
   "cell_type": "code",
   "execution_count": 79,
   "metadata": {},
   "outputs": [
    {
     "name": "stdout",
     "output_type": "stream",
     "text": [
      "10\n",
      "15\n"
     ]
    }
   ],
   "source": [
    "print(objA.Soma())\n",
    "print(objB.b)"
   ]
  },
  {
   "cell_type": "markdown",
   "metadata": {},
   "source": [
    "## Herança"
   ]
  },
  {
   "cell_type": "code",
   "execution_count": 85,
   "metadata": {},
   "outputs": [
    {
     "name": "stdout",
     "output_type": "stream",
     "text": [
      "Animal criado\n",
      "['Identif', '__class__', '__delattr__', '__dict__', '__dir__', '__doc__', '__eq__', '__format__', '__ge__', '__getattribute__', '__gt__', '__hash__', '__init__', '__init_subclass__', '__le__', '__lt__', '__module__', '__ne__', '__new__', '__reduce__', '__reduce_ex__', '__repr__', '__setattr__', '__sizeof__', '__str__', '__subclasshook__', '__weakref__', 'comer', 'peso']\n",
      "15\n"
     ]
    }
   ],
   "source": [
    "# Criando a classe Animal - Super-classe ou Classe Mãe\n",
    "class Animal():\n",
    "    \n",
    "    def __init__(self,peso):\n",
    "        print(\"Animal criado\")\n",
    "        self.peso = peso\n",
    "\n",
    "    def Identif(self):\n",
    "        print(\"Animal\")\n",
    "\n",
    "    def comer(self):\n",
    "        print(\"Comendo\")\n",
    "        \n",
    "bicho = Animal(15)\n",
    "print(dir(bicho))\n",
    "print(bicho.peso)"
   ]
  },
  {
   "cell_type": "code",
   "execution_count": 91,
   "metadata": {},
   "outputs": [],
   "source": [
    "# Criando a classe Cachorro - Sub-classe ou classe filha\n",
    "# O __int__ de 'Cachorro' sobrescreve o __int__ de 'Animal' nos nomes de atributos iguais.\n",
    "# Os métodos se somam ou se sobrescrevem.\n",
    "\n",
    "class Cachorro(Animal): # A classe 'Cachorro' recebe como parâmetro a classe 'Animal'.\n",
    "    \n",
    "    def __init__(self,peso,raça): # Cachorro recebe peso e raça\n",
    "        Animal.__init__(self,peso) # Sendo o peso parte da superclasse\n",
    "        self.raça = raça # Raça é próprio do Cachorro\n",
    "        print(\"Objeto Cachorro criado\")\n",
    "\n",
    "    def Identif(self):      # Este método, de mesmo nome, será sobrescrito.\n",
    "        print(\"Cachorro\",self.raça)\n",
    "\n",
    "    def som(self):          # Este é um método novo.\n",
    "        print(\"Au Au!\")\n",
    "\n",
    "    # O método 'comer', da classe 'Animal', se mantém."
   ]
  },
  {
   "cell_type": "code",
   "execution_count": 92,
   "metadata": {},
   "outputs": [
    {
     "name": "stdout",
     "output_type": "stream",
     "text": [
      "Animal criado\n",
      "Objeto Cachorro criado\n"
     ]
    }
   ],
   "source": [
    "# Criando um objeto\n",
    "rex = Cachorro(15,'rusky siberiano')"
   ]
  },
  {
   "cell_type": "code",
   "execution_count": 93,
   "metadata": {},
   "outputs": [
    {
     "name": "stdout",
     "output_type": "stream",
     "text": [
      "Cachorro rusky siberiano\n",
      "Comendo\n",
      "Au Au!\n"
     ]
    }
   ],
   "source": [
    "# Executando o método da classe Cachorro (sub-classe)\n",
    "rex.Identif()\n",
    "\n",
    "# Executando o método da classe Animal (super-classe)\n",
    "rex.comer()\n",
    "\n",
    "# Executando o método da classe Cachorro (sub-classe)\n",
    "rex.som()"
   ]
  },
  {
   "cell_type": "code",
   "execution_count": 94,
   "metadata": {},
   "outputs": [],
   "source": [
    "#Utilizando 'super()' para herdar o __init__, ao invés de nome da classe (que já foi referido na clausula 'class').\n",
    "\n",
    "class Gato(Animal):\n",
    "    \n",
    "    def __init__(self,peso,raça): # Ao criar um cachorro, é preciso atribuir o peso\n",
    "        super().__init__(peso) # O peso é passado ao animal, junto com o self\n",
    "        self.raça = raça\n",
    "        print(\"Objeto Gato criado\")\n",
    "\n",
    "    def Identif(self):\n",
    "        print(\"Gato\",self.raça)\n",
    "\n",
    "    def som(self):\n",
    "        print(\"Meow!\")"
   ]
  },
  {
   "cell_type": "code",
   "execution_count": 95,
   "metadata": {},
   "outputs": [
    {
     "name": "stdout",
     "output_type": "stream",
     "text": [
      "Animal criado\n",
      "Objeto Gato criado\n",
      "Comendo\n",
      "Gato sphynx\n",
      "Meow!\n"
     ]
    }
   ],
   "source": [
    "frajola = Gato(3,'sphynx')\n",
    "\n",
    "frajola.comer()\n",
    "frajola.Identif()\n",
    "frajola.som()"
   ]
  },
  {
   "attachments": {},
   "cell_type": "markdown",
   "metadata": {},
   "source": [
    "## Polimorfismo"
   ]
  },
  {
   "attachments": {},
   "cell_type": "markdown",
   "metadata": {},
   "source": [
    "Permite que subclasses diferentes, oriundas de uma mesma superclasse, sejam instanciadas pelo nome da superclasse."
   ]
  },
  {
   "cell_type": "code",
   "execution_count": 1,
   "metadata": {},
   "outputs": [],
   "source": [
    "class Veículo:\n",
    "    def __init__(self, marca, modelo):\n",
    "        self.marca = marca\n",
    "        self.modelo = modelo"
   ]
  },
  {
   "cell_type": "code",
   "execution_count": 2,
   "metadata": {},
   "outputs": [],
   "source": [
    "class Carro(Veículo):\n",
    "    def acelerar(self):\n",
    "        print('Carro está acelerando.')\n",
    "    def frear(self):\n",
    "        print('Carro está freando.')"
   ]
  },
  {
   "cell_type": "code",
   "execution_count": 3,
   "metadata": {},
   "outputs": [],
   "source": [
    "class Moto(Veículo):\n",
    "    def acelerar(self):\n",
    "        print('Moto está acelerando.')\n",
    "    def frear(self):\n",
    "        print('Moto está freando.')"
   ]
  },
  {
   "cell_type": "code",
   "execution_count": 6,
   "metadata": {},
   "outputs": [],
   "source": [
    "class Avião(Veículo):\n",
    "    def acelerar(self):\n",
    "        print('Avião está acelerando.')\n",
    "    def frear(self):\n",
    "        print('Avião está freando.')\n",
    "    def decolar(self):\n",
    "        print('Avião está decolando.')"
   ]
  },
  {
   "cell_type": "code",
   "execution_count": 7,
   "metadata": {},
   "outputs": [
    {
     "name": "stdout",
     "output_type": "stream",
     "text": [
      "Carro está acelerando.\n",
      "Carro está freando.\n",
      "Moto está acelerando.\n",
      "Moto está freando.\n",
      "Avião está acelerando.\n",
      "Avião está freando.\n",
      "Avião está decolando.\n"
     ]
    }
   ],
   "source": [
    "Lista_de_Veículos = [Carro(\"Porche\",\"911 Turbo\"),Moto(\"Honda\",\"CB 1000R Black Edition\"),Avião(\"Boeing\",\"757\")]\n",
    "\n",
    "for i in Lista_de_Veículos:\n",
    "    i.acelerar()\n",
    "    i.frear()\n",
    "    if isinstance(i,Avião):\n",
    "        i.decolar()"
   ]
  },
  {
   "attachments": {},
   "cell_type": "markdown",
   "metadata": {},
   "source": [
    "## Testes"
   ]
  },
  {
   "cell_type": "code",
   "execution_count": 96,
   "metadata": {},
   "outputs": [
    {
     "name": "stdout",
     "output_type": "stream",
     "text": [
      "Au Au!\n",
      "Meow!\n"
     ]
    }
   ],
   "source": [
    "#Função para execultar múltiplos métodos.\n",
    "\n",
    "def som(*bicho):\n",
    "    for i in bicho:\n",
    "        i.som()\n",
    "        \n",
    "som(rex,frajola)"
   ]
  },
  {
   "cell_type": "code",
   "execution_count": 102,
   "metadata": {},
   "outputs": [
    {
     "name": "stdout",
     "output_type": "stream",
     "text": [
      "['__class__', '__delattr__', '__dict__', '__dir__', '__doc__', '__eq__', '__format__', '__ge__', '__getattribute__', '__gt__', '__hash__', '__init__', '__init_subclass__', '__le__', '__lt__', '__module__', '__ne__', '__new__', '__reduce__', '__reduce_ex__', '__repr__', '__setattr__', '__sizeof__', '__str__', '__subclasshook__', '__weakref__', 'a', 'b', 'c', 'd']\n",
      "<class '__main__.ClasseGenérica'>\n",
      "1\n",
      "2\n",
      "3\n",
      "4\n"
     ]
    }
   ],
   "source": [
    "# Função para transformar dicionário em classe.\n",
    "# Os atributos, como visto acima, talvez não sejam\n",
    "\n",
    "\n",
    "ditioclass = {'a':1,'b':2,'c':3,'d':4}\n",
    "\n",
    "class ClasseGenérica:\n",
    "    pass\n",
    "\n",
    "def DictToClass(classe,dicio):\n",
    "    x = classe\n",
    "    for i,j in dicio.items():\n",
    "        setattr(x,str(i),j)\n",
    "    return x\n",
    "    \n",
    "ditioclass = DictToClass(ClasseGenérica(),ditioclass)\n",
    "\n",
    "print(dir(ditioclass))\n",
    "print(type(ditioclass))\n",
    "print(ditioclass.a)\n",
    "print(ditioclass.b)\n",
    "print(ditioclass.c)\n",
    "print(ditioclass.d)"
   ]
  }
 ],
 "metadata": {
  "kernelspec": {
   "display_name": "base",
   "language": "python",
   "name": "python3"
  },
  "language_info": {
   "codemirror_mode": {
    "name": "ipython",
    "version": 3
   },
   "file_extension": ".py",
   "mimetype": "text/x-python",
   "name": "python",
   "nbconvert_exporter": "python",
   "pygments_lexer": "ipython3",
   "version": "3.9.12"
  },
  "vscode": {
   "interpreter": {
    "hash": "67555092bde78f01d62c7ad50c905647fa560d4e0d76a0ae431fa4c087689397"
   }
  }
 },
 "nbformat": 4,
 "nbformat_minor": 4
}
