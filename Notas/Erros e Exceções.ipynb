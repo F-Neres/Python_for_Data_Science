{
 "cells": [
  {
   "cell_type": "markdown",
   "id": "72ed4c38",
   "metadata": {},
   "source": [
    "[Python Exception Handling Using *try*, *except* and *finally* statement.](https://www.programiz.com/python-programming/exception-handling)"
   ]
  },
  {
   "attachments": {},
   "cell_type": "markdown",
   "id": "8d4107b6",
   "metadata": {},
   "source": [
    "# Erros"
   ]
  },
  {
   "attachments": {},
   "cell_type": "markdown",
   "id": "6d41022e",
   "metadata": {},
   "source": [
    "Tipos de erros:\n",
    "\n",
    "* SyntaxError: Erros de sintaxe, também conhecidos como erros de parse, ocorrem quando a estrutura de escrita não obedece às exigências do interpretador (como falta de identação, de dois-pontos, de fechar uma coleção)\n",
    "\n",
    "Tipos de exceções:\n",
    "\n",
    "* ZeroDivisionError: Quando se tenta dividir qualquer valor por zero.\n",
    "\n",
    "* NameError: Quando um nome é evocado mas ainda não foi definido\n",
    "\n",
    "* TypeError: Quando é tentado executar operação com um objeto cujo tipo a operação não suporta (como fazer operação matemática com algo que não é calculável, ou iterar um objeto que não é uma coleção).\n",
    "\n",
    "* ValueError: Quando uma operação ou função recebe um argumento que tem o tipo certo, mas um valor inadequado, e a situação não é descrita por uma exceção mais precisa, como IndexError.\n",
    "\n",
    "* IndexError: Quando um índice de alguma sequência está fora do intervalo.\n",
    "\n",
    "https://docs.python.org/pt-br/3/library/exceptions.html#bltin-exceptions"
   ]
  },
  {
   "attachments": {},
   "cell_type": "markdown",
   "id": "16f13d93",
   "metadata": {},
   "source": [
    "Exceções podem ser tratadas. Erros não."
   ]
  },
  {
   "attachments": {},
   "cell_type": "markdown",
   "id": "8615194e",
   "metadata": {},
   "source": [
    "# Tentativa"
   ]
  },
  {
   "attachments": {},
   "cell_type": "markdown",
   "id": "144e6830",
   "metadata": {},
   "source": [
    "Quando ocorre um erro, o interpretador para de executar o código.  \n",
    "\n",
    "Se a possibilidade de um erro já é esperada e deseja-se que o código continue a ser executado, a palavra reservada *try* aciona uma verificação lógica:\n",
    "\n",
    "* Tente:\n",
    "    * Algo que pode dar erro\n",
    "* Se houver erro:\n",
    "    * Faça algo"
   ]
  },
  {
   "cell_type": "code",
   "execution_count": 14,
   "id": "a6f267df",
   "metadata": {},
   "outputs": [],
   "source": [
    "# Como não é possível somar um innteiro a uma string, haveria um erro de tipo\n",
    "# A exceção é acionada uma vez que a tentativa falhou\n",
    "\n",
    "try:\n",
    "    x = 8 + 'S'\n",
    "    print(x)\n",
    "except:\n",
    "    pass\n"
   ]
  },
  {
   "cell_type": "code",
   "execution_count": 15,
   "id": "0de0fbe6",
   "metadata": {},
   "outputs": [
    {
     "name": "stdout",
     "output_type": "stream",
     "text": [
      "8\n"
     ]
    }
   ],
   "source": [
    "try:\n",
    "    print(8)        # Isto é executado\n",
    "    x = 8 + 'S'     # Aqui o erro ocorre\n",
    "    print(x)        # Isto não é executado\n",
    "except:\n",
    "    pass"
   ]
  },
  {
   "cell_type": "code",
   "execution_count": 16,
   "id": "f2c31ecc",
   "metadata": {},
   "outputs": [],
   "source": [
    "# Especificando o tipo de erro\n",
    "\n",
    "try:\n",
    "    x = 8 + 'S'\n",
    "    print(x)\n",
    "except TypeError:\n",
    "    pass"
   ]
  },
  {
   "cell_type": "code",
   "execution_count": 17,
   "id": "411311a4",
   "metadata": {},
   "outputs": [
    {
     "name": "stdout",
     "output_type": "stream",
     "text": [
      "O valor fornecido não pode ser convertido em um número.\n",
      "<class 'str'>\n"
     ]
    }
   ],
   "source": [
    "# else e finally\n",
    "\n",
    "x = input()\n",
    "\n",
    "try:\n",
    "    x = float(x)\n",
    "except ValueError:      # Caso ocorra erro\n",
    "    print(\"O valor fornecido não pode ser convertido em um número.\")\n",
    "else:                   # Caso não ocorra erro\n",
    "    print(\"O valor fornecido foi convertido com sucesso.\")\n",
    "finally:                # Independentemente de erro\n",
    "    print(type(x))\n"
   ]
  },
  {
   "attachments": {},
   "cell_type": "markdown",
   "id": "6ade59a7",
   "metadata": {},
   "source": [
    "# Verificação de existência"
   ]
  },
  {
   "cell_type": "code",
   "execution_count": 18,
   "id": "e8b518ff",
   "metadata": {},
   "outputs": [
    {
     "name": "stdout",
     "output_type": "stream",
     "text": [
      "Objeto não encontrado.\n"
     ]
    }
   ],
   "source": [
    "\n",
    "try:\n",
    "    obj\n",
    "except NameError:\n",
    "    result = 'Objeto não encontrado.'\n",
    "    None\n",
    "else:\n",
    "    result = r'Objeto encontrado.\\n{obj}'\n",
    "print(result)"
   ]
  },
  {
   "cell_type": "code",
   "execution_count": 19,
   "id": "e3241993",
   "metadata": {},
   "outputs": [
    {
     "name": "stdout",
     "output_type": "stream",
     "text": [
      "Objeto não encontrado.\n",
      "\n",
      "Objeto encontrado:\n",
      "Objeto aqui.\n"
     ]
    }
   ],
   "source": [
    "a = 'Objeto aqui.'\n",
    "\n",
    "try: #tente\n",
    "    b #chamar o objeto \"bbb\"\n",
    "except NameError: #se o objeto não foi determinado\n",
    "    print('Objeto não encontrado.')\n",
    "    None #Nada acontece\n",
    "else: #caso contrário\n",
    "    print(f'Objeto encontrado.\\n{b}')\n",
    "\n",
    "print('')\n",
    "\n",
    "try: #tente\n",
    "    a #chamar o objeto \"bbb\"\n",
    "except NameError: #se o objeto não foi determinado\n",
    "    print('Objeto não encontrado.')\n",
    "    None #Nada acontece\n",
    "else: #caso contrário\n",
    "    print(f'Objeto encontrado:\\n{a}')"
   ]
  },
  {
   "cell_type": "code",
   "execution_count": null,
   "id": "95b69904",
   "metadata": {},
   "outputs": [],
   "source": []
  }
 ],
 "metadata": {
  "kernelspec": {
   "display_name": "base",
   "language": "python",
   "name": "python3"
  },
  "language_info": {
   "codemirror_mode": {
    "name": "ipython",
    "version": 3
   },
   "file_extension": ".py",
   "mimetype": "text/x-python",
   "name": "python",
   "nbconvert_exporter": "python",
   "pygments_lexer": "ipython3",
   "version": "3.9.12"
  },
  "vscode": {
   "interpreter": {
    "hash": "67555092bde78f01d62c7ad50c905647fa560d4e0d76a0ae431fa4c087689397"
   }
  }
 },
 "nbformat": 4,
 "nbformat_minor": 5
}
