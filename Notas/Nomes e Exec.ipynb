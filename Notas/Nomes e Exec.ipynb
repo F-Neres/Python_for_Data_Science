{
 "cells": [
  {
   "attachments": {},
   "cell_type": "markdown",
   "metadata": {},
   "source": [
    "# Globals"
   ]
  },
  {
   "cell_type": "code",
   "execution_count": 1,
   "metadata": {},
   "outputs": [
    {
     "name": "stdout",
     "output_type": "stream",
     "text": [
      "The age is: 25\n"
     ]
    }
   ],
   "source": [
    "age = 23\n",
    "\n",
    "globals()['age'] = 25\n",
    "print('The age is:', age)"
   ]
  },
  {
   "cell_type": "code",
   "execution_count": 2,
   "metadata": {},
   "outputs": [
    {
     "name": "stdout",
     "output_type": "stream",
     "text": [
      "There's no Amídala.\n",
      "3\n"
     ]
    }
   ],
   "source": [
    "amídala = 9\n",
    "del amídala\n",
    "\n",
    "try:\n",
    "    amídala\n",
    "except:\n",
    "    print(\"There's no Amídala.\")\n",
    "\n",
    "globals()['amídala'] = 3\n",
    "print(amídala)"
   ]
  }
 ],
 "metadata": {
  "kernelspec": {
   "display_name": "base",
   "language": "python",
   "name": "python3"
  },
  "language_info": {
   "codemirror_mode": {
    "name": "ipython",
    "version": 3
   },
   "file_extension": ".py",
   "mimetype": "text/x-python",
   "name": "python",
   "nbconvert_exporter": "python",
   "pygments_lexer": "ipython3",
   "version": "3.9.12"
  },
  "orig_nbformat": 4,
  "vscode": {
   "interpreter": {
    "hash": "67555092bde78f01d62c7ad50c905647fa560d4e0d76a0ae431fa4c087689397"
   }
  }
 },
 "nbformat": 4,
 "nbformat_minor": 2
}
