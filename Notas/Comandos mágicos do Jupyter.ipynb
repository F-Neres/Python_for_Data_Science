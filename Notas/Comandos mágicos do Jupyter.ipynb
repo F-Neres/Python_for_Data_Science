{
 "cells": [
  {
   "cell_type": "code",
   "execution_count": 17,
   "id": "3f8a1bda",
   "metadata": {},
   "outputs": [
    {
     "ename": "KeyboardInterrupt",
     "evalue": "",
     "output_type": "error",
     "traceback": [
      "\u001b[1;31m---------------------------------------------------------------------------\u001b[0m",
      "\u001b[1;31mKeyboardInterrupt\u001b[0m                         Traceback (most recent call last)",
      "\u001b[1;32m<timed exec>\u001b[0m in \u001b[0;36m<module>\u001b[1;34m\u001b[0m\n",
      "\u001b[1;31mKeyboardInterrupt\u001b[0m: "
     ]
    }
   ],
   "source": [
    "%%time\n",
    "#Calcula o Wall time da célula. Precisa ser colocado no topo da célula.\n",
    "\n",
    "\n",
    "\n",
    "a = 0\n",
    "for i in range(1000000000000000000000000000000):\n",
    "    a=a+1\n",
    "print(a)"
   ]
  },
  {
   "cell_type": "code",
   "execution_count": null,
   "id": "7c0e27df",
   "metadata": {},
   "outputs": [],
   "source": [
    "#Exclamaçao para executar comandos do prompt\n",
    "#pip install: instala determinado pacote\n",
    "\n",
    "!pip install -q pacote"
   ]
  }
 ],
 "metadata": {
  "kernelspec": {
   "display_name": "Python 3",
   "language": "python",
   "name": "python3"
  },
  "language_info": {
   "codemirror_mode": {
    "name": "ipython",
    "version": 3
   },
   "file_extension": ".py",
   "mimetype": "text/x-python",
   "name": "python",
   "nbconvert_exporter": "python",
   "pygments_lexer": "ipython3",
   "version": "3.8.8"
  }
 },
 "nbformat": 4,
 "nbformat_minor": 5
}
