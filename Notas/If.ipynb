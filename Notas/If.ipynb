{
 "cells": [
  {
   "cell_type": "markdown",
   "metadata": {},
   "source": [
    "Dispensa comentários.\n",
    "O comando if é uma forma de dizer que uma ação está condicionada a uma verificação"
   ]
  },
  {
   "cell_type": "code",
   "execution_count": 7,
   "metadata": {},
   "outputs": [
    {
     "name": "stdout",
     "output_type": "stream",
     "text": [
      "8\n"
     ]
    }
   ],
   "source": [
    "# SE Verdadeiro: \n",
    "    # faça isso\n",
    "# Se não:\n",
    "    # faça aquilo\n",
    "\n",
    "if True:\n",
    "    Verdadeiro = 8\n",
    "else:\n",
    "    Verdadeiro = 7\n",
    "    \n",
    "print(Verdadeiro)"
   ]
  },
  {
   "cell_type": "code",
   "execution_count": 3,
   "metadata": {},
   "outputs": [
    {
     "data": {
      "text/plain": [
       "bool"
      ]
     },
     "execution_count": 3,
     "metadata": {},
     "output_type": "execute_result"
    }
   ],
   "source": [
    "# A verificação SEMPRE deve ser de uma variável booliana ou de um objeto que tenha valor booliano.\n",
    "type(Verdadeiro)"
   ]
  },
  {
   "cell_type": "code",
   "execution_count": 13,
   "metadata": {},
   "outputs": [
    {
     "name": "stdout",
     "output_type": "stream",
     "text": [
      "noice\n"
     ]
    }
   ],
   "source": [
    "# Se uma ação não é executada porque uma condicional não a executou, não acusará erro exceto de sintaxe.\n",
    "\n",
    "if Verdadeiro  == 8 :\n",
    "    print('noice')\n",
    "else:\n",
    "    noice"
   ]
  },
  {
   "cell_type": "code",
   "execution_count": 19,
   "metadata": {},
   "outputs": [
    {
     "name": "stdout",
     "output_type": "stream",
     "text": [
      "Verdadeiro é inteiro.\n"
     ]
    }
   ],
   "source": [
    "#Condicional aninhada adiciona verificações sobre verificações.\n",
    "\n",
    "# Verifique. Se bool1==True:\n",
    "    # Verifique. Se bool2==True:\n",
    "        # Faça.\n",
    "    # Se não (bool2==False):\n",
    "        # Faça\n",
    "# Se não (bool1==False):\n",
    "    # Faca\n",
    "\n",
    "if Verdadeiro == 8:\n",
    "    if type(Verdadeiro) == float:\n",
    "        print('Verdadeiro e quebrado.')\n",
    "    else:\n",
    "        print('Verdadeiro e inteiro.')\n",
    "else:\n",
    "    print('Verdadeiro uma ova.')"
   ]
  },
  {
   "cell_type": "code",
   "execution_count": 20,
   "metadata": {},
   "outputs": [
    {
     "name": "stdout",
     "output_type": "stream",
     "text": [
      "Verdadeiro e lógico\n"
     ]
    }
   ],
   "source": [
    "#Usando operadores lógicos\n",
    "\n",
    "if Verdadeiro == 8 and type(Verdadeiro==8)==bool:\n",
    "    print('Verdadeiro e lógico')\n",
    "else:\n",
    "    print('Falso e ilógico')"
   ]
  },
  {
   "cell_type": "markdown",
   "metadata": {},
   "source": [
    "### Elif\n",
    "\n",
    "\"Isso é Python.\"\n",
    "Ajuda a não encavalar if dentro de if."
   ]
  },
  {
   "cell_type": "code",
   "execution_count": 28,
   "metadata": {},
   "outputs": [
    {
     "name": "stdout",
     "output_type": "stream",
     "text": [
      "Verdadeiro uma ova.\n"
     ]
    }
   ],
   "source": [
    "Arroz = 69\n",
    "\n",
    "if Arroz % 70: #Haviaa me esquecido que 'diferente' no Python é o símbolo de porcentagem.\n",
    "    print('Verdadeiro uma ova.')\n",
    "elif type(Arroz) == float:\n",
    "    print('Verdadeiro e quebrado.')\n",
    "else:\n",
    "    print('Verdadeiro e inteiro.')"
   ]
  },
  {
   "cell_type": "markdown",
   "metadata": {},
   "source": [
    "Com 'if' aninhado, o resultado principal fica no 'else' da indentação principal.\n",
    "\n",
    "Com 'elif', o resultado principal fica na primeira verificação."
   ]
  },
  {
   "cell_type": "code",
   "execution_count": null,
   "metadata": {},
   "outputs": [],
   "source": []
  }
 ],
 "metadata": {
  "kernelspec": {
   "display_name": "Python 3",
   "language": "python",
   "name": "python3"
  },
  "language_info": {
   "codemirror_mode": {
    "name": "ipython",
    "version": 3
   },
   "file_extension": ".py",
   "mimetype": "text/x-python",
   "name": "python",
   "nbconvert_exporter": "python",
   "pygments_lexer": "ipython3",
   "version": "3.8.3"
  }
 },
 "nbformat": 4,
 "nbformat_minor": 4
}
