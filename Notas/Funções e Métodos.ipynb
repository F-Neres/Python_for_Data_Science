{
 "cells": [
  {
   "cell_type": "markdown",
   "metadata": {},
   "source": [
    "Funções são aglomerados de códigos, containeres que comportam uma sequência qualquer de linhas."
   ]
  },
  {
   "cell_type": "markdown",
   "metadata": {},
   "source": [
    "O mais importante quando se cria uma função é não esquecer que variávei atribuídas dentro do containner são operadas apenas como locais."
   ]
  },
  {
   "cell_type": "code",
   "execution_count": 13,
   "metadata": {},
   "outputs": [],
   "source": [
    "#Estrutura geral:\n",
    "\n",
    "def nomeDaFuncao(arg1,arg2,arg3):\n",
    "    varNull = arg1+arg2+arg3\n",
    "    print(f' O resultado da soma dos valores {arg1}, {arg2} e {arg3} é {varNull}.')"
   ]
  },
  {
   "cell_type": "code",
   "execution_count": 16,
   "metadata": {
    "scrolled": true
   },
   "outputs": [
    {
     "name": "stdout",
     "output_type": "stream",
     "text": [
      " O resultado da soma dos valores 2, 4 e 7 é 13.\n",
      " O resultado da soma dos valores 8, 8 e 8 é 24.\n",
      " O resultado da soma dos valores 654624, 65432498 e 45654 é 66132776.\n"
     ]
    }
   ],
   "source": [
    "# A aplicação mais conveniente para funções é não precisar repetir códigos parecidos ao longo do script.\n",
    "# Outra vantagem é poder alterar\n",
    "\n",
    "nomeDaFuncao(2,4,7)\n",
    "nomeDaFuncao(8,8,8)\n",
    "nomeDaFuncao(654624,65432498,45654)"
   ]
  },
  {
   "cell_type": "code",
   "execution_count": 1,
   "metadata": {},
   "outputs": [
    {
     "name": "stdout",
     "output_type": "stream",
     "text": [
      "('a', 'b', 'c', 'd')\n"
     ]
    },
    {
     "data": {
      "text/plain": [
       "tuple"
      ]
     },
     "execution_count": 1,
     "metadata": {},
     "output_type": "execute_result"
    }
   ],
   "source": [
    "#Quando o número de parâmetros não é devinido, utiliza-se um asterisco para mostrar que ele pode ser atribuído diversas vezes.\n",
    "#O tipo dessa coleção de parâmetros é uma tupla. No exemplo abaixo, todos os valores dados como var_ formam uma tupla dentro da função.\n",
    "\n",
    "def nowwwhat(*var_):\n",
    "    print(var_)\n",
    "    \n",
    "nowwwhat('a','b','c','d')\n",
    "\n",
    "def nowowhat(*var_):\n",
    "    return var_\n",
    "\n",
    "tipando = nowowhat('a','b','c','d')\n",
    "type(tipando)"
   ]
  },
  {
   "cell_type": "code",
   "execution_count": null,
   "metadata": {},
   "outputs": [],
   "source": [
    "#Múltiplas saídas.\n",
    "\n",
    "def getPerson():\n",
    "    name = \"Leona\"\n",
    "    age = 35\n",
    "    country = \"UK\"\n",
    "    return name,age,country\n",
    "\n",
    "name,age,country = getPerson()\n",
    "print(name)\n",
    "print(age)\n",
    "print(country)"
   ]
  },
  {
   "attachments": {},
   "cell_type": "markdown",
   "metadata": {},
   "source": [
    "# Lambda"
   ]
  },
  {
   "cell_type": "code",
   "execution_count": 18,
   "metadata": {
    "scrolled": true
   },
   "outputs": [
    {
     "name": "stdout",
     "output_type": "stream",
     "text": [
      "True\n",
      "-0.753049234040402 -21.246950765959596\n"
     ]
    },
    {
     "data": {
      "text/plain": [
       "[None]"
      ]
     },
     "execution_count": 18,
     "metadata": {},
     "output_type": "execute_result"
    }
   ],
   "source": [
    "# Função Lambda\n",
    "# Essa função só pode ocupar uma linha. Logo, não permite muita lógica, mas pode ser útil para evitar repetir linhas muito grandes.\n",
    "# Coloque a execução do lâmbida entre colchetes.\n",
    "\n",
    "import math\n",
    "\n",
    "delta_verify = lambda A,B,C: [print(B**2 >= 4*A*C)]\n",
    "segundo_grau = lambda A,B,C: [print((-B +math.sqrt(B**2 - 4*A*C))/2*A,(-B -math.sqrt(B**2 - 4*A*C))/2*A)]\n",
    "\n",
    "delta_verify(2,11,2)\n",
    "segundo_grau(2,11,2)"
   ]
  },
  {
   "cell_type": "code",
   "execution_count": null,
   "metadata": {},
   "outputs": [
    {
     "name": "stdout",
     "output_type": "stream",
     "text": [
      "9\n",
      "27\n"
     ]
    }
   ],
   "source": [
    "#Lista de funções\n",
    "\n",
    "def quadrado(x):\n",
    "    return(x**2)\n",
    "\n",
    "def cubo(x):\n",
    "    return(x**3)\n",
    "\n",
    "funclist=[quadrado,cubo]\n",
    "\n",
    "def aplicador(função,parâmetro):\n",
    "    for func in função:\n",
    "        print(func(parâmetro))\n",
    "    \n",
    "aplicador(funclist,3)"
   ]
  },
  {
   "cell_type": "code",
   "execution_count": null,
   "metadata": {},
   "outputs": [
    {
     "name": "stdout",
     "output_type": "stream",
     "text": [
      "[9, 27]\n",
      "\n",
      "[16, 125]\n",
      "\n",
      "[16, 64]\n",
      "[25, 125]\n",
      "[36, 216]\n",
      "[49, 343]\n",
      "[64, 512]\n",
      "[81, 729]\n"
     ]
    }
   ],
   "source": [
    "#Lambda como aplicador de uma lista de funções\n",
    "\n",
    "def quadrado(x):\n",
    "    return(x**2)\n",
    "\n",
    "def cubo(x):\n",
    "    return(x**3)\n",
    "\n",
    "funclist=[quadrado,cubo]\n",
    "\n",
    "#Abaixo, a variável 3 é dada.\n",
    "aplicação1 = map(lambda y: y(3), funclist)\n",
    "print(list((aplicação1)))\n",
    "\n",
    "print('')\n",
    "\n",
    "listagenérica = [4,5,6,7,8,9]\n",
    "\n",
    "#Aqui, a primeira função é aplicada ao primeiro número da listagenérica, e a segunda função ao segundo número.\n",
    "aplicação2 = map(lambda y,z: y(z), funclist,listagenérica)\n",
    "print(list((aplicação2)))\n",
    "\n",
    "print('')\n",
    "\n",
    "#Como na primeira aplicação, mas o parâmetro numérico é dado externamente pelo for, ao invés de dentro do map.\n",
    "for número in listagenérica:\n",
    "    aplicação3 = map(lambda y: y(número), funclist)\n",
    "    print(list((aplicação3)))"
   ]
  },
  {
   "cell_type": "markdown",
   "metadata": {},
   "source": [
    "# Métodos\n"
   ]
  },
  {
   "cell_type": "code",
   "execution_count": null,
   "metadata": {},
   "outputs": [],
   "source": [
    "#Métodos são adicionados no formato objeto.método(parâmetros)"
   ]
  },
  {
   "cell_type": "code",
   "execution_count": 1,
   "metadata": {
    "scrolled": false
   },
   "outputs": [
    {
     "data": {
      "text/plain": [
       "['__class__',\n",
       " '__contains__',\n",
       " '__delattr__',\n",
       " '__delitem__',\n",
       " '__dir__',\n",
       " '__doc__',\n",
       " '__eq__',\n",
       " '__format__',\n",
       " '__ge__',\n",
       " '__getattribute__',\n",
       " '__getitem__',\n",
       " '__gt__',\n",
       " '__hash__',\n",
       " '__init__',\n",
       " '__init_subclass__',\n",
       " '__iter__',\n",
       " '__le__',\n",
       " '__len__',\n",
       " '__lt__',\n",
       " '__ne__',\n",
       " '__new__',\n",
       " '__reduce__',\n",
       " '__reduce_ex__',\n",
       " '__repr__',\n",
       " '__reversed__',\n",
       " '__setattr__',\n",
       " '__setitem__',\n",
       " '__sizeof__',\n",
       " '__str__',\n",
       " '__subclasshook__',\n",
       " 'clear',\n",
       " 'copy',\n",
       " 'fromkeys',\n",
       " 'get',\n",
       " 'items',\n",
       " 'keys',\n",
       " 'pop',\n",
       " 'popitem',\n",
       " 'setdefault',\n",
       " 'update',\n",
       " 'values']"
      ]
     },
     "execution_count": 1,
     "metadata": {},
     "output_type": "execute_result"
    }
   ],
   "source": [
    "#Métodos disponíveis para uma variável.\n",
    "\n",
    "ling = {'k1':'Python','k2':'R','k3':'Scala'}\n",
    "dir(ling)"
   ]
  },
  {
   "cell_type": "code",
   "execution_count": 10,
   "metadata": {
    "scrolled": false
   },
   "outputs": [
    {
     "name": "stdout",
     "output_type": "stream",
     "text": [
      "Help on class dict in module builtins:\n",
      "\n",
      "class dict(object)\n",
      " |  dict() -> new empty dictionary\n",
      " |  dict(mapping) -> new dictionary initialized from a mapping object's\n",
      " |      (key, value) pairs\n",
      " |  dict(iterable) -> new dictionary initialized as if via:\n",
      " |      d = {}\n",
      " |      for k, v in iterable:\n",
      " |          d[k] = v\n",
      " |  dict(**kwargs) -> new dictionary initialized with the name=value pairs\n",
      " |      in the keyword argument list.  For example:  dict(one=1, two=2)\n",
      " |  \n",
      " |  Built-in subclasses:\n",
      " |      StgDict\n",
      " |  \n",
      " |  Methods defined here:\n",
      " |  \n",
      " |  __contains__(self, key, /)\n",
      " |      True if the dictionary has the specified key, else False.\n",
      " |  \n",
      " |  __delitem__(self, key, /)\n",
      " |      Delete self[key].\n",
      " |  \n",
      " |  __eq__(self, value, /)\n",
      " |      Return self==value.\n",
      " |  \n",
      " |  __ge__(self, value, /)\n",
      " |      Return self>=value.\n",
      " |  \n",
      " |  __getattribute__(self, name, /)\n",
      " |      Return getattr(self, name).\n",
      " |  \n",
      " |  __getitem__(...)\n",
      " |      x.__getitem__(y) <==> x[y]\n",
      " |  \n",
      " |  __gt__(self, value, /)\n",
      " |      Return self>value.\n",
      " |  \n",
      " |  __init__(self, /, *args, **kwargs)\n",
      " |      Initialize self.  See help(type(self)) for accurate signature.\n",
      " |  \n",
      " |  __iter__(self, /)\n",
      " |      Implement iter(self).\n",
      " |  \n",
      " |  __le__(self, value, /)\n",
      " |      Return self<=value.\n",
      " |  \n",
      " |  __len__(self, /)\n",
      " |      Return len(self).\n",
      " |  \n",
      " |  __lt__(self, value, /)\n",
      " |      Return self<value.\n",
      " |  \n",
      " |  __ne__(self, value, /)\n",
      " |      Return self!=value.\n",
      " |  \n",
      " |  __repr__(self, /)\n",
      " |      Return repr(self).\n",
      " |  \n",
      " |  __reversed__(self, /)\n",
      " |      Return a reverse iterator over the dict keys.\n",
      " |  \n",
      " |  __setitem__(self, key, value, /)\n",
      " |      Set self[key] to value.\n",
      " |  \n",
      " |  __sizeof__(...)\n",
      " |      D.__sizeof__() -> size of D in memory, in bytes\n",
      " |  \n",
      " |  clear(...)\n",
      " |      D.clear() -> None.  Remove all items from D.\n",
      " |  \n",
      " |  copy(...)\n",
      " |      D.copy() -> a shallow copy of D\n",
      " |  \n",
      " |  get(self, key, default=None, /)\n",
      " |      Return the value for key if key is in the dictionary, else default.\n",
      " |  \n",
      " |  items(...)\n",
      " |      D.items() -> a set-like object providing a view on D's items\n",
      " |  \n",
      " |  keys(...)\n",
      " |      D.keys() -> a set-like object providing a view on D's keys\n",
      " |  \n",
      " |  pop(...)\n",
      " |      D.pop(k[,d]) -> v, remove specified key and return the corresponding value.\n",
      " |      If key is not found, d is returned if given, otherwise KeyError is raised\n",
      " |  \n",
      " |  popitem(self, /)\n",
      " |      Remove and return a (key, value) pair as a 2-tuple.\n",
      " |      \n",
      " |      Pairs are returned in LIFO (last-in, first-out) order.\n",
      " |      Raises KeyError if the dict is empty.\n",
      " |  \n",
      " |  setdefault(self, key, default=None, /)\n",
      " |      Insert key with a value of default if key is not in the dictionary.\n",
      " |      \n",
      " |      Return the value for key if key is in the dictionary, else default.\n",
      " |  \n",
      " |  update(...)\n",
      " |      D.update([E, ]**F) -> None.  Update D from dict/iterable E and F.\n",
      " |      If E is present and has a .keys() method, then does:  for k in E: D[k] = E[k]\n",
      " |      If E is present and lacks a .keys() method, then does:  for k, v in E: D[k] = v\n",
      " |      In either case, this is followed by: for k in F:  D[k] = F[k]\n",
      " |  \n",
      " |  values(...)\n",
      " |      D.values() -> an object providing a view on D's values\n",
      " |  \n",
      " |  ----------------------------------------------------------------------\n",
      " |  Class methods defined here:\n",
      " |  \n",
      " |  fromkeys(iterable, value=None, /) from builtins.type\n",
      " |      Create a new dictionary with keys from iterable and values set to value.\n",
      " |  \n",
      " |  ----------------------------------------------------------------------\n",
      " |  Static methods defined here:\n",
      " |  \n",
      " |  __new__(*args, **kwargs) from builtins.type\n",
      " |      Create and return a new object.  See help(type) for accurate signature.\n",
      " |  \n",
      " |  ----------------------------------------------------------------------\n",
      " |  Data and other attributes defined here:\n",
      " |  \n",
      " |  __hash__ = None\n",
      "\n"
     ]
    }
   ],
   "source": [
    "#Descobrindo o que um método faz.\n",
    "\n",
    "help(ling.__class__)"
   ]
  },
  {
   "cell_type": "markdown",
   "metadata": {},
   "source": [
    "# Saídas e entradas de variáveis globais"
   ]
  },
  {
   "cell_type": "code",
   "execution_count": 5,
   "metadata": {},
   "outputs": [
    {
     "name": "stdout",
     "output_type": "stream",
     "text": [
      "insira um número: 1000\n",
      "insira outro número: 1000\n",
      "Número maior que 10\n",
      "Resolvemos isso para ti\n",
      "que exagero! Você será penalizado.\n",
      "890\n",
      "900\n"
     ]
    }
   ],
   "source": [
    "#Para utilizar uma variável de fora da função, antes é preciso criá-la como Global dentro da função.\n",
    "\n",
    "var1 = int(input('insira um número: '))\n",
    "var2 = int(input('insira outro número: '))\n",
    "\n",
    "def funfunct():\n",
    "    global var1\n",
    "    global var2\n",
    "    if var1 > 10:\n",
    "        print('Número maior que 10')\n",
    "        var1 -=10\n",
    "        print('Resolvemos isso para ti')\n",
    "    else:\n",
    "        print('Número menor que 10. Tudo bem')\n",
    "    if var2 > 100:\n",
    "        print('que exagero! Você será penalizado.')\n",
    "        var2 -= 100\n",
    "        var1 -= 100\n",
    "\n",
    "# As únicas ações que serão executadas serão as informações abaixo\n",
    "\n",
    "funfunct()\n",
    "\n",
    "print(var1)\n",
    "\n",
    "print(var2)"
   ]
  },
  {
   "cell_type": "code",
   "execution_count": 7,
   "metadata": {},
   "outputs": [
    {
     "name": "stdout",
     "output_type": "stream",
     "text": [
      "insira um número: 120\n",
      "insira outro número: 120\n",
      "Número maior que 10\n",
      "Resolvemos isso para ti\n",
      "Que exagero! Você será penalizado.\n",
      "10\n",
      "20\n"
     ]
    }
   ],
   "source": [
    "def functfun():\n",
    "    global var3\n",
    "    global var4\n",
    "    if var3 > 10:\n",
    "        print('Número maior que 10')\n",
    "        var3 -=10\n",
    "        print('Resolvemos isso para ti')\n",
    "    else:\n",
    "        print('Número menor que 10. Tudo bem')\n",
    "    if var4 > 100:\n",
    "        print('Que exagero! Você será penalizado.')\n",
    "        var3 -= 100\n",
    "        var4 -= 100\n",
    "\n",
    "# As únicas ações que serão executadas serão as informações abaixo\n",
    "# A criação da função não busca essas variáveis, apenas a aplicação da função o faz\n",
    "\n",
    "var3 = int(input('insira um número: '))\n",
    "var4 = int(input('insira outro número: '))\n",
    "\n",
    "functfun()\n",
    "\n",
    "print(var3)\n",
    "\n",
    "print(var4)"
   ]
  },
  {
   "cell_type": "code",
   "execution_count": null,
   "metadata": {},
   "outputs": [],
   "source": []
  },
  {
   "attachments": {},
   "cell_type": "markdown",
   "metadata": {},
   "source": [
    "# Exemplos de Função"
   ]
  },
  {
   "cell_type": "code",
   "execution_count": null,
   "metadata": {},
   "outputs": [],
   "source": [
    "# São definidos o nome da função e quais parâmetros a função utiliza\n",
    "def sanitised_input(prompt, type_=None, min_=None, max_=None, range_=None):\n",
    "    if min_ is not None and max_ is not None and max_ < min_: #Condicional verificando parâmetros.\n",
    "        raise ValueError(\"min_ must be less than or equal to max_.\") #Mensagem de erro na utilização da função.\n",
    "    while True: #Início do loop.\n",
    "        ui = input(prompt) #Variável dada pelo usuário. Mensagem é a definida no parâmetro quando usada.\n",
    "        if type_ is not None: #Só verifica se um tipo foi especificado no parâmetro.\n",
    "            try: # Utiliza-se a tentativa porque erros são previstos.\n",
    "                ui = type_(ui) #A utilizada anteriormente passa a ser ela mesma transformada no tipo dado como parâmetro.\n",
    "            except ValueError: #Se der erro...\n",
    "                print(\"Input type must be {0}.\".format(type_.__name__)) #Na mensagem há parte do texto que é modular, preenchida pelo nome do tipo dado no parâmetro.\n",
    "                continue #Retorne para o 'while true'\n",
    "        if max_ is not None and ui > max_: # Verifica se o input é maior que o máximo, mas só se o máximo é determinado.\n",
    "            print(\"Input must be less than or equal to {0}.\".format(max_)) # Essa mensagem utiliza uma variável dada no uso da função\n",
    "        elif min_ is not None and ui < min_: #Verifica se o input é menor que o mínimo, mas só se o mínimo é determinado\n",
    "            print(\"Input must be greater than or equal to {0}.\".format(min_)) # Essa mensagem utiliza uma variável dada no uso da função\n",
    "        elif range_ is not None and ui not in range_: #Verifica se o input está dentro do range, se foi designado.\n",
    "            if isinstance(range_, range): #Há dois tipos de range. Um deles é intervalo de valores - instance.\n",
    "                template = \"Input must be between {0.start} and {0.stop}.\"\n",
    "                print(template.format(range_))\n",
    "            else:\n",
    "                template = \"Input must be {0}.\"\n",
    "                if len(range_) == 1:\n",
    "                    print(template.format(*range_))\n",
    "                else:\n",
    "                    expected = \" or \".join((\n",
    "                        \", \".join(str(x) for x in range_[:-1]),\n",
    "                        str(range_[-1])\n",
    "                    ))\n",
    "                    print(template.format(expected))\n",
    "        else:\n",
    "            return ui #Deve ser para prosseguir o código considerando \n",
    "\n",
    "#Não verifica se o tipo no parâmetro é mesmo um tipo válido.\n",
    "# Suponho que o comando .format estipule o que {0} deve aparentar.\n",
    "# type.__name__ deve buscar o nome do tipo designado em \"type_\"\n",
    "# "
   ]
  },
  {
   "cell_type": "code",
   "execution_count": null,
   "metadata": {},
   "outputs": [
    {
     "name": "stdout",
     "output_type": "stream",
     "text": [
      "Enter your age: NÃO SEI\n",
      "Input type must be int.\n",
      "Enter your age: 8\n",
      "Enter your answer: C\n"
     ]
    }
   ],
   "source": [
    "age = sanitised_input(\"Enter your age: \", int, 1, 101)\n",
    "answer = sanitised_input(\"Enter your answer: \", str.lower, range_=('a', 'b', 'c', 'd'))"
   ]
  }
 ],
 "metadata": {
  "kernelspec": {
   "display_name": "base",
   "language": "python",
   "name": "python3"
  },
  "language_info": {
   "codemirror_mode": {
    "name": "ipython",
    "version": 3
   },
   "file_extension": ".py",
   "mimetype": "text/x-python",
   "name": "python",
   "nbconvert_exporter": "python",
   "pygments_lexer": "ipython3",
   "version": "3.9.12"
  },
  "vscode": {
   "interpreter": {
    "hash": "67555092bde78f01d62c7ad50c905647fa560d4e0d76a0ae431fa4c087689397"
   }
  }
 },
 "nbformat": 4,
 "nbformat_minor": 4
}
