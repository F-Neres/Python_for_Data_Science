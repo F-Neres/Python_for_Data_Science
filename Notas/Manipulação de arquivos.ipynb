{
 "cells": [
  {
   "attachments": {},
   "cell_type": "markdown",
   "metadata": {},
   "source": [
    "# Open"
   ]
  },
  {
   "attachments": {},
   "cell_type": "markdown",
   "metadata": {},
   "source": [
    "Mode:\n",
    "* 'r': abre para leitura (padrão)\n",
    "* 'c': abre para gravação, truncando o arquivo primeiro\n",
    "* 'x': abre para criação exclusiva, falhando se o arquivo já existir\n",
    "* 'a': abre para escrita, anexando ao final do arquivo se existir\n",
    "* 'b': modo binário\n",
    "* 't': modo de texto (padrão)\n",
    "* '+': abre para atualização (leitura e escrita)"
   ]
  },
  {
   "attachments": {},
   "cell_type": "markdown",
   "metadata": {},
   "source": [
    "O modo limita os métodos que podem ser executados com o objeto de abertura de arquivo. Por exemplo o modo 'r' não permite escrever, como o modo 'w' não permite leitura."
   ]
  },
  {
   "cell_type": "markdown",
   "metadata": {},
   "source": [
    "## Leitura de arquivo"
   ]
  },
  {
   "cell_type": "code",
   "execution_count": 44,
   "metadata": {},
   "outputs": [
    {
     "name": "stdout",
     "output_type": "stream",
     "text": [
      "<_io.TextIOWrapper name='C:/Users/fnsb.DESKTOP-7T10APS/Documents/MeusProjetos/Python/NotasPessoais-Python/Notas/ArquivosParalelos/Arquivo 1.txt' mode='r' encoding='UTF-8'>\n"
     ]
    }
   ],
   "source": [
    "# Se estiver utilizando o Windows, não esqueça de trocar as contrabarras por barras\n",
    "arq1 = open(\"C:/Users/fnsb.DESKTOP-7T10APS/Documents/MeusProjetos/Python/NotasPessoais-Python/Notas/ArquivosParalelos/Arquivo 1.txt\", \"r\")\n",
    "\n",
    "print(arq1)"
   ]
  },
  {
   "cell_type": "code",
   "execution_count": 45,
   "metadata": {},
   "outputs": [
    {
     "name": "stdout",
     "output_type": "stream",
     "text": [
      "<_io.TextIOWrapper name='ArquivosParalelos/Arquivo 1.txt' mode='r' encoding='UTF-8'>\n"
     ]
    },
    {
     "data": {
      "text/plain": [
       "False"
      ]
     },
     "execution_count": 45,
     "metadata": {},
     "output_type": "execute_result"
    }
   ],
   "source": [
    "# É possível navegar a partir da pasta onde o código está rodando.\n",
    "\n",
    "arq1_ = open(\"ArquivosParalelos/Arquivo 1.txt\", \"r\")\n",
    "\n",
    "print(arq1_)\n",
    "\n",
    "arq1 == arq1_\n",
    "\n",
    "# Embora ambos os objetos façam referência ao mesmo arquivo, ainda não objetos diferentes."
   ]
  },
  {
   "attachments": {},
   "cell_type": "markdown",
   "metadata": {},
   "source": [
    "Se o arquivo não existe, ele é criado."
   ]
  },
  {
   "cell_type": "code",
   "execution_count": 46,
   "metadata": {},
   "outputs": [
    {
     "name": "stdout",
     "output_type": "stream",
     "text": [
      "Se você está lendo esta mensagem, você executou com sucesso o procedimento de leitura de arquivo.\n",
      "<class 'str'>\n"
     ]
    }
   ],
   "source": [
    "# Retorna uma string com o conteúdo do arquivo (independentemente do formato)\n",
    "\n",
    "print(arq1.read())\n",
    "print(type(arq1.read()))"
   ]
  },
  {
   "cell_type": "code",
   "execution_count": 47,
   "metadata": {},
   "outputs": [
    {
     "name": "stdout",
     "output_type": "stream",
     "text": [
      "100\n"
     ]
    }
   ],
   "source": [
    "# número de caracteres no arquivo\n",
    "print(arq1.tell())"
   ]
  },
  {
   "cell_type": "code",
   "execution_count": 48,
   "metadata": {},
   "outputs": [
    {
     "name": "stdout",
     "output_type": "stream",
     "text": [
      "\n"
     ]
    },
    {
     "data": {
      "text/plain": [
       "0"
      ]
     },
     "execution_count": 48,
     "metadata": {},
     "output_type": "execute_result"
    }
   ],
   "source": [
    "# Após executar a função 'read', o cursor é movido para o fim o arquivo. Se outra leitura for demandada, nada será impresso, pois todo o texto teria ficado para trás\n",
    "print(arq1.read())\n",
    "\n",
    "# O método 'seek' move o cursor para determinada coordenada do documento\n",
    "arq1.seek(0,0)"
   ]
  },
  {
   "cell_type": "code",
   "execution_count": 49,
   "metadata": {},
   "outputs": [
    {
     "data": {
      "text/plain": [
       "'Se você está lendo esta'"
      ]
     },
     "execution_count": 49,
     "metadata": {},
     "output_type": "execute_result"
    }
   ],
   "source": [
    "# Ler um número determinado de caracteres.\n",
    "\n",
    "arq1.read(23)\n",
    "\n",
    "# Não se esqueça de que o cursor irá parar depois do último caractere lido."
   ]
  },
  {
   "attachments": {},
   "cell_type": "markdown",
   "metadata": {},
   "source": [
    "## Escrita em arquivo"
   ]
  },
  {
   "attachments": {},
   "cell_type": "markdown",
   "metadata": {},
   "source": [
    "O modo 'w' sobrescreve o arquivo."
   ]
  },
  {
   "cell_type": "code",
   "execution_count": 50,
   "metadata": {},
   "outputs": [],
   "source": [
    "# Moda o método\n",
    "# Se o arquivo não existia, ele é criado\n",
    "\n",
    "arq2 = open(\"ArquivosParalelos/Arquivo 2.txt\", \"w\")"
   ]
  },
  {
   "cell_type": "code",
   "execution_count": 51,
   "metadata": {},
   "outputs": [
    {
     "data": {
      "text/plain": [
       "33"
      ]
     },
     "execution_count": 51,
     "metadata": {},
     "output_type": "execute_result"
    }
   ],
   "source": [
    "# O método 'write' sobrescreve o arquivo\n",
    "\n",
    "arq2.write('Aprendendo a programar em Python.')"
   ]
  },
  {
   "attachments": {},
   "cell_type": "markdown",
   "metadata": {},
   "source": [
    "O modo 'a' adiciona texto ao arquivo."
   ]
  },
  {
   "cell_type": "code",
   "execution_count": 52,
   "metadata": {},
   "outputs": [],
   "source": [
    "arq3 = open(\"ArquivosParalelos/Arquivo 2.txt\", \"a\")"
   ]
  },
  {
   "cell_type": "code",
   "execution_count": 53,
   "metadata": {},
   "outputs": [
    {
     "data": {
      "text/plain": [
       "54"
      ]
     },
     "execution_count": 53,
     "metadata": {},
     "output_type": "execute_result"
    }
   ],
   "source": [
    "arq3.write(' E torcendo para que isso mude meu futuro para melhor.')"
   ]
  },
  {
   "attachments": {},
   "cell_type": "markdown",
   "metadata": {},
   "source": [
    "## Fechar"
   ]
  },
  {
   "attachments": {},
   "cell_type": "markdown",
   "metadata": {},
   "source": [
    "Fechar o arquivo é importante, para evitar problemas de gravação do arquivo ou conflitos com outros programas."
   ]
  },
  {
   "cell_type": "code",
   "execution_count": 54,
   "metadata": {},
   "outputs": [
    {
     "name": "stdout",
     "output_type": "stream",
     "text": [
      "False\n",
      "False\n",
      "True\n",
      "True\n"
     ]
    }
   ],
   "source": [
    "print(arq2.closed)\n",
    "print(arq3.closed)\n",
    "\n",
    "arq2.close()\n",
    "arq3.close()\n",
    "\n",
    "print(arq2.closed)\n",
    "print(arq3.closed)\n"
   ]
  },
  {
   "attachments": {},
   "cell_type": "markdown",
   "metadata": {},
   "source": [
    "## With"
   ]
  },
  {
   "cell_type": "markdown",
   "metadata": {},
   "source": [
    "Abrir um arquivo com *with* dispensa o uso do método *close*. A manipulação do arquivo se encera quando a clausula termina."
   ]
  },
  {
   "cell_type": "code",
   "execution_count": null,
   "metadata": {},
   "outputs": [
    {
     "name": "stdout",
     "output_type": "stream",
     "text": [
      "Se você está lendo esta mensagem, você executou com sucesso o procedimento de leitura de arquivo.\n"
     ]
    }
   ],
   "source": [
    "with open(\"ArquivosParalelos/Arquivo 1.txt\", \"r\") as arquivo:\n",
    "    print(arquivo.read())"
   ]
  },
  {
   "cell_type": "code",
   "execution_count": null,
   "metadata": {},
   "outputs": [
    {
     "data": {
      "text/plain": [
       "True"
      ]
     },
     "metadata": {},
     "output_type": "display_data"
    }
   ],
   "source": [
    "arquivo.closed"
   ]
  },
  {
   "cell_type": "code",
   "execution_count": 65,
   "metadata": {},
   "outputs": [
    {
     "name": "stdout",
     "output_type": "stream",
     "text": [
      "Se você está lendo esta mensagem, você executou com sucesso o procedimento de leitura de arquivo.\n",
      "O arquivo ainda está aberto\n",
      "O arquivo ainda está aberto\n"
     ]
    }
   ],
   "source": [
    "# Inserir a abertura dentro de um função ou atribuir o resultado da leiura sem criar um objeto também garante o fechamento\n",
    "\n",
    "print(open(\"ArquivosParalelos/Arquivo 1.txt\", \"r\").read())\n",
    "\n",
    "import os\n",
    "\n",
    "try:\n",
    "    os.rename(\"ArquivosParalelos/Arquivo 1.txt\",\"ArquivosParalelos/Arquivo_1.txt\")\n",
    "    os.rename(\"ArquivosParalelos/Arquivo_1.txt\",\"ArquivosParalelos/Arquivo 1.txt\")\n",
    "except OSError:\n",
    "    print(\"O arquivo ainda está aberto\")\n",
    "\n",
    "open(\"ArquivosParalelos/Arquivo 1.txt\", \"r\").close()\n",
    "\n",
    "try:\n",
    "    os.rename(\"ArquivosParalelos/Arquivo 1.txt\",\"ArquivosParalelos/Arquivo_1.txt\")\n",
    "    os.rename(\"ArquivosParalelos/Arquivo_1.txt\",\"ArquivosParalelos/Arquivo 1.txt\")\n",
    "except OSError:\n",
    "    print(\"O arquivo ainda está aberto\")"
   ]
  },
  {
   "attachments": {},
   "cell_type": "markdown",
   "metadata": {},
   "source": [
    "### Transferência de conteúdo de um arquivo a outro."
   ]
  },
  {
   "cell_type": "code",
   "execution_count": 1,
   "metadata": {},
   "outputs": [],
   "source": [
    "with open('ArquivosParalelos/Arquivo 1.txt','r') as arqRead:\n",
    "    Read = arqRead.read()\n",
    "    with open('ArquivosParalelos/Arquivo Cópia.txt','w') as arqWrite:\n",
    "        arqWrite.write(Read)"
   ]
  },
  {
   "cell_type": "code",
   "execution_count": 2,
   "metadata": {},
   "outputs": [
    {
     "data": {
      "text/plain": [
       "97"
      ]
     },
     "execution_count": 2,
     "metadata": {},
     "output_type": "execute_result"
    }
   ],
   "source": [
    "# Incluindo de baixo para cima, tudo em uma única linha.\n",
    "\n",
    "open('ArquivosParalelos/Arquivo Cópia.txt','w').write(open('ArquivosParalelos/Arquivo 1.txt','r').read())"
   ]
  },
  {
   "attachments": {},
   "cell_type": "markdown",
   "metadata": {},
   "source": [
    "## Arquivo CSV"
   ]
  },
  {
   "cell_type": "code",
   "execution_count": 55,
   "metadata": {},
   "outputs": [],
   "source": [
    "Iris = open(\"ArquivosParalelos/iris.csv\", \"r\").read()"
   ]
  },
  {
   "cell_type": "code",
   "execution_count": 56,
   "metadata": {},
   "outputs": [
    {
     "name": "stdout",
     "output_type": "stream",
     "text": [
      "sepal_length,sepal_width,petal_length,petal_width,species\n",
      "5.1,3.5,1.4,0.2,setosa\n",
      "4.9,3,1.4,0.2,setosa\n",
      "4.7,3.2,1.3,0.2,setosa\n",
      "4.6,3.1,1.5,0.2,setosa\n",
      "5,3.6,1.4,0.2,setosa\n",
      "5.4,3.9,1.7,0.4,setosa\n",
      "4.6,3.4,1.4,0.3,setosa\n",
      "5,3.4,1.5,0.2,setosa\n",
      "4.4,2.9,1.4,0.2,setosa\n",
      "4.9,3.1,1.5,0.1,setosa\n",
      "5.4,3.7,1.5,0.2,setosa\n",
      "4.8,3.4,1.6,0.2,setosa\n",
      "4.8,3,1.4,0.1,setosa\n",
      "4.3,3,1.1,0.1,setosa\n",
      "5.8,4,1.2,0.2,setosa\n",
      "5.7,4.4,1.5,0.4,setosa\n",
      "5.4,3.9,1.3,0.4,setosa\n",
      "5.1,3.5,1.4,0.3,setosa\n",
      "5.7,3.8,1.7,0.3,setosa\n",
      "5.1,3.8,1.5,0.3,setosa\n",
      "5.4,3.4,1.7,0.2,setosa\n",
      "5.1,3.7,1.5,0.4,setosa\n",
      "4.6,3.6,1,0.2,setosa\n",
      "5.1,3.3,1.7,0.5,setosa\n",
      "4.8,3.4,1.9,0.2,setosa\n",
      "5,3,1.6,0.2,setosa\n",
      "5,3.4,1.6,0.4,setosa\n",
      "5.2,3.5,1.5,0.2,setosa\n",
      "5.2,3.4,1.4,0.2,setosa\n",
      "4.7,3.2,1.6,0.2,setosa\n",
      "4.8,3.1,1.6,0.2,setosa\n",
      "5.4,3.4,1.5,0.4,setosa\n",
      "5.2,4.1,1.5,0.1,setosa\n",
      "5.5,4.2,1.4,0.2,setosa\n",
      "4.9,3.1,1.5,0.1,setosa\n",
      "5,3.2,1.2,0.2,setosa\n",
      "5.5,3.5,1.3,0.2,setosa\n",
      "4.9,3.1,1.5,0.1,setosa\n",
      "4.4,3,1.3,0.2,setosa\n",
      "5.1,3.4,1.5,0.2,setosa\n",
      "5,3.5,1.3,0.3,setosa\n",
      "4.5,2.3,1.3,0.3,setosa\n",
      "4.4,3.2,1.3,0.2,setosa\n",
      "5,3.5,1.6,0.6,setosa\n",
      "5.1,3.8,1.9,0.4,setosa\n",
      "4.8,3,1.4,0.3,setosa\n",
      "5.1,3.8,1.6,0.2,setosa\n",
      "4.6,3.2,1.4,0.2,setosa\n",
      "5.3,3.7,1.5,0.2,setosa\n",
      "5,3.3,1.4,0.2,setosa\n",
      "7,3.2,4.7,1.4,versicolor\n",
      "6.4,3.2,4.5,1.5,versicolor\n",
      "6.9,3.1,4.9,1.5,versicolor\n",
      "5.5,2.3,4,1.3,versicolor\n",
      "6.5,2.8,4.6,1.5,versicolor\n",
      "5.7,2.8,4.5,1.3,versicolor\n",
      "6.3,3.3,4.7,1.6,versicolor\n",
      "4.9,2.4,3.3,1,versicolor\n",
      "6.6,2.9,4.6,1.3,versicolor\n",
      "5.2,2.7,3.9,1.4,versicolor\n",
      "5,2,3.5,1,versicolor\n",
      "5.9,3,4.2,1.5,versicolor\n",
      "6,2.2,4,1,versicolor\n",
      "6.1,2.9,4.7,1.4,versicolor\n",
      "5.6,2.9,3.6,1.3,versicolor\n",
      "6.7,3.1,4.4,1.4,versicolor\n",
      "5.6,3,4.5,1.5,versicolor\n",
      "5.8,2.7,4.1,1,versicolor\n",
      "6.2,2.2,4.5,1.5,versicolor\n",
      "5.6,2.5,3.9,1.1,versicolor\n",
      "5.9,3.2,4.8,1.8,versicolor\n",
      "6.1,2.8,4,1.3,versicolor\n",
      "6.3,2.5,4.9,1.5,versicolor\n",
      "6.1,2.8,4.7,1.2,versicolor\n",
      "6.4,2.9,4.3,1.3,versicolor\n",
      "6.6,3,4.4,1.4,versicolor\n",
      "6.8,2.8,4.8,1.4,versicolor\n",
      "6.7,3,5,1.7,versicolor\n",
      "6,2.9,4.5,1.5,versicolor\n",
      "5.7,2.6,3.5,1,versicolor\n",
      "5.5,2.4,3.8,1.1,versicolor\n",
      "5.5,2.4,3.7,1,versicolor\n",
      "5.8,2.7,3.9,1.2,versicolor\n",
      "6,2.7,5.1,1.6,versicolor\n",
      "5.4,3,4.5,1.5,versicolor\n",
      "6,3.4,4.5,1.6,versicolor\n",
      "6.7,3.1,4.7,1.5,versicolor\n",
      "6.3,2.3,4.4,1.3,versicolor\n",
      "5.6,3,4.1,1.3,versicolor\n",
      "5.5,2.5,4,1.3,versicolor\n",
      "5.5,2.6,4.4,1.2,versicolor\n",
      "6.1,3,4.6,1.4,versicolor\n",
      "5.8,2.6,4,1.2,versicolor\n",
      "5,2.3,3.3,1,versicolor\n",
      "5.6,2.7,4.2,1.3,versicolor\n",
      "5.7,3,4.2,1.2,versicolor\n",
      "5.7,2.9,4.2,1.3,versicolor\n",
      "6.2,2.9,4.3,1.3,versicolor\n",
      "5.1,2.5,3,1.1,versicolor\n",
      "5.7,2.8,4.1,1.3,versicolor\n",
      "6.3,3.3,6,2.5,virginica\n",
      "5.8,2.7,5.1,1.9,virginica\n",
      "7.1,3,5.9,2.1,virginica\n",
      "6.3,2.9,5.6,1.8,virginica\n",
      "6.5,3,5.8,2.2,virginica\n",
      "7.6,3,6.6,2.1,virginica\n",
      "4.9,2.5,4.5,1.7,virginica\n",
      "7.3,2.9,6.3,1.8,virginica\n",
      "6.7,2.5,5.8,1.8,virginica\n",
      "7.2,3.6,6.1,2.5,virginica\n",
      "6.5,3.2,5.1,2,virginica\n",
      "6.4,2.7,5.3,1.9,virginica\n",
      "6.8,3,5.5,2.1,virginica\n",
      "5.7,2.5,5,2,virginica\n",
      "5.8,2.8,5.1,2.4,virginica\n",
      "6.4,3.2,5.3,2.3,virginica\n",
      "6.5,3,5.5,1.8,virginica\n",
      "7.7,3.8,6.7,2.2,virginica\n",
      "7.7,2.6,6.9,2.3,virginica\n",
      "6,2.2,5,1.5,virginica\n",
      "6.9,3.2,5.7,2.3,virginica\n",
      "5.6,2.8,4.9,2,virginica\n",
      "7.7,2.8,6.7,2,virginica\n",
      "6.3,2.7,4.9,1.8,virginica\n",
      "6.7,3.3,5.7,2.1,virginica\n",
      "7.2,3.2,6,1.8,virginica\n",
      "6.2,2.8,4.8,1.8,virginica\n",
      "6.1,3,4.9,1.8,virginica\n",
      "6.4,2.8,5.6,2.1,virginica\n",
      "7.2,3,5.8,1.6,virginica\n",
      "7.4,2.8,6.1,1.9,virginica\n",
      "7.9,3.8,6.4,2,virginica\n",
      "6.4,2.8,5.6,2.2,virginica\n",
      "6.3,2.8,5.1,1.5,virginica\n",
      "6.1,2.6,5.6,1.4,virginica\n",
      "7.7,3,6.1,2.3,virginica\n",
      "6.3,3.4,5.6,2.4,virginica\n",
      "6.4,3.1,5.5,1.8,virginica\n",
      "6,3,4.8,1.8,virginica\n",
      "6.9,3.1,5.4,2.1,virginica\n",
      "6.7,3.1,5.6,2.4,virginica\n",
      "6.9,3.1,5.1,2.3,virginica\n",
      "5.8,2.7,5.1,1.9,virginica\n",
      "6.8,3.2,5.9,2.3,virginica\n",
      "6.7,3.3,5.7,2.5,virginica\n",
      "6.7,3,5.2,2.3,virginica\n",
      "6.3,2.5,5,1.9,virginica\n",
      "6.5,3,5.2,2,virginica\n",
      "6.2,3.4,5.4,2.3,virginica\n",
      "5.9,3,5.1,1.8,virginica\n"
     ]
    }
   ],
   "source": [
    "print(Iris)"
   ]
  },
  {
   "cell_type": "code",
   "execution_count": 57,
   "metadata": {},
   "outputs": [
    {
     "name": "stdout",
     "output_type": "stream",
     "text": [
      "['sepal_length,sepal_width,petal_length,petal_width,species', '5.1,3.5,1.4,0.2,setosa', '4.9,3,1.4,0.2,setosa', '4.7,3.2,1.3,0.2,setosa', '4.6,3.1,1.5,0.2,setosa', '5,3.6,1.4,0.2,setosa', '5.4,3.9,1.7,0.4,setosa', '4.6,3.4,1.4,0.3,setosa', '5,3.4,1.5,0.2,setosa', '4.4,2.9,1.4,0.2,setosa', '4.9,3.1,1.5,0.1,setosa', '5.4,3.7,1.5,0.2,setosa', '4.8,3.4,1.6,0.2,setosa', '4.8,3,1.4,0.1,setosa', '4.3,3,1.1,0.1,setosa', '5.8,4,1.2,0.2,setosa', '5.7,4.4,1.5,0.4,setosa', '5.4,3.9,1.3,0.4,setosa', '5.1,3.5,1.4,0.3,setosa', '5.7,3.8,1.7,0.3,setosa', '5.1,3.8,1.5,0.3,setosa', '5.4,3.4,1.7,0.2,setosa', '5.1,3.7,1.5,0.4,setosa', '4.6,3.6,1,0.2,setosa', '5.1,3.3,1.7,0.5,setosa', '4.8,3.4,1.9,0.2,setosa', '5,3,1.6,0.2,setosa', '5,3.4,1.6,0.4,setosa', '5.2,3.5,1.5,0.2,setosa', '5.2,3.4,1.4,0.2,setosa', '4.7,3.2,1.6,0.2,setosa', '4.8,3.1,1.6,0.2,setosa', '5.4,3.4,1.5,0.4,setosa', '5.2,4.1,1.5,0.1,setosa', '5.5,4.2,1.4,0.2,setosa', '4.9,3.1,1.5,0.1,setosa', '5,3.2,1.2,0.2,setosa', '5.5,3.5,1.3,0.2,setosa', '4.9,3.1,1.5,0.1,setosa', '4.4,3,1.3,0.2,setosa', '5.1,3.4,1.5,0.2,setosa', '5,3.5,1.3,0.3,setosa', '4.5,2.3,1.3,0.3,setosa', '4.4,3.2,1.3,0.2,setosa', '5,3.5,1.6,0.6,setosa', '5.1,3.8,1.9,0.4,setosa', '4.8,3,1.4,0.3,setosa', '5.1,3.8,1.6,0.2,setosa', '4.6,3.2,1.4,0.2,setosa', '5.3,3.7,1.5,0.2,setosa', '5,3.3,1.4,0.2,setosa', '7,3.2,4.7,1.4,versicolor', '6.4,3.2,4.5,1.5,versicolor', '6.9,3.1,4.9,1.5,versicolor', '5.5,2.3,4,1.3,versicolor', '6.5,2.8,4.6,1.5,versicolor', '5.7,2.8,4.5,1.3,versicolor', '6.3,3.3,4.7,1.6,versicolor', '4.9,2.4,3.3,1,versicolor', '6.6,2.9,4.6,1.3,versicolor', '5.2,2.7,3.9,1.4,versicolor', '5,2,3.5,1,versicolor', '5.9,3,4.2,1.5,versicolor', '6,2.2,4,1,versicolor', '6.1,2.9,4.7,1.4,versicolor', '5.6,2.9,3.6,1.3,versicolor', '6.7,3.1,4.4,1.4,versicolor', '5.6,3,4.5,1.5,versicolor', '5.8,2.7,4.1,1,versicolor', '6.2,2.2,4.5,1.5,versicolor', '5.6,2.5,3.9,1.1,versicolor', '5.9,3.2,4.8,1.8,versicolor', '6.1,2.8,4,1.3,versicolor', '6.3,2.5,4.9,1.5,versicolor', '6.1,2.8,4.7,1.2,versicolor', '6.4,2.9,4.3,1.3,versicolor', '6.6,3,4.4,1.4,versicolor', '6.8,2.8,4.8,1.4,versicolor', '6.7,3,5,1.7,versicolor', '6,2.9,4.5,1.5,versicolor', '5.7,2.6,3.5,1,versicolor', '5.5,2.4,3.8,1.1,versicolor', '5.5,2.4,3.7,1,versicolor', '5.8,2.7,3.9,1.2,versicolor', '6,2.7,5.1,1.6,versicolor', '5.4,3,4.5,1.5,versicolor', '6,3.4,4.5,1.6,versicolor', '6.7,3.1,4.7,1.5,versicolor', '6.3,2.3,4.4,1.3,versicolor', '5.6,3,4.1,1.3,versicolor', '5.5,2.5,4,1.3,versicolor', '5.5,2.6,4.4,1.2,versicolor', '6.1,3,4.6,1.4,versicolor', '5.8,2.6,4,1.2,versicolor', '5,2.3,3.3,1,versicolor', '5.6,2.7,4.2,1.3,versicolor', '5.7,3,4.2,1.2,versicolor', '5.7,2.9,4.2,1.3,versicolor', '6.2,2.9,4.3,1.3,versicolor', '5.1,2.5,3,1.1,versicolor', '5.7,2.8,4.1,1.3,versicolor', '6.3,3.3,6,2.5,virginica', '5.8,2.7,5.1,1.9,virginica', '7.1,3,5.9,2.1,virginica', '6.3,2.9,5.6,1.8,virginica', '6.5,3,5.8,2.2,virginica', '7.6,3,6.6,2.1,virginica', '4.9,2.5,4.5,1.7,virginica', '7.3,2.9,6.3,1.8,virginica', '6.7,2.5,5.8,1.8,virginica', '7.2,3.6,6.1,2.5,virginica', '6.5,3.2,5.1,2,virginica', '6.4,2.7,5.3,1.9,virginica', '6.8,3,5.5,2.1,virginica', '5.7,2.5,5,2,virginica', '5.8,2.8,5.1,2.4,virginica', '6.4,3.2,5.3,2.3,virginica', '6.5,3,5.5,1.8,virginica', '7.7,3.8,6.7,2.2,virginica', '7.7,2.6,6.9,2.3,virginica', '6,2.2,5,1.5,virginica', '6.9,3.2,5.7,2.3,virginica', '5.6,2.8,4.9,2,virginica', '7.7,2.8,6.7,2,virginica', '6.3,2.7,4.9,1.8,virginica', '6.7,3.3,5.7,2.1,virginica', '7.2,3.2,6,1.8,virginica', '6.2,2.8,4.8,1.8,virginica', '6.1,3,4.9,1.8,virginica', '6.4,2.8,5.6,2.1,virginica', '7.2,3,5.8,1.6,virginica', '7.4,2.8,6.1,1.9,virginica', '7.9,3.8,6.4,2,virginica', '6.4,2.8,5.6,2.2,virginica', '6.3,2.8,5.1,1.5,virginica', '6.1,2.6,5.6,1.4,virginica', '7.7,3,6.1,2.3,virginica', '6.3,3.4,5.6,2.4,virginica', '6.4,3.1,5.5,1.8,virginica', '6,3,4.8,1.8,virginica', '6.9,3.1,5.4,2.1,virginica', '6.7,3.1,5.6,2.4,virginica', '6.9,3.1,5.1,2.3,virginica', '5.8,2.7,5.1,1.9,virginica', '6.8,3.2,5.9,2.3,virginica', '6.7,3.3,5.7,2.5,virginica', '6.7,3,5.2,2.3,virginica', '6.3,2.5,5,1.9,virginica', '6.5,3,5.2,2,virginica', '6.2,3.4,5.4,2.3,virginica', '5.9,3,5.1,1.8,virginica']\n"
     ]
    }
   ],
   "source": [
    "Linhas = Iris.split('\\n')\n",
    "\n",
    "# Cria lista composta por elementos separados pelo argumento informado no método.\n",
    "\n",
    "print(Linhas)"
   ]
  },
  {
   "cell_type": "code",
   "execution_count": 58,
   "metadata": {},
   "outputs": [],
   "source": [
    "Dados = [i.split(',') for i in Linhas]"
   ]
  },
  {
   "cell_type": "code",
   "execution_count": 59,
   "metadata": {},
   "outputs": [
    {
     "name": "stdout",
     "output_type": "stream",
     "text": [
      "[['sepal_length', 'sepal_width', 'petal_length', 'petal_width', 'species'], ['5.1', '3.5', '1.4', '0.2', 'setosa'], ['4.9', '3', '1.4', '0.2', 'setosa'], ['4.7', '3.2', '1.3', '0.2', 'setosa'], ['4.6', '3.1', '1.5', '0.2', 'setosa'], ['5', '3.6', '1.4', '0.2', 'setosa'], ['5.4', '3.9', '1.7', '0.4', 'setosa'], ['4.6', '3.4', '1.4', '0.3', 'setosa'], ['5', '3.4', '1.5', '0.2', 'setosa'], ['4.4', '2.9', '1.4', '0.2', 'setosa'], ['4.9', '3.1', '1.5', '0.1', 'setosa'], ['5.4', '3.7', '1.5', '0.2', 'setosa'], ['4.8', '3.4', '1.6', '0.2', 'setosa'], ['4.8', '3', '1.4', '0.1', 'setosa'], ['4.3', '3', '1.1', '0.1', 'setosa'], ['5.8', '4', '1.2', '0.2', 'setosa'], ['5.7', '4.4', '1.5', '0.4', 'setosa'], ['5.4', '3.9', '1.3', '0.4', 'setosa'], ['5.1', '3.5', '1.4', '0.3', 'setosa'], ['5.7', '3.8', '1.7', '0.3', 'setosa'], ['5.1', '3.8', '1.5', '0.3', 'setosa'], ['5.4', '3.4', '1.7', '0.2', 'setosa'], ['5.1', '3.7', '1.5', '0.4', 'setosa'], ['4.6', '3.6', '1', '0.2', 'setosa'], ['5.1', '3.3', '1.7', '0.5', 'setosa'], ['4.8', '3.4', '1.9', '0.2', 'setosa'], ['5', '3', '1.6', '0.2', 'setosa'], ['5', '3.4', '1.6', '0.4', 'setosa'], ['5.2', '3.5', '1.5', '0.2', 'setosa'], ['5.2', '3.4', '1.4', '0.2', 'setosa'], ['4.7', '3.2', '1.6', '0.2', 'setosa'], ['4.8', '3.1', '1.6', '0.2', 'setosa'], ['5.4', '3.4', '1.5', '0.4', 'setosa'], ['5.2', '4.1', '1.5', '0.1', 'setosa'], ['5.5', '4.2', '1.4', '0.2', 'setosa'], ['4.9', '3.1', '1.5', '0.1', 'setosa'], ['5', '3.2', '1.2', '0.2', 'setosa'], ['5.5', '3.5', '1.3', '0.2', 'setosa'], ['4.9', '3.1', '1.5', '0.1', 'setosa'], ['4.4', '3', '1.3', '0.2', 'setosa'], ['5.1', '3.4', '1.5', '0.2', 'setosa'], ['5', '3.5', '1.3', '0.3', 'setosa'], ['4.5', '2.3', '1.3', '0.3', 'setosa'], ['4.4', '3.2', '1.3', '0.2', 'setosa'], ['5', '3.5', '1.6', '0.6', 'setosa'], ['5.1', '3.8', '1.9', '0.4', 'setosa'], ['4.8', '3', '1.4', '0.3', 'setosa'], ['5.1', '3.8', '1.6', '0.2', 'setosa'], ['4.6', '3.2', '1.4', '0.2', 'setosa'], ['5.3', '3.7', '1.5', '0.2', 'setosa'], ['5', '3.3', '1.4', '0.2', 'setosa'], ['7', '3.2', '4.7', '1.4', 'versicolor'], ['6.4', '3.2', '4.5', '1.5', 'versicolor'], ['6.9', '3.1', '4.9', '1.5', 'versicolor'], ['5.5', '2.3', '4', '1.3', 'versicolor'], ['6.5', '2.8', '4.6', '1.5', 'versicolor'], ['5.7', '2.8', '4.5', '1.3', 'versicolor'], ['6.3', '3.3', '4.7', '1.6', 'versicolor'], ['4.9', '2.4', '3.3', '1', 'versicolor'], ['6.6', '2.9', '4.6', '1.3', 'versicolor'], ['5.2', '2.7', '3.9', '1.4', 'versicolor'], ['5', '2', '3.5', '1', 'versicolor'], ['5.9', '3', '4.2', '1.5', 'versicolor'], ['6', '2.2', '4', '1', 'versicolor'], ['6.1', '2.9', '4.7', '1.4', 'versicolor'], ['5.6', '2.9', '3.6', '1.3', 'versicolor'], ['6.7', '3.1', '4.4', '1.4', 'versicolor'], ['5.6', '3', '4.5', '1.5', 'versicolor'], ['5.8', '2.7', '4.1', '1', 'versicolor'], ['6.2', '2.2', '4.5', '1.5', 'versicolor'], ['5.6', '2.5', '3.9', '1.1', 'versicolor'], ['5.9', '3.2', '4.8', '1.8', 'versicolor'], ['6.1', '2.8', '4', '1.3', 'versicolor'], ['6.3', '2.5', '4.9', '1.5', 'versicolor'], ['6.1', '2.8', '4.7', '1.2', 'versicolor'], ['6.4', '2.9', '4.3', '1.3', 'versicolor'], ['6.6', '3', '4.4', '1.4', 'versicolor'], ['6.8', '2.8', '4.8', '1.4', 'versicolor'], ['6.7', '3', '5', '1.7', 'versicolor'], ['6', '2.9', '4.5', '1.5', 'versicolor'], ['5.7', '2.6', '3.5', '1', 'versicolor'], ['5.5', '2.4', '3.8', '1.1', 'versicolor'], ['5.5', '2.4', '3.7', '1', 'versicolor'], ['5.8', '2.7', '3.9', '1.2', 'versicolor'], ['6', '2.7', '5.1', '1.6', 'versicolor'], ['5.4', '3', '4.5', '1.5', 'versicolor'], ['6', '3.4', '4.5', '1.6', 'versicolor'], ['6.7', '3.1', '4.7', '1.5', 'versicolor'], ['6.3', '2.3', '4.4', '1.3', 'versicolor'], ['5.6', '3', '4.1', '1.3', 'versicolor'], ['5.5', '2.5', '4', '1.3', 'versicolor'], ['5.5', '2.6', '4.4', '1.2', 'versicolor'], ['6.1', '3', '4.6', '1.4', 'versicolor'], ['5.8', '2.6', '4', '1.2', 'versicolor'], ['5', '2.3', '3.3', '1', 'versicolor'], ['5.6', '2.7', '4.2', '1.3', 'versicolor'], ['5.7', '3', '4.2', '1.2', 'versicolor'], ['5.7', '2.9', '4.2', '1.3', 'versicolor'], ['6.2', '2.9', '4.3', '1.3', 'versicolor'], ['5.1', '2.5', '3', '1.1', 'versicolor'], ['5.7', '2.8', '4.1', '1.3', 'versicolor'], ['6.3', '3.3', '6', '2.5', 'virginica'], ['5.8', '2.7', '5.1', '1.9', 'virginica'], ['7.1', '3', '5.9', '2.1', 'virginica'], ['6.3', '2.9', '5.6', '1.8', 'virginica'], ['6.5', '3', '5.8', '2.2', 'virginica'], ['7.6', '3', '6.6', '2.1', 'virginica'], ['4.9', '2.5', '4.5', '1.7', 'virginica'], ['7.3', '2.9', '6.3', '1.8', 'virginica'], ['6.7', '2.5', '5.8', '1.8', 'virginica'], ['7.2', '3.6', '6.1', '2.5', 'virginica'], ['6.5', '3.2', '5.1', '2', 'virginica'], ['6.4', '2.7', '5.3', '1.9', 'virginica'], ['6.8', '3', '5.5', '2.1', 'virginica'], ['5.7', '2.5', '5', '2', 'virginica'], ['5.8', '2.8', '5.1', '2.4', 'virginica'], ['6.4', '3.2', '5.3', '2.3', 'virginica'], ['6.5', '3', '5.5', '1.8', 'virginica'], ['7.7', '3.8', '6.7', '2.2', 'virginica'], ['7.7', '2.6', '6.9', '2.3', 'virginica'], ['6', '2.2', '5', '1.5', 'virginica'], ['6.9', '3.2', '5.7', '2.3', 'virginica'], ['5.6', '2.8', '4.9', '2', 'virginica'], ['7.7', '2.8', '6.7', '2', 'virginica'], ['6.3', '2.7', '4.9', '1.8', 'virginica'], ['6.7', '3.3', '5.7', '2.1', 'virginica'], ['7.2', '3.2', '6', '1.8', 'virginica'], ['6.2', '2.8', '4.8', '1.8', 'virginica'], ['6.1', '3', '4.9', '1.8', 'virginica'], ['6.4', '2.8', '5.6', '2.1', 'virginica'], ['7.2', '3', '5.8', '1.6', 'virginica'], ['7.4', '2.8', '6.1', '1.9', 'virginica'], ['7.9', '3.8', '6.4', '2', 'virginica'], ['6.4', '2.8', '5.6', '2.2', 'virginica'], ['6.3', '2.8', '5.1', '1.5', 'virginica'], ['6.1', '2.6', '5.6', '1.4', 'virginica'], ['7.7', '3', '6.1', '2.3', 'virginica'], ['6.3', '3.4', '5.6', '2.4', 'virginica'], ['6.4', '3.1', '5.5', '1.8', 'virginica'], ['6', '3', '4.8', '1.8', 'virginica'], ['6.9', '3.1', '5.4', '2.1', 'virginica'], ['6.7', '3.1', '5.6', '2.4', 'virginica'], ['6.9', '3.1', '5.1', '2.3', 'virginica'], ['5.8', '2.7', '5.1', '1.9', 'virginica'], ['6.8', '3.2', '5.9', '2.3', 'virginica'], ['6.7', '3.3', '5.7', '2.5', 'virginica'], ['6.7', '3', '5.2', '2.3', 'virginica'], ['6.3', '2.5', '5', '1.9', 'virginica'], ['6.5', '3', '5.2', '2', 'virginica'], ['6.2', '3.4', '5.4', '2.3', 'virginica'], ['5.9', '3', '5.1', '1.8', 'virginica']]\n"
     ]
    }
   ],
   "source": [
    "print(Dados)"
   ]
  },
  {
   "attachments": {},
   "cell_type": "markdown",
   "metadata": {},
   "source": [
    "# Operador do Jupyter Notebook"
   ]
  },
  {
   "cell_type": "code",
   "execution_count": 63,
   "metadata": {},
   "outputs": [
    {
     "name": "stdout",
     "output_type": "stream",
     "text": [
      "Overwriting ArquivosParalelos/Arquivo 3.txt\n"
     ]
    }
   ],
   "source": [
    "%%writefile \"ArquivosParalelos/Arquivo 3.txt\"\n",
    "Este arquivo foi gerado com um comando mágico do Jupyter Notebook.\n",
    "A célula recebe texto sem muito critério."
   ]
  },
  {
   "attachments": {},
   "cell_type": "markdown",
   "metadata": {},
   "source": [
    "# Pacotes"
   ]
  },
  {
   "attachments": {},
   "cell_type": "markdown",
   "metadata": {},
   "source": [
    "Alguns pacotes são ideais para maipulação de arquivos.\n",
    "* csv\n",
    "* pandas\n",
    "* os\n",
    "* json"
   ]
  }
 ],
 "metadata": {
  "kernelspec": {
   "display_name": "base",
   "language": "python",
   "name": "python3"
  },
  "language_info": {
   "codemirror_mode": {
    "name": "ipython",
    "version": 3
   },
   "file_extension": ".py",
   "mimetype": "text/x-python",
   "name": "python",
   "nbconvert_exporter": "python",
   "pygments_lexer": "ipython3",
   "version": "3.9.12"
  },
  "orig_nbformat": 4,
  "vscode": {
   "interpreter": {
    "hash": "67555092bde78f01d62c7ad50c905647fa560d4e0d76a0ae431fa4c087689397"
   }
  }
 },
 "nbformat": 4,
 "nbformat_minor": 2
}
