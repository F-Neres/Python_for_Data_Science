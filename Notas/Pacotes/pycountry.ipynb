{
 "cells": [
  {
   "cell_type": "markdown",
   "id": "2aab8298",
   "metadata": {},
   "source": [
    "Pycountry providencia bancos de dados ISO para os padrões:\n",
    "\n",
    "639-3 Linguas; \n",
    "3166 Países; \n",
    "3166-3 Países deletados; \n",
    "3166-2 Subdivisões de países; \n",
    "4217 Moedas; \n",
    "15924 Scripts."
   ]
  },
  {
   "cell_type": "code",
   "execution_count": 2,
   "id": "5bcd481f",
   "metadata": {},
   "outputs": [
    {
     "name": "stdout",
     "output_type": "stream",
     "text": [
      "Requirement already satisfied: pycountry in c:\\programdata\\anaconda3\\lib\\site-packages (20.7.3)\n",
      "Instalado e importado.\n"
     ]
    }
   ],
   "source": [
    "try:\n",
    "    !pip install pycountry\n",
    "    import pycountry\n",
    "    print('Instalado e importado.')\n",
    "except:\n",
    "    import pycountry\n",
    "    print('importado.')"
   ]
  },
  {
   "cell_type": "code",
   "execution_count": null,
   "id": "24c6ab0d",
   "metadata": {},
   "outputs": [],
   "source": []
  }
 ],
 "metadata": {
  "kernelspec": {
   "display_name": "Python 3",
   "language": "python",
   "name": "python3"
  },
  "language_info": {
   "codemirror_mode": {
    "name": "ipython",
    "version": 3
   },
   "file_extension": ".py",
   "mimetype": "text/x-python",
   "name": "python",
   "nbconvert_exporter": "python",
   "pygments_lexer": "ipython3",
   "version": "3.8.8"
  }
 },
 "nbformat": 4,
 "nbformat_minor": 5
}
