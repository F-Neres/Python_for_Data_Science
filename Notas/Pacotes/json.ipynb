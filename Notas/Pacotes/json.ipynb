{
 "cells": [
  {
   "cell_type": "markdown",
   "metadata": {},
   "source": [
    "# Java Script Object Notation"
   ]
  },
  {
   "cell_type": "code",
   "execution_count": 1,
   "metadata": {},
   "outputs": [],
   "source": [
    "import json"
   ]
  },
  {
   "cell_type": "code",
   "execution_count": 2,
   "metadata": {},
   "outputs": [],
   "source": [
    "dictonaro = {'nome': 'Guido van Rossum',\n",
    "        'linguagem': 'Python',\n",
    "        'similar': ['c','Modula-3','lisp'],\n",
    "        'users': 1000000}"
   ]
  },
  {
   "cell_type": "code",
   "execution_count": 3,
   "metadata": {},
   "outputs": [
    {
     "name": "stdout",
     "output_type": "stream",
     "text": [
      "nome: Guido van Rossum\n",
      "linguagem: Python\n",
      "similar: ['c', 'Modula-3', 'lisp']\n",
      "users: 1000000\n"
     ]
    }
   ],
   "source": [
    "for chave,valor in dictonaro.items():\n",
    "    print(str(chave)+':',valor,)"
   ]
  },
  {
   "cell_type": "code",
   "execution_count": 5,
   "metadata": {},
   "outputs": [
    {
     "name": "stdout",
     "output_type": "stream",
     "text": [
      "{\"nome\": \"Guido van Rossum\", \"linguagem\": \"Python\", \"similar\": [\"c\", \"Modula-3\", \"lisp\"], \"users\": 1000000}\n",
      "<class 'str'>\n",
      "107\n",
      "{\"\n"
     ]
    }
   ],
   "source": [
    "# O método 'dumps' transforma o dicionário em uma string.\n",
    "\n",
    "dictjason = json.dumps(dictonaro)\n",
    "print(dictjason)\n",
    "print(type(dictjason))\n",
    "print(len(dictjason))\n",
    "print(dictjason[0]+dictjason[1]) # O primeiro caractere é o abrir de chaves"
   ]
  },
  {
   "cell_type": "code",
   "execution_count": 7,
   "metadata": {},
   "outputs": [],
   "source": [
    "# Um arquivo json foi criado/aberto.\n",
    "# A string é inserida com o a função 'open' - o pacote jason apenas faz a conversão de dict para string\n",
    "\n",
    "with open(r'../ArquivosParalelos/dict test.json','w',encoding='utf8') as jasinho:\n",
    "    jasinho.write(dictjason)"
   ]
  },
  {
   "cell_type": "code",
   "execution_count": 9,
   "metadata": {},
   "outputs": [
    {
     "name": "stdout",
     "output_type": "stream",
     "text": [
      "<_io.TextIOWrapper name='../ArquivosParalelos/dict test.json' mode='r' encoding='utf8'>\n",
      "<class '_io.TextIOWrapper'>\n",
      "\n",
      "{\"nome\": \"Guido van Rossum\", \"linguagem\": \"Python\", \"similar\": [\"c\", \"Modula-3\", \"lisp\"], \"users\": 1000000}\n",
      "<class 'str'>\n",
      "\n",
      "{'nome': 'Guido van Rossum', 'linguagem': 'Python', 'similar': ['c', 'Modula-3', 'lisp'], 'users': 1000000}\n",
      "<class 'dict'>\n"
     ]
    }
   ],
   "source": [
    "# É lendo o arquivo json que a mágica acontece.\n",
    "# O efeito se deve pela conversão de uma string em um dicionário.\n",
    "# [Talves...] Os caracteres precisem respeitar a estrutura de dict.\n",
    "\n",
    "with open(r'../ArquivosParalelos/dict test.json','r',encoding='utf8') as caminho:\n",
    "    leitura_ = caminho.read() # \"leitura_\" contém a string obtida do arquivo \"dict tes.json\"\n",
    "    desjeisado = json.loads(leitura_) # a função '.loads' faz o processo inverso: transforma a string em dicionário"
   ]
  },
  {
   "cell_type": "code",
   "execution_count": 11,
   "metadata": {
    "scrolled": true
   },
   "outputs": [
    {
     "name": "stdout",
     "output_type": "stream",
     "text": [
      "Deu na mesma? True\n"
     ]
    }
   ],
   "source": [
    "#Achatando uma estrutura em uma linha.\n",
    "\n",
    "trajeto = open(r'../ArquivosParalelos/dict test.json','r',encoding='utf8')\n",
    "leitura = trajeto.read()\n",
    "trajeto.close()\n",
    "dicio_indireto = json.loads(leitura)\n",
    "\n",
    "#O conteúdo de uma linha cabe numa variável abaixo.\n",
    "\n",
    "dicio_direto = json.loads(open(r'../ArquivosParalelos/dict test.json','r',encoding='utf8').read())\n",
    "\n",
    "print('Deu na mesma? '+str(dicio_indireto==dicio_direto))\n",
    "\n",
    "# Três ações de 'próxima linha' a menos.\n",
    "# Duas variveis a menos.\n",
    "# Não precisa fechar o caminho, então não precisa lembrar dessas minúcias."
   ]
  },
  {
   "cell_type": "code",
   "execution_count": null,
   "metadata": {},
   "outputs": [],
   "source": []
  }
 ],
 "metadata": {
  "kernelspec": {
   "display_name": "base",
   "language": "python",
   "name": "python3"
  },
  "language_info": {
   "codemirror_mode": {
    "name": "ipython",
    "version": 3
   },
   "file_extension": ".py",
   "mimetype": "text/x-python",
   "name": "python",
   "nbconvert_exporter": "python",
   "pygments_lexer": "ipython3",
   "version": "3.9.12"
  },
  "vscode": {
   "interpreter": {
    "hash": "67555092bde78f01d62c7ad50c905647fa560d4e0d76a0ae431fa4c087689397"
   }
  }
 },
 "nbformat": 4,
 "nbformat_minor": 4
}
