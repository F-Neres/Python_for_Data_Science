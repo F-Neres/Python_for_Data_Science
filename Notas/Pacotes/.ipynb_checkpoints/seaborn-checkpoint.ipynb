{
 "cells": [
  {
   "cell_type": "markdown",
   "id": "a89c83ff",
   "metadata": {},
   "source": [
    "https://www.w3schools.com/python/numpy/numpy_random_seaborn.asp\n",
    "\n",
    "https://seaborn.pydata.org/tutorial.html"
   ]
  },
  {
   "cell_type": "markdown",
   "id": "46738f5e",
   "metadata": {},
   "source": [
    "Seaborn é uma biblioteca que usa Matplotlib para traçar gráficos. Ele será usado para visualizar distribuições aleatórias."
   ]
  },
  {
   "cell_type": "code",
   "execution_count": 1,
   "id": "225d4f0e",
   "metadata": {},
   "outputs": [],
   "source": [
    "import seaborn"
   ]
  },
  {
   "cell_type": "code",
   "execution_count": 2,
   "id": "7a1dc34b",
   "metadata": {},
   "outputs": [],
   "source": [
    "seaborn.set_theme(style = \"whitegrid\")"
   ]
  },
  {
   "cell_type": "code",
   "execution_count": null,
   "id": "1231f5a7",
   "metadata": {},
   "outputs": [],
   "source": []
  }
 ],
 "metadata": {
  "kernelspec": {
   "display_name": "Python 3",
   "language": "python",
   "name": "python3"
  },
  "language_info": {
   "codemirror_mode": {
    "name": "ipython",
    "version": 3
   },
   "file_extension": ".py",
   "mimetype": "text/x-python",
   "name": "python",
   "nbconvert_exporter": "python",
   "pygments_lexer": "ipython3",
   "version": "3.8.8"
  }
 },
 "nbformat": 4,
 "nbformat_minor": 5
}
