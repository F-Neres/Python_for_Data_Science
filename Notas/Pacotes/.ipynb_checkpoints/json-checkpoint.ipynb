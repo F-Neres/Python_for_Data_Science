{
 "cells": [
  {
   "cell_type": "markdown",
   "metadata": {},
   "source": [
    "# Java Script Object Notation"
   ]
  },
  {
   "cell_type": "code",
   "execution_count": 30,
   "metadata": {},
   "outputs": [],
   "source": [
    "import json as JASON"
   ]
  },
  {
   "cell_type": "code",
   "execution_count": 2,
   "metadata": {},
   "outputs": [],
   "source": [
    "dictonaro = {'nome': 'Guido van Rossum',\n",
    "        'linguagem': 'Python',\n",
    "        'similar': ['c','Modula-3','lisp'],\n",
    "        'users': 1000000}"
   ]
  },
  {
   "cell_type": "code",
   "execution_count": 11,
   "metadata": {},
   "outputs": [
    {
     "name": "stdout",
     "output_type": "stream",
     "text": [
      "nome: Guido van Rossum\n",
      "linguagem: Python\n",
      "similar: ['c', 'Modula-3', 'lisp']\n",
      "users: 1000000\n"
     ]
    }
   ],
   "source": [
    "for chave,valor in dictonaro.items():\n",
    "    print(str(chave)+':',valor,)"
   ]
  },
  {
   "cell_type": "code",
   "execution_count": 18,
   "metadata": {},
   "outputs": [
    {
     "name": "stdout",
     "output_type": "stream",
     "text": [
      "{\"nome\": \"Guido van Rossum\", \"linguagem\": \"Python\", \"similar\": [\"c\", \"Modula-3\", \"lisp\"], \"users\": 1000000}\n",
      "<class 'str'>\n",
      "107\n",
      "{\"\n"
     ]
    }
   ],
   "source": [
    "# O método 'dumps' transforma o dicionário em uma string.\n",
    "# Ao menos lidando com a variável dentro do Python...\n",
    "\n",
    "dictjason = JASON.dumps(dictonaro)\n",
    "print(dictjason)\n",
    "print(type(dictjason))\n",
    "print(len(dictjason))\n",
    "print(dictjason[0]+dictjason[1])"
   ]
  },
  {
   "cell_type": "code",
   "execution_count": 21,
   "metadata": {},
   "outputs": [],
   "source": [
    "# Um arquivo json foi criado.\n",
    "#Mas não passa de uma string salva como texto em um arquivo arbitrariamente estipulado como .json\n",
    "\n",
    "with open(r'../ArquivosParalelos/dict test.json','w',encoding='utf8') as jasinho:\n",
    "    jasinho.write(dictjason)"
   ]
  },
  {
   "cell_type": "code",
   "execution_count": 25,
   "metadata": {},
   "outputs": [
    {
     "name": "stdout",
     "output_type": "stream",
     "text": [
      "<_io.TextIOWrapper name='../ArquivosParalelos/dict test.json' mode='r' encoding='utf8'>\n",
      "<class '_io.TextIOWrapper'>\n",
      "\n",
      "{\"nome\": \"Guido van Rossum\", \"linguagem\": \"Python\", \"similar\": [\"c\", \"Modula-3\", \"lisp\"], \"users\": 1000000}\n",
      "<class 'str'>\n",
      "\n",
      "{'nome': 'Guido van Rossum', 'linguagem': 'Python', 'similar': ['c', 'Modula-3', 'lisp'], 'users': 1000000}\n",
      "<class 'dict'>\n"
     ]
    }
   ],
   "source": [
    "#É lendo o arquivo json que a mágica acontece.\n",
    "# O efeito se deve pela conversão de uma string em um dicionário.\n",
    "# [Talves...] Os caracteres precisem respeitar a estrutura de dict.\n",
    "\n",
    "with open(r'../ArquivosParalelos/dict test.json','r',encoding='utf8') as caminho:\n",
    "    print(caminho)\n",
    "    print(type(caminho)) #a variável criada na linha do open é um diretório para um arquivo qualquer contendo uma string\n",
    "    print('')\n",
    "    \n",
    "    leitura_ = caminho.read()\n",
    "    print(leitura_)\n",
    "    print(type(leitura_)) #Ainda sem especificidade, apenas foi atribuída a string à variável 'leitura_' a partir do diretório.\n",
    "    print('')\n",
    "    \n",
    "    desjeisado = JASON.loads(leitura_)\n",
    "    print(desjeisado)\n",
    "    print(type(desjeisado)) #Agora a string foi transformada num dicionário por um comando do pacote."
   ]
  },
  {
   "cell_type": "code",
   "execution_count": 36,
   "metadata": {
    "scrolled": true
   },
   "outputs": [
    {
     "name": "stdout",
     "output_type": "stream",
     "text": [
      "Deu na mesma? True\n"
     ]
    }
   ],
   "source": [
    "#Achatando uma estrutura em uma linha.\n",
    "\n",
    "trajeto = open(r'../ArquivosParalelos/dict test.json','r',encoding='utf8')\n",
    "leitura = trajeto.read()\n",
    "trajeto.close()\n",
    "dicio_indireto = JASON.loads(leitura)\n",
    "\n",
    "#O conteúdo de uma linha cabe numa variável abaixo.\n",
    "\n",
    "dicio_direto = JASON.loads(open(r'../ArquivosParalelos/dict test.json','r',encoding='utf8').read())\n",
    "\n",
    "print('Deu na mesma? '+str(dicio_indireto==dicio_direto))\n",
    "\n",
    "# Três ações de 'próxima linha' a menos.\n",
    "# Duas variveis a menos.\n",
    "# Não precisa fechar o caminho, então não precisa lembrar dessas minúcias."
   ]
  },
  {
   "cell_type": "code",
   "execution_count": null,
   "metadata": {},
   "outputs": [],
   "source": []
  }
 ],
 "metadata": {
  "kernelspec": {
   "display_name": "Python 3",
   "language": "python",
   "name": "python3"
  },
  "language_info": {
   "codemirror_mode": {
    "name": "ipython",
    "version": 3
   },
   "file_extension": ".py",
   "mimetype": "text/x-python",
   "name": "python",
   "nbconvert_exporter": "python",
   "pygments_lexer": "ipython3",
   "version": "3.8.3"
  }
 },
 "nbformat": 4,
 "nbformat_minor": 4
}
