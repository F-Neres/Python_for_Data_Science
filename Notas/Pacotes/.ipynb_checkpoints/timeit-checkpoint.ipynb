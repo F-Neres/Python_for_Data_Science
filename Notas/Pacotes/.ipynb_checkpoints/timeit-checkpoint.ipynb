{
 "cells": [
  {
   "cell_type": "code",
   "execution_count": 3,
   "id": "05b35ae0",
   "metadata": {},
   "outputs": [],
   "source": [
    "import timeit"
   ]
  },
  {
   "cell_type": "code",
   "execution_count": null,
   "id": "084dbb37",
   "metadata": {},
   "outputs": [],
   "source": [
    "def soma1(x, y):\n",
    "    return sum(range(x, y+1))\n",
    "\n",
    "def soma2(x, y):\n",
    "    soma = 0\n",
    "    for i in range(x, y+1):\n",
    "        soma += i\n",
    "    return soma\n",
    "\n",
    "t = timeit.Timer(\"soma1(1,1000)\", \"from __main__ import soma1\")\n",
    "print(t.repeat())\n",
    "# 5 baterias de 1000000 execuções.\n",
    "\n",
    "t = timeit.Timer(\"soma2(1,1000)\", \"from __main__ import soma2\")\n",
    "print(t.repeat(2, 1000))\n",
    "# 2 baterias com 1000 execuções."
   ]
  },
  {
   "cell_type": "code",
   "execution_count": 8,
   "id": "8080c5b7",
   "metadata": {},
   "outputs": [
    {
     "name": "stdout",
     "output_type": "stream",
     "text": [
      "Help on method repeat in module timeit:\n",
      "\n",
      "repeat(repeat=5, number=1000000) method of timeit.Timer instance\n",
      "    Call timeit() a few times.\n",
      "    \n",
      "    This is a convenience function that calls the timeit()\n",
      "    repeatedly, returning a list of results.  The first argument\n",
      "    specifies how many times to call timeit(), defaulting to 5;\n",
      "    the second argument specifies the timer argument, defaulting\n",
      "    to one million.\n",
      "    \n",
      "    Note: it's tempting to calculate mean and standard deviation\n",
      "    from the result vector and report these.  However, this is not\n",
      "    very useful.  In a typical case, the lowest value gives a\n",
      "    lower bound for how fast your machine can run the given code\n",
      "    snippet; higher values in the result vector are typically not\n",
      "    caused by variability in Python's speed, but by other\n",
      "    processes interfering with your timing accuracy.  So the min()\n",
      "    of the result is probably the only number you should be\n",
      "    interested in.  After that, you should look at the entire\n",
      "    vector and apply common sense rather than statistics.\n",
      "\n"
     ]
    }
   ],
   "source": [
    "help(t.repeat)"
   ]
  },
  {
   "cell_type": "code",
   "execution_count": null,
   "id": "811dcf64",
   "metadata": {},
   "outputs": [],
   "source": [
    "help(t)"
   ]
  },
  {
   "cell_type": "code",
   "execution_count": null,
   "id": "2fc78da6",
   "metadata": {},
   "outputs": [],
   "source": []
  }
 ],
 "metadata": {
  "kernelspec": {
   "display_name": "Python 3",
   "language": "python",
   "name": "python3"
  },
  "language_info": {
   "codemirror_mode": {
    "name": "ipython",
    "version": 3
   },
   "file_extension": ".py",
   "mimetype": "text/x-python",
   "name": "python",
   "nbconvert_exporter": "python",
   "pygments_lexer": "ipython3",
   "version": "3.8.8"
  }
 },
 "nbformat": 4,
 "nbformat_minor": 5
}
