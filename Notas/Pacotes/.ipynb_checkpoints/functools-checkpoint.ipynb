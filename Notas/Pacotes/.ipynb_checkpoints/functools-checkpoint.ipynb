{
 "cells": [
  {
   "cell_type": "code",
   "execution_count": 2,
   "metadata": {},
   "outputs": [],
   "source": [
    "import functools"
   ]
  },
  {
   "cell_type": "markdown",
   "metadata": {},
   "source": [
    "## Reduce"
   ]
  },
  {
   "cell_type": "markdown",
   "metadata": {},
   "source": [
    "A função reduce, do pacote functools, é similar à função map, mas retorna apenas um valor ao invés de uma coleção"
   ]
  },
  {
   "cell_type": "code",
   "execution_count": 21,
   "metadata": {},
   "outputs": [],
   "source": [
    "#Criando uma sequência de elementos numa lista para exemplo\n",
    "\n",
    "from random import randint\n",
    "\n",
    "a = []\n",
    "for i in range(100):\n",
    "    a.append(randint(1,1000))\n",
    "    \n",
    "b = []\n",
    "for i in range(100):\n",
    "    b.append(randint(1,1000))"
   ]
  },
  {
   "cell_type": "code",
   "execution_count": 22,
   "metadata": {},
   "outputs": [
    {
     "name": "stdout",
     "output_type": "stream",
     "text": [
      "50596\n"
     ]
    }
   ],
   "source": [
    "#Recebe uma função e uma coleção como argumentos.\n",
    "#Os argumentos da função estipulada como argumento do reduce serão os elementos da lista.\n",
    "#O retorno é aplicado ao próximo item da lista.\n",
    "\n",
    "def soma2(x,y):\n",
    "    return x+y\n",
    "\n",
    "resultado_da_soma2 = functools.reduce(soma2,a)\n",
    "\n",
    "print(resultado_da_soma2)"
   ]
  },
  {
   "cell_type": "code",
   "execution_count": 23,
   "metadata": {},
   "outputs": [
    {
     "ename": "TypeError",
     "evalue": "soma3() missing 1 required positional argument: 'z'",
     "output_type": "error",
     "traceback": [
      "\u001b[1;31m---------------------------------------------------------------------------\u001b[0m",
      "\u001b[1;31mTypeError\u001b[0m                                 Traceback (most recent call last)",
      "\u001b[1;32m<ipython-input-23-357d6087545d>\u001b[0m in \u001b[0;36m<module>\u001b[1;34m\u001b[0m\n\u001b[0;32m      6\u001b[0m     \u001b[1;32mreturn\u001b[0m \u001b[0mx\u001b[0m\u001b[1;33m+\u001b[0m\u001b[0my\u001b[0m\u001b[1;33m+\u001b[0m\u001b[0mz\u001b[0m\u001b[1;33m\u001b[0m\u001b[1;33m\u001b[0m\u001b[0m\n\u001b[0;32m      7\u001b[0m \u001b[1;33m\u001b[0m\u001b[0m\n\u001b[1;32m----> 8\u001b[1;33m \u001b[0mresultado_da_soma3\u001b[0m \u001b[1;33m=\u001b[0m \u001b[0mfunctools\u001b[0m\u001b[1;33m.\u001b[0m\u001b[0mreduce\u001b[0m\u001b[1;33m(\u001b[0m\u001b[0msoma3\u001b[0m\u001b[1;33m,\u001b[0m\u001b[0ma\u001b[0m\u001b[1;33m)\u001b[0m\u001b[1;33m\u001b[0m\u001b[1;33m\u001b[0m\u001b[0m\n\u001b[0m\u001b[0;32m      9\u001b[0m \u001b[1;33m\u001b[0m\u001b[0m\n\u001b[0;32m     10\u001b[0m \u001b[0mprint\u001b[0m\u001b[1;33m(\u001b[0m\u001b[0mresultado_da_soma3\u001b[0m\u001b[1;33m)\u001b[0m\u001b[1;33m\u001b[0m\u001b[1;33m\u001b[0m\u001b[0m\n",
      "\u001b[1;31mTypeError\u001b[0m: soma3() missing 1 required positional argument: 'z'"
     ]
    }
   ],
   "source": [
    "#A função precisa aceitar apenas 2 argumentos.\n",
    "#No primeiro processo do loop, a função é aplicada aos itens de index 0 e 1, respectivamente.\n",
    "#Nos demais processos, a função é aplicada ao return do processo anterior e ao próximo item ainda não utilizado, até o index -1.\n",
    "\n",
    "def soma3(x,y,z):\n",
    "    return x+y+z\n",
    "\n",
    "resultado_da_soma3 = functools.reduce(soma3,a)\n",
    "\n",
    "print(resultado_da_soma3)"
   ]
  },
  {
   "cell_type": "code",
   "execution_count": null,
   "metadata": {},
   "outputs": [],
   "source": []
  }
 ],
 "metadata": {
  "kernelspec": {
   "display_name": "Python 3",
   "language": "python",
   "name": "python3"
  },
  "language_info": {
   "codemirror_mode": {
    "name": "ipython",
    "version": 3
   },
   "file_extension": ".py",
   "mimetype": "text/x-python",
   "name": "python",
   "nbconvert_exporter": "python",
   "pygments_lexer": "ipython3",
   "version": "3.8.3"
  }
 },
 "nbformat": 4,
 "nbformat_minor": 4
}
