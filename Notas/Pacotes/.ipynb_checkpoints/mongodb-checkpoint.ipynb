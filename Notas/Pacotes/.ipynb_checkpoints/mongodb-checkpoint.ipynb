{
 "cells": [
  {
   "cell_type": "code",
   "execution_count": null,
   "id": "617a5398",
   "metadata": {},
   "outputs": [],
   "source": [
    "#Instalação do pacote\n",
    "!pip install -q pymongo"
   ]
  },
  {
   "cell_type": "code",
   "execution_count": 27,
   "id": "5e1e0c87",
   "metadata": {},
   "outputs": [
    {
     "name": "stdout",
     "output_type": "stream",
     "text": [
      "pacote carregado\n"
     ]
    }
   ],
   "source": [
    "try:\n",
    "    from pymongo import MongoClient\n",
    "    print('pacote carregado')\n",
    "except ImportError as e:\n",
    "    !pip install -q pymongo\n",
    "    from pymongo import MongoClient\n",
    "    print('pacote instalado e carregado')"
   ]
  },
  {
   "cell_type": "markdown",
   "id": "fb45559a",
   "metadata": {},
   "source": [
    "Para conectar o script ao MongoDB, é preciso executar o deamon do MongoDB (pelo comando \"mongod\") no prompt de comando. Isso fornecera a porta de conexão."
   ]
  },
  {
   "cell_type": "code",
   "execution_count": 28,
   "id": "c7ca0483",
   "metadata": {},
   "outputs": [],
   "source": [
    "#Criação de uma conexão\n",
    "#'localhost' indica que a conexão será feita com a mesma máquina.\n",
    "#A porta padrão é a 27017, mas verifique no prompt, quando da execução do deamon.\n",
    "\n",
    "conn = MongoClient('localhost', 27017)"
   ]
  },
  {
   "cell_type": "code",
   "execution_count": 29,
   "id": "c250be28",
   "metadata": {},
   "outputs": [
    {
     "name": "stdout",
     "output_type": "stream",
     "text": [
      "<class 'pymongo.mongo_client.MongoClient'>\n"
     ]
    }
   ],
   "source": [
    "print(type(conn))"
   ]
  },
  {
   "cell_type": "code",
   "execution_count": 30,
   "id": "81257117",
   "metadata": {},
   "outputs": [
    {
     "name": "stdout",
     "output_type": "stream",
     "text": [
      "<class 'pymongo.database.Database'>\n"
     ]
    }
   ],
   "source": [
    "#Qualquer termo usado como método de uma conexão se torna um banco de dados.\n",
    "#O que for usado como método será o \"nome\" do banco.\n",
    "\n",
    "db = conn.cadastrodb\n",
    "print(type(db))"
   ]
  },
  {
   "cell_type": "code",
   "execution_count": 31,
   "id": "92e913e1",
   "metadata": {},
   "outputs": [
    {
     "name": "stdout",
     "output_type": "stream",
     "text": [
      "<class 'pymongo.collection.Collection'>\n"
     ]
    }
   ],
   "source": [
    "#Qualquer termo usado como método de um banco de dados será uma coleção.\n",
    "#O que for usado como método será o \"nome\" da coleção.\n",
    "\n",
    "coll = db.cadastrocoll\n",
    "print(type(coll))"
   ]
  },
  {
   "cell_type": "code",
   "execution_count": 32,
   "id": "95ce9b74",
   "metadata": {},
   "outputs": [
    {
     "name": "stdout",
     "output_type": "stream",
     "text": [
      "<class 'pymongo.collection.Collection'>\n"
     ]
    }
   ],
   "source": [
    "#Uma forma direta de criar uma coleção:\n",
    "\n",
    "coll2 = MongoClient('localhost', 27017).c.c\n",
    "print(type(coll2))"
   ]
  },
  {
   "cell_type": "code",
   "execution_count": 60,
   "id": "7ba2cf3a",
   "metadata": {},
   "outputs": [
    {
     "name": "stdout",
     "output_type": "stream",
     "text": [
      "<class 'pymongo.collection.Collection'>\n"
     ]
    }
   ],
   "source": [
    "#Uma instância de uma coleção feita como um slicing no banco de dados:\n",
    "#O nome da coleção serve como um índice.\n",
    "\n",
    "coll3 = db['cadastrodb']\n",
    "print(type(coll3))"
   ]
  },
  {
   "cell_type": "markdown",
   "id": "8894d6dd",
   "metadata": {},
   "source": [
    "Coleções estão para bancos nsql como tabelas estão para bancos sql"
   ]
  },
  {
   "cell_type": "markdown",
   "id": "8182afe4",
   "metadata": {},
   "source": [
    "Criar conexões, bancos e coleções só é efetivo quando o primeiro dado é inserito."
   ]
  },
  {
   "cell_type": "markdown",
   "id": "acd5b027",
   "metadata": {},
   "source": [
    "Os dados são armazenadas no formato JSON. Com o pymongo, serão armazenados dados como dicionários."
   ]
  },
  {
   "cell_type": "markdown",
   "id": "58fe723d",
   "metadata": {},
   "source": [
    "### Inserção de dados"
   ]
  },
  {
   "cell_type": "code",
   "execution_count": 33,
   "id": "4febb677",
   "metadata": {},
   "outputs": [
    {
     "name": "stdout",
     "output_type": "stream",
     "text": [
      "<class 'dict'>\n",
      "{'Nome': 'Dungeon Drop', 'Idade': 8, 'JMin': 1, 'JMax': 4, 'Designer': 'Scott R. Smith', 'Artista': 'Marília Nascimento', 'Editoras': ['Grok Games', 'Phase Shift Games', 'Gamewright'], 'Mecânicas': ['Cerco de Área', 'Colecionar Componentes', 'Force sua sorte', 'Jogadores com Diferentes Habilidades', 'Seleção de Cartas', 'Tabuleiro Modular'], 'Preço': 159.44, 'Data': datetime.datetime(2021, 8, 10, 23, 15, 5, 722736)}\n"
     ]
    }
   ],
   "source": [
    "# Criando um dicionário\n",
    "\n",
    "import datetime\n",
    "jogo1 = {'Nome':'Dungeon Drop',\n",
    "         'Idade':8,\n",
    "         'JMin':1,\n",
    "         'JMax':4,\n",
    "         'Designer':'Scott R. Smith',\n",
    "         'Artista': 'Marília Nascimento',\n",
    "         'Editoras':['Grok Games',\n",
    "                    'Phase Shift Games',\n",
    "                    'Gamewright'],\n",
    "         'Mecânicas':['Cerco de Área',\n",
    "                     'Colecionar Componentes',\n",
    "                     'Force sua sorte',\n",
    "                     'Jogadores com Diferentes Habilidades',\n",
    "                     'Seleção de Cartas',\n",
    "                     'Tabuleiro Modular'],\n",
    "         'Preço':159.44,\n",
    "         'Data':datetime.datetime.utcnow()}\n",
    "print(type(jogo1))\n",
    "print(jogo1)"
   ]
  },
  {
   "cell_type": "code",
   "execution_count": 34,
   "id": "33ec0ca4",
   "metadata": {},
   "outputs": [],
   "source": [
    "#Cria-se o registro da postagem do dicionário com o comando .insert_one(dict)\n",
    "\n",
    "postagem1 = coll.insert_one(jogo1)"
   ]
  },
  {
   "cell_type": "code",
   "execution_count": 35,
   "id": "5bccdbe2",
   "metadata": {},
   "outputs": [
    {
     "data": {
      "text/plain": [
       "ObjectId('6113087a5a99476e2cec40bf')"
      ]
     },
     "execution_count": 35,
     "metadata": {},
     "output_type": "execute_result"
    }
   ],
   "source": [
    "#Um ID é atribuído automaticamente como uma informação a mais sobre o registro.\n",
    "postagem1.inserted_id\n",
    "\n",
    "#Se o documento ja tem um ID, atualizá-lo não alterará o ID."
   ]
  },
  {
   "cell_type": "code",
   "execution_count": 36,
   "id": "c587c74f",
   "metadata": {},
   "outputs": [
    {
     "name": "stdout",
     "output_type": "stream",
     "text": [
      "<class 'dict'>\n",
      "{'Nome': 'Entre Linhas', 'Idade': 10, 'JMin': 2, 'JMax': 6, 'Designer': 'Grégory Grard', 'Artista': 'Simon Douchy', 'Editoras': ['PaperGames', 'Rebel Sp. z o.o.', 'Fractal Juegos', 'Blue Orange (EU)', 'Blue Orange Games'], 'Mecânicas': ['Cooperativo', 'Dedução'], 'Preço': 97.07, 'Data': datetime.datetime(2021, 8, 10, 23, 15, 7, 458735)}\n"
     ]
    }
   ],
   "source": [
    "#Outro dicionário\n",
    "\n",
    "jogo2 = {'Nome':'Entre Linhas',\n",
    "         'Idade':10,\n",
    "         'JMin':2,\n",
    "         'JMax':6,\n",
    "         'Designer':'Grégory Grard',\n",
    "         'Artista': 'Simon Douchy',\n",
    "         'Editoras':['PaperGames',\n",
    "                     'Rebel Sp. z o.o.',\n",
    "                     'Fractal Juegos',\n",
    "                     'Blue Orange (EU)',\n",
    "                     'Blue Orange Games'],\n",
    "         'Mecânicas':['Cooperativo',\n",
    "                      'Dedução'],\n",
    "         'Preço':97.07,\n",
    "         'Data':datetime.datetime.utcnow()}\n",
    "print(type(jogo2))\n",
    "print(jogo2)"
   ]
  },
  {
   "cell_type": "code",
   "execution_count": 37,
   "id": "dea0891f",
   "metadata": {},
   "outputs": [
    {
     "name": "stdout",
     "output_type": "stream",
     "text": [
      "ID do objeto: 6113087c5a99476e2cec40c0\n"
     ]
    }
   ],
   "source": [
    "#Inserção do novo dicionário.\n",
    "\n",
    "postagem1 = coll.insert_one(jogo2)\n",
    "print('ID do objeto:',postagem1.inserted_id)"
   ]
  },
  {
   "cell_type": "markdown",
   "id": "0db8768a",
   "metadata": {},
   "source": [
    "Inserir o mesmo documento mais vezes vai gerar IDs diferentes. Ou seja: há duplicação de dados."
   ]
  },
  {
   "cell_type": "code",
   "execution_count": 39,
   "id": "96af8585",
   "metadata": {},
   "outputs": [
    {
     "name": "stdout",
     "output_type": "stream",
     "text": [
      "cadastrodb\n",
      "cadastrocoll\n"
     ]
    }
   ],
   "source": [
    "#Nome do banco de dados\n",
    "#Nome da coleção\n",
    "\n",
    "print(db.name)\n",
    "print(coll.name)"
   ]
  },
  {
   "cell_type": "code",
   "execution_count": 40,
   "id": "7d6369c8",
   "metadata": {},
   "outputs": [
    {
     "data": {
      "text/plain": [
       "['cadastrocoll', 'posts', 'partidas']"
      ]
     },
     "execution_count": 40,
     "metadata": {},
     "output_type": "execute_result"
    }
   ],
   "source": [
    "#Para mostrar todas as coleções.\n",
    "#Criarei outra coleção para ter certeza.\n",
    "\n",
    "db.list_collection_names()"
   ]
  },
  {
   "cell_type": "code",
   "execution_count": 41,
   "id": "cf87b1eb",
   "metadata": {},
   "outputs": [
    {
     "data": {
      "text/plain": [
       "<bound method Database.create_collection of Database(MongoClient(host=['localhost:27017'], document_class=dict, tz_aware=False, connect=True), 'cadastrodb')>"
      ]
     },
     "execution_count": 41,
     "metadata": {},
     "output_type": "execute_result"
    }
   ],
   "source": [
    "#Criação de outra coleção, mas sem a inserção de dados.\n",
    "\n",
    "db.create_collection"
   ]
  },
  {
   "cell_type": "markdown",
   "id": "c95b6b20",
   "metadata": {},
   "source": [
    "### Retornando dados"
   ]
  },
  {
   "cell_type": "code",
   "execution_count": 42,
   "id": "a032653c",
   "metadata": {},
   "outputs": [],
   "source": [
    "import pymongo"
   ]
  },
  {
   "cell_type": "code",
   "execution_count": 43,
   "id": "93ffb828",
   "metadata": {},
   "outputs": [],
   "source": [
    "client_con = pymongo.MongoClient()"
   ]
  },
  {
   "cell_type": "code",
   "execution_count": 44,
   "id": "6cbd631b",
   "metadata": {},
   "outputs": [
    {
     "name": "stdout",
     "output_type": "stream",
     "text": [
      "['admin', 'cadastro', 'cadastrodb', 'config', 'local']\n"
     ]
    },
    {
     "data": {
      "text/plain": [
       "list"
      ]
     },
     "execution_count": 44,
     "metadata": {},
     "output_type": "execute_result"
    }
   ],
   "source": [
    "# Listando os bancos de dados disponíveis\n",
    "print(client_con.list_database_names())\n",
    "type(client_con.list_database_names())\n",
    "\n",
    "#admin, config e local são do próprio MongoDB."
   ]
  },
  {
   "cell_type": "code",
   "execution_count": 45,
   "id": "777a7dd4",
   "metadata": {},
   "outputs": [],
   "source": [
    "#Definindo outro objeto como banco de dados.\n",
    "#Como não é um nome novo, é buscado o banco correspondente a esse nome.\n",
    "database = client_con.cadastrodb"
   ]
  },
  {
   "cell_type": "code",
   "execution_count": 46,
   "id": "8c84fdc0",
   "metadata": {
    "scrolled": true
   },
   "outputs": [
    {
     "name": "stdout",
     "output_type": "stream",
     "text": [
      "['cadastrocoll', 'posts', 'partidas']\n",
      "\n",
      "['cadastro']\n",
      "\n",
      "['system.version']\n",
      "\n",
      "['system.sessions']\n",
      "\n",
      "['startup_log']\n"
     ]
    }
   ],
   "source": [
    "#Novamente, a lista de coleções em cada banco.\n",
    "print(database.list_collection_names()) #no cadastrodb\n",
    "print('')\n",
    "print(client_con.cadastro.list_collection_names())\n",
    "print('')\n",
    "print(client_con.admin.list_collection_names())\n",
    "print('')\n",
    "print(client_con.config.list_collection_names())\n",
    "print('')\n",
    "print(client_con.local.list_collection_names())"
   ]
  },
  {
   "cell_type": "code",
   "execution_count": 55,
   "id": "b3375c74",
   "metadata": {},
   "outputs": [
    {
     "name": "stdout",
     "output_type": "stream",
     "text": [
      "Já existe uma coleção com esse nome.\n"
     ]
    }
   ],
   "source": [
    "try:\n",
    "    database.create_collection(\"partidas\")\n",
    "except:\n",
    "    print('Já existe uma coleção com esse nome.')"
   ]
  },
  {
   "cell_type": "code",
   "execution_count": 56,
   "id": "d78bdb73",
   "metadata": {},
   "outputs": [
    {
     "name": "stdout",
     "output_type": "stream",
     "text": [
      "{'_id': ObjectId('6112dcfa1b596f0290712fb8'), 'codigo': 'ID-9987725', 'prod_name': 'Geladeira', 'marcas': ['brastemp', 'consul', 'elecrolux'], 'data_cadastro': datetime.datetime(2021, 8, 10, 20, 9, 25, 599000)}\n",
      ".\n",
      ".\n",
      "\n",
      "{'_id': ObjectId('6113087a5a99476e2cec40bf'), 'Nome': 'Dungeon Drop', 'Idade': 8, 'JMin': 1, 'JMax': 4, 'Designer': 'Scott R. Smith', 'Artista': 'Marília Nascimento', 'Editoras': ['Grok Games', 'Phase Shift Games', 'Gamewright'], 'Mecânicas': ['Cerco de Área', 'Colecionar Componentes', 'Force sua sorte', 'Jogadores com Diferentes Habilidades', 'Seleção de Cartas', 'Tabuleiro Modular'], 'Preço': 159.44, 'Data': datetime.datetime(2021, 8, 10, 23, 15, 5, 722000)}\n"
     ]
    }
   ],
   "source": [
    "#.find_one busca o \"primeiro\" documento.\n",
    "\n",
    "print(database.posts.find_one())\n",
    "print('.\\n.\\n')\n",
    "print(database.cadastrocoll.find_one())"
   ]
  },
  {
   "cell_type": "code",
   "execution_count": 59,
   "id": "7b7ebe1c",
   "metadata": {},
   "outputs": [
    {
     "name": "stdout",
     "output_type": "stream",
     "text": [
      "_id: 6113087a5a99476e2cec40bf\n",
      "Nome: Dungeon Drop\n",
      "Idade: 8\n",
      "JMin: 1\n",
      "JMax: 4\n",
      "Designer: Scott R. Smith\n",
      "Artista: Marília Nascimento\n",
      "Editoras: ['Grok Games', 'Phase Shift Games', 'Gamewright']\n",
      "Mecânicas: ['Cerco de Área', 'Colecionar Componentes', 'Force sua sorte', 'Jogadores com Diferentes Habilidades', 'Seleção de Cartas', 'Tabuleiro Modular']\n",
      "Preço: 159.44\n",
      "Data: 2021-08-10 23:15:05.722000\n",
      "\n",
      "_id: 6113087c5a99476e2cec40c0\n",
      "Nome: Entre Linhas\n",
      "Idade: 10\n",
      "JMin: 2\n",
      "JMax: 6\n",
      "Designer: Grégory Grard\n",
      "Artista: Simon Douchy\n",
      "Editoras: ['PaperGames', 'Rebel Sp. z o.o.', 'Fractal Juegos', 'Blue Orange (EU)', 'Blue Orange Games']\n",
      "Mecânicas: ['Cooperativo', 'Dedução']\n",
      "Preço: 97.07\n",
      "Data: 2021-08-10 23:15:07.458000\n",
      "\n"
     ]
    }
   ],
   "source": [
    "# A função .find() retorna um cursor e podemos então navegar pelos dados\n",
    "\n",
    "# A cada ponto:\n",
    "#    pacote pymongo; #padrão\n",
    "#    conectado pelo MongoClient(); #padrão\n",
    "#    banco de dados 'cadastrodb';\n",
    "#    coleção 'cadastrocoll';\n",
    "#    encontre os documentos().\n",
    "\n",
    "for i in pymongo.MongoClient().cadastrodb.cadastrocoll.find():\n",
    "    for j in i:\n",
    "        print(f'{j}: {i[j]}')\n",
    "    print('')"
   ]
  },
  {
   "cell_type": "code",
   "execution_count": 66,
   "id": "d772604d",
   "metadata": {},
   "outputs": [
    {
     "name": "stdout",
     "output_type": "stream",
     "text": [
      "2\n",
      "<class 'int'>\n"
     ]
    }
   ],
   "source": [
    "#.estimated_document_count() conta quantos documentos há na coleção.\n",
    "\n",
    "games_colect = database.cadastrocoll\n",
    "\n",
    "print(games_colect.estimated_document_count())\n",
    "print(type(games_colect.estimated_document_count()))\n",
    "\n",
    "#(?) count_document. quais são os parâmetros de busca?"
   ]
  },
  {
   "cell_type": "code",
   "execution_count": null,
   "id": "54483b98",
   "metadata": {},
   "outputs": [],
   "source": []
  }
 ],
 "metadata": {
  "kernelspec": {
   "display_name": "Python 3",
   "language": "python",
   "name": "python3"
  },
  "language_info": {
   "codemirror_mode": {
    "name": "ipython",
    "version": 3
   },
   "file_extension": ".py",
   "mimetype": "text/x-python",
   "name": "python",
   "nbconvert_exporter": "python",
   "pygments_lexer": "ipython3",
   "version": "3.8.8"
  }
 },
 "nbformat": 4,
 "nbformat_minor": 5
}
