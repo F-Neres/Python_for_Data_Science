{
 "cells": [
  {
   "cell_type": "markdown",
   "id": "6b86fc90",
   "metadata": {},
   "source": [
    "\"Numerical Python\" é usado para trabalhar com arrays para álgebra linear, transformação de fourier e matrizes.\n",
    "\n",
    "NumPy foca em dispor um objeto array que é até 50 vezes mais rápido que a tradicional lista do Python.\n",
    "\n",
    "Arrays do NumPy são estocados em um local contínuo na memória diferente das listas, então os processos podem acessá-las e manipulá-las muito eficientemente."
   ]
  },
  {
   "cell_type": "markdown",
   "id": "2f70cda0",
   "metadata": {},
   "source": [
    "https://www.w3schools.com/python/numpy/default.asp"
   ]
  },
  {
   "cell_type": "code",
   "execution_count": null,
   "id": "875e2346",
   "metadata": {},
   "outputs": [],
   "source": [
    "import numpy"
   ]
  }
 ],
 "metadata": {
  "kernelspec": {
   "display_name": "Python 3",
   "language": "python",
   "name": "python3"
  },
  "language_info": {
   "codemirror_mode": {
    "name": "ipython",
    "version": 3
   },
   "file_extension": ".py",
   "mimetype": "text/x-python",
   "name": "python",
   "nbconvert_exporter": "python",
   "pygments_lexer": "ipython3",
   "version": "3.8.8"
  }
 },
 "nbformat": 4,
 "nbformat_minor": 5
}
