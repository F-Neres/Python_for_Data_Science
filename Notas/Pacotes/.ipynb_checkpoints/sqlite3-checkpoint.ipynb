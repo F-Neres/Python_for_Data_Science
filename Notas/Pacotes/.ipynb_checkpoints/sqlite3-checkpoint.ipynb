{
 "cells": [
  {
   "cell_type": "markdown",
   "metadata": {},
   "source": [
    "# Standard Query Language"
   ]
  },
  {
   "cell_type": "markdown",
   "metadata": {},
   "source": [
    "Comandos importantes para este pacote:\n",
    "\n",
    "#### $conexão$ = sqlite3.connect(r'*path.db*')\n",
    "Define o database em uso.\n",
    "Ainda não sei se vários bancos podem estar abertos ao mesmo tempo.\n",
    "\n",
    "#### $cursor$ = $conexão$.cursor()\n",
    "Define um objeto que receberá as ordens para atuar no banco de dados.\n",
    "\n",
    "#### $cursor$.execute('string_query')\n",
    "Este comando transfere toda linguagem SQL para o Python.\n",
    "As strings são salvas como queries.\n",
    "\n",
    "#### $cursor$.execute('insert into $tabela$ values (?, ?, ?)',$tuplas$)\n",
    "Em instruções de listagem, é possível deixar os valores em uma tupla e a query com uma estrutura padrão.\n",
    "Isso é útil quando se deseja usar tuplas prontas, como em laços, e em vários comandos diferentes.\n",
    "\n",
    "#### $lista$ = $cursor$.fetchall()\n",
    "Cria um objeto que é uma lista com os dados do último \"select\" (eu acho).\n",
    "\n",
    "#### $conexão$.commit()\n",
    "Salva as alterações em caso de blackout.\n",
    "\n",
    "#### $cursor$.close()\n",
    "#### $conexão$.close()\n",
    "São comandos para fechar o cursos e a conexão."
   ]
  },
  {
   "cell_type": "markdown",
   "metadata": {},
   "source": [
    "#### Error: database is locked ####\n",
    "Ocorre porque há conexões abertas que travam a tabela, impossibilitando-a de ser alterada.\n",
    "Se não tiver certeza de que todas as conexões estão encerradas, reinicie e limpe todas as saídas pelo Kernel."
   ]
  },
  {
   "cell_type": "markdown",
   "metadata": {},
   "source": [
    "Algumas queries dependem de aspas. Basta usar aspas duplas para a string e aspas simples internamente."
   ]
  },
  {
   "cell_type": "code",
   "execution_count": null,
   "metadata": {},
   "outputs": [],
   "source": [
    "#Criando um comando para apagar/reiniciar o arquivo.\n",
    "\n",
    "import os\n",
    "\n",
    "def redo(conexão,caminho):\n",
    "    try:\n",
    "        os.remove(caminho) if os.path.exists(caminho) else None\n",
    "    except PermissionError:\n",
    "        print('Redo encerrou a conexão.')\n",
    "        conexão.close()\n",
    "    else:\n",
    "        None\n",
    "    os.remove(caminho) if os.path.exists(caminho) else None\n",
    "    print(\"Redo apagou o arquivo (eu acho)\")\n",
    "\n",
    "def redoA(conexão,caminho):\n",
    "    conexão.close()\n",
    "    os.remove(caminho) if os.path.exists(caminho) else None\n",
    "\n",
    "try:\n",
    "    conn.close()\n",
    "except:\n",
    "    None\n",
    "\n",
    "os.remove(r'../ArquivosParalelos/escola.db') if os.path.exists(r'../ArquivosParalelos/escola.db') else None"
   ]
  },
  {
   "cell_type": "code",
   "execution_count": null,
   "metadata": {},
   "outputs": [],
   "source": [
    "#Importação do módulo SQLite3\n",
    "\n",
    "import sqlite3"
   ]
  },
  {
   "cell_type": "code",
   "execution_count": null,
   "metadata": {},
   "outputs": [],
   "source": [
    "try: #tente\n",
    "    conn #chamar o objeto \"conn\"\n",
    "except NameError: #se o objeto não foi determinado\n",
    "    print('nada')\n",
    "    None #Nada acontece\n",
    "else: #caso contrário\n",
    "    print('foi')\n",
    "    redo(conn,r'../ArquivosParalelos/escola.db') #Use a função para fechar a conexão e deletar o arquivo\n",
    "#Não consegui aplicar apenas o delete do arquivo"
   ]
  },
  {
   "cell_type": "markdown",
   "metadata": {},
   "source": [
    "### Início"
   ]
  },
  {
   "cell_type": "code",
   "execution_count": 22,
   "metadata": {},
   "outputs": [
    {
     "name": "stdout",
     "output_type": "stream",
     "text": [
      "<class 'sqlite3.Connection'>\n"
     ]
    }
   ],
   "source": [
    "# Cria uma CONEXÃO do script sendo rodado com um banco de dados\n",
    "# Se o Banco de dados com o nome referido não existir no diretório, ele é criado nesse momento.\n",
    "# Um arquivo com o nome (em string) é criado/aberto no diretório.\n",
    "# Arquivos no formato .db são arquivos de banco de dados. A conexão pode ser feita com qualque arquivo.\n",
    "\n",
    "conn = sqlite3.connect(r'../ArquivosParalelos/escola.db')\n",
    "\n",
    "print(type(conn)) #Eis o tipo da conexão que se encontra no pacote sqlite3."
   ]
  },
  {
   "cell_type": "markdown",
   "metadata": {},
   "source": [
    "Conexões se parecem com a determinação de qual banco de dados está em uso no MySQL."
   ]
  },
  {
   "cell_type": "code",
   "execution_count": 23,
   "metadata": {},
   "outputs": [],
   "source": [
    "#     conn.close()\n",
    "\n",
    "#     redo(conn,r'../ArquivosParalelos/escola.db')\n"
   ]
  },
  {
   "cell_type": "code",
   "execution_count": 24,
   "metadata": {},
   "outputs": [
    {
     "name": "stdout",
     "output_type": "stream",
     "text": [
      "<class 'sqlite3.Cursor'>\n"
     ]
    }
   ],
   "source": [
    "# Criação de um CURSOR.\n",
    "# Um cursor é um objeto que funciona como cordenada.\n",
    "# O cursor é parte de um, não mais nem menos que um, objeto CONEXÃO; neste caso, do objeto \"conn\".\n",
    "\n",
    "curs = conn.cursor()\n",
    "\n",
    "print(type(curs))"
   ]
  },
  {
   "cell_type": "code",
   "execution_count": 25,
   "metadata": {},
   "outputs": [
    {
     "name": "stdout",
     "output_type": "stream",
     "text": [
      "create table cursos (id integer primary key, titulo varchar(100), categoria varchar(140))\n",
      "create table cursos (id integer primary key, titulo varchar(100), categoria varchar(140))\n"
     ]
    }
   ],
   "source": [
    "# Queries em python são strings executadas.\n",
    "\n",
    "# Criação da string na forma do objeto \"string_executavel\":\n",
    "\n",
    "\n",
    "string_executavel = 'create table cursos '\\\n",
    "'(id integer primary key, '\\\n",
    "'titulo varchar(100), '\\\n",
    "'categoria varchar(140))'\n",
    "# PRYMARY KEY entra como constraint.\n",
    "\n",
    "print(string_executavel)\n",
    "\n",
    "# por extenso\n",
    "string_executavel = 'create table cursos (id integer primary key, titulo varchar(100), categoria varchar(140))'\n",
    "\n",
    "# O nome da tabela é \"cursos\"\n",
    "# A coluna \"id\" é do tipo interger e é uma chave primária, não admitindo valores repetidos.\n",
    "# As colunas \"título\" e \"categoria\" são do tipo varchar, aceitando até 100 e 140 caracteres, respectivamente.\n",
    "\n",
    "print(string_executavel)"
   ]
  },
  {
   "cell_type": "code",
   "execution_count": 26,
   "metadata": {},
   "outputs": [
    {
     "ename": "OperationalError",
     "evalue": "table cursos already exists",
     "output_type": "error",
     "traceback": [
      "\u001b[1;31m---------------------------------------------------------------------------\u001b[0m",
      "\u001b[1;31mOperationalError\u001b[0m                          Traceback (most recent call last)",
      "\u001b[1;32m<ipython-input-26-0668512b331d>\u001b[0m in \u001b[0;36m<module>\u001b[1;34m\u001b[0m\n\u001b[0;32m      1\u001b[0m \u001b[1;31m# Agora é pedido que o cursor \"curs\" (que está na conexão \"conn\" com o arquivo escola.db) execute o comando da string \"string_executavel\"\u001b[0m\u001b[1;33m\u001b[0m\u001b[1;33m\u001b[0m\u001b[1;33m\u001b[0m\u001b[0m\n\u001b[0;32m      2\u001b[0m \u001b[1;33m\u001b[0m\u001b[0m\n\u001b[1;32m----> 3\u001b[1;33m \u001b[0mcurs\u001b[0m\u001b[1;33m.\u001b[0m\u001b[0mexecute\u001b[0m\u001b[1;33m(\u001b[0m\u001b[0mstring_executavel\u001b[0m\u001b[1;33m)\u001b[0m\u001b[1;33m\u001b[0m\u001b[1;33m\u001b[0m\u001b[0m\n\u001b[0m\u001b[0;32m      4\u001b[0m \u001b[1;33m\u001b[0m\u001b[0m\n\u001b[0;32m      5\u001b[0m \u001b[1;31m# A tabela existe e possui parâmetros, mas não tem conteúdo.\u001b[0m\u001b[1;33m\u001b[0m\u001b[1;33m\u001b[0m\u001b[1;33m\u001b[0m\u001b[0m\n",
      "\u001b[1;31mOperationalError\u001b[0m: table cursos already exists"
     ]
    }
   ],
   "source": [
    "# Agora é pedido que o cursor \"curs\" (que está na conexão \"conn\" com o arquivo escola.db) execute o comando da string \"string_executavel\"\n",
    "\n",
    "curs.execute(string_executavel)\n",
    "\n",
    "# A tabela existe e possui parâmetros, mas não tem conteúdo."
   ]
  },
  {
   "cell_type": "code",
   "execution_count": 27,
   "metadata": {},
   "outputs": [],
   "source": [
    "# Outra string de query.\n",
    "#A query é criada sem os dados, apenas com as lacunas.\n",
    "\n",
    "string_insercao = 'insert into cursos values (?, ?, ?)'"
   ]
  },
  {
   "cell_type": "code",
   "execution_count": 28,
   "metadata": {},
   "outputs": [
    {
     "name": "stdout",
     "output_type": "stream",
     "text": [
      "<class 'list'>\n",
      "<class 'tuple'>\n"
     ]
    }
   ],
   "source": [
    "# Dados a serem inseridos\n",
    "# O conjunto é uma lista\n",
    "# Cada item da lista é um registro no formato de tupla.\n",
    "recset = [(1000, 'Ciência de Dados', 'Data Science'),\n",
    "          (1001, 'Big Data Fundamentos', 'Big Data'),\n",
    "          (1002, 'Python Fundamentos', 'Análise de Dados')]\n",
    "\n",
    "print(type(recset))\n",
    "print(type(recset[1]))"
   ]
  },
  {
   "cell_type": "code",
   "execution_count": 29,
   "metadata": {},
   "outputs": [
    {
     "ename": "IntegrityError",
     "evalue": "UNIQUE constraint failed: cursos.id",
     "output_type": "error",
     "traceback": [
      "\u001b[1;31m---------------------------------------------------------------------------\u001b[0m",
      "\u001b[1;31mIntegrityError\u001b[0m                            Traceback (most recent call last)",
      "\u001b[1;32m<ipython-input-29-16c0157169bd>\u001b[0m in \u001b[0;36m<module>\u001b[1;34m\u001b[0m\n\u001b[0;32m      7\u001b[0m \u001b[1;33m\u001b[0m\u001b[0m\n\u001b[0;32m      8\u001b[0m \u001b[1;32mfor\u001b[0m \u001b[0mlinha\u001b[0m \u001b[1;32min\u001b[0m \u001b[0mrecset\u001b[0m\u001b[1;33m:\u001b[0m\u001b[1;33m\u001b[0m\u001b[1;33m\u001b[0m\u001b[0m\n\u001b[1;32m----> 9\u001b[1;33m     \u001b[0mcurs\u001b[0m\u001b[1;33m.\u001b[0m\u001b[0mexecute\u001b[0m\u001b[1;33m(\u001b[0m\u001b[0mstring_insercao\u001b[0m\u001b[1;33m,\u001b[0m \u001b[0mlinha\u001b[0m\u001b[1;33m)\u001b[0m\u001b[1;33m\u001b[0m\u001b[1;33m\u001b[0m\u001b[0m\n\u001b[0m\u001b[0;32m     10\u001b[0m \u001b[1;33m\u001b[0m\u001b[0m\n\u001b[0;32m     11\u001b[0m \u001b[1;31m# .execute recebe como parâmetros a estrutura da query e a tupla de registro.\u001b[0m\u001b[1;33m\u001b[0m\u001b[1;33m\u001b[0m\u001b[1;33m\u001b[0m\u001b[0m\n",
      "\u001b[1;31mIntegrityError\u001b[0m: UNIQUE constraint failed: cursos.id"
     ]
    }
   ],
   "source": [
    "# Finalmente, a execução do comando de inserção de dados\n",
    "\n",
    "# Para cada \"linha\" em \"recset\",\n",
    "# O cursor \"curs\", na conexão \"conn\", executa\n",
    "# o comando na forma de string contido em \"string_insercao\"\n",
    "# adicionando uma \"linha\"\n",
    "\n",
    "for linha in recset:\n",
    "    curs.execute(string_insercao, linha)\n",
    "\n",
    "# .execute recebe como parâmetros a estrutura da query e a tupla de registro.\n",
    "# Outra forma de adicionar esses dados seria executando o comando tupla por tupla. A lista serviu apenas para o for.\n",
    "\n",
    "# Se o comando for executado duas vezes, o erro dirá que um dos atributos não pode ser repetido (primary key)."
   ]
  },
  {
   "cell_type": "code",
   "execution_count": 30,
   "metadata": {},
   "outputs": [],
   "source": [
    "# Grava a transação\n",
    "# Tornar factível, não apenas alterações na conexão.\n",
    "conn.commit()\n",
    "\n",
    "#Se o script for encerrado antes disso, os dados são perdidos."
   ]
  },
  {
   "cell_type": "code",
   "execution_count": 31,
   "metadata": {},
   "outputs": [
    {
     "name": "stdout",
     "output_type": "stream",
     "text": [
      "[(1, 'teste 1, 2, 3', '123'), (1000, 'Ciência de Dados', 'Data Science'), (1001, 'Big Data Fundamentos', 'Big Data'), (1002, 'Python Fundamentos', 'Análise de Dados'), (1003, 'Gestão de Dados com MongoDB', 'Big Data'), (1004, 'R Fundamentos', 'Análise de Dados'), (1005, 'Qualquer coisa', 'Sei lá')]\n",
      "<class 'list'>\n",
      "\n",
      "\n",
      "Curso Id: 1, Título: teste 1, 2, 3, Categoria: 123 \n",
      "\n",
      "Curso Id: 1000, Título: Ciência de Dados, Categoria: Data Science \n",
      "\n",
      "Curso Id: 1001, Título: Big Data Fundamentos, Categoria: Big Data \n",
      "\n",
      "Curso Id: 1002, Título: Python Fundamentos, Categoria: Análise de Dados \n",
      "\n",
      "Curso Id: 1003, Título: Gestão de Dados com MongoDB, Categoria: Big Data \n",
      "\n",
      "Curso Id: 1004, Título: R Fundamentos, Categoria: Análise de Dados \n",
      "\n",
      "Curso Id: 1005, Título: Qualquer coisa, Categoria: Sei lá \n",
      "\n"
     ]
    }
   ],
   "source": [
    "#Query de seleção de registros\n",
    "\n",
    "# Selecione todos os atributos (colunas) de \"cursos\".\n",
    "# Notar que o cursos fica no database, não na tabela.\n",
    "\n",
    "string_select = 'select * from cursos'\n",
    "\n",
    "curs.execute(string_select) #O cursor passa a CONTER a seleção.\n",
    "dados = curs.fetchall() #O objeto \"dados\" é a instância \"fetchall\" do cursor \"curs\".\n",
    "\n",
    "#\"fetchall\" revela todos os dados alocados na memória em \"curs\". \n",
    "\n",
    "# \"Dados\" é aquela mesma lista inserida anteriormente.\n",
    "print(dados)\n",
    "print(type(dados))\n",
    "\n",
    "#Numa forma mais apresentável:\n",
    "\n",
    "print('\\n')\n",
    "for i in dados:\n",
    "    print('Curso Id: %d, Título: %s, Categoria: %s \\n' % i)\n"
   ]
  },
  {
   "cell_type": "code",
   "execution_count": 32,
   "metadata": {},
   "outputs": [
    {
     "ename": "IntegrityError",
     "evalue": "UNIQUE constraint failed: cursos.id",
     "output_type": "error",
     "traceback": [
      "\u001b[1;31m---------------------------------------------------------------------------\u001b[0m",
      "\u001b[1;31mIntegrityError\u001b[0m                            Traceback (most recent call last)",
      "\u001b[1;32m<ipython-input-32-a58a6ab50b5d>\u001b[0m in \u001b[0;36m<module>\u001b[1;34m\u001b[0m\n\u001b[0;32m      6\u001b[0m \u001b[1;33m\u001b[0m\u001b[0m\n\u001b[0;32m      7\u001b[0m \u001b[1;32mfor\u001b[0m \u001b[0mi\u001b[0m \u001b[1;32min\u001b[0m \u001b[0mrecset\u001b[0m\u001b[1;33m:\u001b[0m\u001b[1;33m\u001b[0m\u001b[1;33m\u001b[0m\u001b[0m\n\u001b[1;32m----> 8\u001b[1;33m     \u001b[0mcurs\u001b[0m\u001b[1;33m.\u001b[0m\u001b[0mexecute\u001b[0m\u001b[1;33m(\u001b[0m\u001b[0mstring_insercao\u001b[0m\u001b[1;33m,\u001b[0m \u001b[0mi\u001b[0m\u001b[1;33m)\u001b[0m\u001b[1;33m\u001b[0m\u001b[1;33m\u001b[0m\u001b[0m\n\u001b[0m\u001b[0;32m      9\u001b[0m \u001b[1;33m\u001b[0m\u001b[0m\n\u001b[0;32m     10\u001b[0m \u001b[1;31m#string_insercao mantém o padrão das proporções: inserir em cursos valores (?,?,?).\u001b[0m\u001b[1;33m\u001b[0m\u001b[1;33m\u001b[0m\u001b[1;33m\u001b[0m\u001b[0m\n",
      "\u001b[1;31mIntegrityError\u001b[0m: UNIQUE constraint failed: cursos.id"
     ]
    }
   ],
   "source": [
    "#Agora que a tabela possui dados, podemos adicionar dados novos\n",
    "#Isso não é só um arquivo de texto. É, de fato, um banco de dados.\n",
    "\n",
    "recset = [(1003, 'Gestão de Dados com MongoDB', 'Big Data'),\n",
    "          (1004, 'R Fundamentos', 'Análise de Dados')]\n",
    "\n",
    "for i in recset:\n",
    "    curs.execute(string_insercao, i)\n",
    "\n",
    "#string_insercao mantém o padrão das proporções: inserir em cursos valores (?,?,?)."
   ]
  },
  {
   "cell_type": "code",
   "execution_count": 33,
   "metadata": {},
   "outputs": [
    {
     "name": "stdout",
     "output_type": "stream",
     "text": [
      "Antes do commit:\n",
      "Curso Id: 1, Título: teste 1, 2, 3, Categoria: 123 \n",
      "\n",
      "Curso Id: 1000, Título: Ciência de Dados, Categoria: Data Science \n",
      "\n",
      "Curso Id: 1001, Título: Big Data Fundamentos, Categoria: Big Data \n",
      "\n",
      "Curso Id: 1002, Título: Python Fundamentos, Categoria: Análise de Dados \n",
      "\n",
      "Curso Id: 1003, Título: Gestão de Dados com MongoDB, Categoria: Big Data \n",
      "\n",
      "Curso Id: 1004, Título: R Fundamentos, Categoria: Análise de Dados \n",
      "\n",
      "Curso Id: 1005, Título: Qualquer coisa, Categoria: Sei lá \n",
      "\n",
      "Depois do commit:\n",
      "Curso Id: 1, Título: teste 1, 2, 3, Categoria: 123 \n",
      "\n",
      "Curso Id: 1000, Título: Ciência de Dados, Categoria: Data Science \n",
      "\n",
      "Curso Id: 1001, Título: Big Data Fundamentos, Categoria: Big Data \n",
      "\n",
      "Curso Id: 1002, Título: Python Fundamentos, Categoria: Análise de Dados \n",
      "\n",
      "Curso Id: 1003, Título: Gestão de Dados com MongoDB, Categoria: Big Data \n",
      "\n",
      "Curso Id: 1004, Título: R Fundamentos, Categoria: Análise de Dados \n",
      "\n",
      "Curso Id: 1005, Título: Qualquer coisa, Categoria: Sei lá \n",
      "\n"
     ]
    }
   ],
   "source": [
    "#Vejamos a importância do commit\n",
    "\n",
    "curs.execute('select * from cursos')\n",
    "dados_antes =  curs.fetchall()\n",
    "\n",
    "print('Antes do commit:')\n",
    "\n",
    "for i in dados_antes:\n",
    "    print('Curso Id: %d, Título: %s, Categoria: %s \\n' % i)\n",
    "\n",
    "conn.commit()\n",
    "\n",
    "curs.execute('select * from cursos')\n",
    "dados_depois = curs.fetchall()\n",
    "\n",
    "print('Depois do commit:')\n",
    "\n",
    "for i in dados_depois:\n",
    "    print('Curso Id: %d, Título: %s, Categoria: %s \\n' % i)\n",
    "\n",
    "\n",
    "# O COMMIT SÓ SE MOSTRA EFETIVO SE A CONEXÃO FOR ENCERRADA."
   ]
  },
  {
   "cell_type": "code",
   "execution_count": 34,
   "metadata": {},
   "outputs": [],
   "source": [
    "#Se algo for tentado com o arquivo que possui uma conexão aberda, retornará erro.\n",
    "\n",
    "conn.close()"
   ]
  },
  {
   "cell_type": "code",
   "execution_count": 35,
   "metadata": {},
   "outputs": [
    {
     "ename": "IntegrityError",
     "evalue": "UNIQUE constraint failed: cursos.id",
     "output_type": "error",
     "traceback": [
      "\u001b[1;31m---------------------------------------------------------------------------\u001b[0m",
      "\u001b[1;31mIntegrityError\u001b[0m                            Traceback (most recent call last)",
      "\u001b[1;32m<ipython-input-35-52f70e5e4c3c>\u001b[0m in \u001b[0;36m<module>\u001b[1;34m\u001b[0m\n\u001b[0;32m      8\u001b[0m \u001b[1;33m\u001b[0m\u001b[0m\n\u001b[0;32m      9\u001b[0m \u001b[1;32mfor\u001b[0m \u001b[0mi\u001b[0m \u001b[1;32min\u001b[0m \u001b[0mrecset\u001b[0m\u001b[1;33m:\u001b[0m\u001b[1;33m\u001b[0m\u001b[1;33m\u001b[0m\u001b[0m\n\u001b[1;32m---> 10\u001b[1;33m     \u001b[0mcurs\u001b[0m\u001b[1;33m.\u001b[0m\u001b[0mexecute\u001b[0m\u001b[1;33m(\u001b[0m\u001b[0mstring_insercao\u001b[0m\u001b[1;33m,\u001b[0m \u001b[0mi\u001b[0m\u001b[1;33m)\u001b[0m\u001b[1;33m\u001b[0m\u001b[1;33m\u001b[0m\u001b[0m\n\u001b[0m\u001b[0;32m     11\u001b[0m \u001b[1;33m\u001b[0m\u001b[0m\n\u001b[0;32m     12\u001b[0m \u001b[0mconn\u001b[0m\u001b[1;33m.\u001b[0m\u001b[0mclose\u001b[0m\u001b[1;33m(\u001b[0m\u001b[1;33m)\u001b[0m\u001b[1;33m\u001b[0m\u001b[1;33m\u001b[0m\u001b[0m\n",
      "\u001b[1;31mIntegrityError\u001b[0m: UNIQUE constraint failed: cursos.id"
     ]
    }
   ],
   "source": [
    "# Fechando sem commit\n",
    "\n",
    "conn = sqlite3.connect(r'../ArquivosParalelos/escola.db')\n",
    "curs = conn.cursor()\n",
    "\n",
    "recset = [(1005,'Qualquer coisa', 'Sei lá'),\n",
    "         (1,'teste 1, 2, 3',123)]\n",
    "\n",
    "for i in recset:\n",
    "    curs.execute(string_insercao, i)\n",
    "    \n",
    "conn.close()\n",
    "\n",
    "conn = sqlite3.connect(r'../ArquivosParalelos/escola.db')\n",
    "curs = conn.cursor()\n",
    "\n",
    "# Usando 'conn.cursos' ao invés de nomeá-lo como 'curs'.\n",
    "curs.execute('select * from cursos')\n",
    "\n",
    "dados2 = curs.fetchall()\n",
    "\n",
    "print('Sem commit')\n",
    "for i in dados2:\n",
    "    print('ID: %d; Título: %s; Categoria: %s\\n' % i)\n",
    "print('\\n')\n",
    "\n",
    "\n",
    "# A mesma coisa, mas usando commit antes de fechar\n",
    "\n",
    "conn = sqlite3.connect(r'../ArquivosParalelos/escola.db')\n",
    "curs = conn.cursor()\n",
    "\n",
    "recset = [(1005,'Qualquer coisa', 'Sei lá'),\n",
    "         (1,'teste 1, 2, 3',123)]\n",
    "\n",
    "for i in recset:\n",
    "    curs.execute(string_insercao, i)\n",
    "    \n",
    "conn.commit()\n",
    "conn.close()\n",
    "\n",
    "conn = sqlite3.connect(r'../ArquivosParalelos/escola.db')\n",
    "curs = conn.cursor()\n",
    "\n",
    "# Usando 'conn.cursos' ao invés de nomeá-lo como 'curs'.\n",
    "curs.execute('select * from cursos')\n",
    "\n",
    "dados2 = curs.fetchall()\n",
    "\n",
    "print('Com commit')\n",
    "for i in dados2:\n",
    "    print('ID: %d; Título: %s; Categoria: %s\\n' % i)"
   ]
  },
  {
   "cell_type": "markdown",
   "metadata": {},
   "source": [
    "## Queries diferentes"
   ]
  },
  {
   "cell_type": "code",
   "execution_count": 58,
   "metadata": {
    "scrolled": false
   },
   "outputs": [
    {
     "name": "stdout",
     "output_type": "stream",
     "text": [
      "('id', None, None, None, None, None, None) <class 'tuple'>\n",
      "('titulo', None, None, None, None, None, None) <class 'tuple'>\n",
      "('categoria', None, None, None, None, None, None) <class 'tuple'>\n",
      "\n",
      "<class 'tuple'>\n",
      "\n",
      "id <class 'str'>\n",
      "titulo <class 'str'>\n",
      "categoria <class 'str'>\n"
     ]
    }
   ],
   "source": [
    "# Obter informações das colunas.\n",
    "# O resultado é uma tupla composta por tuplas\n",
    "\n",
    "for i in curs.execute('select * from cursos').description:\n",
    "    print(i,type(i))\n",
    "    \n",
    "print('')\n",
    "print(type(curs.execute('select * from cursos').description))\n",
    "\n",
    "print('')\n",
    "\n",
    "# Para obter apenas os nomes.\n",
    "for i in curs.execute('select * from cursos').description:\n",
    "    print(i[0],type(i[0]))"
   ]
  },
  {
   "cell_type": "markdown",
   "metadata": {},
   "source": [
    "## Função de preenchimento automático"
   ]
  },
  {
   "cell_type": "code",
   "execution_count": 1,
   "metadata": {},
   "outputs": [],
   "source": [
    "import sqlite3\n",
    "import random\n",
    "import time\n",
    "import datetime\n",
    "\n"
   ]
  },
  {
   "cell_type": "code",
   "execution_count": 12,
   "metadata": {},
   "outputs": [],
   "source": [
    "# Função para criar uma tabela\n",
    "# Utiliza a instância \"c\" como global (?)\n",
    "def create_table(arquivo):\n",
    "    c = sqlite3.connect(arquivo).cursor()\n",
    "    c.execute('CREATE TABLE IF NOT EXISTS produtos(id INTEGER PRIMARY KEY AUTOINCREMENT NOT NULL, date TEXT, '\\\n",
    "              'prod_name TEXT, valor REAL)')\n",
    "    c.close()"
   ]
  },
  {
   "cell_type": "code",
   "execution_count": 3,
   "metadata": {
    "scrolled": true
   },
   "outputs": [],
   "source": [
    "# Função para inserir uma linha\n",
    "# Esta função serviu de base para a próxima.\n",
    "def data_insert():\n",
    "    c.execute(\"INSERT INTO produtos VALUES('2020-05-02 12:34:45', 'Teclado', 130.00 )\")\n",
    "    conn.commit()\n",
    "    c.close()\n",
    "    conn.close()"
   ]
  },
  {
   "cell_type": "code",
   "execution_count": 4,
   "metadata": {},
   "outputs": [],
   "source": [
    "def data_insert_var(n,arquivo):\n",
    "    conn = sqlite3.connect(arquivo)\n",
    "    c = conn.cursor() \n",
    "    for i in range(n): #cria n itens na lista\n",
    "        new_date = datetime.datetime.now() #cria um objeto contendo a data e a hora atuais\n",
    "        new_prod_name = random.choice(['Monitor', 'CPU', 'Teclado','Mouse']) #Escolhe um item na lista\n",
    "        new_valor = random.randrange(50,100) #Escolhe um preço para ser um valor\n",
    "        c.execute(\"INSERT INTO produtos (date, prod_name, valor) VALUES (?, ?, ?)\", (new_date, new_prod_name, new_valor))\n",
    "        conn.commit() #salva a alteração\n",
    "        time.sleep(1) #aguarda 1 segundo\n",
    "    c.close()"
   ]
  },
  {
   "cell_type": "code",
   "execution_count": 15,
   "metadata": {},
   "outputs": [],
   "source": [
    "conn = sqlite3.connect(r'../ArquivosParalelos/tempo.db')\n",
    "c = conn.cursor() \n",
    "\n",
    "create_table(r'../ArquivosParalelos/tempo.db')\n",
    "data_insert_var(8,r'../ArquivosParalelos/tempo.db')\n",
    "\n",
    "# Se for executado mais vezes, vai acrescentar mais dados."
   ]
  },
  {
   "cell_type": "markdown",
   "metadata": {},
   "source": [
    "## Função de leitura dos dados"
   ]
  },
  {
   "cell_type": "markdown",
   "metadata": {},
   "source": [
    "Execute as funções de inserção de dados antes."
   ]
  },
  {
   "cell_type": "code",
   "execution_count": 10,
   "metadata": {},
   "outputs": [],
   "source": [
    "def showall():\n",
    "    conn = sqlite3.connect(r'../ArquivosParalelos/tempo.db')\n",
    "    c = conn.cursor()\n",
    "    c.execute('select * from produtos')\n",
    "    data = c.fetchall()\n",
    "    for i in data:\n",
    "        print('Id: %d, Data: %s, Produto: %s, Valor: %d \\n' % i)\n",
    "    c.close()\n",
    "    conn.close()"
   ]
  },
  {
   "cell_type": "code",
   "execution_count": 11,
   "metadata": {},
   "outputs": [
    {
     "name": "stdout",
     "output_type": "stream",
     "text": [
      "Id: 1, Data: 2021-08-05 19:46:51.253529, Produto: CPU, Valor: 79 \n",
      "\n",
      "Id: 2, Data: 2021-08-05 19:46:52.298893, Produto: CPU, Valor: 72 \n",
      "\n",
      "Id: 3, Data: 2021-08-05 19:46:53.338346, Produto: Mouse, Valor: 88 \n",
      "\n",
      "Id: 4, Data: 2021-08-05 19:46:54.375938, Produto: Mouse, Valor: 70 \n",
      "\n",
      "Id: 5, Data: 2021-08-05 19:46:55.411009, Produto: Mouse, Valor: 56 \n",
      "\n",
      "Id: 6, Data: 2021-08-05 19:46:56.450510, Produto: Mouse, Valor: 65 \n",
      "\n",
      "Id: 7, Data: 2021-08-05 19:46:57.489701, Produto: Monitor, Valor: 70 \n",
      "\n",
      "Id: 8, Data: 2021-08-05 19:46:58.524387, Produto: Mouse, Valor: 75 \n",
      "\n",
      "Id: 9, Data: 2021-08-05 20:16:35.388870, Produto: CPU, Valor: 67 \n",
      "\n",
      "Id: 10, Data: 2021-08-05 20:16:36.447491, Produto: CPU, Valor: 75 \n",
      "\n",
      "Id: 11, Data: 2021-08-05 20:16:37.484513, Produto: Mouse, Valor: 65 \n",
      "\n",
      "Id: 12, Data: 2021-08-05 20:16:38.522215, Produto: Monitor, Valor: 95 \n",
      "\n",
      "Id: 13, Data: 2021-08-05 20:16:39.562061, Produto: CPU, Valor: 84 \n",
      "\n",
      "Id: 14, Data: 2021-08-05 20:16:40.605554, Produto: Mouse, Valor: 55 \n",
      "\n",
      "Id: 15, Data: 2021-08-05 20:16:41.635840, Produto: Monitor, Valor: 92 \n",
      "\n",
      "Id: 16, Data: 2021-08-05 20:16:42.666552, Produto: Monitor, Valor: 67 \n",
      "\n",
      "Id: 17, Data: 2021-08-05 20:17:25.000811, Produto: Monitor, Valor: 97 \n",
      "\n",
      "Id: 18, Data: 2021-08-05 20:17:26.049026, Produto: Monitor, Valor: 69 \n",
      "\n",
      "Id: 19, Data: 2021-08-05 20:17:27.087521, Produto: Teclado, Valor: 70 \n",
      "\n",
      "Id: 20, Data: 2021-08-05 20:17:28.133928, Produto: CPU, Valor: 77 \n",
      "\n",
      "Id: 21, Data: 2021-08-05 20:17:29.167497, Produto: Teclado, Valor: 52 \n",
      "\n",
      "Id: 22, Data: 2021-08-05 20:17:30.206363, Produto: Mouse, Valor: 51 \n",
      "\n",
      "Id: 23, Data: 2021-08-05 20:17:31.245494, Produto: Monitor, Valor: 80 \n",
      "\n",
      "Id: 24, Data: 2021-08-05 20:17:32.279493, Produto: Mouse, Valor: 88 \n",
      "\n"
     ]
    }
   ],
   "source": [
    "showall()"
   ]
  },
  {
   "cell_type": "code",
   "execution_count": 14,
   "metadata": {},
   "outputs": [
    {
     "name": "stdout",
     "output_type": "stream",
     "text": [
      "(1, '2021-08-05 19:46:51.253529', 'CPU', 79.0)\n",
      "(2, '2021-08-05 19:46:52.298893', 'CPU', 72.0)\n",
      "(3, '2021-08-05 19:46:53.338346', 'Mouse', 88.0)\n",
      "(4, '2021-08-05 19:46:54.375938', 'Mouse', 70.0)\n",
      "(5, '2021-08-05 19:46:55.411009', 'Mouse', 56.0)\n",
      "(6, '2021-08-05 19:46:56.450510', 'Mouse', 65.0)\n",
      "(7, '2021-08-05 19:46:57.489701', 'Monitor', 70.0)\n",
      "(8, '2021-08-05 19:46:58.524387', 'Mouse', 75.0)\n",
      "(9, '2021-08-05 20:16:35.388870', 'CPU', 67.0)\n",
      "(10, '2021-08-05 20:16:36.447491', 'CPU', 75.0)\n",
      "(11, '2021-08-05 20:16:37.484513', 'Mouse', 65.0)\n",
      "(12, '2021-08-05 20:16:38.522215', 'Monitor', 95.0)\n",
      "(13, '2021-08-05 20:16:39.562061', 'CPU', 84.0)\n",
      "(14, '2021-08-05 20:16:40.605554', 'Mouse', 55.0)\n",
      "(15, '2021-08-05 20:16:41.635840', 'Monitor', 92.0)\n",
      "(16, '2021-08-05 20:16:42.666552', 'Monitor', 67.0)\n",
      "(17, '2021-08-05 20:17:25.000811', 'Monitor', 97.0)\n",
      "(18, '2021-08-05 20:17:26.049026', 'Monitor', 69.0)\n",
      "(19, '2021-08-05 20:17:27.087521', 'Teclado', 70.0)\n",
      "(20, '2021-08-05 20:17:28.133928', 'CPU', 77.0)\n",
      "(21, '2021-08-05 20:17:29.167497', 'Teclado', 52.0)\n",
      "(22, '2021-08-05 20:17:30.206363', 'Mouse', 51.0)\n",
      "(23, '2021-08-05 20:17:31.245494', 'Monitor', 80.0)\n",
      "(24, '2021-08-05 20:17:32.279493', 'Mouse', 88.0)\n",
      "(25, '2021-08-05 20:18:37.455727', 'Mouse', 85.0)\n",
      "(26, '2021-08-05 20:18:38.510656', 'CPU', 62.0)\n",
      "(27, '2021-08-05 20:18:39.547275', 'Teclado', 60.0)\n",
      "(28, '2021-08-05 20:18:40.649978', 'CPU', 92.0)\n",
      "(29, '2021-08-05 20:18:41.685881', 'CPU', 84.0)\n",
      "(30, '2021-08-05 20:18:42.723865', 'Teclado', 52.0)\n",
      "(31, '2021-08-05 20:18:43.754900', 'Monitor', 50.0)\n",
      "(32, '2021-08-05 20:18:44.791968', 'Monitor', 99.0)\n"
     ]
    }
   ],
   "source": [
    "# Se nenhum objeto de conexão ou cursor for criado, o bloqueio é evitável.\n",
    "\n",
    "for i in sqlite3.connect(r'../ArquivosParalelos/tempo.db').cursor().execute('select * from produtos').fetchall(): print(i)"
   ]
  },
  {
   "cell_type": "markdown",
   "metadata": {},
   "source": [
    "## Separando colunas em listas independentes."
   ]
  },
  {
   "cell_type": "markdown",
   "metadata": {},
   "source": [
    "Foram feitos dicionários para manter o índice, mas a mesma fórmula pode ser usada para listas, se a ordem não for importante."
   ]
  },
  {
   "cell_type": "code",
   "execution_count": 62,
   "metadata": {},
   "outputs": [
    {
     "name": "stdout",
     "output_type": "stream",
     "text": [
      "['id', 'date', 'prod_name', 'valor']\n",
      "<class 'list'>\n"
     ]
    }
   ],
   "source": [
    "# Filtrando os nomes das colunas\n",
    "\n",
    "columns = []\n",
    "for i in sqlite3.connect(r'../ArquivosParalelos/tempo.db').cursor().execute('select * from produtos').description:\n",
    "    columns.append(i[0])\n",
    "print(columns)\n",
    "print(type(columns))"
   ]
  },
  {
   "cell_type": "code",
   "execution_count": 76,
   "metadata": {
    "scrolled": true
   },
   "outputs": [
    {
     "name": "stdout",
     "output_type": "stream",
     "text": [
      "Dicionário \"id\" criado com sucesso.\n",
      "Dicionário \"date\" criado com sucesso.\n",
      "Dicionário \"prod_name\" criado com sucesso.\n",
      "Dicionário \"valor\" criado com sucesso.\n"
     ]
    }
   ],
   "source": [
    "for N in columns:\n",
    "    ind = columns.index(N)\n",
    "    exec('%s = {}' % (N))\n",
    "    for linha in sqlite3.connect(r'../ArquivosParalelos/tempo.db').cursor().execute('select * from produtos').fetchall():\n",
    "        exec('%s[linha[0]]=linha[%s]' % (N,ind))\n",
    "    print('Dicionário \"%s\" criado com sucesso.' % N)\n",
    "\n"
   ]
  },
  {
   "cell_type": "code",
   "execution_count": 79,
   "metadata": {},
   "outputs": [
    {
     "name": "stdout",
     "output_type": "stream",
     "text": [
      "{1: 1, 2: 2, 3: 3, 4: 4, 5: 5, 6: 6, 7: 7, 8: 8, 9: 9, 10: 10, 11: 11, 12: 12, 13: 13, 14: 14, 15: 15, 16: 16, 17: 17, 18: 18, 19: 19, 20: 20, 21: 21, 22: 22, 23: 23, 24: 24, 25: 25, 26: 26, 27: 27, 28: 28, 29: 29, 30: 30, 31: 31, 32: 32, 33: 33, 34: 34, 35: 35, 36: 36, 37: 37, 38: 38, 39: 39, 40: 40}\n",
      "{1: '2021-08-05 19:46:51.253529', 2: '2021-08-05 19:46:52.298893', 3: '2021-08-05 19:46:53.338346', 4: '2021-08-05 19:46:54.375938', 5: '2021-08-05 19:46:55.411009', 6: '2021-08-05 19:46:56.450510', 7: '2021-08-05 19:46:57.489701', 8: '2021-08-05 19:46:58.524387', 9: '2021-08-05 20:16:35.388870', 10: '2021-08-05 20:16:36.447491', 11: '2021-08-05 20:16:37.484513', 12: '2021-08-05 20:16:38.522215', 13: '2021-08-05 20:16:39.562061', 14: '2021-08-05 20:16:40.605554', 15: '2021-08-05 20:16:41.635840', 16: '2021-08-05 20:16:42.666552', 17: '2021-08-05 20:17:25.000811', 18: '2021-08-05 20:17:26.049026', 19: '2021-08-05 20:17:27.087521', 20: '2021-08-05 20:17:28.133928', 21: '2021-08-05 20:17:29.167497', 22: '2021-08-05 20:17:30.206363', 23: '2021-08-05 20:17:31.245494', 24: '2021-08-05 20:17:32.279493', 25: '2021-08-05 20:18:37.455727', 26: '2021-08-05 20:18:38.510656', 27: '2021-08-05 20:18:39.547275', 28: '2021-08-05 20:18:40.649978', 29: '2021-08-05 20:18:41.685881', 30: '2021-08-05 20:18:42.723865', 31: '2021-08-05 20:18:43.754900', 32: '2021-08-05 20:18:44.791968', 33: '2021-08-05 20:23:31.294815', 34: '2021-08-05 20:23:32.341952', 35: '2021-08-05 20:23:33.383019', 36: '2021-08-05 20:23:34.423068', 37: '2021-08-05 20:23:35.462010', 38: '2021-08-05 20:23:36.496467', 39: '2021-08-05 20:23:37.535407', 40: '2021-08-05 20:23:38.573338'}\n",
      "{1: 'CPU', 2: 'CPU', 3: 'Mouse', 4: 'Mouse', 5: 'Mouse', 6: 'Mouse', 7: 'Monitor', 8: 'Mouse', 9: 'CPU', 10: 'CPU', 11: 'Mouse', 12: 'Monitor', 13: 'CPU', 14: 'Mouse', 15: 'Monitor', 16: 'Monitor', 17: 'Monitor', 18: 'Monitor', 19: 'Teclado', 20: 'CPU', 21: 'Teclado', 22: 'Mouse', 23: 'Monitor', 24: 'Mouse', 25: 'Mouse', 26: 'CPU', 27: 'Teclado', 28: 'CPU', 29: 'CPU', 30: 'Teclado', 31: 'Monitor', 32: 'Monitor', 33: 'CPU', 34: 'Mouse', 35: 'Teclado', 36: 'Monitor', 37: 'Monitor', 38: 'Mouse', 39: 'Monitor', 40: 'Mouse'}\n",
      "{1: 79.0, 2: 72.0, 3: 88.0, 4: 70.0, 5: 56.0, 6: 65.0, 7: 70.0, 8: 75.0, 9: 67.0, 10: 75.0, 11: 65.0, 12: 95.0, 13: 84.0, 14: 55.0, 15: 92.0, 16: 67.0, 17: 97.0, 18: 69.0, 19: 70.0, 20: 77.0, 21: 52.0, 22: 51.0, 23: 80.0, 24: 88.0, 25: 85.0, 26: 62.0, 27: 60.0, 28: 92.0, 29: 84.0, 30: 52.0, 31: 50.0, 32: 99.0, 33: 79.0, 34: 57.0, 35: 59.0, 36: 81.0, 37: 78.0, 38: 73.0, 39: 69.0, 40: 92.0}\n"
     ]
    }
   ],
   "source": [
    "for N in columns:\n",
    "    exec('print(%s)' % N)\n",
    "    \n",
    "#Peguei uma string e joguei como variável de outra string dentro de um exec\n",
    "#Com isso, o que seria lido como N foi interpretado como chamada, não como string"
   ]
  },
  {
   "cell_type": "code",
   "execution_count": null,
   "metadata": {},
   "outputs": [],
   "source": []
  }
 ],
 "metadata": {
  "kernelspec": {
   "display_name": "Python 3",
   "language": "python",
   "name": "python3"
  },
  "language_info": {
   "codemirror_mode": {
    "name": "ipython",
    "version": 3
   },
   "file_extension": ".py",
   "mimetype": "text/x-python",
   "name": "python",
   "nbconvert_exporter": "python",
   "pygments_lexer": "ipython3",
   "version": "3.8.8"
  }
 },
 "nbformat": 4,
 "nbformat_minor": 4
}
