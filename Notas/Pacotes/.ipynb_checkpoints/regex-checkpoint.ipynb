{
 "cells": [
  {
   "cell_type": "code",
   "execution_count": 1,
   "id": "7a7554e5",
   "metadata": {},
   "outputs": [],
   "source": [
    "import re"
   ]
  },
  {
   "cell_type": "markdown",
   "id": "d8531e04",
   "metadata": {},
   "source": [
    "Regex é uma sublinguagem inserida no Python, usada para lidar com texto."
   ]
  },
  {
   "cell_type": "markdown",
   "id": "fe54d292",
   "metadata": {},
   "source": [
    "https://docs.python.org/pt-br/3.8/howto/regex.html"
   ]
  },
  {
   "cell_type": "code",
   "execution_count": 2,
   "id": "7c7a7e37",
   "metadata": {},
   "outputs": [
    {
     "name": "stdout",
     "output_type": "stream",
     "text": [
      "<re.Match object; span=(10, 15), match='teste'>\n"
     ]
    }
   ],
   "source": [
    "#Search serve para buscar uma palavra na string\n",
    "#Retorna apenas a primeira ocorrência; bom para 'if'\n",
    "\n",
    "texto = 'Este é um teste de expressões regulares.'\n",
    "print(re.search(r'teste',texto))\n",
    "\n",
    "#<re.Match object; span=(10, 15), match='teste'>\n",
    "# span demonstra os índices onde começa e onde termina a expressão."
   ]
  },
  {
   "cell_type": "code",
   "execution_count": 3,
   "id": "5be5b2cf",
   "metadata": {},
   "outputs": [
    {
     "name": "stdout",
     "output_type": "stream",
     "text": [
      "None\n"
     ]
    }
   ],
   "source": [
    "#Aqui, não há ocorrência.\n",
    "print(re.search(r'teste2',texto))"
   ]
  },
  {
   "cell_type": "code",
   "execution_count": 4,
   "id": "d701affe",
   "metadata": {},
   "outputs": [
    {
     "name": "stdout",
     "output_type": "stream",
     "text": [
      "['te', 'te', 'te']\n"
     ]
    }
   ],
   "source": [
    "#Findall retorna uma lista com todas as ocorrências\n",
    "#Usar o tamanho da lista para averigual o número de ocorrências.\n",
    "print(re.findall(r'te',texto))"
   ]
  },
  {
   "cell_type": "code",
   "execution_count": 5,
   "id": "ae27c476",
   "metadata": {},
   "outputs": [
    {
     "name": "stdout",
     "output_type": "stream",
     "text": [
      "[]\n"
     ]
    }
   ],
   "source": [
    "#Não havendo compatibilidade, a lista é vazia\n",
    "print(re.findall(r'te2',texto))"
   ]
  },
  {
   "cell_type": "code",
   "execution_count": 8,
   "id": "749989e7",
   "metadata": {},
   "outputs": [
    {
     "name": "stdout",
     "output_type": "stream",
     "text": [
      "Este é um guia de expressões regulares.\n",
      "EstE é um tEstE de expressões regulares.\n"
     ]
    }
   ],
   "source": [
    "#Sub serve para substituir uma expressão por outra\n",
    "print(re.sub(r'teste','guia',texto))\n",
    "\n",
    "#count diz quantas auterações serão realizadas\n",
    "print(re.sub(r'e','E',texto,count=3))"
   ]
  },
  {
   "cell_type": "code",
   "execution_count": 9,
   "id": "1b21d9d4",
   "metadata": {},
   "outputs": [
    {
     "name": "stdout",
     "output_type": "stream",
     "text": [
      "Este é um teste de expressões regulares.\n"
     ]
    }
   ],
   "source": [
    "#Mandando imprimir os re, o texto original permanece intácto. Seria necessário sobrescrevê-lo.\n",
    "print(texto)"
   ]
  },
  {
   "cell_type": "code",
   "execution_count": 10,
   "id": "e3aadcc5",
   "metadata": {},
   "outputs": [
    {
     "name": "stdout",
     "output_type": "stream",
     "text": [
      "<re.Match object; span=(10, 15), match='teste'>\n",
      "['teste']\n",
      "Este é um TESTE de expressões regulares.\n"
     ]
    }
   ],
   "source": [
    "#Compile te permite reutilizar expressões regulares.\n",
    "#O Compile é alocado numa variável.\n",
    "\n",
    "var_regex = re.compile(r'teste')\n",
    "\n",
    "print(var_regex.search(texto))\n",
    "print(var_regex.findall(texto))\n",
    "print(var_regex.sub('TESTE',texto))"
   ]
  },
  {
   "cell_type": "markdown",
   "id": "c1665d5c",
   "metadata": {},
   "source": [
    "## Metacaracteres"
   ]
  },
  {
   "cell_type": "markdown",
   "id": "25995fb2",
   "metadata": {},
   "source": [
    "\\ = Serve para \"scapar\" um metacaractere, interpretando-o literalmente ao invés de como metacaractere."
   ]
  },
  {
   "cell_type": "markdown",
   "id": "b8b35f17",
   "metadata": {},
   "source": [
    "/ = "
   ]
  },
  {
   "cell_type": "markdown",
   "id": "fe6c67d9",
   "metadata": {},
   "source": [
    "| = ou"
   ]
  },
  {
   "cell_type": "markdown",
   "id": "6453215d",
   "metadata": {},
   "source": [
    ". = Substitui qualquer caractere, exceto quebra de linha. Usado no meio da expressão."
   ]
  },
  {
   "cell_type": "markdown",
   "id": "3281d842",
   "metadata": {},
   "source": [
    "[] = Substitui um caractere com um conjunto de caracteres. É como um ponto, mas seletivo. Caracteres não precisam ser escapados dentro do conjunto. Conjuntos com apenas um caractere são redundantes."
   ]
  },
  {
   "cell_type": "markdown",
   "id": "2104cf3b",
   "metadata": {},
   "source": [
    "[a-zA-Z] = Utiliza um range de letras no grupo. Os ranges só consideram caracteres de seus tipos (maiúsculos, minúsculos, numerais)."
   ]
  },
  {
   "cell_type": "markdown",
   "id": "9ffd4d7f",
   "metadata": {},
   "source": [
    "^ = "
   ]
  },
  {
   "cell_type": "markdown",
   "id": "042265b1",
   "metadata": {},
   "source": [
    "$ = "
   ]
  },
  {
   "cell_type": "markdown",
   "id": "ba6484bf",
   "metadata": {},
   "source": [
    "### Quantificadores greedy"
   ]
  },
  {
   "cell_type": "markdown",
   "id": "373547ec",
   "metadata": {},
   "source": [
    "Quantificadores são aplicados ao que vem antes deles, à esquerda. Eles alteram quantas vezes, quantas repetições, podem ser consideradas válidas.\n",
    "\n",
    "Os grupos precisam ser aplicados para que as repetições sigam um padrão, não apenas um caractere."
   ]
  },
  {
   "cell_type": "markdown",
   "id": "919062dd",
   "metadata": {},
   "source": [
    "Greedy: a verificação continua sendo executada até que haja uma incompatibilidade, não um fechamento - um  próximo caractere que se enquadre. \n",
    "\n",
    "Lógica de verificação: se o caractere do texto é compatível com o quantificador e ainda há quantidade para verificar, verifique se o próximo também é compatível; se não for, encerre o quantificador e prossiga para o próximo caractere da expressão.\n",
    "\n",
    "Isso pode gerar ambiguidade, o que te retorna resultados matches maiores do que esperado."
   ]
  },
  {
   "cell_type": "markdown",
   "id": "eeec8e78",
   "metadata": {},
   "source": [
    "\\* = Pode haver ou não, em qualquer quantidade (0 a n)."
   ]
  },
  {
   "cell_type": "markdown",
   "id": "6b5a4ca7",
   "metadata": {},
   "source": [
    "(dot all) .* : ponto e asterisco; captura qualquer quantidade de caracteres, exceto quebra de linha, de zero a n, e."
   ]
  },
  {
   "cell_type": "markdown",
   "id": "db33c61e",
   "metadata": {},
   "source": [
    "\\+ = Pelo menos 1."
   ]
  },
  {
   "cell_type": "markdown",
   "id": "a9ab408f",
   "metadata": {},
   "source": [
    "? = 0 ou 1"
   ]
  },
  {
   "cell_type": "markdown",
   "id": "56c13832",
   "metadata": {},
   "source": [
    "{n} = n repetições, especificamente."
   ]
  },
  {
   "cell_type": "markdown",
   "id": "08455526",
   "metadata": {},
   "source": [
    "{min,max} = Números de repetições mínimo e máximo. Deixar de descrever o máximo {min,} equivale a \"do mínimo ao ilimitado. Deixar de descrever o mínimo {,max} equivale a \"de zero ao máximo\", \"pelo menos o máximo\"."
   ]
  },
  {
   "cell_type": "markdown",
   "id": "12ac2d13",
   "metadata": {},
   "source": [
    "### Quantificadores lazies"
   ]
  },
  {
   "cell_type": "markdown",
   "id": "8671831f",
   "metadata": {},
   "source": [
    "(dot all non-greedy) .\\*? = Isso faz com que a verificação quantitativa se encerre de forma mais curta, olhando para a próxima verificão da expressão."
   ]
  },
  {
   "cell_type": "markdown",
   "id": "18241b6b",
   "metadata": {},
   "source": [
    "### Grupos"
   ]
  },
  {
   "cell_type": "markdown",
   "id": "25151091",
   "metadata": {},
   "source": [
    "(abc|def) = Grupos servem para introduzir camadas na expressão. A lógica dentro delas vai ser verificada de forma interna."
   ]
  },
  {
   "cell_type": "markdown",
   "id": "69c28ae4",
   "metadata": {},
   "source": [
    "É possível utilizar um mesmo grupo sem repetí-lo, referenciando por barra invertida + o \"número\" daquele grupo (começando pelo 1); a ordem é dada pela abertura de parêntesis."
   ]
  },
  {
   "cell_type": "markdown",
   "id": "a7ac9c86",
   "metadata": {},
   "source": [
    "Quando se utiliza grupos com *findall*, apenas os grupos são considerados. Isso requer que toda a expressão seja um grupo, se o intuito for revelar tudo.\n",
    "\n",
    "Ao usar o *findall* com grupos distintos, cada match com um grupo será um elemento de uma tupla, e as tuplas são elementos da lista.\n",
    "\n",
    "Isso é útil quando se deseja fragmentar os matches."
   ]
  },
  {
   "cell_type": "markdown",
   "id": "1ee0fe1d",
   "metadata": {},
   "source": [
    "(?:abc) = Isso indica que o grupo é desconsiderado na contagem de retrovisores e nos resultados. É um grupo que serve para verificação, mas não para resultado."
   ]
  },
  {
   "cell_type": "markdown",
   "id": "11561de3",
   "metadata": {},
   "source": [
    "*Problema*: Quantificar um grupo com *findall* fará com que apenas o último grupo das repetições seja devolvido. Novalente, seria necessário englobar toda a expressão num único grupo."
   ]
  },
  {
   "cell_type": "markdown",
   "id": "b72b5cd7",
   "metadata": {},
   "source": [
    "Grupos nomeáveis (apenas no Python) ... r'(?P<*nome*>\\[abc\\])abc(?P=*nome*)' = Isso permite chamar uma tag pelo seu nome próprio. Mesmo nomeado, o grupo responde pela sua numeração."
   ]
  },
  {
   "cell_type": "markdown",
   "id": "0e80604d",
   "metadata": {},
   "source": [
    "## Flags"
   ]
  },
  {
   "cell_type": "markdown",
   "id": "7077404c",
   "metadata": {},
   "source": [
    "Alteram o comportamento "
   ]
  },
  {
   "cell_type": "code",
   "execution_count": 3,
   "id": "817202b5",
   "metadata": {},
   "outputs": [],
   "source": [
    "#flags=re.I\n",
    "#flags=re.IGNORECASE\n",
    "\n",
    "#A expressão considera maiúsculas e minúsculas como iguais."
   ]
  },
  {
   "cell_type": "markdown",
   "id": "92fc65ad",
   "metadata": {},
   "source": []
  },
  {
   "cell_type": "markdown",
   "id": "4ab906da",
   "metadata": {},
   "source": []
  },
  {
   "cell_type": "markdown",
   "id": "6a5a5023",
   "metadata": {},
   "source": []
  },
  {
   "cell_type": "markdown",
   "id": "ad619d1a",
   "metadata": {},
   "source": []
  },
  {
   "cell_type": "markdown",
   "id": "0afaf41f",
   "metadata": {},
   "source": []
  },
  {
   "cell_type": "markdown",
   "id": "173dfae6",
   "metadata": {},
   "source": []
  },
  {
   "cell_type": "markdown",
   "id": "1dd87741",
   "metadata": {},
   "source": []
  }
 ],
 "metadata": {
  "kernelspec": {
   "display_name": "Python 3",
   "language": "python",
   "name": "python3"
  },
  "language_info": {
   "codemirror_mode": {
    "name": "ipython",
    "version": 3
   },
   "file_extension": ".py",
   "mimetype": "text/x-python",
   "name": "python",
   "nbconvert_exporter": "python",
   "pygments_lexer": "ipython3",
   "version": "3.8.8"
  }
 },
 "nbformat": 4,
 "nbformat_minor": 5
}
