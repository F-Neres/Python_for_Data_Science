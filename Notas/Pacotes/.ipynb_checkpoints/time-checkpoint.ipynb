{
 "cells": [
  {
   "cell_type": "code",
   "execution_count": 1,
   "id": "f9c3c741",
   "metadata": {},
   "outputs": [],
   "source": [
    "import time"
   ]
  },
  {
   "cell_type": "code",
   "execution_count": 2,
   "id": "52378e73",
   "metadata": {},
   "outputs": [],
   "source": [
    "#Aguardar segundos nessa linha.\n",
    "time.sleep(1)"
   ]
  },
  {
   "cell_type": "code",
   "execution_count": 19,
   "id": "ba9cf7cd",
   "metadata": {},
   "outputs": [
    {
     "name": "stdout",
     "output_type": "stream",
     "text": [
      "1628206628.1790228\n"
     ]
    }
   ],
   "source": [
    "#Tempo atual\n",
    "#O valor é dado em segundos.\n",
    "print(time.time())"
   ]
  },
  {
   "cell_type": "code",
   "execution_count": 4,
   "id": "deb8be75",
   "metadata": {},
   "outputs": [
    {
     "name": "stdout",
     "output_type": "stream",
     "text": [
      "Função soma1:  0.05499887466430664\n"
     ]
    }
   ],
   "source": [
    "def soma1(x, y):\n",
    "    return sum(range(x, y+1))\n",
    "\n",
    "# verifica o tempo de resposta da função soma1\n",
    "ini = time.time()\n",
    "soma1(1, 1000000)\n",
    "fim = time.time()\n",
    "print(\"Tempo de execução: \", fim-ini)\n",
    "\n",
    "#Este comando não testa a função. Para isso, utilize o módulo timeit."
   ]
  },
  {
   "cell_type": "code",
   "execution_count": 22,
   "id": "287a783b",
   "metadata": {},
   "outputs": [
    {
     "name": "stdout",
     "output_type": "stream",
     "text": [
      "0.004212617874145508\n",
      "0.005799293518066406\n",
      "0.0064737796783447266\n",
      "0.008939027786254883\n",
      "0.005244255065917969\n",
      "0.00420379638671875\n",
      "0.0049135684967041016\n",
      "0.013501405715942383\n",
      "0.0033767223358154297\n",
      "0.0012896060943603516\n"
     ]
    }
   ],
   "source": [
    "ant = time.time()\n",
    "\n",
    "for i in range(10):\n",
    "    time.sleep(1)\n",
    "    dep = time.time()\n",
    "    print(dep - ant - 1)\n",
    "    ant = dep"
   ]
  },
  {
   "cell_type": "code",
   "execution_count": null,
   "id": "0390fa62",
   "metadata": {},
   "outputs": [],
   "source": []
  }
 ],
 "metadata": {
  "kernelspec": {
   "display_name": "Python 3",
   "language": "python",
   "name": "python3"
  },
  "language_info": {
   "codemirror_mode": {
    "name": "ipython",
    "version": 3
   },
   "file_extension": ".py",
   "mimetype": "text/x-python",
   "name": "python",
   "nbconvert_exporter": "python",
   "pygments_lexer": "ipython3",
   "version": "3.8.8"
  }
 },
 "nbformat": 4,
 "nbformat_minor": 5
}
