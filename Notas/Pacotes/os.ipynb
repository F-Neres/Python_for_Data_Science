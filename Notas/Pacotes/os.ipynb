{
 "cells": [
  {
   "cell_type": "markdown",
   "metadata": {},
   "source": [
    "Permite executar funções do sistema operacional e variáveis de ambiente."
   ]
  },
  {
   "cell_type": "code",
   "execution_count": 1,
   "metadata": {},
   "outputs": [],
   "source": [
    "import os"
   ]
  },
  {
   "cell_type": "markdown",
   "metadata": {},
   "source": [
    "## Tratamento de arquivos txt"
   ]
  },
  {
   "cell_type": "markdown",
   "metadata": {},
   "source": [
    "### Append de palavras com .write"
   ]
  },
  {
   "cell_type": "code",
   "execution_count": 2,
   "metadata": {},
   "outputs": [
    {
     "name": "stdout",
     "output_type": "stream",
     "text": [
      "<class '_io.TextIOWrapper'>\n",
      "Sometimes I feel like I could disapear. It feels like nobodie would miss me. At most, they would miss what I can do for them, but I value for nothing at all. \n"
     ]
    }
   ],
   "source": [
    "#Criando/sobrescrevendo um arquivo e preenchendo-o com várias strings.\n",
    "#Ao invés de sobrescrever cada palavra, o comando permite fazer um append palavra a palavra.\n",
    "\n",
    "texto = 'Sometimes I feel like I could disapear.\\nIt feels like nobodie would miss me.\\nAt most, they would miss what I can do for them, but I value for nothing at all.'\n",
    "\n",
    "letitout = open(os.path.join(r'../ArquivosParalelos/nothing that could be concern you.txt'),'w')\n",
    "\n",
    "print(type(letitout))\n",
    "\n",
    "for i in texto.split(): #Split em espaços e ENTERs\n",
    "    letitout.write(i+' ') #Os ENTERs não são recolocados.\n",
    "letitout.close()\n",
    "\n",
    "letitout_r = open(r'../ArquivosParalelos/nothing that could be concern you.txt','r')\n",
    "print(letitout_r.read()) #É, nada de ENTERs."
   ]
  },
  {
   "cell_type": "markdown",
   "metadata": {},
   "source": [
    "### Uso de caminhos de arquivos"
   ]
  },
  {
   "cell_type": "code",
   "execution_count": 3,
   "metadata": {},
   "outputs": [],
   "source": [
    "# Reemove o arquivo com o banco de dados SQLite (caso exista)\n",
    "\n",
    "os.remove(\"escola.db\") if os.path.exists(\"escola.db\") else None\n",
    "\n",
    "# ou\n",
    "\n",
    "if os.path.exists(\"escola.db\"):\n",
    "    os.remove(\"escola.db\")\n",
    "    \n",
    "#os.path.exists é um valor lógico.\n",
    "#Ele verifica se determinado arquivo pode ser encontrado.\n",
    "# O caminho com o nome do arquivo é dado como string\n",
    "\n",
    "#os.remove() é uma ação que elimina o arquivo designado."
   ]
  },
  {
   "cell_type": "code",
   "execution_count": 6,
   "metadata": {},
   "outputs": [
    {
     "name": "stdout",
     "output_type": "stream",
     "text": [
      "Sometimes I feel like I could disapear. It feels like nobodie would miss me. At most, they would miss what I can do for them, but I value for nothing at all. \n"
     ]
    }
   ],
   "source": [
    "# .join busca um diretório concatenando nomes de pastas e do arquivo alvo.\n",
    "\n",
    "Caminho_Join = os.path.join('..', 'ArquivosParalelos', 'nothing that could be concern you.txt')\n",
    "\n",
    "\n",
    "# O caminho pode ser usado em um comando open, por exemplo.\n",
    "\n",
    "print(open(Caminho_Join,'r').read())"
   ]
  }
 ],
 "metadata": {
  "kernelspec": {
   "display_name": "Python 3.10.6 64-bit (windows store)",
   "language": "python",
   "name": "python3"
  },
  "language_info": {
   "codemirror_mode": {
    "name": "ipython",
    "version": 3
   },
   "file_extension": ".py",
   "mimetype": "text/x-python",
   "name": "python",
   "nbconvert_exporter": "python",
   "pygments_lexer": "ipython3",
   "version": "3.10.10"
  },
  "vscode": {
   "interpreter": {
    "hash": "91b18657112df8a6dc2946b9dfe3559ddfc8e1e2117c2c8071424b5e043bd8e1"
   }
  }
 },
 "nbformat": 4,
 "nbformat_minor": 4
}
