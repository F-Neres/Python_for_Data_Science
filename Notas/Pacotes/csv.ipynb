{
 "cells": [
  {
   "cell_type": "markdown",
   "metadata": {},
   "source": [
    "# Comma Separated Values"
   ]
  },
  {
   "cell_type": "code",
   "execution_count": 1,
   "metadata": {},
   "outputs": [],
   "source": [
    "import csv"
   ]
  },
  {
   "cell_type": "code",
   "execution_count": 2,
   "metadata": {},
   "outputs": [
    {
     "name": "stdout",
     "output_type": "stream",
     "text": [
      "Insira o nome do arquivo csv:\n",
      "\n"
     ]
    }
   ],
   "source": [
    "nome_do_arquivo = input('Insira o nome do arquivo csv:\\n')\n",
    "\n",
    "# 'escreve' é uma variável com o método 'write' do pacote 'csv' aplicado ao arquivo sob a variável 'var'.\n",
    "# O diretório contido em 'var' é transformado em um csv.write e anexado \n",
    "\n",
    "with open('../ArquivosParalelos/'+nome_do_arquivo+'.csv','w') as var:\n",
    "    escreve = csv.writer(var,lineterminator = '\\n') #O arquivo em 'var'\n",
    "    escreve.writerow(('primeira','segunda','terceira')) # Escreva na próxima linha\n",
    "    escreve.writerow((55,93,76)) \n",
    "    escreve.writerow((62,14,86))\n",
    "    \n",
    "#Problema: tive que usar o 'lineterminator' para que não fosse pulada uma linha.\n",
    "# A função open poderia ter o parâmetro , newline=''"
   ]
  },
  {
   "cell_type": "code",
   "execution_count": 3,
   "metadata": {},
   "outputs": [
    {
     "name": "stdout",
     "output_type": "stream",
     "text": [
      "Número de colunas: 3\n",
      "['primeira', 'segunda', 'terceira']\n",
      "Tipo de cada\n",
      "<class 'list'>\n",
      "\n",
      "Número de colunas: 3\n",
      "['55', '93', '76']\n",
      "Tipo de cada\n",
      "<class 'list'>\n",
      "\n",
      "Número de colunas: 3\n",
      "['62', '14', '86']\n",
      "Tipo de cada\n",
      "<class 'list'>\n",
      "\n"
     ]
    }
   ],
   "source": [
    "# Leitura de arquivos csv\n",
    "# Cada items na leitura - .read - do arquivo csv é uma linha dada em forma de lista\n",
    "\n",
    "with open('../ArquivosParalelos/'+nome_do_arquivo+'.csv','r') as arquivo:\n",
    "    leitor = csv.reader(arquivo)\n",
    "    for x in leitor:\n",
    "        print ('Número de colunas:', len(x))\n",
    "        print(x)\n",
    "        print('Tipo de cada')\n",
    "        print(type(x))\n",
    "        print()\n",
    "        \n",
    "#Todo o manejamento do leitor precisa ser feito dentro do with"
   ]
  },
  {
   "cell_type": "code",
   "execution_count": 18,
   "metadata": {},
   "outputs": [
    {
     "name": "stdout",
     "output_type": "stream",
     "text": [
      "<_io.TextIOWrapper name='../ArquivosParalelos/Lista Teste.csv' mode='r' encoding='cp1252'>\n",
      "<_csv.reader object at 0x0000014C80BAD520>\n",
      "<class '_csv.reader'>\n",
      "[['primeira', 'segunda', 'terceira'], ['55', '93', '76'], ['62', '14', '86']]\n"
     ]
    }
   ],
   "source": [
    "with open('../ArquivosParalelos/'+nome_do_arquivo+'.csv','r') as arquivo:\n",
    "    leitor = csv.reader(arquivo)\n",
    "    print(arquivo)\n",
    "    print(leitor) #Imprimir a variável contendo a tabela não irá mostrar as informações\n",
    "    print(type(leitor))\n",
    "    print(list(leitor)) #O pacote suporta pedir o arquivo em csv.leitura convertido em uma lista"
   ]
  },
  {
   "cell_type": "code",
   "execution_count": null,
   "metadata": {},
   "outputs": [],
   "source": []
  }
 ],
 "metadata": {
  "kernelspec": {
   "display_name": "Python 3",
   "language": "python",
   "name": "python3"
  },
  "language_info": {
   "codemirror_mode": {
    "name": "ipython",
    "version": 3
   },
   "file_extension": ".py",
   "mimetype": "text/x-python",
   "name": "python",
   "nbconvert_exporter": "python",
   "pygments_lexer": "ipython3",
   "version": "3.8.8"
  }
 },
 "nbformat": 4,
 "nbformat_minor": 4
}
