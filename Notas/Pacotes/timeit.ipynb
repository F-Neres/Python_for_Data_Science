{
 "cells": [
  {
   "cell_type": "code",
   "execution_count": 3,
   "id": "6f530b00",
   "metadata": {},
   "outputs": [],
   "source": [
    "import timeit"
   ]
  },
  {
   "cell_type": "code",
   "execution_count": 9,
   "id": "11781adf",
   "metadata": {},
   "outputs": [
    {
     "name": "stdout",
     "output_type": "stream",
     "text": [
      "[22.679125299999896, 23.09039669999993, 23.64572279999993, 23.80968830000006, 23.80462999999986]\n",
      "[0.09544290000008004, 0.1148344000000634]\n"
     ]
    }
   ],
   "source": [
    "def soma1(x, y):\n",
    "    return sum(range(x, y+1))\n",
    "\n",
    "def soma2(x, y):\n",
    "    soma = 0\n",
    "    for i in range(x, y+1):\n",
    "        soma += i\n",
    "    return soma\n",
    "\n",
    "t = timeit.Timer(\"soma1(1,1000)\", \"from __main__ import soma1\")\n",
    "print(t.repeat())\n",
    "# 5 baterias de 1000000 execuções.\n",
    "\n",
    "t = timeit.Timer(\"soma2(1,1000)\", \"from __main__ import soma2\")\n",
    "print(t.repeat(2, 1000))\n",
    "# 2 baterias com 1000 execuções."
   ]
  },
  {
   "cell_type": "code",
   "execution_count": 8,
   "id": "3baf2925",
   "metadata": {},
   "outputs": [
    {
     "name": "stdout",
     "output_type": "stream",
     "text": [
      "Help on method repeat in module timeit:\n",
      "\n",
      "repeat(repeat=5, number=1000000) method of timeit.Timer instance\n",
      "    Call timeit() a few times.\n",
      "    \n",
      "    This is a convenience function that calls the timeit()\n",
      "    repeatedly, returning a list of results.  The first argument\n",
      "    specifies how many times to call timeit(), defaulting to 5;\n",
      "    the second argument specifies the timer argument, defaulting\n",
      "    to one million.\n",
      "    \n",
      "    Note: it's tempting to calculate mean and standard deviation\n",
      "    from the result vector and report these.  However, this is not\n",
      "    very useful.  In a typical case, the lowest value gives a\n",
      "    lower bound for how fast your machine can run the given code\n",
      "    snippet; higher values in the result vector are typically not\n",
      "    caused by variability in Python's speed, but by other\n",
      "    processes interfering with your timing accuracy.  So the min()\n",
      "    of the result is probably the only number you should be\n",
      "    interested in.  After that, you should look at the entire\n",
      "    vector and apply common sense rather than statistics.\n",
      "\n"
     ]
    }
   ],
   "source": [
    "help(t.repeat)"
   ]
  },
  {
   "cell_type": "code",
   "execution_count": 10,
   "id": "01a1d32e",
   "metadata": {},
   "outputs": [
    {
     "name": "stdout",
     "output_type": "stream",
     "text": [
      "Help on Timer in module timeit object:\n",
      "\n",
      "class Timer(builtins.object)\n",
      " |  Timer(stmt='pass', setup='pass', timer=<built-in function perf_counter>, globals=None)\n",
      " |  \n",
      " |  Class for timing execution speed of small code snippets.\n",
      " |  \n",
      " |  The constructor takes a statement to be timed, an additional\n",
      " |  statement used for setup, and a timer function.  Both statements\n",
      " |  default to 'pass'; the timer function is platform-dependent (see\n",
      " |  module doc string).  If 'globals' is specified, the code will be\n",
      " |  executed within that namespace (as opposed to inside timeit's\n",
      " |  namespace).\n",
      " |  \n",
      " |  To measure the execution time of the first statement, use the\n",
      " |  timeit() method.  The repeat() method is a convenience to call\n",
      " |  timeit() multiple times and return a list of results.\n",
      " |  \n",
      " |  The statements may contain newlines, as long as they don't contain\n",
      " |  multi-line string literals.\n",
      " |  \n",
      " |  Methods defined here:\n",
      " |  \n",
      " |  __init__(self, stmt='pass', setup='pass', timer=<built-in function perf_counter>, globals=None)\n",
      " |      Constructor.  See class doc string.\n",
      " |  \n",
      " |  autorange(self, callback=None)\n",
      " |      Return the number of loops and time taken so that total time >= 0.2.\n",
      " |      \n",
      " |      Calls the timeit method with increasing numbers from the sequence\n",
      " |      1, 2, 5, 10, 20, 50, ... until the time taken is at least 0.2\n",
      " |      second.  Returns (number, time_taken).\n",
      " |      \n",
      " |      If *callback* is given and is not None, it will be called after\n",
      " |      each trial with two arguments: ``callback(number, time_taken)``.\n",
      " |  \n",
      " |  print_exc(self, file=None)\n",
      " |      Helper to print a traceback from the timed code.\n",
      " |      \n",
      " |      Typical use:\n",
      " |      \n",
      " |          t = Timer(...)       # outside the try/except\n",
      " |          try:\n",
      " |              t.timeit(...)    # or t.repeat(...)\n",
      " |          except:\n",
      " |              t.print_exc()\n",
      " |      \n",
      " |      The advantage over the standard traceback is that source lines\n",
      " |      in the compiled template will be displayed.\n",
      " |      \n",
      " |      The optional file argument directs where the traceback is\n",
      " |      sent; it defaults to sys.stderr.\n",
      " |  \n",
      " |  repeat(self, repeat=5, number=1000000)\n",
      " |      Call timeit() a few times.\n",
      " |      \n",
      " |      This is a convenience function that calls the timeit()\n",
      " |      repeatedly, returning a list of results.  The first argument\n",
      " |      specifies how many times to call timeit(), defaulting to 5;\n",
      " |      the second argument specifies the timer argument, defaulting\n",
      " |      to one million.\n",
      " |      \n",
      " |      Note: it's tempting to calculate mean and standard deviation\n",
      " |      from the result vector and report these.  However, this is not\n",
      " |      very useful.  In a typical case, the lowest value gives a\n",
      " |      lower bound for how fast your machine can run the given code\n",
      " |      snippet; higher values in the result vector are typically not\n",
      " |      caused by variability in Python's speed, but by other\n",
      " |      processes interfering with your timing accuracy.  So the min()\n",
      " |      of the result is probably the only number you should be\n",
      " |      interested in.  After that, you should look at the entire\n",
      " |      vector and apply common sense rather than statistics.\n",
      " |  \n",
      " |  timeit(self, number=1000000)\n",
      " |      Time 'number' executions of the main statement.\n",
      " |      \n",
      " |      To be precise, this executes the setup statement once, and\n",
      " |      then returns the time it takes to execute the main statement\n",
      " |      a number of times, as a float measured in seconds.  The\n",
      " |      argument is the number of times through the loop, defaulting\n",
      " |      to one million.  The main statement, the setup statement and\n",
      " |      the timer function to be used are passed to the constructor.\n",
      " |  \n",
      " |  ----------------------------------------------------------------------\n",
      " |  Data descriptors defined here:\n",
      " |  \n",
      " |  __dict__\n",
      " |      dictionary for instance variables (if defined)\n",
      " |  \n",
      " |  __weakref__\n",
      " |      list of weak references to the object (if defined)\n",
      "\n"
     ]
    }
   ],
   "source": [
    "help(t)"
   ]
  },
  {
   "cell_type": "code",
   "execution_count": null,
   "id": "afb26457",
   "metadata": {},
   "outputs": [],
   "source": []
  }
 ],
 "metadata": {
  "kernelspec": {
   "display_name": "Python 3.10.8 64-bit (microsoft store)",
   "language": "python",
   "name": "python3"
  },
  "language_info": {
   "codemirror_mode": {
    "name": "ipython",
    "version": 3
   },
   "file_extension": ".py",
   "mimetype": "text/x-python",
   "name": "python",
   "nbconvert_exporter": "python",
   "pygments_lexer": "ipython3",
   "version": "3.10.8"
  },
  "vscode": {
   "interpreter": {
    "hash": "91b18657112df8a6dc2946b9dfe3559ddfc8e1e2117c2c8071424b5e043bd8e1"
   }
  }
 },
 "nbformat": 4,
 "nbformat_minor": 5
}
