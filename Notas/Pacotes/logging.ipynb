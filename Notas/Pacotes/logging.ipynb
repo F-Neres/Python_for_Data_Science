{
 "cells": [
  {
   "cell_type": "code",
   "execution_count": 1,
   "metadata": {},
   "outputs": [],
   "source": [
    "import logging"
   ]
  },
  {
   "attachments": {},
   "cell_type": "markdown",
   "metadata": {},
   "source": [
    "O logging possui níveis de informação e a própria documentação recomenda quais tipos de informações são interessantes ser armazenadas em cada nível.\n",
    "\n",
    "* *logging.debug()*: informações de interesse apenas quando um problema é diagnosticado.\n",
    "\n",
    "* *logging.info()*: confirmação de que o sistema funciona como esperado.\n",
    "\n",
    "* *logging.warning()*: indicação de que algo inesperado ocorreu ou de que algo será modificado no futuro.\n",
    "\n",
    "* *logging.error()*: erro que impede que o software execute alguma tarefa.\n",
    "\n",
    "* *logging.critical()*: erro grave, que pode impedi que o programa continue funcionando."
   ]
  },
  {
   "cell_type": "code",
   "execution_count": 2,
   "metadata": {},
   "outputs": [],
   "source": [
    "# level: Nível de exibição das mensagens de log\n",
    "# filename: para armazenar os logs em um arquivo\n",
    "    # No Jupyter Notebook, é preciso reiniciar o kernel para criar o arquivo\n",
    "\n",
    "logging.basicConfig(level = logging.INFO, filename = 'example.log', format = '%(asctime)s %(levelname)s: %(message)s.')"
   ]
  },
  {
   "cell_type": "code",
   "execution_count": 5,
   "metadata": {},
   "outputs": [],
   "source": [
    "# Se o log precisa ser registrado condicionalmente, ele deve ter suas condições.\n",
    "\n",
    "def div(a,b):\n",
    "    if b == 0:\n",
    "        logging.error('Seu denominador é zero')\n",
    "    else:\n",
    "        logging.info(f'Divisão concluída: {a/b}')\n",
    "        return a/b"
   ]
  },
  {
   "cell_type": "code",
   "execution_count": 6,
   "metadata": {},
   "outputs": [],
   "source": [
    "div(1,0)"
   ]
  }
 ],
 "metadata": {
  "kernelspec": {
   "display_name": "base",
   "language": "python",
   "name": "python3"
  },
  "language_info": {
   "codemirror_mode": {
    "name": "ipython",
    "version": 3
   },
   "file_extension": ".py",
   "mimetype": "text/x-python",
   "name": "python",
   "nbconvert_exporter": "python",
   "pygments_lexer": "ipython3",
   "version": "3.9.12"
  },
  "orig_nbformat": 4,
  "vscode": {
   "interpreter": {
    "hash": "67555092bde78f01d62c7ad50c905647fa560d4e0d76a0ae431fa4c087689397"
   }
  }
 },
 "nbformat": 4,
 "nbformat_minor": 2
}
