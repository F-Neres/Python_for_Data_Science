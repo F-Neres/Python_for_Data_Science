{
 "cells": [
  {
   "attachments": {},
   "cell_type": "markdown",
   "metadata": {},
   "source": [
    "# SciPy"
   ]
  },
  {
   "attachments": {},
   "cell_type": "markdown",
   "metadata": {},
   "source": [
    "SciPy (Scientific Python) é uma biblioteca de computação científica que usa o NumPy como base. Ele provê funções de maior utilidade para otimização, estatística e processamento de sinais"
   ]
  },
  {
   "cell_type": "code",
   "execution_count": 174,
   "metadata": {},
   "outputs": [
    {
     "name": "stdout",
     "output_type": "stream",
     "text": [
      "Requirement already satisfied: scipy in c:\\users\\fnsb.desktop-7t10aps\\appdata\\local\\packages\\pythonsoftwarefoundation.python.3.10_qbz5n2kfra8p0\\localcache\\local-packages\\python310\\site-packages (1.10.0)\n",
      "Requirement already satisfied: numpy<1.27.0,>=1.19.5 in c:\\users\\fnsb.desktop-7t10aps\\appdata\\local\\packages\\pythonsoftwarefoundation.python.3.10_qbz5n2kfra8p0\\localcache\\local-packages\\python310\\site-packages (from scipy) (1.23.4)\n"
     ]
    },
    {
     "name": "stderr",
     "output_type": "stream",
     "text": [
      "WARNING: Ignoring invalid distribution -ip (c:\\users\\fnsb.desktop-7t10aps\\appdata\\local\\packages\\pythonsoftwarefoundation.python.3.10_qbz5n2kfra8p0\\localcache\\local-packages\\python310\\site-packages)\n",
      "WARNING: Ignoring invalid distribution -atplotlib (c:\\users\\fnsb.desktop-7t10aps\\appdata\\local\\packages\\pythonsoftwarefoundation.python.3.10_qbz5n2kfra8p0\\localcache\\local-packages\\python310\\site-packages)\n",
      "WARNING: Ignoring invalid distribution -ip (c:\\users\\fnsb.desktop-7t10aps\\appdata\\local\\packages\\pythonsoftwarefoundation.python.3.10_qbz5n2kfra8p0\\localcache\\local-packages\\python310\\site-packages)\n",
      "WARNING: Ignoring invalid distribution -atplotlib (c:\\users\\fnsb.desktop-7t10aps\\appdata\\local\\packages\\pythonsoftwarefoundation.python.3.10_qbz5n2kfra8p0\\localcache\\local-packages\\python310\\site-packages)\n",
      "WARNING: Ignoring invalid distribution -ip (c:\\users\\fnsb.desktop-7t10aps\\appdata\\local\\packages\\pythonsoftwarefoundation.python.3.10_qbz5n2kfra8p0\\localcache\\local-packages\\python310\\site-packages)\n",
      "WARNING: Ignoring invalid distribution -atplotlib (c:\\users\\fnsb.desktop-7t10aps\\appdata\\local\\packages\\pythonsoftwarefoundation.python.3.10_qbz5n2kfra8p0\\localcache\\local-packages\\python310\\site-packages)\n",
      "WARNING: Ignoring invalid distribution -ip (c:\\users\\fnsb.desktop-7t10aps\\appdata\\local\\packages\\pythonsoftwarefoundation.python.3.10_qbz5n2kfra8p0\\localcache\\local-packages\\python310\\site-packages)\n",
      "WARNING: Ignoring invalid distribution -atplotlib (c:\\users\\fnsb.desktop-7t10aps\\appdata\\local\\packages\\pythonsoftwarefoundation.python.3.10_qbz5n2kfra8p0\\localcache\\local-packages\\python310\\site-packages)\n",
      "WARNING: Ignoring invalid distribution -ip (c:\\users\\fnsb.desktop-7t10aps\\appdata\\local\\packages\\pythonsoftwarefoundation.python.3.10_qbz5n2kfra8p0\\localcache\\local-packages\\python310\\site-packages)\n",
      "WARNING: Ignoring invalid distribution -atplotlib (c:\\users\\fnsb.desktop-7t10aps\\appdata\\local\\packages\\pythonsoftwarefoundation.python.3.10_qbz5n2kfra8p0\\localcache\\local-packages\\python310\\site-packages)\n",
      "WARNING: Ignoring invalid distribution -ip (c:\\users\\fnsb.desktop-7t10aps\\appdata\\local\\packages\\pythonsoftwarefoundation.python.3.10_qbz5n2kfra8p0\\localcache\\local-packages\\python310\\site-packages)\n",
      "WARNING: Ignoring invalid distribution -atplotlib (c:\\users\\fnsb.desktop-7t10aps\\appdata\\local\\packages\\pythonsoftwarefoundation.python.3.10_qbz5n2kfra8p0\\localcache\\local-packages\\python310\\site-packages)\n"
     ]
    }
   ],
   "source": [
    "!pip install scipy -U"
   ]
  },
  {
   "cell_type": "code",
   "execution_count": 175,
   "metadata": {},
   "outputs": [
    {
     "name": "stdout",
     "output_type": "stream",
     "text": [
      "1.10.0\n"
     ]
    }
   ],
   "source": [
    "import scipy\n",
    "\n",
    "print(scipy.__version__)"
   ]
  },
  {
   "attachments": {},
   "cell_type": "markdown",
   "metadata": {},
   "source": [
    "<table class=\"ArticleTableNoBorder\">\n",
    "\t<tbody>\n",
    "\t\t<tr>\n",
    "\t\t\t<td><strong>Pacote</strong></td>\n",
    "\t\t\t<td><strong>Descrição</strong></td>\n",
    "\t\t</tr>\n",
    "\t\t<tr>\n",
    "\t\t\t<td><code>cluster</code></td>\n",
    "\t\t\t<td>Algoritmos de agrupamento.</td>\n",
    "\t\t</tr>\n",
    "\t\t<tr>\n",
    "\t\t\t<td><code>constants</code></td>\n",
    "\t\t\t<td>Constantes matemáticas e físicas.</td>\n",
    "\t\t</tr>\n",
    "\t\t<tr>\n",
    "\t\t\t<td><code>fftpack</code></td>\n",
    "\t\t\t<td>Transformação de Fourier.</td>\n",
    "\t\t</tr>\n",
    "\t\t<tr>\n",
    "\t\t\t<td><code>integrate</code></td>\n",
    "\t\t\t<td>Integração numérica.</td>\n",
    "\t\t</tr>\n",
    "\t\t<tr>\n",
    "\t\t\t<td><code>interpolate</code></td>\n",
    "\t\t\t<td>Interpolação.</td>\n",
    "\t\t</tr>\n",
    "\t\t<tr>\n",
    "\t\t\t<td><code>io</code></td>\n",
    "\t\t\t<td>Input e output</td>\n",
    "\t\t</tr>\n",
    "\t\t<tr>\n",
    "\t\t\t<td><code>linalg</code></td>\n",
    "\t\t\t<td>Álgebra linear.</td>\n",
    "\t\t</tr>\n",
    "\t\t<tr>\n",
    "\t\t\t<td><code>maxentropy</code></td>\n",
    "\t\t\t<td>Modelos de máxima entropia.</td>\n",
    "\t\t</tr>\n",
    "\t\t<tr>\n",
    "\t\t\t<td><code>misc</code></td>\n",
    "\t\t\t<td>Diversos</td>\n",
    "\t\t</tr>\n",
    "\t\t<tr>\n",
    "\t\t\t<td><code>ndimage</code></td>\n",
    "\t\t\t<td>Processamento de imagem multi-dimensional.</td>\n",
    "\t\t</tr>\n",
    "\t\t<tr>\n",
    "\t\t\t<td><code>odr</code></td>\n",
    "\t\t\t<td>Regressão de distância ortogonal.</td>\n",
    "\t\t</tr>\n",
    "\t\t<tr>\n",
    "\t\t\t<td><code>optimize</code></td>\n",
    "\t\t\t<td>Otimização.</td>\n",
    "\t\t</tr>\n",
    "\t\t<tr>\n",
    "\t\t\t<td><code>signal</code></td>\n",
    "\t\t\t<td>Processamento de sinal</td>\n",
    "\t\t</tr>\n",
    "\t\t<tr>\n",
    "\t\t\t<td><code>sparse</code></td>\n",
    "\t\t\t<td>Matrizes esparsas.</td>\n",
    "\t\t</tr>\n",
    "\t\t<tr>\n",
    "\t\t\t<td><code>spatial</code></td>\n",
    "\t\t\t<td>Algoritmos espaciais e estruturas de dados.</td>\n",
    "\t\t</tr>\n",
    "\t\t<tr>\n",
    "\t\t\t<td><code>special</code></td>\n",
    "\t\t\t<td>Funções especiais.</td>\n",
    "\t\t</tr>\n",
    "\t\t<tr>\n",
    "\t\t\t<td><code>stats</code></td>\n",
    "\t\t\t<td>Funções estatísticas.</td>\n",
    "\t\t</tr>\n",
    "\t\t<tr>\n",
    "\t\t\t<td><code>stsci</code></td>\n",
    "\t\t\t<td>Processamento de imagem.</td>\n",
    "\t\t</tr>\n",
    "\t\t<tr>\n",
    "\t\t\t<td><code>weave</code></td>\n",
    "\t\t\t<td>Integração C/C++</td>\n",
    "\t\t</tr>\n",
    "\t</tbody>\n",
    "</table>\n"
   ]
  },
  {
   "attachments": {},
   "cell_type": "markdown",
   "metadata": {},
   "source": [
    "## Constantes"
   ]
  },
  {
   "cell_type": "code",
   "execution_count": 176,
   "metadata": {},
   "outputs": [
    {
     "data": {
      "text/plain": [
       "3.141592653589793"
      ]
     },
     "execution_count": 176,
     "metadata": {},
     "output_type": "execute_result"
    }
   ],
   "source": [
    "import scipy.constants\n",
    "scipy.constants.pi"
   ]
  },
  {
   "cell_type": "code",
   "execution_count": 177,
   "metadata": {},
   "outputs": [
    {
     "data": {
      "text/plain": [
       "['Avogadro',\n",
       " 'Boltzmann',\n",
       " 'Btu',\n",
       " 'Btu_IT',\n",
       " 'Btu_th',\n",
       " 'ConstantWarning',\n",
       " 'G',\n",
       " 'Julian_year',\n",
       " 'N_A',\n",
       " 'Planck',\n",
       " 'R',\n",
       " 'Rydberg',\n",
       " 'Stefan_Boltzmann',\n",
       " 'Wien',\n",
       " '__all__',\n",
       " '__builtins__',\n",
       " '__cached__',\n",
       " '__doc__',\n",
       " '__file__',\n",
       " '__loader__',\n",
       " '__name__',\n",
       " '__package__',\n",
       " '__path__',\n",
       " '__spec__',\n",
       " '_codata',\n",
       " '_constants',\n",
       " '_obsolete_constants',\n",
       " 'acre',\n",
       " 'alpha',\n",
       " 'angstrom',\n",
       " 'arcmin',\n",
       " 'arcminute',\n",
       " 'arcsec',\n",
       " 'arcsecond',\n",
       " 'astronomical_unit',\n",
       " 'atm',\n",
       " 'atmosphere',\n",
       " 'atomic_mass',\n",
       " 'atto',\n",
       " 'au',\n",
       " 'bar',\n",
       " 'barrel',\n",
       " 'bbl',\n",
       " 'blob',\n",
       " 'c',\n",
       " 'calorie',\n",
       " 'calorie_IT',\n",
       " 'calorie_th',\n",
       " 'carat',\n",
       " 'centi',\n",
       " 'codata',\n",
       " 'constants',\n",
       " 'convert_temperature',\n",
       " 'day',\n",
       " 'deci',\n",
       " 'degree',\n",
       " 'degree_Fahrenheit',\n",
       " 'deka',\n",
       " 'dyn',\n",
       " 'dyne',\n",
       " 'e',\n",
       " 'eV',\n",
       " 'electron_mass',\n",
       " 'electron_volt',\n",
       " 'elementary_charge',\n",
       " 'epsilon_0',\n",
       " 'erg',\n",
       " 'exa',\n",
       " 'exbi',\n",
       " 'femto',\n",
       " 'fermi',\n",
       " 'find',\n",
       " 'fine_structure',\n",
       " 'fluid_ounce',\n",
       " 'fluid_ounce_US',\n",
       " 'fluid_ounce_imp',\n",
       " 'foot',\n",
       " 'g',\n",
       " 'gallon',\n",
       " 'gallon_US',\n",
       " 'gallon_imp',\n",
       " 'gas_constant',\n",
       " 'gibi',\n",
       " 'giga',\n",
       " 'golden',\n",
       " 'golden_ratio',\n",
       " 'grain',\n",
       " 'gram',\n",
       " 'gravitational_constant',\n",
       " 'h',\n",
       " 'hbar',\n",
       " 'hectare',\n",
       " 'hecto',\n",
       " 'horsepower',\n",
       " 'hour',\n",
       " 'hp',\n",
       " 'inch',\n",
       " 'k',\n",
       " 'kgf',\n",
       " 'kibi',\n",
       " 'kilo',\n",
       " 'kilogram_force',\n",
       " 'kmh',\n",
       " 'knot',\n",
       " 'lambda2nu',\n",
       " 'lb',\n",
       " 'lbf',\n",
       " 'light_year',\n",
       " 'liter',\n",
       " 'litre',\n",
       " 'long_ton',\n",
       " 'm_e',\n",
       " 'm_n',\n",
       " 'm_p',\n",
       " 'm_u',\n",
       " 'mach',\n",
       " 'mebi',\n",
       " 'mega',\n",
       " 'metric_ton',\n",
       " 'micro',\n",
       " 'micron',\n",
       " 'mil',\n",
       " 'mile',\n",
       " 'milli',\n",
       " 'minute',\n",
       " 'mmHg',\n",
       " 'mph',\n",
       " 'mu_0',\n",
       " 'nano',\n",
       " 'nautical_mile',\n",
       " 'neutron_mass',\n",
       " 'nu2lambda',\n",
       " 'ounce',\n",
       " 'oz',\n",
       " 'parsec',\n",
       " 'pebi',\n",
       " 'peta',\n",
       " 'physical_constants',\n",
       " 'pi',\n",
       " 'pico',\n",
       " 'point',\n",
       " 'pound',\n",
       " 'pound_force',\n",
       " 'precision',\n",
       " 'proton_mass',\n",
       " 'psi',\n",
       " 'pt',\n",
       " 'short_ton',\n",
       " 'sigma',\n",
       " 'slinch',\n",
       " 'slug',\n",
       " 'speed_of_light',\n",
       " 'speed_of_sound',\n",
       " 'stone',\n",
       " 'survey_foot',\n",
       " 'survey_mile',\n",
       " 'tebi',\n",
       " 'tera',\n",
       " 'test',\n",
       " 'ton_TNT',\n",
       " 'torr',\n",
       " 'troy_ounce',\n",
       " 'troy_pound',\n",
       " 'u',\n",
       " 'unit',\n",
       " 'value',\n",
       " 'week',\n",
       " 'yard',\n",
       " 'year',\n",
       " 'yobi',\n",
       " 'yocto',\n",
       " 'yotta',\n",
       " 'zebi',\n",
       " 'zepto',\n",
       " 'zero_Celsius',\n",
       " 'zetta']"
      ]
     },
     "execution_count": 177,
     "metadata": {},
     "output_type": "execute_result"
    }
   ],
   "source": [
    "(dir(scipy.constants))"
   ]
  },
  {
   "attachments": {},
   "cell_type": "markdown",
   "metadata": {},
   "source": [
    "Unidades de medida:  \n",
    "https://www.w3schools.com/python/scipy/scipy_constants.php  \n",
    "* Tamanho e distancia: metros\n",
    "* Binários: bites (decimal)\n",
    "* Massa: quilogramas\n",
    "* Ângulo: radianos\n",
    "* Tempo: segundos\n",
    "* Pressão: pascal\n",
    "* Área: metros quadrados\n",
    "* Volume: metros cúbicos\n",
    "* Velocidade: metros por segundo\n",
    "* Temperatura: kelvin\n",
    "* Energia: joules\n",
    "* Potência: watts\n",
    "* Força: newton"
   ]
  },
  {
   "attachments": {},
   "cell_type": "markdown",
   "metadata": {},
   "source": [
    "## Otimizadores"
   ]
  },
  {
   "attachments": {},
   "cell_type": "markdown",
   "metadata": {},
   "source": [
    "Otmizadores são um conjunto de procedimentos definidos no SciPy que encontra o valor mínimo de uma função ou a raiz de uma equação.  \n",
    "Essencialmente, todos os algoritmos de Aprendizagem de Máquina são nada mais que uma complexa equação que precisa ser minimizada com a ajuda dos dados fornecidos.  \n",
    "Numpy é capaz de encontrar raizes para polinômios e equações lineares, mas não é capaz de encontrar raizes para equações não lineares, como esta:  \n",
    "  \n",
    "  _x + cos(x)_  \n",
    "\n"
   ]
  },
  {
   "attachments": {},
   "cell_type": "markdown",
   "metadata": {},
   "source": [
    "### Raiz"
   ]
  },
  {
   "cell_type": "code",
   "execution_count": 178,
   "metadata": {},
   "outputs": [
    {
     "name": "stdout",
     "output_type": "stream",
     "text": [
      "2.010007503399555\n",
      "[-0.73908513]\n",
      "<class 'scipy.optimize._optimize.OptimizeResult'>\n",
      "['x', 'success', 'status', 'nfev', 'fjac', 'r', 'qtf', 'fun', 'message']\n",
      "\n"
     ]
    }
   ],
   "source": [
    "from math import cos\n",
    "\n",
    "def eqn(x): # Cria-se uma função que calcula o valor de x seguindo a expressão dada\n",
    "  return x + cos(x)\n",
    "\n",
    "print(eqn(3))\n",
    "\n",
    "myroot = scipy.optimize.root(eqn, 0)\n",
    "# O objeto \"myroot\" é um OptimizeResult, que possui em si o atributo \"x\" que contem a raiz da expressão\n",
    "# Os parâmetros fornecidos são \n",
    "  # i) a função que processa a equação e \n",
    "  # ii) um palpite inicial para a raiz.\n",
    "\n",
    "print(myroot.x)\n",
    "print(type(myroot))\n",
    "print(myroot.__dir__())\n",
    "\n",
    "print()"
   ]
  },
  {
   "cell_type": "code",
   "execution_count": 179,
   "metadata": {},
   "outputs": [
    {
     "name": "stdout",
     "output_type": "stream",
     "text": [
      " message: The solution converged.\n",
      " success: True\n",
      "  status: 1\n",
      "     fun: [ 0.000e+00]\n",
      "       x: [-7.391e-01]\n",
      "    nfev: 9\n",
      "    fjac: [[-1.000e+00]]\n",
      "       r: [-1.674e+00]\n",
      "     qtf: [-2.668e-13]\n"
     ]
    }
   ],
   "source": [
    "# Todas as informações sobre a solução\n",
    "print(myroot)"
   ]
  },
  {
   "attachments": {},
   "cell_type": "markdown",
   "metadata": {},
   "source": [
    "### Mínimo e máximo"
   ]
  },
  {
   "attachments": {},
   "cell_type": "markdown",
   "metadata": {},
   "source": [
    "Quando a função representa uma curva, ela possui um ponto ótimo (a máxima ou a mínima absoluta, ou global). Considerando um trecho de uma função, a máxima e a mínima são, respectivamente, os pontos com maior e menor valor para a função de x."
   ]
  },
  {
   "cell_type": "code",
   "execution_count": 180,
   "metadata": {},
   "outputs": [
    {
     "name": "stdout",
     "output_type": "stream",
     "text": [
      "  message: Optimization terminated successfully.\n",
      "  success: True\n",
      "   status: 0\n",
      "      fun: 1.75\n",
      "        x: [-5.000e-01]\n",
      "      nit: 2\n",
      "      jac: [ 0.000e+00]\n",
      " hess_inv: [[ 5.000e-01]]\n",
      "     nfev: 8\n",
      "     njev: 4\n"
     ]
    }
   ],
   "source": [
    "def eqn(x):\n",
    "  return x**2 + x + 2\n",
    "\n",
    "mymin = scipy.optimize.minimize(eqn, 0, method='BFGS')\n",
    "\n",
    "# Parâmetros\n",
    "  #fun - uma função representando uma equação;\n",
    "\n",
    "  #x0 - um palpite inicial para a raiz;\n",
    "\n",
    "  #method - nome do método utilizado. Valores permitidos:\n",
    "    #'CG'\n",
    "    #'BFGS'\n",
    "    #'Newton-CG'\n",
    "    #'L-BFGS-B'\n",
    "    #'TNC'\n",
    "    #'COBYLA'\n",
    "    #'SLSQP'\n",
    "\n",
    "  #callback - função chamada depois de cada iteração de otimização;\n",
    "\n",
    "  #options - um dicionário definindo parâmetros extras:\n",
    "\n",
    "    #{\n",
    "     #\"disp\": boolean - imprime descrições detalhadas\n",
    "     #\"gtol\": number - a tolerância do erro\n",
    "      #}\n",
    "\n",
    "print(mymin)"
   ]
  },
  {
   "cell_type": "code",
   "execution_count": 181,
   "metadata": {},
   "outputs": [
    {
     "name": "stdout",
     "output_type": "stream",
     "text": [
      "  message: Desired error not necessarily achieved due to precision loss.\n",
      "  success: False\n",
      "   status: 2\n",
      "      fun: -1049598.0\n",
      "        x: [-1.024e+03]\n",
      "      nit: 1\n",
      "      jac: [ 2.049e+03]\n",
      " hess_inv: [[-5.000e-01]]\n",
      "     nfev: 236\n",
      "     njev: 112\n"
     ]
    }
   ],
   "source": [
    "def eqn(x):\n",
    "  return -x**2 + x + 2\n",
    "\n",
    "mymin = scipy.optimize.minimize(eqn, 0, method='BFGS')\n",
    "\n",
    "print(mymin)"
   ]
  },
  {
   "attachments": {},
   "cell_type": "markdown",
   "metadata": {},
   "source": [
    "## Dados Esparsos"
   ]
  },
  {
   "attachments": {},
   "cell_type": "markdown",
   "metadata": {},
   "source": [
    "Dados esparsos são dados que têm a maioria dos elementos não utilizdos (elementos que não carregam qualquer informação).  \n",
    "Em ciência da computação, quando nós estamos lidando com derivadas parciais em álgebra linear, nós nos depararemos com dados esparsos."
   ]
  },
  {
   "attachments": {},
   "cell_type": "markdown",
   "metadata": {},
   "source": [
    "Há primariamente dois tipos de matrizes esparsas que usamos:  \n",
    "* CSC - Compressed Sparse Column. Para aritmética eficiente, rápido fatiamento de colunas;\n",
    "* CSR - Compressed Sparse Row. Para rápido fatiamento de linhas, produtos de vetor de matriz mais rápido."
   ]
  },
  {
   "cell_type": "code",
   "execution_count": 182,
   "metadata": {},
   "outputs": [
    {
     "name": "stdout",
     "output_type": "stream",
     "text": [
      "  (1, 2)\t1\n",
      "  (2, 0)\t1\n",
      "  (2, 2)\t2\n",
      "[1 1 2]\n",
      "3\n"
     ]
    }
   ],
   "source": [
    "import numpy as np\n",
    "\n",
    "arr = np.array([[0, 0, 0], [0, 0, 1], [1, 0, 2]])\n",
    "\n",
    "# Mostra os itens diferentes de 0:\n",
    "    # Entre parêntesis as coordenadas e em seguida o valor.\n",
    "\n",
    "print(scipy.sparse.csr_matrix(arr))\n",
    "\n",
    "# 'numpy.ndarray' com apenas os dados diferentes de zero.\n",
    "print(scipy.sparse.csr_matrix(arr).data)\n",
    "\n",
    "# Conta os dados diferentes de zero\n",
    "print(scipy.sparse.csr_matrix(arr).count_nonzero())\n",
    "\n"
   ]
  },
  {
   "cell_type": "code",
   "execution_count": 183,
   "metadata": {},
   "outputs": [
    {
     "name": "stdout",
     "output_type": "stream",
     "text": [
      "  (1, 2)\t1\n",
      "  (2, 0)\t1\n",
      "  (2, 2)\t2\n",
      "\n",
      "  (1, 2)\t1\n",
      "  (2, 0)\t1\n",
      "  (2, 2)\t2\n"
     ]
    }
   ],
   "source": [
    "# Remove os zeros\n",
    "mat = scipy.sparse.csr_matrix(arr)\n",
    "mat.eliminate_zeros()\n",
    "print(mat)\n",
    "\n",
    "print()\n",
    "\n",
    "# Elimina duplicatas somando-as\n",
    "mat = scipy.sparse.csr_matrix(arr)\n",
    "mat.sum_duplicates()\n",
    "print(mat)"
   ]
  },
  {
   "cell_type": "code",
   "execution_count": 184,
   "metadata": {},
   "outputs": [
    {
     "name": "stdout",
     "output_type": "stream",
     "text": [
      "  (2, 0)\t1\n",
      "  (1, 2)\t1\n",
      "  (2, 2)\t2\n"
     ]
    }
   ],
   "source": [
    "# Converte CSR para CSC:\n",
    "mat = scipy.sparse.csr_matrix(arr)\n",
    "newmat = mat.tocsc()\n",
    "print(newmat)"
   ]
  },
  {
   "attachments": {},
   "cell_type": "markdown",
   "metadata": {},
   "source": [
    "## Grafos"
   ]
  },
  {
   "attachments": {},
   "cell_type": "markdown",
   "metadata": {},
   "source": [
    "Um grafo é uma que representação abstrata de um conjunto de objetos e das relações existentes entre eles. É definido por um conjunto de nós ou vértices, e pelas ligações ou arestas, que ligam pares de nós. Uma grande variedade de estruturas do mundo real pode ser representada abstratamente através de grafos. \n",
    "\n",
    "Um grafo é descrito por um par (V,E), onde V é o conjunto de vértices e E o conjunto das arestas que ligam pares de vértices. Um grafo pode ser dirigido ou direcionado, se as arestas tiverem uma direção, ou não dirigido, se as arestas não tiverem direção.  \n",
    "\n",
    "Se as arestas tiverem associado um peso ou custo, o grafo passa a chamar-se de grafo pesado.  \n",
    "\n",
    "Os nós podem ser de diferente tipos, representados por cores ou etiquetas. Nesse caso, o grafo diz-se colorido.  \n",
    "\n",
    "Quando apenas é admitida no máximo uma aresta entre dois nós, diz-se que o grafo é simples."
   ]
  },
  {
   "cell_type": "code",
   "execution_count": 185,
   "metadata": {},
   "outputs": [
    {
     "data": {
      "text/plain": [
       "['NegativeCycleError',\n",
       " '__all__',\n",
       " '__builtins__',\n",
       " '__cached__',\n",
       " '__doc__',\n",
       " '__docformat__',\n",
       " '__file__',\n",
       " '__loader__',\n",
       " '__name__',\n",
       " '__package__',\n",
       " '__path__',\n",
       " '__spec__',\n",
       " '_flow',\n",
       " '_laplacian',\n",
       " '_matching',\n",
       " '_min_spanning_tree',\n",
       " '_reordering',\n",
       " '_shortest_path',\n",
       " '_tools',\n",
       " '_traversal',\n",
       " '_validation',\n",
       " 'bellman_ford',\n",
       " 'breadth_first_order',\n",
       " 'breadth_first_tree',\n",
       " 'connected_components',\n",
       " 'construct_dist_matrix',\n",
       " 'csgraph_from_dense',\n",
       " 'csgraph_from_masked',\n",
       " 'csgraph_masked_from_dense',\n",
       " 'csgraph_to_dense',\n",
       " 'csgraph_to_masked',\n",
       " 'depth_first_order',\n",
       " 'depth_first_tree',\n",
       " 'dijkstra',\n",
       " 'floyd_warshall',\n",
       " 'johnson',\n",
       " 'laplacian',\n",
       " 'maximum_bipartite_matching',\n",
       " 'maximum_flow',\n",
       " 'min_weight_full_bipartite_matching',\n",
       " 'minimum_spanning_tree',\n",
       " 'reconstruct_path',\n",
       " 'reverse_cuthill_mckee',\n",
       " 'shortest_path',\n",
       " 'structural_rank',\n",
       " 'test']"
      ]
     },
     "execution_count": 185,
     "metadata": {},
     "output_type": "execute_result"
    }
   ],
   "source": [
    "(dir(scipy.sparse.csgraph))"
   ]
  },
  {
   "attachments": {},
   "cell_type": "markdown",
   "metadata": {},
   "source": [
    "### Matriz de Adjacência"
   ]
  },
  {
   "attachments": {},
   "cell_type": "markdown",
   "metadata": {},
   "source": [
    "É uma das formas de se representar um grafo.  \n",
    "\n",
    "Dado um grafo G com n vértices, podemos representá-lo em uma matriz n x n A(G)=[aij] (ou simplesmente A). A definição precisa das entradas da matriz varia de acordo com as propriedades do grafo que se deseja representar, porém de forma geral o valor aij guarda informações sobre como os vértices vi e vj estão relacionados (isto é, informações sobre a adjacência de vi e vj).  \n",
    "\n",
    "Para representar um grafo não direcionado, simples e sem pesos nas arestas, basta que as entradas aij da matriz A contenham 1 se vi e vj são adjacentes e 0 caso contrário. Se as arestas do grafo tiverem pesos, aij pode conter, ao invés disso, o peso dessa mesma aresta.\n",
    "\n",
    "Se a matriz representa um grafo dirigido, os índices das linhas determinam a origem e os índices das colunas, o destino. Para grafos não dirigidos, a matriz será espelhada diagonalmente."
   ]
  },
  {
   "cell_type": "code",
   "execution_count": 186,
   "metadata": {},
   "outputs": [
    {
     "name": "stdout",
     "output_type": "stream",
     "text": [
      "(1, array([0, 0, 0]))\n"
     ]
    }
   ],
   "source": [
    "arr = [\n",
    "  [0, 1, 2],\n",
    "  [1, 0, 0],\n",
    "  [2, 0, 0]\n",
    "]\n",
    "\n",
    "# Converte uma lista aninhada em forma de matriz em uma matriz esparsa CSR.\n",
    "newarr = scipy.sparse.csr_matrix(arr)\n",
    "\n",
    "\n",
    "# connected_components encontra quais componentes estão conectados.\n",
    "print(scipy.sparse.csgraph.connected_components(newarr))"
   ]
  },
  {
   "attachments": {},
   "cell_type": "markdown",
   "metadata": {},
   "source": [
    "### Algoritmo de Dijkstra"
   ]
  },
  {
   "attachments": {},
   "cell_type": "markdown",
   "metadata": {},
   "source": [
    "Considerando as arestas de um gravo como trechos possíveis de um caminho entre dois vértices, o algoritmo de Dijkstra entrega a sequência de arestas cuja soma de pesos é a menor possível.  \n",
    "\n",
    "Não é aplicável caso o grafo possua algum peso negativo."
   ]
  },
  {
   "cell_type": "code",
   "execution_count": 187,
   "metadata": {},
   "outputs": [
    {
     "name": "stdout",
     "output_type": "stream",
     "text": [
      "(array([0., 1., 2.]), array([-9999,     0,     0]))\n"
     ]
    }
   ],
   "source": [
    "# O método dijkstra usa os seguintes argumentos\n",
    "    # return_predecessor: booleano (True para retornar todo caminho de transversal);\n",
    "    # indices: índice do elemento para retornar todos os caminhos a partir daquele elemento apenas;\n",
    "    # limit: peso máximo do caminho\n",
    "\n",
    "print(scipy.sparse.csgraph.dijkstra(newarr, return_predecessors=True, indices=0))"
   ]
  },
  {
   "attachments": {},
   "cell_type": "markdown",
   "metadata": {},
   "source": [
    "### Algoritmo de Floyd-Warshall"
   ]
  },
  {
   "attachments": {},
   "cell_type": "markdown",
   "metadata": {},
   "source": [
    "A partir de uma matriz de adjacênia, resulta em uma nova matriz com os as menores somas de arestas possíveis entre cada vértices.  \n",
    "Enquanto o Algoritmo de Dijkstra resulta nas menores somas para um mesmo vértice, o Algoritmo de Floyd-Warshall considera todos os vértices"
   ]
  },
  {
   "cell_type": "code",
   "execution_count": 188,
   "metadata": {},
   "outputs": [
    {
     "name": "stdout",
     "output_type": "stream",
     "text": [
      "(array([[0., 1., 2.],\n",
      "       [1., 0., 3.],\n",
      "       [2., 3., 0.]]), array([[-9999,     0,     0],\n",
      "       [    1, -9999,     0],\n",
      "       [    2,     0, -9999]]))\n"
     ]
    }
   ],
   "source": [
    "print(scipy.sparse.csgraph.floyd_warshall(newarr, return_predecessors=True))"
   ]
  },
  {
   "attachments": {},
   "cell_type": "markdown",
   "metadata": {},
   "source": [
    "### Algoritmo Bellman-Ford"
   ]
  },
  {
   "attachments": {},
   "cell_type": "markdown",
   "metadata": {},
   "source": [
    "Funciona como o Algoritmo de Dijkstra, mas admite pesos negativos.  \n",
    "\n",
    "O Algoritmo de Bellman-Ford também toma mais tempo de execução que o de Dijkstra, sendo utilizado somente no caso supracitado."
   ]
  },
  {
   "cell_type": "code",
   "execution_count": 189,
   "metadata": {},
   "outputs": [
    {
     "name": "stdout",
     "output_type": "stream",
     "text": [
      "(array([ 0., -1.,  2.]), array([-9999,     0,     0]))\n"
     ]
    }
   ],
   "source": [
    "arr = [\n",
    "  [0, -1, 2],\n",
    "  [1, 0, 0],\n",
    "  [2, 0, 0]\n",
    "]\n",
    "\n",
    "newarr = scipy.sparse.csr_matrix(arr)\n",
    "\n",
    "print(scipy.sparse.csgraph.bellman_ford(newarr, return_predecessors=True, indices=0))"
   ]
  },
  {
   "attachments": {},
   "cell_type": "markdown",
   "metadata": {},
   "source": [
    "### Ordem de Profundidade (Depth First Order)"
   ]
  },
  {
   "attachments": {},
   "cell_type": "markdown",
   "metadata": {},
   "source": [
    "É um algoritmo para percorrer ou pesquisar estruturas de dados em árvores ou grafos. O algoritmo começa no nó raiz (selecionando algum nó arbitrário como o nó raiz no caso de um grafo) e explora o máximo possível ao longo de cada ramificação antes de retroceder. Memória extra, geralmente uma pilha, é necessária para acompanhar os nós descobertos até agora ao longo de uma ramificação especificada, o que ajuda no retrocesso do grafo."
   ]
  },
  {
   "cell_type": "code",
   "execution_count": 190,
   "metadata": {},
   "outputs": [
    {
     "name": "stdout",
     "output_type": "stream",
     "text": [
      "(array([1, 0, 3, 2]), array([    1, -9999,     1,     0]))\n"
     ]
    }
   ],
   "source": [
    "newarr = scipy.sparse.csr_matrix([\n",
    "  [0, 1, 0, 1],\n",
    "  [1, 1, 1, 1],\n",
    "  [2, 1, 1, 0],\n",
    "  [0, 1, 0, 1]\n",
    "])\n",
    "\n",
    "print(scipy.sparse.csgraph.depth_first_order(newarr, 1))\n",
    "# Argumentos:\n",
    "  # O grafo (newarr)\n",
    "  # O elemento inicial para percorrer o gráfico."
   ]
  },
  {
   "attachments": {},
   "cell_type": "markdown",
   "metadata": {},
   "source": [
    "### Ordem de Largura (Breadth First Order)"
   ]
  },
  {
   "attachments": {},
   "cell_type": "markdown",
   "metadata": {},
   "source": [
    "É um algoritmo para pesquisar uma estrutura de dados de árvore para um nó que satisfaça uma determinada propriedade. Ele começa na raiz da árvore e explora todos os nós na profundidade atual antes de passar para os nós no próximo nível de profundidade."
   ]
  },
  {
   "cell_type": "code",
   "execution_count": 191,
   "metadata": {},
   "outputs": [
    {
     "name": "stdout",
     "output_type": "stream",
     "text": [
      "(array([1, 0, 2, 3]), array([    1, -9999,     1,     1]))\n"
     ]
    }
   ],
   "source": [
    "print(scipy.sparse.csgraph.breadth_first_order(newarr, 1))\n",
    "# Argumentos:\n",
    "  # O grafo (newarr)\n",
    "  # O elemento inicial para percorrer o gráfico."
   ]
  },
  {
   "attachments": {},
   "cell_type": "markdown",
   "metadata": {},
   "source": [
    "## Dados Espaciais"
   ]
  },
  {
   "attachments": {},
   "cell_type": "markdown",
   "metadata": {},
   "source": [
    "Referem-se a dados que são representados em um espaço geométrico - por exemplo, coordenadas."
   ]
  },
  {
   "attachments": {},
   "cell_type": "markdown",
   "metadata": {},
   "source": [
    "### Triangulação"
   ]
  },
  {
   "attachments": {},
   "cell_type": "markdown",
   "metadata": {},
   "source": [
    "Consiste em um método para dividir uma forma geométrica em diversos triângulos, possibilitando computar da área da superfície do polígono.  \n",
    "Uma triangulação com pontos significa criar uma superfície com pontos mais notórios da forma geométrica e traçar triângulos a partir desses pontos.  \n",
    "Um método para gerar essas triangulações através de pontos é a Triangulação de Delaunay"
   ]
  },
  {
   "cell_type": "code",
   "execution_count": 192,
   "metadata": {},
   "outputs": [
    {
     "data": {
      "image/png": "[encoded data removed]",
      "text/plain": [
       "<Figure size 640x480 with 1 Axes>"
      ]
     },
     "metadata": {},
     "output_type": "display_data"
    }
   ],
   "source": [
    "import numpy as np\n",
    "import matplotlib.pyplot as plt\n",
    "\n",
    "points = np.array([\n",
    "  [2, 4],\n",
    "  [3, 4],\n",
    "  [3, 0],\n",
    "  [2, 2],\n",
    "  [4, 1]\n",
    "])\n",
    "\n",
    "simplices = scipy.spatial.Delaunay(points).simplices\n",
    "\n",
    "plt.triplot(points[:, 0], points[:, 1], simplices)\n",
    "plt.scatter(points[:, 0], points[:, 1], color='r')\n",
    "\n",
    "plt.show()\n"
   ]
  },
  {
   "attachments": {},
   "cell_type": "markdown",
   "metadata": {},
   "source": [
    "### Casco Convexo (Convex Hull)"
   ]
  },
  {
   "attachments": {},
   "cell_type": "markdown",
   "metadata": {},
   "source": [
    "É a menor forma geométrica possível que engloba uma nuvem de pontos dada."
   ]
  },
  {
   "cell_type": "code",
   "execution_count": 193,
   "metadata": {},
   "outputs": [
    {
     "data": {
      "image/png": "[encoded data removed]",
      "text/plain": [
       "<Figure size 640x480 with 1 Axes>"
      ]
     },
     "metadata": {},
     "output_type": "display_data"
    }
   ],
   "source": [
    "import numpy as np\n",
    "import matplotlib.pyplot as plt\n",
    "\n",
    "points = np.array([\n",
    "  [2, 4],\n",
    "  [3, 4],\n",
    "  [3, 0],\n",
    "  [2, 2],\n",
    "  [4, 1],\n",
    "  [1, 2],\n",
    "  [5, 0],\n",
    "  [3, 1],\n",
    "  [1, 2],\n",
    "  [0, 2]\n",
    "])\n",
    "\n",
    "hull = scipy.spatial.ConvexHull(points)\n",
    "hull_points = hull.simplices\n",
    "\n",
    "plt.scatter(points[:,0], points[:,1])\n",
    "for simplex in hull_points:\n",
    "  plt.plot(points[simplex,0], points[simplex,1], 'k-')"
   ]
  },
  {
   "attachments": {},
   "cell_type": "markdown",
   "metadata": {},
   "source": [
    "### KDTrees (árvore k-dimensional)"
   ]
  },
  {
   "attachments": {},
   "cell_type": "markdown",
   "metadata": {},
   "source": [
    "É uma estrutura de dados otimizada para sequências de vizinhos mais próximos."
   ]
  },
  {
   "cell_type": "code",
   "execution_count": 194,
   "metadata": {},
   "outputs": [
    {
     "name": "stdout",
     "output_type": "stream",
     "text": [
      "(2.0, 0)\n",
      "<class 'tuple'>\n"
     ]
    }
   ],
   "source": [
    "from scipy.spatial import KDTree\n",
    "\n",
    "points = [(1, -1), (2, 3), (-2, 3), (2, -3)]\n",
    "\n",
    "kdtree = scipy.spatial.KDTree(points)\n",
    "# retorna um objeto KDTree.\n",
    "\n",
    "res = kdtree.query((1, 1))\n",
    "# recebe uma tupla como parâmetro, representando a coordenada do ponto\n",
    "# retorna a distância até o ponto vizinho mais próximo e sua loalização (índice na lista de pontos).\n",
    "\n",
    "print(res)\n",
    "print(type(res))"
   ]
  },
  {
   "attachments": {},
   "cell_type": "markdown",
   "metadata": {},
   "source": [
    "### Distâncias"
   ]
  },
  {
   "attachments": {},
   "cell_type": "markdown",
   "metadata": {},
   "source": [
    "* Distância euclidiana: a medida de distância traçando uma linha reta entre dois pontos.\n",
    "\n",
    "* Cityblock (distância de Manhattan): a soma das diferenças entre cada dimensão de dois pontos.\n",
    "\n",
    "* Similaridade de cosseno: o ângulo que se forma com duas linhas que se cruzam no ponto 0,0 e cada uma passando por um dos dois pontos. \n",
    "\n",
    "* Distância de Hamming: O número de dimensões que não coincidem (pode aparecer como o percentual de dimensões não coincidentes).\n",
    "\n",
    "* Distância de Mahalanobis: distância entre duas amostras; a partir de uma matriz de covariância (X-X, X-Y, Y-X, Y-Y) para cada amostra,  é a multiplicação quadrática simples das médias diferenciais com a matriz inversa da matriz de covariância conjunta.\n",
    "\n",
    "* Distância de Minkowski: \n",
    "\n",
    "* Distância Levenshtein: "
   ]
  },
  {
   "cell_type": "code",
   "execution_count": 195,
   "metadata": {},
   "outputs": [
    {
     "name": "stdout",
     "output_type": "stream",
     "text": [
      "9.219544457292887\n"
     ]
    }
   ],
   "source": [
    "# Distãncia euclidina\n",
    "\n",
    "p1 = (1, 0)\n",
    "p2 = (10, 2)\n",
    "\n",
    "res = scipy.spatial.distance.euclidean(p1, p2)\n",
    "\n",
    "print(res)"
   ]
  },
  {
   "cell_type": "code",
   "execution_count": 196,
   "metadata": {},
   "outputs": [
    {
     "name": "stdout",
     "output_type": "stream",
     "text": [
      "11\n"
     ]
    }
   ],
   "source": [
    "#Cityblock\n",
    "\n",
    "p1 = (1, 0)\n",
    "p2 = (10, 2)\n",
    "\n",
    "res = scipy.spatial.distance.cityblock(p1, p2)\n",
    "\n",
    "print(res)"
   ]
  },
  {
   "cell_type": "code",
   "execution_count": 197,
   "metadata": {},
   "outputs": [
    {
     "name": "stdout",
     "output_type": "stream",
     "text": [
      "0.019419324309079777\n"
     ]
    }
   ],
   "source": [
    "# Similaridade de cosseno\n",
    "\n",
    "p1 = (1, 0)\n",
    "p2 = (10, 2)\n",
    "\n",
    "res = scipy.spatial.distance.cosine(p1, p2)\n",
    "\n",
    "print(res)"
   ]
  },
  {
   "cell_type": "code",
   "execution_count": 198,
   "metadata": {},
   "outputs": [
    {
     "name": "stdout",
     "output_type": "stream",
     "text": [
      "0.6666666666666666\n"
     ]
    }
   ],
   "source": [
    "# Distância de Hamming\n",
    "\n",
    "p1 = (True, False, True)\n",
    "p2 = (False, True, True)\n",
    "\n",
    "res = scipy.spatial.distance.hamming(p1, p2)\n",
    "\n",
    "print(res)"
   ]
  },
  {
   "attachments": {},
   "cell_type": "markdown",
   "metadata": {},
   "source": [
    "## Matlab Arrays"
   ]
  },
  {
   "attachments": {},
   "cell_type": "markdown",
   "metadata": {},
   "source": [
    "Sabemos que o NumPy nos fornece métodos para persistir os dados em formatos legíveis para Python. Mas o SciPy também nos fornece interoperabilidade com o Matlab.  \n",
    "  \n",
    "O SciPy nos fornece o módulo _scipy.io_, que possui funções para trabalhar com arrays Matlab."
   ]
  },
  {
   "cell_type": "code",
   "execution_count": 199,
   "metadata": {},
   "outputs": [
    {
     "name": "stdout",
     "output_type": "stream",
     "text": [
      "{'__header__': b'MATLAB 5.0 MAT-file Platform: nt, Created on: Sat Jan 21 16:17:17 2023', '__version__': '1.0', '__globals__': [], 'vec': array([0, 1, 2, 3, 4, 5, 6, 7, 8, 9])}\n",
      "[0 1 2 3 4 5 6 7 8 9]\n"
     ]
    }
   ],
   "source": [
    "# Exportar para e importar do formato Matlab\n",
    "\n",
    "arr = [0, 1, 2, 3, 4, 5, 6, 7, 8, 9,]\n",
    "\n",
    "# Salvar um arquivo de nome \"arr.mat\" no seu computador.\n",
    "scipy.io.savemat('arr.mat', {\"vec\": arr})\n",
    "# Parâmetros:\n",
    "    # filename: o nome do arquivo ou dos dados salvos\n",
    "    # mdigt: um dicionário contendo os dados\n",
    "    # do_compression: um valor booleano que especifica se os dados serão comprimidos ou não (False por padrão)\n",
    "\n",
    "# Importar o arquivo de nome designado\n",
    "mydata = scipy.io.loadmat('arr.mat', squeeze_me=True)\n",
    "# Parâmetros:\n",
    "    # filename: o nome do arquivo ou dos dados salvos\n",
    "    # squeeze_me: evita que dimensões sejam adicionadas ao array fornecido\n",
    "\n",
    "print(mydata)\n",
    "print(mydata['vec'])"
   ]
  },
  {
   "attachments": {},
   "cell_type": "markdown",
   "metadata": {},
   "source": [
    "## Interpolação"
   ]
  },
  {
   "attachments": {},
   "cell_type": "markdown",
   "metadata": {},
   "source": [
    "É um método de geração de pontos entre dois pontos dados. Por exemplo: para os pontos 1 e 2 podemos interpolar e encontrar os pontos 1.33 e 1.66.  \n",
    "\n",
    "Interpolação possui diversos usos. Em aprendizagem de máquinas nós frequentemente lidamos com dados faltantes no dataset; interpolação é frequentemente usada para substituir esses valores.  \n",
    "\n",
    "Esse método de subtituição de valores é chamado de imputação.  \n",
    "\n",
    "Além disso, interpolação é frequentemente usada quanto precisamos suavizar pontos discretos em um conjunto de dados."
   ]
  },
  {
   "cell_type": "code",
   "execution_count": 200,
   "metadata": {},
   "outputs": [
    {
     "name": "stdout",
     "output_type": "stream",
     "text": [
      "<scipy.interpolate._interpolate.interp1d object at 0x000001F0F0658180>\n",
      "[0 1 2 3 4 5 6 7 8 9]\n",
      "[ 1  3  5  7  9 11 13 15 17 19]\n",
      "[2.1 2.2 2.3 2.4 2.5 2.6 2.7 2.8 2.9]\n",
      "[5.2 5.4 5.6 5.8 6.  6.2 6.4 6.6 6.8]\n"
     ]
    }
   ],
   "source": [
    "# Interpolar uma distribuição com uma variável\n",
    "    # Recebe pontos de x e de y e retorna uma função evocável que pode ser chamada com um novo x e retorna o y correspondente\n",
    "\n",
    "import numpy as np\n",
    "\n",
    "xs = np.arange(10)\n",
    "ys = 2*xs + 1\n",
    "\n",
    "interp_func = scipy.interpolate.interp1d(xs, ys)\n",
    "print(interp_func)\n",
    "\n",
    "newx = np.arange(2.1, 3, 0.1)\n",
    "\n",
    "newy = interp_func(newx)\n",
    "\n",
    "print(xs)\n",
    "print(ys)\n",
    "print(newx)\n",
    "print(newy)\n",
    "\n",
    "# O novo y também é os valores do novo x multiplicados por 2 e adicionado a 1."
   ]
  },
  {
   "attachments": {},
   "cell_type": "markdown",
   "metadata": {},
   "source": [
    "### Interpolação Spline"
   ]
  },
  {
   "attachments": {},
   "cell_type": "markdown",
   "metadata": {},
   "source": [
    "Na interpolação 1D, os pontos são ajustados para uma única curva, enquanto na interpolação Spline os pontos são ajustados contra uma função por partes definida com polinômios chamados splines."
   ]
  },
  {
   "cell_type": "code",
   "execution_count": 201,
   "metadata": {},
   "outputs": [
    {
     "name": "stdout",
     "output_type": "stream",
     "text": [
      "[0 1 2 3 4 5 6 7 8 9]\n",
      "[ 1.          2.84147098  5.90929743 10.14112001 16.2431975  25.04107573\n",
      " 36.7205845  50.6569866  65.98935825 82.41211849]\n",
      "[2.1 2.2 2.3 2.4 2.5 2.6 2.7 2.8 2.9]\n",
      "[5.62826474 6.03987348 6.47131994 6.92265019 7.3939103  7.88514634\n",
      " 8.39640439 8.92773053 9.47917082]\n"
     ]
    }
   ],
   "source": [
    "import numpy as np\n",
    "\n",
    "xs = np.arange(10)\n",
    "ys = xs**2 + np.sin(xs) + 1\n",
    "\n",
    "interp_func = scipy.interpolate.UnivariateSpline(xs, ys)\n",
    "\n",
    "newx = np.arange(2.1, 3, 0.1)\n",
    "newy = interp_func(newx)\n",
    "\n",
    "print(xs)\n",
    "print(ys)\n",
    "print(newx)\n",
    "print(newy)"
   ]
  },
  {
   "cell_type": "code",
   "execution_count": 202,
   "metadata": {},
   "outputs": [
    {
     "name": "stderr",
     "output_type": "stream",
     "text": [
      "No artists with labels found to put in legend.  Note that artists whose label start with an underscore are ignored when legend() is called with no argument.\n"
     ]
    },
    {
     "data": {
      "text/plain": [
       "<matplotlib.legend.Legend at 0x1f0f063aa40>"
      ]
     },
     "execution_count": 202,
     "metadata": {},
     "output_type": "execute_result"
    },
    {
     "data": {
      "image/png": "[encoded data removed]",
      "text/plain": [
       "<Figure size 640x480 with 2 Axes>"
      ]
     },
     "metadata": {},
     "output_type": "display_data"
    }
   ],
   "source": [
    "plt.subplot(2,1,1)\n",
    "plt.plot(xs)\n",
    "plt.plot(ys)\n",
    "\n",
    "plt.subplot(2,1,2)\n",
    "plt.plot(newx)\n",
    "plt.plot(newy)\n",
    "\n",
    "plt.legend()"
   ]
  },
  {
   "attachments": {},
   "cell_type": "markdown",
   "metadata": {},
   "source": [
    "### Interpolação com função de base radial"
   ]
  },
  {
   "attachments": {},
   "cell_type": "markdown",
   "metadata": {},
   "source": [
    "A função de base radial é uma função que é definida correspondendo a um ponto de referência fixo."
   ]
  },
  {
   "cell_type": "code",
   "execution_count": 203,
   "metadata": {},
   "outputs": [
    {
     "name": "stdout",
     "output_type": "stream",
     "text": [
      "[0 1 2 3 4 5 6 7 8 9]\n",
      "[ 1.          2.84147098  5.90929743 10.14112001 16.2431975  25.04107573\n",
      " 36.7205845  50.6569866  65.98935825 82.41211849]\n",
      "[2.1 2.2 2.3 2.4 2.5 2.6 2.7 2.8 2.9]\n",
      "[6.25748981 6.62190817 7.00310702 7.40121814 7.8161443  8.24773402\n",
      " 8.69590519 9.16070828 9.64233874]\n"
     ]
    }
   ],
   "source": [
    "import numpy as np\n",
    "\n",
    "xs = np.arange(10)\n",
    "ys = xs**2 + np.sin(xs) + 1\n",
    "\n",
    "interp_func = scipy.interpolate.Rbf(xs, ys)\n",
    "\n",
    "newx = np.arange(2.1, 3, 0.1)\n",
    "\n",
    "newy = interp_func(newx)\n",
    "\n",
    "print(xs)\n",
    "print(ys)\n",
    "print(newx)\n",
    "print(newy)"
   ]
  },
  {
   "cell_type": "code",
   "execution_count": 204,
   "metadata": {},
   "outputs": [
    {
     "data": {
      "text/plain": [
       "[<matplotlib.lines.Line2D at 0x1f0f07963b0>]"
      ]
     },
     "execution_count": 204,
     "metadata": {},
     "output_type": "execute_result"
    },
    {
     "data": {
      "image/png": "[encoded data removed]",
      "text/plain": [
       "<Figure size 640x480 with 2 Axes>"
      ]
     },
     "metadata": {},
     "output_type": "display_data"
    }
   ],
   "source": [
    "plt.subplot(2,1,1)\n",
    "plt.plot(xs)\n",
    "plt.plot(ys)\n",
    "\n",
    "plt.subplot(2,1,2)\n",
    "plt.plot(newx)\n",
    "plt.plot(newy)"
   ]
  },
  {
   "attachments": {},
   "cell_type": "markdown",
   "metadata": {},
   "source": [
    "## Teste de Significância"
   ]
  },
  {
   "attachments": {},
   "cell_type": "markdown",
   "metadata": {},
   "source": [
    "Em estatística, significância é a medida do quano um resultado pode ter sido produzido com uma razão por trás dele, não produzido aleatoriamente ou por acaso."
   ]
  },
  {
   "attachments": {},
   "cell_type": "markdown",
   "metadata": {},
   "source": [
    "Dada uma distribuição padrão usada como base para a distribuição amostral, a significância ou valor alfa é o valor percentual de massa que compõe a cauda da distribuição onde qualquer ponto é considerado diference do centro (da média). O p-valor é o percentual da massa que compõe a cauda da distribuição marcada pelo ponto testado, seja a média de outra amostra ou uma observação."
   ]
  },
  {
   "cell_type": "markdown",
   "metadata": {},
   "source": [
    "### Estatística Descritiva dos dados"
   ]
  },
  {
   "cell_type": "code",
   "execution_count": 223,
   "metadata": {},
   "outputs": [
    {
     "name": "stdout",
     "output_type": "stream",
     "text": [
      "DescribeResult(nobs=100, minmax=(-2.0874386512786547, 2.0072165527105854), mean=0.15067799070911994, variance=0.9218605864514154, skewness=-0.18229487356406476, kurtosis=-0.562250802032267)\n"
     ]
    }
   ],
   "source": [
    "import numpy as np\n",
    "\n",
    "v = np.random.normal(size=100)\n",
    "res = scipy.stats.describe(v)\n",
    "\n",
    "print(res)\n",
    "\n",
    "# nobs: número de observações\n",
    "# minmax: valores mínimo e máximo\n",
    "# mean: média\n",
    "# variance\n",
    "# skewness: assimetria\n",
    "# kurtosis: curtose"
   ]
  },
  {
   "attachments": {},
   "cell_type": "markdown",
   "metadata": {},
   "source": [
    "### Teste T de Student"
   ]
  },
  {
   "attachments": {},
   "cell_type": "markdown",
   "metadata": {},
   "source": [
    "Testa a significância da diferença entre as médias de duas distribuições. Se forem grandezas diferentes, é interessante padronizar ambas."
   ]
  },
  {
   "cell_type": "code",
   "execution_count": 215,
   "metadata": {},
   "outputs": [
    {
     "name": "stdout",
     "output_type": "stream",
     "text": [
      "Ttest_indResult(statistic=-7.609889662771324, pvalue=1.0907755415490505e-12)\n"
     ]
    },
    {
     "data": {
      "text/plain": [
       "(array([ 1.,  2.,  2.,  6., 16., 19., 15., 22., 11.,  6.]),\n",
       " array([-2.29028745, -1.76406471, -1.23784197, -0.71161923, -0.18539649,\n",
       "         0.34082625,  0.86704899,  1.39327173,  1.91949447,  2.44571721,\n",
       "         2.97193995]),\n",
       " <BarContainer object of 10 artists>)"
      ]
     },
     "execution_count": 215,
     "metadata": {},
     "output_type": "execute_result"
    },
    {
     "data": {
      "image/png": "[encoded data removed]",
      "text/plain": [
       "<Figure size 640x480 with 1 Axes>"
      ]
     },
     "metadata": {},
     "output_type": "display_data"
    }
   ],
   "source": [
    "import numpy as np\n",
    "\n",
    "v1 = np.random.normal(size=100)\n",
    "v2 = np.random.normal(size=100) +1\n",
    "\n",
    "res = scipy.stats.ttest_ind(v1, v2)\n",
    "\n",
    "print(res)\n",
    "\n",
    "plt.hist(v1)\n",
    "plt.hist(v2)"
   ]
  },
  {
   "attachments": {},
   "cell_type": "markdown",
   "metadata": {},
   "source": [
    "### Teste Kolmogorov-Smirnov (teste K-S)"
   ]
  },
  {
   "attachments": {},
   "cell_type": "markdown",
   "metadata": {},
   "source": [
    "Teste não paramétrico de bondade do ajuste sobre a igualdade de distribuições de probabilidade contínuas e unidimensionais que pode ser usado para comparar uma amostra com uma distribuição de probabilidade de referência (teste K–S uniamostral) ou duas amostras uma com a outra (teste K–S biamostral)."
   ]
  },
  {
   "cell_type": "code",
   "execution_count": 220,
   "metadata": {},
   "outputs": [
    {
     "name": "stdout",
     "output_type": "stream",
     "text": [
      "KstestResult(statistic=0.07687619576815152, pvalue=0.569098920666574, statistic_location=0.48701513064789187, statistic_sign=-1)\n",
      "KstestResult(statistic=0.9686501019683699, pvalue=8.407042721960085e-151, statistic_location=3, statistic_sign=-1)\n"
     ]
    }
   ],
   "source": [
    "import numpy as np\n",
    "\n",
    "v = np.random.normal(size=100)\n",
    "w = np.arange(100)\n",
    "\n",
    "res = scipy.stats.kstest(v, 'norm')\n",
    "\n",
    "print(res)\n",
    "\n",
    "#\n",
    "\n",
    "res = scipy.stats.kstest(w, 'norm')\n",
    "\n",
    "print(res)"
   ]
  },
  {
   "attachments": {},
   "cell_type": "markdown",
   "metadata": {},
   "source": [
    "### Teste de normalidade (assimetria, ou obliquidade, e curtose)"
   ]
  },
  {
   "attachments": {},
   "cell_type": "markdown",
   "metadata": {},
   "source": [
    "A obliquidade mede a assimetria das caudas da distribuição. Distribuições assimétricas que tem uma cauda mais \"pesada\" que a outra apresentam obliquidade. Distribuições simétricas tem obliquidade zero. Assim:\n",
    "\n",
    "Se v>0, então a distribuição tem uma cauda direita (valores acima da média) mais pesada;\n",
    "\n",
    "Se v<0, então a distribuição tem uma cauda esquerda (valores abaixo da média) mais pesada;\n",
    "\n",
    "Se v=0, então a distribuição é aproximadamente simétrica (na terceira potência do desvio em relação à média)."
   ]
  },
  {
   "attachments": {},
   "cell_type": "markdown",
   "metadata": {},
   "source": [
    "A curtose é uma medida de forma que caracteriza o achatamento da curva da função de distribuição de probabilidade.\n",
    "\n",
    "Se o valor da curtose for = 0 (ou 3, pela segunda definição), então tem o mesmo achatamento que a distribuição normal. Chama-se a estas funções de mesocúrticas;\n",
    "\n",
    "Se o valor é > 0 (ou > 3), então a distribuição em questão é mais alta (afunilada) e concentrada que a distribuição normal. Diz-se que esta função probabilidade é leptocúrtica, ou que a distribuição tem caudas pesadas (o significado é que é relativamente fácil obter valores que não se aproximam da média a vários múltiplos do desvio padrão);\n",
    "\n",
    "Se o valor é < 0 (ou < 3), então a função de distribuição é mais \"achatada\" que a distribuição normal. Chama-se-lhe platicúrtica"
   ]
  },
  {
   "cell_type": "code",
   "execution_count": 227,
   "metadata": {},
   "outputs": [
    {
     "name": "stdout",
     "output_type": "stream",
     "text": [
      "0.2592058468951676\n",
      "-0.4013890150471342\n"
     ]
    }
   ],
   "source": [
    "v = np.random.normal(size=100)\n",
    "\n",
    "print(scipy.stats.skew(v))\n",
    "print(scipy.stats.kurtosis(v))"
   ]
  },
  {
   "attachments": {},
   "cell_type": "markdown",
   "metadata": {},
   "source": [
    "### Regressão linear"
   ]
  },
  {
   "cell_type": "code",
   "execution_count": 235,
   "metadata": {},
   "outputs": [
    {
     "name": "stdout",
     "output_type": "stream",
     "text": [
      "inclinação: -1.751287711552612\n",
      "intercepto: 103.10596026490066\n",
      "r-valor: -0.7585915243761551\n",
      "p-valor: 0.002646873922456101\n",
      "desvo-padrão: 0.45353615760774196\n",
      "[94.3495217071376, 90.84694628403237, 89.09565857247976, 90.84694628403237, 99.60338484179543, 73.33406916850626, 99.60338484179543, 87.34437086092716, 96.1008094186902, 83.84179543782193, 82.09050772626932, 87.34437086092716, 92.59823399558499]\n"
     ]
    },
    {
     "data": {
      "image/png": "[encoded data removed]",
      "text/plain": [
       "<Figure size 640x480 with 1 Axes>"
      ]
     },
     "metadata": {},
     "output_type": "display_data"
    }
   ],
   "source": [
    "x = [5,7,8,7,2,17,2,9,4,11,12,9,6]\n",
    "y = [99,86,87,88,111,86,103,87,94,78,77,85,86]\n",
    "\n",
    "slope, intercept, r, p, std_err = scipy.stats.linregress(x, y)\n",
    "\n",
    "# Função definida pela regressão (pode ser utilizada para predição)\n",
    "def myfunc(x):\n",
    "  return slope * x + intercept\n",
    "  # A*x + B\n",
    "\n",
    "mymodel = list(map(myfunc, x))\n",
    "# Aplica a função determinada pela regressão à variável x para obter um valor de Y ideal.\n",
    "# Isso dará origem aos valores que aparecerão na linha que representa a regressão no gráfico.\n",
    "\n",
    "print('inclinação:',slope)\n",
    "print('intercepto:',intercept)\n",
    "print('r-valor:',r)\n",
    "print('p-valor:',p)\n",
    "print('desvo-padrão:',std_err)\n",
    "print(mymodel)\n",
    "\n",
    "plt.scatter(x, y)\n",
    "plt.plot(x, mymodel)\n",
    "plt.show()"
   ]
  },
  {
   "cell_type": "code",
   "execution_count": 234,
   "metadata": {},
   "outputs": [
    {
     "name": "stdout",
     "output_type": "stream",
     "text": [
      "LinregressResult(slope=-1.751287711552612, intercept=103.10596026490066, rvalue=-0.7585915243761551, pvalue=0.002646873922456101, stderr=0.45353615760774196, intercept_stderr=3.903492810154512)\n"
     ]
    }
   ],
   "source": [
    "A = scipy.stats.linregress(x, y)\n",
    "\n",
    "print(A)"
   ]
  },
  {
   "attachments": {},
   "cell_type": "markdown",
   "metadata": {},
   "source": [
    "É importante saber como é a relação entre os valores do eixo x e os valores do eixo y, se não houver relação a regressão linear não pode ser usada para prever nada.\n",
    "\n",
    "Essa relação - o coeficiente de correlação - é chamada de r.\n",
    "\n",
    "O valor r varia de -1 a 1, onde 0 significa sem relacionamento e 1 (e -1) significa 100% relacionado."
   ]
  },
  {
   "cell_type": "code",
   "execution_count": 237,
   "metadata": {},
   "outputs": [
    {
     "name": "stdout",
     "output_type": "stream",
     "text": [
      "r-valor: 0.013318141542974908\n",
      "p-valor: 0.955558800440106\n"
     ]
    },
    {
     "data": {
      "text/plain": [
       "[<matplotlib.lines.Line2D at 0x1f0ed193760>]"
      ]
     },
     "execution_count": 237,
     "metadata": {},
     "output_type": "execute_result"
    },
    {
     "data": {
      "image/png": "[encoded data removed]",
      "text/plain": [
       "<Figure size 640x480 with 1 Axes>"
      ]
     },
     "metadata": {},
     "output_type": "display_data"
    }
   ],
   "source": [
    "# Exemplo de um péssimo ajuste\n",
    "\n",
    "x = [89,43,36,36,95,10,66,34,38,20,26,29,48,64,6,5,36,66,72,40]\n",
    "y = [21,46,3,35,67,95,53,72,58,10,26,34,90,33,38,20,56,2,47,15]\n",
    "\n",
    "slope, intercept, r, p, std_err = scipy.stats.linregress(x, y)\n",
    "\n",
    "# Função definida pela regressão (pode ser utilizada para predição)\n",
    "def myfunc(x):\n",
    "  return slope * x + intercept\n",
    "  # A*x + B\n",
    "\n",
    "mymodel = list(map(myfunc, x))\n",
    "\n",
    "print('r-valor:',r)\n",
    "print('p-valor:',p)\n",
    "\n",
    "plt.scatter(x, y)\n",
    "plt.plot(x, mymodel)"
   ]
  },
  {
   "attachments": {},
   "cell_type": "markdown",
   "metadata": {},
   "source": [
    "### Regressão Polinomial"
   ]
  },
  {
   "attachments": {},
   "cell_type": "markdown",
   "metadata": {},
   "source": [
    "Se seus pontos de dados claramente não se ajustarem a uma regressão linear (uma linha reta através de todos os pontos de dados), pode ser ideal usar a regressão polinomial.\n",
    "\n",
    "A regressão polinomial, como a regressão linear, usa a relação entre as variáveis X e Y para encontrar a melhor maneira de traçar uma linha através dos pontos de dados."
   ]
  },
  {
   "attachments": {},
   "cell_type": "markdown",
   "metadata": {},
   "source": [
    "O pacote numpy possui uma função para executar esse tipo de regressão."
   ]
  }
 ],
 "metadata": {
  "kernelspec": {
   "display_name": "Python 3",
   "language": "python",
   "name": "python3"
  },
  "language_info": {
   "codemirror_mode": {
    "name": "ipython",
    "version": 3
   },
   "file_extension": ".py",
   "mimetype": "text/x-python",
   "name": "python",
   "nbconvert_exporter": "python",
   "pygments_lexer": "ipython3",
   "version": "3.10.9"
  },
  "orig_nbformat": 4,
  "vscode": {
   "interpreter": {
    "hash": "91b18657112df8a6dc2946b9dfe3559ddfc8e1e2117c2c8071424b5e043bd8e1"
   }
  }
 },
 "nbformat": 4,
 "nbformat_minor": 2
}
