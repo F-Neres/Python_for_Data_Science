{
 "cells": [
  {
   "cell_type": "markdown",
   "metadata": {},
   "source": [
    "# Standard Query Language"
   ]
  },
  {
   "cell_type": "markdown",
   "metadata": {},
   "source": [
    "Comandos importantes para este pacote:\n",
    "\n",
    "`conexão = sqlite3.connect(r'*path.db*')`\n",
    "Define o database em uso.\n",
    "Ainda não sei se vários bancos podem estar abertos ao mesmo tempo.\n",
    "\n",
    "`cursor = conexão.cursor()`\n",
    "Define um objeto que receberá as ordens para atuar no banco de dados.\n",
    "\n",
    "`cursor.execute('string_query')`\n",
    "Este comando transfere toda linguagem SQL para o Python.\n",
    "As strings são salvas como queries.\n",
    "\n",
    "`cursor.execute('insert into $tabela$ values (?, ?, ?)',tuplas)`\n",
    "Em instruções de listagem, é possível deixar os valores em uma tupla e a query com uma estrutura padrão.\n",
    "Isso é útil quando se deseja usar tuplas prontas, como em laços, e em vários comandos diferentes.\n",
    "\n",
    "`lista = cursor.fetchall()`\n",
    "Cria um objeto que é uma lista com os dados do último \"select\" (eu acho).\n",
    "\n",
    "`conexão.commit()`\n",
    "Salva as alterações em caso de blackout.\n",
    "\n",
    "`cursor.close()` e\n",
    "`conexão.close()`\n",
    "São comandos para fechar o cursos e a conexão."
   ]
  },
  {
   "cell_type": "markdown",
   "metadata": {},
   "source": [
    "#### Error: database is locked ####\n",
    "Ocorre porque há conexões abertas que travam a tabela, impossibilitando-a de ser alterada.\n",
    "Se não tiver certeza de que todas as conexões estão encerradas, reinicie e limpe todas as saídas pelo Kernel."
   ]
  },
  {
   "cell_type": "markdown",
   "metadata": {},
   "source": [
    "Algumas queries dependem de aspas. Basta usar aspas duplas para a string e aspas simples internamente."
   ]
  },
  {
   "cell_type": "code",
   "execution_count": 18,
   "metadata": {},
   "outputs": [],
   "source": [
    "#Criando um comando para apagar/reiniciar o arquivo.\n",
    "\n",
    "import os\n",
    "\n",
    "def redo(conexão,caminho):\n",
    "    try:\n",
    "        os.remove(caminho) if os.path.exists(caminho) else None\n",
    "    except PermissionError:\n",
    "        print('Redo encerrou a conexão.')\n",
    "        conexão.close()\n",
    "    else:\n",
    "        None\n",
    "    os.remove(caminho) if os.path.exists(caminho) else None\n",
    "    print(\"Redo apagou o arquivo (eu acho)\")\n",
    "\n",
    "def redoA(conexão,caminho):\n",
    "    conexão.close()\n",
    "    os.remove(caminho) if os.path.exists(caminho) else None\n",
    "\n",
    "try:\n",
    "    conn.close()\n",
    "except:\n",
    "    None\n",
    "\n",
    "os.remove(r'../ArquivosParalelos/escola.db') if os.path.exists(r'../ArquivosParalelos/escola.db') else None"
   ]
  },
  {
   "cell_type": "code",
   "execution_count": 19,
   "metadata": {},
   "outputs": [],
   "source": [
    "#Importação do módulo SQLite3\n",
    "\n",
    "import sqlite3"
   ]
  },
  {
   "cell_type": "code",
   "execution_count": 20,
   "metadata": {},
   "outputs": [
    {
     "name": "stdout",
     "output_type": "stream",
     "text": [
      "foi\n",
      "Redo apagou o arquivo (eu acho)\n"
     ]
    }
   ],
   "source": [
    "try: #tente\n",
    "    conn #chamar o objeto \"conn\"\n",
    "except NameError: #se o objeto não foi determinado\n",
    "    print('nada')\n",
    "    None #Nada acontece, não há conexão com determinado nome.\n",
    "else: #caso contrário\n",
    "    print('foi')\n",
    "    redo(conn,r'../ArquivosParalelos/escola.db') #Use a função para fechar a conexão e deletar o arquivo\n",
    "#Não consegui aplicar apenas o delete do arquivo"
   ]
  },
  {
   "cell_type": "markdown",
   "metadata": {},
   "source": [
    "## Início"
   ]
  },
  {
   "cell_type": "markdown",
   "metadata": {},
   "source": [
    "### Sumário\n",
    "\n",
    "* Criar o arquivo, se ainda não existir, ou criar a conexão, caso já exista;\n",
    "* Executar queries, criar tabelas;\n",
    "* Inserção de dados com tuplas;\n",
    "* Select e criação de lista com Fetchall"
   ]
  },
  {
   "cell_type": "code",
   "execution_count": 21,
   "metadata": {},
   "outputs": [
    {
     "name": "stdout",
     "output_type": "stream",
     "text": [
      "<class 'sqlite3.Connection'>\n"
     ]
    }
   ],
   "source": [
    "# Cria uma CONEXÃO do script sendo rodado com um banco de dados\n",
    "# Se o Banco de dados com o nome referido não existir no diretório, ele é criado nesse momento.\n",
    "# Um arquivo com o nome (em string) é criado/aberto no diretório.\n",
    "# Arquivos no formato .db são arquivos de banco de dados. A conexão pode ser feita com qualque arquivo.\n",
    "\n",
    "conn = sqlite3.connect(r'../ArquivosParalelos/escola.db')\n",
    "\n",
    "print(type(conn)) # Tipo: conexão"
   ]
  },
  {
   "cell_type": "markdown",
   "metadata": {},
   "source": [
    "Conexões se parecem com a determinação de qual banco de dados está em uso no MySQL."
   ]
  },
  {
   "cell_type": "code",
   "execution_count": 22,
   "metadata": {},
   "outputs": [],
   "source": [
    "#     conn.close()\n",
    "\n",
    "#     redo(conn,r'../ArquivosParalelos/escola.db')\n"
   ]
  },
  {
   "cell_type": "code",
   "execution_count": 23,
   "metadata": {},
   "outputs": [
    {
     "name": "stdout",
     "output_type": "stream",
     "text": [
      "<class 'sqlite3.Cursor'>\n"
     ]
    }
   ],
   "source": [
    "# Criação de um CURSOR.\n",
    "# Um cursor é um objeto que funciona como cordenada.\n",
    "# O cursor é parte de um objeto CONEXÃO; neste caso, do objeto \"conn\".\n",
    "\n",
    "curs = conn.cursor()\n",
    "\n",
    "print(type(curs))"
   ]
  },
  {
   "attachments": {},
   "cell_type": "markdown",
   "metadata": {},
   "source": [
    "## Criação da Tabela no DB"
   ]
  },
  {
   "cell_type": "code",
   "execution_count": 24,
   "metadata": {},
   "outputs": [
    {
     "name": "stdout",
     "output_type": "stream",
     "text": [
      "create table cursos (id integer primary key, titulo varchar(100), categoria varchar(140))\n",
      "create table cursos (id integer primary key, titulo varchar(100), categoria varchar(140))\n"
     ]
    }
   ],
   "source": [
    "# Queries em python são strings executadas.\n",
    "\n",
    "# Criação da string na forma do objeto \"string_executavel\":\n",
    "\n",
    "\n",
    "string_executavel = 'create table cursos '\\\n",
    "'(id integer primary key, '\\\n",
    "'titulo varchar(100), '\\\n",
    "'categoria varchar(140))'\n",
    "# PRYMARY KEY entra como constraint.\n",
    "\n",
    "print(string_executavel)\n",
    "\n",
    "# por extenso\n",
    "string_executavel = 'create table cursos (id integer primary key, titulo varchar(100), categoria varchar(140))'\n",
    "\n",
    "# O nome da tabela é \"cursos\"\n",
    "# A coluna \"id\" é do tipo interger e é uma chave primária, não admitindo valores repetidos.\n",
    "# As colunas \"título\" e \"categoria\" são do tipo varchar, aceitando até 100 e 140 caracteres, respectivamente.\n",
    "\n",
    "print(string_executavel)"
   ]
  },
  {
   "cell_type": "code",
   "execution_count": 25,
   "metadata": {},
   "outputs": [
    {
     "data": {
      "text/plain": [
       "<sqlite3.Cursor at 0x2414d4cdec0>"
      ]
     },
     "execution_count": 25,
     "metadata": {},
     "output_type": "execute_result"
    }
   ],
   "source": [
    "# Agora é pedido que o cursor \"curs\" (que está na conexão \"conn\" com o arquivo escola.db) execute o comando descrito em \"string_executavel\"\n",
    "\n",
    "curs.execute(string_executavel)\n",
    "\n",
    "# A tabela existe e possui parâmetros, mas não tem conteúdo."
   ]
  },
  {
   "attachments": {},
   "cell_type": "markdown",
   "metadata": {},
   "source": [
    "## Inserção de dados na tabela"
   ]
  },
  {
   "cell_type": "code",
   "execution_count": 26,
   "metadata": {},
   "outputs": [],
   "source": [
    "# Outra string de query.\n",
    "# A query é criada sem os dados, apenas com as lacunas.\n",
    "\n",
    "query_insercao = 'insert into cursos values (?, ?, ?)'"
   ]
  },
  {
   "cell_type": "code",
   "execution_count": 27,
   "metadata": {},
   "outputs": [
    {
     "name": "stdout",
     "output_type": "stream",
     "text": [
      "<class 'list'>\n",
      "<class 'tuple'>\n"
     ]
    }
   ],
   "source": [
    "# Dados a serem inseridos\n",
    "# O conjunto é uma lista\n",
    "# Cada item da lista é um registro no formato de tupla.\n",
    "recset = [(1000, 'Ciência de Dados', 'Data Science'),\n",
    "          (1001, 'Big Data Fundamentos', 'Big Data'),\n",
    "          (1002, 'Python Fundamentos', 'Análise de Dados')]\n",
    "\n",
    "print(type(recset))\n",
    "print(type(recset[1]))"
   ]
  },
  {
   "cell_type": "code",
   "execution_count": 28,
   "metadata": {},
   "outputs": [],
   "source": [
    "# Finalmente, a execução do comando de inserção de dados\n",
    "\n",
    "# Para cada \"linha\" em \"recset\",\n",
    "# O cursor \"curs\", na conexão \"conn\", executa\n",
    "# o comando na forma de string contido em \"query_insercao\"\n",
    "# adicionando uma \"linha\"\n",
    "\n",
    "for registro in recset:\n",
    "    curs.execute(query_insercao, registro)\n",
    "    #cursor.executa(query, registro)\n",
    "\n",
    "# .execute recebe como parâmetros a estrutura da query e a tupla de registro.\n",
    "# Outra forma de adicionar esses dados seria executando o comando tupla por tupla. A lista serviu apenas para o for.\n",
    "\n",
    "# Se o comando for executado duas vezes, o erro dirá que um dos atributos não pode ser repetido (primary key)."
   ]
  },
  {
   "cell_type": "code",
   "execution_count": 29,
   "metadata": {},
   "outputs": [],
   "source": [
    "# Gravar a transação\n",
    "# Tornar factível, não apenas alterações na conexão.\n",
    "conn.commit()\n",
    "\n",
    "# Se o script for encerrado antes disso, os dados são perdidos."
   ]
  },
  {
   "attachments": {},
   "cell_type": "markdown",
   "metadata": {},
   "source": [
    "# Consulta"
   ]
  },
  {
   "cell_type": "code",
   "execution_count": 30,
   "metadata": {},
   "outputs": [
    {
     "name": "stdout",
     "output_type": "stream",
     "text": [
      "[(1000, 'Ciência de Dados', 'Data Science'), (1001, 'Big Data Fundamentos', 'Big Data'), (1002, 'Python Fundamentos', 'Análise de Dados')]\n",
      "<class 'list'>\n",
      "\n",
      "\n",
      "Curso Id: 1000, Título: Ciência de Dados, Categoria: Data Science \n",
      "\n",
      "Curso Id: 1001, Título: Big Data Fundamentos, Categoria: Big Data \n",
      "\n",
      "Curso Id: 1002, Título: Python Fundamentos, Categoria: Análise de Dados \n",
      "\n"
     ]
    }
   ],
   "source": [
    "# Query de seleção de registros\n",
    "\n",
    "# Selecione todos os atributos (colunas) de \"cursos\".\n",
    "# Notar que o cursos fica no database, não na tabela.\n",
    "\n",
    "string_select = 'select * from cursos'\n",
    "\n",
    "curs.execute(string_select) # O cursor passa a CONTER a seleção.\n",
    "dados = curs.fetchall() # O objeto \"dados\" é a instância \"fetchall\" do cursor \"curs\".\n",
    "\n",
    "#\"fetchall\" revela todos os dados alocados na memória em \"curs\". \n",
    "\n",
    "# \"Dados\" é aquela mesma lista inserida anteriormente.\n",
    "print(dados)\n",
    "print(type(dados))\n",
    "\n",
    "# Numa forma mais apresentável:\n",
    "\n",
    "print('\\n')\n",
    "for i in dados:\n",
    "    print('Curso Id: %d, Título: %s, Categoria: %s \\n' % i)\n"
   ]
  },
  {
   "cell_type": "code",
   "execution_count": 31,
   "metadata": {},
   "outputs": [],
   "source": [
    "# Agora que a tabela possui dados, podemos adicionar dados novos\n",
    "# Isso não é só um arquivo de texto. É, de fato, um banco de dados.\n",
    "\n",
    "recset = [(1003, 'Gestão de Dados com MongoDB', 'Big Data'),\n",
    "          (1004, 'R Fundamentos', 'Análise de Dados')]\n",
    "\n",
    "for i in recset:\n",
    "    curs.execute(query_insercao, i)\n",
    "\n",
    "#string_insercao mantém o padrão das proporções: inserir em cursos valores (?,?,?)."
   ]
  },
  {
   "attachments": {},
   "cell_type": "markdown",
   "metadata": {},
   "source": [
    "## Commit e encerramento da conexão"
   ]
  },
  {
   "cell_type": "code",
   "execution_count": 32,
   "metadata": {},
   "outputs": [
    {
     "name": "stdout",
     "output_type": "stream",
     "text": [
      "Antes do commit:\n",
      "Curso Id: 1000, Título: Ciência de Dados, Categoria: Data Science \n",
      "\n",
      "Curso Id: 1001, Título: Big Data Fundamentos, Categoria: Big Data \n",
      "\n",
      "Curso Id: 1002, Título: Python Fundamentos, Categoria: Análise de Dados \n",
      "\n",
      "Curso Id: 1003, Título: Gestão de Dados com MongoDB, Categoria: Big Data \n",
      "\n",
      "Curso Id: 1004, Título: R Fundamentos, Categoria: Análise de Dados \n",
      "\n",
      "Depois do commit:\n",
      "Curso Id: 1000, Título: Ciência de Dados, Categoria: Data Science \n",
      "\n",
      "Curso Id: 1001, Título: Big Data Fundamentos, Categoria: Big Data \n",
      "\n",
      "Curso Id: 1002, Título: Python Fundamentos, Categoria: Análise de Dados \n",
      "\n",
      "Curso Id: 1003, Título: Gestão de Dados com MongoDB, Categoria: Big Data \n",
      "\n",
      "Curso Id: 1004, Título: R Fundamentos, Categoria: Análise de Dados \n",
      "\n"
     ]
    }
   ],
   "source": [
    "#Vejamos a importância do commit\n",
    "\n",
    "curs.execute('select * from cursos')\n",
    "dados_antes =  curs.fetchall()\n",
    "\n",
    "print('Antes do commit:')\n",
    "\n",
    "for i in dados_antes:\n",
    "    print('Curso Id: %d, Título: %s, Categoria: %s \\n' % i)\n",
    "\n",
    "conn.commit()\n",
    "\n",
    "curs.execute('select * from cursos')\n",
    "dados_depois = curs.fetchall()\n",
    "\n",
    "print('Depois do commit:')\n",
    "\n",
    "for i in dados_depois:\n",
    "    print('Curso Id: %d, Título: %s, Categoria: %s \\n' % i)\n",
    "\n",
    "\n",
    "# O COMMIT SÓ SE MOSTRA EFETIVO SE A CONEXÃO FOR ENCERRADA."
   ]
  },
  {
   "cell_type": "code",
   "execution_count": 33,
   "metadata": {},
   "outputs": [],
   "source": [
    "#Se algo for tentado com o arquivo que possui uma conexão aberda, retornará erro.\n",
    "\n",
    "conn.close()"
   ]
  },
  {
   "cell_type": "code",
   "execution_count": 34,
   "metadata": {},
   "outputs": [
    {
     "name": "stdout",
     "output_type": "stream",
     "text": [
      "Sem commit\n",
      "ID: 1000; Título: Ciência de Dados; Categoria: Data Science\n",
      "\n",
      "ID: 1001; Título: Big Data Fundamentos; Categoria: Big Data\n",
      "\n",
      "ID: 1002; Título: Python Fundamentos; Categoria: Análise de Dados\n",
      "\n",
      "ID: 1003; Título: Gestão de Dados com MongoDB; Categoria: Big Data\n",
      "\n",
      "ID: 1004; Título: R Fundamentos; Categoria: Análise de Dados\n",
      "\n",
      "\n",
      "\n",
      "Com commit\n",
      "ID: 1; Título: teste 1, 2, 3; Categoria: 123\n",
      "\n",
      "ID: 1000; Título: Ciência de Dados; Categoria: Data Science\n",
      "\n",
      "ID: 1001; Título: Big Data Fundamentos; Categoria: Big Data\n",
      "\n",
      "ID: 1002; Título: Python Fundamentos; Categoria: Análise de Dados\n",
      "\n",
      "ID: 1003; Título: Gestão de Dados com MongoDB; Categoria: Big Data\n",
      "\n",
      "ID: 1004; Título: R Fundamentos; Categoria: Análise de Dados\n",
      "\n",
      "ID: 1005; Título: Qualquer coisa; Categoria: Sei lá\n",
      "\n"
     ]
    }
   ],
   "source": [
    "# Fechando sem commit\n",
    "\n",
    "conn = sqlite3.connect(r'../ArquivosParalelos/escola.db')\n",
    "curs = conn.cursor()\n",
    "\n",
    "recset = [(1005,'Qualquer coisa', 'Sei lá'),\n",
    "         (1,'teste 1, 2, 3',123)]\n",
    "\n",
    "for i in recset:\n",
    "    curs.execute(query_insercao, i)\n",
    "    \n",
    "conn.close()\n",
    "\n",
    "conn = sqlite3.connect(r'../ArquivosParalelos/escola.db')\n",
    "curs = conn.cursor()\n",
    "\n",
    "# Usando 'conn.cursos' ao invés de nomeá-lo como 'curs'.\n",
    "curs.execute('select * from cursos')\n",
    "\n",
    "dados2 = curs.fetchall()\n",
    "\n",
    "print('Sem commit')\n",
    "for i in dados2:\n",
    "    print('ID: %d; Título: %s; Categoria: %s\\n' % i)\n",
    "print('\\n')\n",
    "\n",
    "\n",
    "# A mesma coisa, mas usando commit antes de fechar\n",
    "\n",
    "conn = sqlite3.connect(r'../ArquivosParalelos/escola.db')\n",
    "curs = conn.cursor()\n",
    "\n",
    "recset = [(1005,'Qualquer coisa', 'Sei lá'),\n",
    "         (1,'teste 1, 2, 3',123)]\n",
    "\n",
    "for i in recset:\n",
    "    curs.execute(query_insercao, i)\n",
    "    \n",
    "conn.commit()\n",
    "conn.close()\n",
    "\n",
    "conn = sqlite3.connect(r'../ArquivosParalelos/escola.db')\n",
    "curs = conn.cursor()\n",
    "\n",
    "# Usando 'conn.cursos' ao invés de nomeá-lo como 'curs'.\n",
    "curs.execute('select * from cursos')\n",
    "\n",
    "dados2 = curs.fetchall()\n",
    "\n",
    "print('Com commit')\n",
    "for i in dados2:\n",
    "    print('ID: %d; Título: %s; Categoria: %s\\n' % i)"
   ]
  },
  {
   "attachments": {},
   "cell_type": "markdown",
   "metadata": {},
   "source": [
    "## Informações sobre o DB"
   ]
  },
  {
   "cell_type": "code",
   "execution_count": 35,
   "metadata": {
    "scrolled": false
   },
   "outputs": [
    {
     "name": "stdout",
     "output_type": "stream",
     "text": [
      "('id', None, None, None, None, None, None) <class 'tuple'>\n",
      "('titulo', None, None, None, None, None, None) <class 'tuple'>\n",
      "('categoria', None, None, None, None, None, None) <class 'tuple'>\n",
      "\n",
      "<class 'tuple'>\n",
      "\n",
      "id <class 'str'>\n",
      "titulo <class 'str'>\n",
      "categoria <class 'str'>\n"
     ]
    }
   ],
   "source": [
    "# Obter informações das colunas.\n",
    "# O resultado é uma tupla composta por tuplas\n",
    "\n",
    "for i in curs.execute('select * from cursos').description:\n",
    "    print(i,type(i))\n",
    "    \n",
    "print('')\n",
    "print(type(curs.execute('select * from cursos').description))\n",
    "\n",
    "print('')\n",
    "\n",
    "# Para obter apenas os nomes.\n",
    "for i in curs.execute('select * from cursos').description:\n",
    "    print(i[0],type(i[0]))"
   ]
  },
  {
   "attachments": {},
   "cell_type": "markdown",
   "metadata": {},
   "source": [
    "# Funções"
   ]
  },
  {
   "cell_type": "markdown",
   "metadata": {},
   "source": [
    "## Função de preenchimento automático"
   ]
  },
  {
   "cell_type": "code",
   "execution_count": 36,
   "metadata": {},
   "outputs": [],
   "source": [
    "import sqlite3\n",
    "import random\n",
    "import time\n",
    "import datetime\n",
    "\n"
   ]
  },
  {
   "cell_type": "code",
   "execution_count": 37,
   "metadata": {},
   "outputs": [],
   "source": [
    "# Função para criar uma tabela\n",
    "def create_table(arquivo):\n",
    "    c = sqlite3.connect(arquivo).cursor() #Isto cria o arquivo se ele já não existe\n",
    "    c.execute('CREATE TABLE IF NOT EXISTS produtos(id INTEGER PRIMARY KEY AUTOINCREMENT NOT NULL, date TEXT, '\\\n",
    "              'prod_name TEXT, valor REAL)')\n",
    "    c.close()"
   ]
  },
  {
   "cell_type": "code",
   "execution_count": 38,
   "metadata": {
    "scrolled": true
   },
   "outputs": [],
   "source": [
    "# Função para inserir uma linha\n",
    "# Esta função serviu de base para a próxima.\n",
    "def data_insert():\n",
    "    c.execute(\"INSERT INTO produtos VALUES('2020-05-02 12:34:45', 'Teclado', 130.00 )\")\n",
    "    conn.commit()\n",
    "    c.close()\n",
    "    conn.close()"
   ]
  },
  {
   "cell_type": "code",
   "execution_count": 39,
   "metadata": {},
   "outputs": [],
   "source": [
    "# \"arquivo\" é o diretório do DB\n",
    "# \"n\" é o número de itens a serem criados na lista.\n",
    "\n",
    "# Esta função depende de a tabela \"produtos\" já existir no DB.\n",
    "\n",
    "def data_insert_var(n,arquivo):\n",
    "    conn = sqlite3.connect(arquivo)\n",
    "    c = conn.cursor() \n",
    "    for i in range(n): #cria n itens na lista.\n",
    "        new_date = datetime.datetime.now() #cria um objeto contendo a data e a hora atuais.\n",
    "        new_prod_name = random.choice(['Monitor', 'CPU', 'Teclado','Mouse']) #Escolhe um item na lista.\n",
    "        new_value = random.randrange(50,100) #Escolhe um preço para ser um valor do item.\n",
    "        c.execute(\"INSERT INTO produtos (date, prod_name, valor) VALUES (?, ?, ?)\", (new_date, new_prod_name, new_value))\n",
    "        conn.commit() #salva a alteração.\n",
    "        time.sleep(0) #aguarda 1 segundo.\n",
    "    c.close()"
   ]
  },
  {
   "cell_type": "code",
   "execution_count": 40,
   "metadata": {},
   "outputs": [],
   "source": [
    "# Mesmo que o DB não exista, ele é criado no momento da conexão na função de criação de tabela.\n",
    "\n",
    "create_table(r'../ArquivosParalelos/tempo.db')\n",
    "data_insert_var(1000,r'../ArquivosParalelos/tempo.db')\n",
    "\n",
    "# Se for executado mais vezes, vai acrescentar mais dados."
   ]
  },
  {
   "cell_type": "markdown",
   "metadata": {},
   "source": [
    "## Função de leitura dos dados"
   ]
  },
  {
   "cell_type": "markdown",
   "metadata": {},
   "source": [
    "Execute as funções de inserção de dados antes."
   ]
  },
  {
   "cell_type": "code",
   "execution_count": 41,
   "metadata": {},
   "outputs": [],
   "source": [
    "def showall():\n",
    "    conn = sqlite3.connect(r'../ArquivosParalelos/tempo.db')\n",
    "    c = conn.cursor()\n",
    "    c.execute('select * from produtos')\n",
    "    data = c.fetchall()\n",
    "    for i in data:\n",
    "        print('Id: %d, Data: %s, Produto: %s, Valor: %d \\n' % i)\n",
    "    c.close()\n",
    "    conn.close()"
   ]
  },
  {
   "cell_type": "code",
   "execution_count": null,
   "metadata": {},
   "outputs": [],
   "source": [
    "showall()"
   ]
  },
  {
   "cell_type": "code",
   "execution_count": null,
   "metadata": {},
   "outputs": [],
   "source": [
    "# Se nenhum objeto de conexão ou cursor for criado, o bloqueio é evitável.\n",
    "\n",
    "for i in sqlite3.connect(r'../ArquivosParalelos/tempo.db').cursor().execute('select * from produtos').fetchall(): print(i)"
   ]
  },
  {
   "cell_type": "markdown",
   "metadata": {},
   "source": [
    "## Separando colunas em listas independentes."
   ]
  },
  {
   "cell_type": "markdown",
   "metadata": {},
   "source": [
    "Foram feitos dicionários para manter o índice, mas a mesma fórmula pode ser usada para listas, se a ordem não for importante."
   ]
  },
  {
   "cell_type": "code",
   "execution_count": 44,
   "metadata": {},
   "outputs": [
    {
     "name": "stdout",
     "output_type": "stream",
     "text": [
      "['id', 'date', 'prod_name', 'valor']\n",
      "<class 'list'>\n"
     ]
    }
   ],
   "source": [
    "# Filtrando os nomes das colunas\n",
    "\n",
    "columns = []\n",
    "for i in sqlite3.connect(r'../ArquivosParalelos/tempo.db').cursor().execute('select * from produtos').description:\n",
    "    columns.append(i[0])\n",
    "print(columns)\n",
    "print(type(columns))"
   ]
  },
  {
   "cell_type": "code",
   "execution_count": 45,
   "metadata": {
    "scrolled": true
   },
   "outputs": [
    {
     "name": "stdout",
     "output_type": "stream",
     "text": [
      "Dicionário \"id\" criado com sucesso.\n",
      "Dicionário \"date\" criado com sucesso.\n",
      "Dicionário \"prod_name\" criado com sucesso.\n",
      "Dicionário \"valor\" criado com sucesso.\n"
     ]
    }
   ],
   "source": [
    "for N in columns:\n",
    "    ind = columns.index(N)\n",
    "    exec('%s = {}' % (N))\n",
    "    for linha in sqlite3.connect(r'../ArquivosParalelos/tempo.db').cursor().execute('select * from produtos').fetchall():\n",
    "        exec('%s[linha[0]]=linha[%s]' % (N,ind))\n",
    "    print('Dicionário \"%s\" criado com sucesso.' % N)\n",
    "\n"
   ]
  },
  {
   "cell_type": "code",
   "execution_count": 46,
   "metadata": {},
   "outputs": [],
   "source": [
    "for N in columns:\n",
    "    exec('print(%s)' % N)\n",
    "    \n",
    "#Peguei uma string e joguei como variável de outra string dentro de um exec\n",
    "#Com isso, o que seria lido como N foi interpretado como chamada, não como string"
   ]
  },
  {
   "cell_type": "code",
   "execution_count": null,
   "metadata": {},
   "outputs": [],
   "source": []
  }
 ],
 "metadata": {
  "kernelspec": {
   "display_name": "Python 3.10.6 64-bit (windows store)",
   "language": "python",
   "name": "python3"
  },
  "language_info": {
   "codemirror_mode": {
    "name": "ipython",
    "version": 3
   },
   "file_extension": ".py",
   "mimetype": "text/x-python",
   "name": "python",
   "nbconvert_exporter": "python",
   "pygments_lexer": "ipython3",
   "version": "3.10.11"
  },
  "vscode": {
   "interpreter": {
    "hash": "91b18657112df8a6dc2946b9dfe3559ddfc8e1e2117c2c8071424b5e043bd8e1"
   }
  }
 },
 "nbformat": 4,
 "nbformat_minor": 4
}
