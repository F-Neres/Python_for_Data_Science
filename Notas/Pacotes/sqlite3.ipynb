{
 "cells": [
  {
   "cell_type": "markdown",
   "metadata": {},
   "source": [
    "# Standard Query Language"
   ]
  },
  {
   "cell_type": "markdown",
   "metadata": {},
   "source": [
    "Comandos importantes para este pacote:\n",
    "\n",
    "`conexão = sqlite3.connect(r'*path.db*')`\n",
    "Define o database em uso.\n",
    "Ainda não sei se vários bancos podem estar abertos ao mesmo tempo.\n",
    "\n",
    "`cursor = conexão.cursor()`\n",
    "Define um objeto que receberá as ordens para atuar no banco de dados.\n",
    "\n",
    "`cursor.execute('string_query')`\n",
    "Este comando transfere toda linguagem SQL para o Python.\n",
    "As strings são salvas como queries.\n",
    "\n",
    "`cursor.execute('insert into $tabela$ values (?, ?, ?)',tuplas)`\n",
    "Em instruções de listagem, é possível deixar os valores em uma tupla e a query com uma estrutura padrão.\n",
    "Isso é útil quando se deseja usar tuplas prontas, como em laços, e em vários comandos diferentes.\n",
    "\n",
    "`lista = cursor.fetchall()`\n",
    "Cria um objeto que é uma lista com os dados do último \"select\" (eu acho).\n",
    "\n",
    "`conexão.commit()`\n",
    "Salva as alterações em caso de blackout.\n",
    "\n",
    "`cursor.close()` e\n",
    "`conexão.close()`\n",
    "São comandos para fechar o cursos e a conexão."
   ]
  },
  {
   "cell_type": "markdown",
   "metadata": {},
   "source": [
    "#### Error: database is locked ####\n",
    "Ocorre porque há conexões abertas que travam a tabela, impossibilitando-a de ser alterada.\n",
    "Se não tiver certeza de que todas as conexões estão encerradas, reinicie e limpe todas as saídas pelo Kernel."
   ]
  },
  {
   "cell_type": "markdown",
   "metadata": {},
   "source": [
    "Algumas queries dependem de aspas. Basta usar aspas duplas para a string e aspas simples internamente."
   ]
  },
  {
   "cell_type": "code",
   "execution_count": 3,
   "metadata": {},
   "outputs": [
    {
     "name": "stdout",
     "output_type": "stream",
     "text": [
      "Não há conexão \"conn\".\n"
     ]
    }
   ],
   "source": [
    "#Criando um comando para apagar/reiniciar o arquivo.\n",
    "\n",
    "import os\n",
    "\n",
    "def redo(conexão,caminho):\n",
    "    try:\n",
    "        os.remove(caminho) if os.path.exists(caminho) else None\n",
    "    except PermissionError:\n",
    "        print('Redo encerrou a conexão.')\n",
    "        conexão.close()\n",
    "    else:\n",
    "        None\n",
    "    os.remove(caminho) if os.path.exists(caminho) else None\n",
    "    print(\"Redo apagou o arquivo (eu acho)\")\n",
    "    conexão.close()\n",
    "\n",
    "def redoA(conexão,caminho):\n",
    "    conexão.close()\n",
    "    os.remove(caminho) if os.path.exists(caminho) else None\n",
    "\n",
    "try:\n",
    "    conn.close()\n",
    "except:\n",
    "    print('Não há conexão \"conn\".')\n",
    "\n",
    "os.remove(r'../ArquivosParalelos/escola.db') if os.path.exists(r'../ArquivosParalelos/escola.db') else None"
   ]
  },
  {
   "cell_type": "code",
   "execution_count": 4,
   "metadata": {},
   "outputs": [],
   "source": [
    "#Importação do módulo SQLite3\n",
    "\n",
    "import sqlite3"
   ]
  },
  {
   "cell_type": "code",
   "execution_count": 5,
   "metadata": {},
   "outputs": [
    {
     "name": "stdout",
     "output_type": "stream",
     "text": [
      "Não há objeto \"conn\"\n"
     ]
    }
   ],
   "source": [
    "try: #tente\n",
    "    conn #chamar o objeto \"conn\"\n",
    "except NameError: #se o objeto não foi determinado\n",
    "    print('Não há objeto \"conn\"')\n",
    "    None #Nada acontece, não há conexão com determinado nome.\n",
    "else: #caso contrário\n",
    "    redo(conn,r'../ArquivosParalelos/escola.db') #Use a função para fechar a conexão e deletar o arquivo\n",
    "    print('Conexão encerrada e arquivo deletado')\n",
    "#Não consegui aplicar apenas o delete do arquivo"
   ]
  },
  {
   "cell_type": "markdown",
   "metadata": {},
   "source": [
    "## Início"
   ]
  },
  {
   "cell_type": "markdown",
   "metadata": {},
   "source": [
    "### Sumário\n",
    "\n",
    "* Criar o arquivo, se ainda não existir, ou criar a conexão, caso já exista;\n",
    "* Executar queries, criar tabelas;\n",
    "* Inserção de dados com tuplas;\n",
    "* Select e criação de lista com Fetchall"
   ]
  },
  {
   "cell_type": "code",
   "execution_count": 6,
   "metadata": {},
   "outputs": [
    {
     "name": "stdout",
     "output_type": "stream",
     "text": [
      "<class 'sqlite3.Connection'>\n"
     ]
    }
   ],
   "source": [
    "# Cria uma CONEXÃO do script sendo rodado com um banco de dados\n",
    "# Se o Banco de dados com o nome referido não existir no diretório, ele é criado nesse momento.\n",
    "# Um arquivo com o nome (em string) é criado/aberto no diretório.\n",
    "# Arquivos no formato .db são arquivos de banco de dados. A conexão pode ser feita com qualque arquivo.\n",
    "\n",
    "conn = sqlite3.connect(r'../ArquivosParalelos/escola.db')\n",
    "\n",
    "print(type(conn)) # Tipo: conexão"
   ]
  },
  {
   "cell_type": "markdown",
   "metadata": {},
   "source": [
    "Conexões se parecem com a determinação de qual banco de dados está em uso no MySQL."
   ]
  },
  {
   "cell_type": "code",
   "execution_count": 7,
   "metadata": {},
   "outputs": [],
   "source": [
    "#     conn.close()\n",
    "\n",
    "#     redo(conn,r'../ArquivosParalelos/escola.db')\n"
   ]
  },
  {
   "cell_type": "code",
   "execution_count": 8,
   "metadata": {},
   "outputs": [
    {
     "name": "stdout",
     "output_type": "stream",
     "text": [
      "<class 'sqlite3.Cursor'>\n"
     ]
    }
   ],
   "source": [
    "# Criação de um CURSOR.\n",
    "# Um cursor é um objeto que funciona como cordenada.\n",
    "# O cursor é parte de um objeto CONEXÃO; neste caso, do objeto \"conn\".\n",
    "\n",
    "curs = conn.cursor()\n",
    "\n",
    "print(type(curs))"
   ]
  },
  {
   "attachments": {},
   "cell_type": "markdown",
   "metadata": {},
   "source": [
    "## Criação da Tabela no DB"
   ]
  },
  {
   "cell_type": "code",
   "execution_count": 9,
   "metadata": {},
   "outputs": [
    {
     "name": "stdout",
     "output_type": "stream",
     "text": [
      "create table cursos (id integer primary key, titulo varchar(100), categoria varchar(140))\n",
      "create table cursos (id integer primary key, titulo varchar(100), categoria varchar(140))\n"
     ]
    }
   ],
   "source": [
    "# Queries em python são strings executadas.\n",
    "\n",
    "# Criação da string na forma do objeto \"string_executavel\":\n",
    "\n",
    "\n",
    "string_executavel = 'create table cursos '\\\n",
    "'(id integer primary key, '\\\n",
    "'titulo varchar(100), '\\\n",
    "'categoria varchar(140))'\n",
    "# PRYMARY KEY entra como constraint.\n",
    "\n",
    "print(string_executavel)\n",
    "\n",
    "# por extenso\n",
    "string_executavel = 'create table cursos (id integer primary key, titulo varchar(100), categoria varchar(140))'\n",
    "\n",
    "# O nome da tabela é \"cursos\"\n",
    "# A coluna \"id\" é do tipo interger e é uma chave primária, não admitindo valores repetidos.\n",
    "# As colunas \"título\" e \"categoria\" são do tipo varchar, aceitando até 100 e 140 caracteres, respectivamente.\n",
    "\n",
    "print(string_executavel)"
   ]
  },
  {
   "cell_type": "code",
   "execution_count": 10,
   "metadata": {},
   "outputs": [
    {
     "data": {
      "text/plain": [
       "<sqlite3.Cursor at 0x27f88d52440>"
      ]
     },
     "execution_count": 10,
     "metadata": {},
     "output_type": "execute_result"
    }
   ],
   "source": [
    "# Agora é pedido que o cursor \"curs\" (que está na conexão \"conn\" com o arquivo escola.db) execute o comando descrito em \"string_executavel\"\n",
    "\n",
    "curs.execute(string_executavel)\n",
    "\n",
    "# A tabela existe e possui parâmetros, mas não tem conteúdo."
   ]
  },
  {
   "attachments": {},
   "cell_type": "markdown",
   "metadata": {},
   "source": [
    "## Inserção de dados na tabela"
   ]
  },
  {
   "cell_type": "code",
   "execution_count": 11,
   "metadata": {},
   "outputs": [],
   "source": [
    "# Outra string de query.\n",
    "# A query é criada sem os dados, apenas com as lacunas.\n",
    "\n",
    "query_insercao = 'insert into cursos values (?, ?, ?)'"
   ]
  },
  {
   "cell_type": "code",
   "execution_count": 12,
   "metadata": {},
   "outputs": [
    {
     "name": "stdout",
     "output_type": "stream",
     "text": [
      "<class 'list'>\n",
      "<class 'tuple'>\n"
     ]
    }
   ],
   "source": [
    "# Dados a serem inseridos\n",
    "# O conjunto é uma lista\n",
    "# Cada item da lista é um registro no formato de tupla.\n",
    "recset = [(1000, 'Ciência de Dados', 'Data Science'),\n",
    "          (1001, 'Big Data Fundamentos', 'Big Data'),\n",
    "          (1002, 'Python Fundamentos', 'Análise de Dados')]\n",
    "\n",
    "print(type(recset))\n",
    "print(type(recset[1]))"
   ]
  },
  {
   "cell_type": "code",
   "execution_count": 13,
   "metadata": {},
   "outputs": [],
   "source": [
    "# Finalmente, a execução do comando de inserção de dados\n",
    "\n",
    "# Para cada \"linha\" em \"recset\",\n",
    "# O cursor \"curs\", na conexão \"conn\", executa\n",
    "# o comando na forma de string contido em \"query_insercao\"\n",
    "# adicionando uma \"linha\"\n",
    "\n",
    "for registro in recset:\n",
    "    curs.execute(query_insercao, registro)\n",
    "    #cursor.executa(query, registro)\n",
    "\n",
    "# .execute recebe como parâmetros a estrutura da query e a tupla de registro.\n",
    "# Outra forma de adicionar esses dados seria executando o comando tupla por tupla. A lista serviu apenas para o for.\n",
    "\n",
    "# Se o comando for executado duas vezes, o erro dirá que um dos atributos não pode ser repetido (primary key)."
   ]
  },
  {
   "cell_type": "code",
   "execution_count": 14,
   "metadata": {},
   "outputs": [],
   "source": [
    "# Gravar a transação\n",
    "# Tornar factível, não apenas alterações na conexão.\n",
    "conn.commit()\n",
    "\n",
    "# Se o script for encerrado antes disso, os dados são perdidos."
   ]
  },
  {
   "attachments": {},
   "cell_type": "markdown",
   "metadata": {},
   "source": [
    "# Consulta"
   ]
  },
  {
   "cell_type": "code",
   "execution_count": 15,
   "metadata": {},
   "outputs": [
    {
     "name": "stdout",
     "output_type": "stream",
     "text": [
      "[(1000, 'Ciência de Dados', 'Data Science'), (1001, 'Big Data Fundamentos', 'Big Data'), (1002, 'Python Fundamentos', 'Análise de Dados')]\n",
      "<class 'list'>\n",
      "\n",
      "\n",
      "Curso Id: 1000, Título: Ciência de Dados, Categoria: Data Science \n",
      "\n",
      "Curso Id: 1001, Título: Big Data Fundamentos, Categoria: Big Data \n",
      "\n",
      "Curso Id: 1002, Título: Python Fundamentos, Categoria: Análise de Dados \n",
      "\n"
     ]
    }
   ],
   "source": [
    "# Query de seleção de registros\n",
    "\n",
    "# Selecione todos os atributos (colunas) de \"cursos\".\n",
    "# Notar que o cursos fica no database, não na tabela.\n",
    "\n",
    "string_select = 'select * from cursos'\n",
    "\n",
    "curs.execute(string_select) # O cursor passa a CONTER a seleção.\n",
    "dados = curs.fetchall() # O objeto \"dados\" é a instância \"fetchall\" do cursor \"curs\".\n",
    "\n",
    "#\"fetchall\" revela todos os dados alocados na memória em \"curs\". \n",
    "\n",
    "# \"Dados\" é aquela mesma lista inserida anteriormente.\n",
    "print(dados)\n",
    "print(type(dados))\n",
    "\n",
    "# Numa forma mais apresentável:\n",
    "\n",
    "print('\\n')\n",
    "for i in dados:\n",
    "    print('Curso Id: %d, Título: %s, Categoria: %s \\n' % i)\n"
   ]
  },
  {
   "cell_type": "code",
   "execution_count": 16,
   "metadata": {},
   "outputs": [],
   "source": [
    "# Agora que a tabela possui dados, podemos adicionar dados novos\n",
    "# Isso não é só um arquivo de texto. É, de fato, um banco de dados.\n",
    "\n",
    "recset = [(1003, 'Gestão de Dados com MongoDB', 'Big Data'),\n",
    "          (1004, 'R Fundamentos', 'Análise de Dados')]\n",
    "\n",
    "for i in recset:\n",
    "    curs.execute(query_insercao, i)\n",
    "\n",
    "#string_insercao mantém o padrão das proporções: inserir em cursos valores (?,?,?)."
   ]
  },
  {
   "attachments": {},
   "cell_type": "markdown",
   "metadata": {},
   "source": [
    "## Commit e encerramento da conexão"
   ]
  },
  {
   "cell_type": "code",
   "execution_count": 17,
   "metadata": {},
   "outputs": [
    {
     "name": "stdout",
     "output_type": "stream",
     "text": [
      "Antes do commit:\n",
      "Curso Id: 1000, Título: Ciência de Dados, Categoria: Data Science \n",
      "\n",
      "Curso Id: 1001, Título: Big Data Fundamentos, Categoria: Big Data \n",
      "\n",
      "Curso Id: 1002, Título: Python Fundamentos, Categoria: Análise de Dados \n",
      "\n",
      "Curso Id: 1003, Título: Gestão de Dados com MongoDB, Categoria: Big Data \n",
      "\n",
      "Curso Id: 1004, Título: R Fundamentos, Categoria: Análise de Dados \n",
      "\n",
      "Depois do commit:\n",
      "Curso Id: 1000, Título: Ciência de Dados, Categoria: Data Science \n",
      "\n",
      "Curso Id: 1001, Título: Big Data Fundamentos, Categoria: Big Data \n",
      "\n",
      "Curso Id: 1002, Título: Python Fundamentos, Categoria: Análise de Dados \n",
      "\n",
      "Curso Id: 1003, Título: Gestão de Dados com MongoDB, Categoria: Big Data \n",
      "\n",
      "Curso Id: 1004, Título: R Fundamentos, Categoria: Análise de Dados \n",
      "\n"
     ]
    }
   ],
   "source": [
    "#Vejamos a importância do commit\n",
    "\n",
    "curs.execute('select * from cursos')\n",
    "dados_antes =  curs.fetchall()\n",
    "\n",
    "print('Antes do commit:')\n",
    "\n",
    "for i in dados_antes:\n",
    "    print('Curso Id: %d, Título: %s, Categoria: %s \\n' % i)\n",
    "\n",
    "conn.commit()\n",
    "\n",
    "curs.execute('select * from cursos')\n",
    "dados_depois = curs.fetchall()\n",
    "\n",
    "print('Depois do commit:')\n",
    "\n",
    "for i in dados_depois:\n",
    "    print('Curso Id: %d, Título: %s, Categoria: %s \\n' % i)\n",
    "\n",
    "\n",
    "# O COMMIT SÓ SE MOSTRA EFETIVO SE A CONEXÃO FOR ENCERRADA."
   ]
  },
  {
   "cell_type": "code",
   "execution_count": 18,
   "metadata": {},
   "outputs": [],
   "source": [
    "#Se algo for tentado com o arquivo que possui uma conexão aberda, retornará erro.\n",
    "\n",
    "conn.close()"
   ]
  },
  {
   "cell_type": "code",
   "execution_count": 19,
   "metadata": {},
   "outputs": [
    {
     "name": "stdout",
     "output_type": "stream",
     "text": [
      "Sem commit\n",
      "ID: 1000; Título: Ciência de Dados; Categoria: Data Science\n",
      "\n",
      "ID: 1001; Título: Big Data Fundamentos; Categoria: Big Data\n",
      "\n",
      "ID: 1002; Título: Python Fundamentos; Categoria: Análise de Dados\n",
      "\n",
      "ID: 1003; Título: Gestão de Dados com MongoDB; Categoria: Big Data\n",
      "\n",
      "ID: 1004; Título: R Fundamentos; Categoria: Análise de Dados\n",
      "\n",
      "\n",
      "\n",
      "Com commit\n",
      "ID: 1; Título: teste 1, 2, 3; Categoria: 123\n",
      "\n",
      "ID: 1000; Título: Ciência de Dados; Categoria: Data Science\n",
      "\n",
      "ID: 1001; Título: Big Data Fundamentos; Categoria: Big Data\n",
      "\n",
      "ID: 1002; Título: Python Fundamentos; Categoria: Análise de Dados\n",
      "\n",
      "ID: 1003; Título: Gestão de Dados com MongoDB; Categoria: Big Data\n",
      "\n",
      "ID: 1004; Título: R Fundamentos; Categoria: Análise de Dados\n",
      "\n",
      "ID: 1005; Título: Qualquer coisa; Categoria: Sei lá\n",
      "\n"
     ]
    }
   ],
   "source": [
    "# Fechando sem commit\n",
    "\n",
    "conn = sqlite3.connect(r'../ArquivosParalelos/escola.db')\n",
    "curs = conn.cursor()\n",
    "\n",
    "recset = [(1005,'Qualquer coisa', 'Sei lá'),\n",
    "         (1,'teste 1, 2, 3',123)]\n",
    "\n",
    "for i in recset:\n",
    "    curs.execute(query_insercao, i)\n",
    "    \n",
    "conn.close()\n",
    "\n",
    "conn = sqlite3.connect(r'../ArquivosParalelos/escola.db')\n",
    "curs = conn.cursor()\n",
    "\n",
    "# Usando 'conn.cursos' ao invés de nomeá-lo como 'curs'.\n",
    "curs.execute('select * from cursos')\n",
    "\n",
    "dados2 = curs.fetchall()\n",
    "\n",
    "print('Sem commit')\n",
    "for i in dados2:\n",
    "    print('ID: %d; Título: %s; Categoria: %s\\n' % i)\n",
    "print('\\n')\n",
    "\n",
    "\n",
    "# A mesma coisa, mas usando commit antes de fechar\n",
    "\n",
    "conn = sqlite3.connect(r'../ArquivosParalelos/escola.db')\n",
    "curs = conn.cursor()\n",
    "\n",
    "recset = [(1005,'Qualquer coisa', 'Sei lá'),\n",
    "         (1,'teste 1, 2, 3',123)]\n",
    "\n",
    "for i in recset:\n",
    "    curs.execute(query_insercao, i)\n",
    "    \n",
    "conn.commit()\n",
    "conn.close()\n",
    "\n",
    "conn = sqlite3.connect(r'../ArquivosParalelos/escola.db')\n",
    "curs = conn.cursor()\n",
    "\n",
    "# Usando 'conn.cursos' ao invés de nomeá-lo como 'curs'.\n",
    "curs.execute('select * from cursos')\n",
    "\n",
    "dados2 = curs.fetchall()\n",
    "\n",
    "print('Com commit')\n",
    "for i in dados2:\n",
    "    print('ID: %d; Título: %s; Categoria: %s\\n' % i)"
   ]
  },
  {
   "attachments": {},
   "cell_type": "markdown",
   "metadata": {},
   "source": [
    "## Informações sobre o DB - Metadados"
   ]
  },
  {
   "cell_type": "code",
   "execution_count": 20,
   "metadata": {
    "scrolled": false
   },
   "outputs": [
    {
     "name": "stdout",
     "output_type": "stream",
     "text": [
      "('id', None, None, None, None, None, None) <class 'tuple'>\n",
      "('titulo', None, None, None, None, None, None) <class 'tuple'>\n",
      "('categoria', None, None, None, None, None, None) <class 'tuple'>\n",
      "\n",
      "<class 'tuple'>\n",
      "\n",
      "id <class 'str'>\n",
      "titulo <class 'str'>\n",
      "categoria <class 'str'>\n"
     ]
    }
   ],
   "source": [
    "# Obter informações das colunas.\n",
    "# O resultado é uma tupla composta por tuplas\n",
    "\n",
    "for i in curs.execute('select * from cursos').description:\n",
    "    print(i,type(i))\n",
    "    \n",
    "print('')\n",
    "print(type(curs.execute('select * from cursos').description))\n",
    "\n",
    "print('')\n",
    "\n",
    "# Para obter apenas os nomes.\n",
    "for i in curs.execute('select * from cursos').description:\n",
    "    print(i[0],type(i[0]))"
   ]
  },
  {
   "cell_type": "code",
   "execution_count": 21,
   "metadata": {},
   "outputs": [
    {
     "name": "stdout",
     "output_type": "stream",
     "text": [
      "[('cursos',)]\n"
     ]
    }
   ],
   "source": [
    "curs.execute('select name from sqlite_master where type = \"table\";')\n",
    "print(curs.fetchall())"
   ]
  },
  {
   "attachments": {},
   "cell_type": "markdown",
   "metadata": {},
   "source": [
    "# Funções"
   ]
  },
  {
   "cell_type": "markdown",
   "metadata": {},
   "source": [
    "## Função de preenchimento automático"
   ]
  },
  {
   "cell_type": "code",
   "execution_count": 22,
   "metadata": {},
   "outputs": [],
   "source": [
    "import sqlite3\n",
    "import random\n",
    "import time\n",
    "import datetime\n",
    "\n"
   ]
  },
  {
   "cell_type": "code",
   "execution_count": 23,
   "metadata": {},
   "outputs": [],
   "source": [
    "# Função para criar uma tabela\n",
    "def create_table(arquivo):\n",
    "    c = sqlite3.connect(arquivo).cursor() #Isto cria o arquivo se ele já não existe\n",
    "    c.execute('CREATE TABLE IF NOT EXISTS produtos(id INTEGER PRIMARY KEY AUTOINCREMENT NOT NULL, date TEXT, '\\\n",
    "              'prod_name TEXT, valor REAL)')\n",
    "    c.close()"
   ]
  },
  {
   "cell_type": "code",
   "execution_count": 24,
   "metadata": {
    "scrolled": true
   },
   "outputs": [],
   "source": [
    "# Função para inserir uma linha\n",
    "# Esta função serviu de base para a próxima.\n",
    "def data_insert():\n",
    "    c.execute(\"INSERT INTO produtos VALUES('2020-05-02 12:34:45', 'Teclado', 130.00 )\")\n",
    "    conn.commit()\n",
    "    c.close()\n",
    "    conn.close()"
   ]
  },
  {
   "cell_type": "code",
   "execution_count": 25,
   "metadata": {},
   "outputs": [],
   "source": [
    "# \"arquivo\" é o diretório do DB\n",
    "# \"n\" é o número de itens a serem criados na lista.\n",
    "\n",
    "# Esta função depende de a tabela \"produtos\" já existir no DB.\n",
    "\n",
    "def data_insert_var(n,arquivo):\n",
    "    conn = sqlite3.connect(arquivo)\n",
    "    c = conn.cursor() \n",
    "    for i in range(n): #cria n itens na lista.\n",
    "        new_date = datetime.datetime.now() #cria um objeto contendo a data e a hora atuais.\n",
    "        new_prod_name = random.choice(['Monitor', 'CPU', 'Teclado','Mouse']) #Escolhe um item na lista.\n",
    "        new_value = random.randrange(50,100) #Escolhe um preço para ser um valor do item.\n",
    "        c.execute(\"INSERT INTO produtos (date, prod_name, valor) VALUES (?, ?, ?)\", (new_date, new_prod_name, new_value))\n",
    "        conn.commit() #salva a alteração.\n",
    "        time.sleep(0) #aguarda 1 segundo.\n",
    "    c.close()"
   ]
  },
  {
   "cell_type": "code",
   "execution_count": 26,
   "metadata": {},
   "outputs": [
    {
     "name": "stdout",
     "output_type": "stream",
     "text": [
      "Redo apagou o arquivo (eu acho)\n"
     ]
    }
   ],
   "source": [
    "# Mesmo que o DB não exista, ele é criado no momento da conexão na função de criação de tabela.\n",
    "\n",
    "redo(conn,r'../ArquivosParalelos/tempo.db')\n",
    "\n",
    "create_table(r'../ArquivosParalelos/tempo.db')\n",
    "data_insert_var(100,r'../ArquivosParalelos/tempo.db')\n",
    "\n",
    "# Se for executado mais vezes, vai acrescentar mais dados."
   ]
  },
  {
   "cell_type": "markdown",
   "metadata": {},
   "source": [
    "## Função de leitura dos dados"
   ]
  },
  {
   "cell_type": "markdown",
   "metadata": {},
   "source": [
    "Execute as funções de inserção de dados antes."
   ]
  },
  {
   "cell_type": "code",
   "execution_count": 27,
   "metadata": {},
   "outputs": [],
   "source": [
    "def showall():\n",
    "    conn = sqlite3.connect(r'../ArquivosParalelos/tempo.db')\n",
    "    c = conn.cursor()\n",
    "    c.execute('select * from produtos')\n",
    "    data = c.fetchall()\n",
    "    for i in data:\n",
    "        print('Id: %d, Data: %s, Produto: %s, Valor: %d \\n' % i)\n",
    "    c.close()\n",
    "    conn.close()"
   ]
  },
  {
   "cell_type": "code",
   "execution_count": 28,
   "metadata": {},
   "outputs": [
    {
     "name": "stdout",
     "output_type": "stream",
     "text": [
      "Id: 1, Data: 2023-04-21 20:26:35.319394, Produto: CPU, Valor: 95 \n",
      "\n",
      "Id: 2, Data: 2023-04-21 20:26:35.337381, Produto: Mouse, Valor: 96 \n",
      "\n",
      "Id: 3, Data: 2023-04-21 20:26:35.344377, Produto: Teclado, Valor: 52 \n",
      "\n",
      "Id: 4, Data: 2023-04-21 20:26:35.354371, Produto: Teclado, Valor: 54 \n",
      "\n",
      "Id: 5, Data: 2023-04-21 20:26:35.361366, Produto: Monitor, Valor: 72 \n",
      "\n",
      "Id: 6, Data: 2023-04-21 20:26:35.372359, Produto: CPU, Valor: 78 \n",
      "\n",
      "Id: 7, Data: 2023-04-21 20:26:35.378356, Produto: Monitor, Valor: 74 \n",
      "\n",
      "Id: 8, Data: 2023-04-21 20:26:35.386351, Produto: Mouse, Valor: 58 \n",
      "\n",
      "Id: 9, Data: 2023-04-21 20:26:35.391347, Produto: Monitor, Valor: 86 \n",
      "\n",
      "Id: 10, Data: 2023-04-21 20:26:35.412337, Produto: Monitor, Valor: 81 \n",
      "\n",
      "Id: 11, Data: 2023-04-21 20:26:35.417332, Produto: Teclado, Valor: 96 \n",
      "\n",
      "Id: 12, Data: 2023-04-21 20:26:35.423330, Produto: Teclado, Valor: 66 \n",
      "\n",
      "Id: 13, Data: 2023-04-21 20:26:35.428325, Produto: CPU, Valor: 77 \n",
      "\n",
      "Id: 14, Data: 2023-04-21 20:26:35.434322, Produto: Teclado, Valor: 65 \n",
      "\n",
      "Id: 15, Data: 2023-04-21 20:26:35.438319, Produto: Teclado, Valor: 66 \n",
      "\n",
      "Id: 16, Data: 2023-04-21 20:26:35.442316, Produto: Mouse, Valor: 94 \n",
      "\n",
      "Id: 17, Data: 2023-04-21 20:26:35.447312, Produto: Teclado, Valor: 70 \n",
      "\n",
      "Id: 18, Data: 2023-04-21 20:26:35.454308, Produto: CPU, Valor: 60 \n",
      "\n",
      "Id: 19, Data: 2023-04-21 20:26:35.459305, Produto: Mouse, Valor: 71 \n",
      "\n",
      "Id: 20, Data: 2023-04-21 20:26:35.466303, Produto: Monitor, Valor: 55 \n",
      "\n",
      "Id: 21, Data: 2023-04-21 20:26:35.470298, Produto: CPU, Valor: 62 \n",
      "\n",
      "Id: 22, Data: 2023-04-21 20:26:35.475295, Produto: Mouse, Valor: 69 \n",
      "\n",
      "Id: 23, Data: 2023-04-21 20:26:35.480292, Produto: Monitor, Valor: 71 \n",
      "\n",
      "Id: 24, Data: 2023-04-21 20:26:35.486289, Produto: CPU, Valor: 88 \n",
      "\n",
      "Id: 25, Data: 2023-04-21 20:26:35.490286, Produto: Monitor, Valor: 55 \n",
      "\n",
      "Id: 26, Data: 2023-04-21 20:26:35.496283, Produto: Monitor, Valor: 89 \n",
      "\n",
      "Id: 27, Data: 2023-04-21 20:26:35.504278, Produto: Teclado, Valor: 72 \n",
      "\n",
      "Id: 28, Data: 2023-04-21 20:26:35.509274, Produto: Monitor, Valor: 54 \n",
      "\n",
      "Id: 29, Data: 2023-04-21 20:26:35.516271, Produto: Teclado, Valor: 95 \n",
      "\n",
      "Id: 30, Data: 2023-04-21 20:26:35.523266, Produto: Mouse, Valor: 57 \n",
      "\n",
      "Id: 31, Data: 2023-04-21 20:26:35.528263, Produto: Monitor, Valor: 56 \n",
      "\n",
      "Id: 32, Data: 2023-04-21 20:26:35.535258, Produto: CPU, Valor: 79 \n",
      "\n",
      "Id: 33, Data: 2023-04-21 20:26:35.540257, Produto: CPU, Valor: 75 \n",
      "\n",
      "Id: 34, Data: 2023-04-21 20:26:35.545252, Produto: Monitor, Valor: 82 \n",
      "\n",
      "Id: 35, Data: 2023-04-21 20:26:35.551249, Produto: Mouse, Valor: 69 \n",
      "\n",
      "Id: 36, Data: 2023-04-21 20:26:35.555247, Produto: Mouse, Valor: 75 \n",
      "\n",
      "Id: 37, Data: 2023-04-21 20:26:35.560243, Produto: Teclado, Valor: 74 \n",
      "\n",
      "Id: 38, Data: 2023-04-21 20:26:35.564240, Produto: Teclado, Valor: 59 \n",
      "\n",
      "Id: 39, Data: 2023-04-21 20:26:35.570236, Produto: Mouse, Valor: 67 \n",
      "\n",
      "Id: 40, Data: 2023-04-21 20:26:35.576234, Produto: Monitor, Valor: 57 \n",
      "\n",
      "Id: 41, Data: 2023-04-21 20:26:35.580230, Produto: Teclado, Valor: 50 \n",
      "\n",
      "Id: 42, Data: 2023-04-21 20:26:35.592223, Produto: Mouse, Valor: 52 \n",
      "\n",
      "Id: 43, Data: 2023-04-21 20:26:35.604216, Produto: CPU, Valor: 53 \n",
      "\n",
      "Id: 44, Data: 2023-04-21 20:26:35.611212, Produto: Mouse, Valor: 60 \n",
      "\n",
      "Id: 45, Data: 2023-04-21 20:26:35.617208, Produto: CPU, Valor: 74 \n",
      "\n",
      "Id: 46, Data: 2023-04-21 20:26:35.625203, Produto: CPU, Valor: 66 \n",
      "\n",
      "Id: 47, Data: 2023-04-21 20:26:35.641193, Produto: Teclado, Valor: 99 \n",
      "\n",
      "Id: 48, Data: 2023-04-21 20:26:35.654185, Produto: CPU, Valor: 63 \n",
      "\n",
      "Id: 49, Data: 2023-04-21 20:26:35.673173, Produto: Monitor, Valor: 85 \n",
      "\n",
      "Id: 50, Data: 2023-04-21 20:26:35.687166, Produto: Teclado, Valor: 54 \n",
      "\n",
      "Id: 51, Data: 2023-04-21 20:26:35.695160, Produto: CPU, Valor: 63 \n",
      "\n",
      "Id: 52, Data: 2023-04-21 20:26:35.701156, Produto: Monitor, Valor: 62 \n",
      "\n",
      "Id: 53, Data: 2023-04-21 20:26:35.708151, Produto: Mouse, Valor: 59 \n",
      "\n",
      "Id: 54, Data: 2023-04-21 20:26:35.713149, Produto: CPU, Valor: 93 \n",
      "\n",
      "Id: 55, Data: 2023-04-21 20:26:35.719145, Produto: Teclado, Valor: 90 \n",
      "\n",
      "Id: 56, Data: 2023-04-21 20:26:35.723142, Produto: Teclado, Valor: 99 \n",
      "\n",
      "Id: 57, Data: 2023-04-21 20:26:35.727139, Produto: CPU, Valor: 53 \n",
      "\n",
      "Id: 58, Data: 2023-04-21 20:26:35.735137, Produto: Mouse, Valor: 55 \n",
      "\n",
      "Id: 59, Data: 2023-04-21 20:26:35.741131, Produto: CPU, Valor: 92 \n",
      "\n",
      "Id: 60, Data: 2023-04-21 20:26:35.746128, Produto: Monitor, Valor: 90 \n",
      "\n",
      "Id: 61, Data: 2023-04-21 20:26:35.752125, Produto: CPU, Valor: 88 \n",
      "\n",
      "Id: 62, Data: 2023-04-21 20:26:35.756122, Produto: Teclado, Valor: 70 \n",
      "\n",
      "Id: 63, Data: 2023-04-21 20:26:35.760119, Produto: Monitor, Valor: 88 \n",
      "\n",
      "Id: 64, Data: 2023-04-21 20:26:35.764116, Produto: Mouse, Valor: 85 \n",
      "\n",
      "Id: 65, Data: 2023-04-21 20:26:35.773111, Produto: Monitor, Valor: 80 \n",
      "\n",
      "Id: 66, Data: 2023-04-21 20:26:35.778108, Produto: CPU, Valor: 76 \n",
      "\n",
      "Id: 67, Data: 2023-04-21 20:26:35.783105, Produto: Monitor, Valor: 96 \n",
      "\n",
      "Id: 68, Data: 2023-04-21 20:26:35.787102, Produto: Teclado, Valor: 96 \n",
      "\n",
      "Id: 69, Data: 2023-04-21 20:26:35.791099, Produto: CPU, Valor: 90 \n",
      "\n",
      "Id: 70, Data: 2023-04-21 20:26:35.797097, Produto: CPU, Valor: 65 \n",
      "\n",
      "Id: 71, Data: 2023-04-21 20:26:35.808090, Produto: Teclado, Valor: 72 \n",
      "\n",
      "Id: 72, Data: 2023-04-21 20:26:35.826078, Produto: Teclado, Valor: 78 \n",
      "\n",
      "Id: 73, Data: 2023-04-21 20:26:35.831075, Produto: Mouse, Valor: 55 \n",
      "\n",
      "Id: 74, Data: 2023-04-21 20:26:35.841069, Produto: Monitor, Valor: 72 \n",
      "\n",
      "Id: 75, Data: 2023-04-21 20:26:35.846066, Produto: CPU, Valor: 97 \n",
      "\n",
      "Id: 76, Data: 2023-04-21 20:26:35.853062, Produto: CPU, Valor: 99 \n",
      "\n",
      "Id: 77, Data: 2023-04-21 20:26:35.859057, Produto: Monitor, Valor: 73 \n",
      "\n",
      "Id: 78, Data: 2023-04-21 20:26:35.864055, Produto: Monitor, Valor: 70 \n",
      "\n",
      "Id: 79, Data: 2023-04-21 20:26:35.873049, Produto: Mouse, Valor: 97 \n",
      "\n",
      "Id: 80, Data: 2023-04-21 20:26:35.878046, Produto: Monitor, Valor: 64 \n",
      "\n",
      "Id: 81, Data: 2023-04-21 20:26:35.882043, Produto: Teclado, Valor: 73 \n",
      "\n",
      "Id: 82, Data: 2023-04-21 20:26:35.890039, Produto: Mouse, Valor: 91 \n",
      "\n",
      "Id: 83, Data: 2023-04-21 20:26:35.894036, Produto: Teclado, Valor: 94 \n",
      "\n",
      "Id: 84, Data: 2023-04-21 20:26:35.930014, Produto: Mouse, Valor: 95 \n",
      "\n",
      "Id: 85, Data: 2023-04-21 20:26:35.936012, Produto: CPU, Valor: 53 \n",
      "\n",
      "Id: 86, Data: 2023-04-21 20:26:35.942006, Produto: Teclado, Valor: 78 \n",
      "\n",
      "Id: 87, Data: 2023-04-21 20:26:35.946004, Produto: Mouse, Valor: 91 \n",
      "\n",
      "Id: 88, Data: 2023-04-21 20:26:35.952001, Produto: Monitor, Valor: 73 \n",
      "\n",
      "Id: 89, Data: 2023-04-21 20:26:35.958996, Produto: Mouse, Valor: 75 \n",
      "\n",
      "Id: 90, Data: 2023-04-21 20:26:35.962994, Produto: CPU, Valor: 52 \n",
      "\n",
      "Id: 91, Data: 2023-04-21 20:26:35.969992, Produto: Mouse, Valor: 57 \n",
      "\n",
      "Id: 92, Data: 2023-04-21 20:26:35.976986, Produto: Mouse, Valor: 83 \n",
      "\n",
      "Id: 93, Data: 2023-04-21 20:26:35.981982, Produto: CPU, Valor: 53 \n",
      "\n",
      "Id: 94, Data: 2023-04-21 20:26:35.990976, Produto: Mouse, Valor: 59 \n",
      "\n",
      "Id: 95, Data: 2023-04-21 20:26:35.995973, Produto: Mouse, Valor: 56 \n",
      "\n",
      "Id: 96, Data: 2023-04-21 20:26:36.003975, Produto: Teclado, Valor: 73 \n",
      "\n",
      "Id: 97, Data: 2023-04-21 20:26:36.008965, Produto: CPU, Valor: 72 \n",
      "\n",
      "Id: 98, Data: 2023-04-21 20:26:36.013962, Produto: Teclado, Valor: 61 \n",
      "\n",
      "Id: 99, Data: 2023-04-21 20:26:36.022957, Produto: Teclado, Valor: 63 \n",
      "\n",
      "Id: 100, Data: 2023-04-21 20:26:36.029952, Produto: Mouse, Valor: 52 \n",
      "\n"
     ]
    }
   ],
   "source": [
    "showall()"
   ]
  },
  {
   "cell_type": "code",
   "execution_count": 29,
   "metadata": {},
   "outputs": [
    {
     "name": "stdout",
     "output_type": "stream",
     "text": [
      "(1, '2023-04-21 20:26:35.319394', 'CPU', 95.0)\n",
      "(2, '2023-04-21 20:26:35.337381', 'Mouse', 96.0)\n",
      "(3, '2023-04-21 20:26:35.344377', 'Teclado', 52.0)\n",
      "(4, '2023-04-21 20:26:35.354371', 'Teclado', 54.0)\n",
      "(5, '2023-04-21 20:26:35.361366', 'Monitor', 72.0)\n",
      "(6, '2023-04-21 20:26:35.372359', 'CPU', 78.0)\n",
      "(7, '2023-04-21 20:26:35.378356', 'Monitor', 74.0)\n",
      "(8, '2023-04-21 20:26:35.386351', 'Mouse', 58.0)\n",
      "(9, '2023-04-21 20:26:35.391347', 'Monitor', 86.0)\n",
      "(10, '2023-04-21 20:26:35.412337', 'Monitor', 81.0)\n",
      "(11, '2023-04-21 20:26:35.417332', 'Teclado', 96.0)\n",
      "(12, '2023-04-21 20:26:35.423330', 'Teclado', 66.0)\n",
      "(13, '2023-04-21 20:26:35.428325', 'CPU', 77.0)\n",
      "(14, '2023-04-21 20:26:35.434322', 'Teclado', 65.0)\n",
      "(15, '2023-04-21 20:26:35.438319', 'Teclado', 66.0)\n",
      "(16, '2023-04-21 20:26:35.442316', 'Mouse', 94.0)\n",
      "(17, '2023-04-21 20:26:35.447312', 'Teclado', 70.0)\n",
      "(18, '2023-04-21 20:26:35.454308', 'CPU', 60.0)\n",
      "(19, '2023-04-21 20:26:35.459305', 'Mouse', 71.0)\n",
      "(20, '2023-04-21 20:26:35.466303', 'Monitor', 55.0)\n",
      "(21, '2023-04-21 20:26:35.470298', 'CPU', 62.0)\n",
      "(22, '2023-04-21 20:26:35.475295', 'Mouse', 69.0)\n",
      "(23, '2023-04-21 20:26:35.480292', 'Monitor', 71.0)\n",
      "(24, '2023-04-21 20:26:35.486289', 'CPU', 88.0)\n",
      "(25, '2023-04-21 20:26:35.490286', 'Monitor', 55.0)\n",
      "(26, '2023-04-21 20:26:35.496283', 'Monitor', 89.0)\n",
      "(27, '2023-04-21 20:26:35.504278', 'Teclado', 72.0)\n",
      "(28, '2023-04-21 20:26:35.509274', 'Monitor', 54.0)\n",
      "(29, '2023-04-21 20:26:35.516271', 'Teclado', 95.0)\n",
      "(30, '2023-04-21 20:26:35.523266', 'Mouse', 57.0)\n",
      "(31, '2023-04-21 20:26:35.528263', 'Monitor', 56.0)\n",
      "(32, '2023-04-21 20:26:35.535258', 'CPU', 79.0)\n",
      "(33, '2023-04-21 20:26:35.540257', 'CPU', 75.0)\n",
      "(34, '2023-04-21 20:26:35.545252', 'Monitor', 82.0)\n",
      "(35, '2023-04-21 20:26:35.551249', 'Mouse', 69.0)\n",
      "(36, '2023-04-21 20:26:35.555247', 'Mouse', 75.0)\n",
      "(37, '2023-04-21 20:26:35.560243', 'Teclado', 74.0)\n",
      "(38, '2023-04-21 20:26:35.564240', 'Teclado', 59.0)\n",
      "(39, '2023-04-21 20:26:35.570236', 'Mouse', 67.0)\n",
      "(40, '2023-04-21 20:26:35.576234', 'Monitor', 57.0)\n",
      "(41, '2023-04-21 20:26:35.580230', 'Teclado', 50.0)\n",
      "(42, '2023-04-21 20:26:35.592223', 'Mouse', 52.0)\n",
      "(43, '2023-04-21 20:26:35.604216', 'CPU', 53.0)\n",
      "(44, '2023-04-21 20:26:35.611212', 'Mouse', 60.0)\n",
      "(45, '2023-04-21 20:26:35.617208', 'CPU', 74.0)\n",
      "(46, '2023-04-21 20:26:35.625203', 'CPU', 66.0)\n",
      "(47, '2023-04-21 20:26:35.641193', 'Teclado', 99.0)\n",
      "(48, '2023-04-21 20:26:35.654185', 'CPU', 63.0)\n",
      "(49, '2023-04-21 20:26:35.673173', 'Monitor', 85.0)\n",
      "(50, '2023-04-21 20:26:35.687166', 'Teclado', 54.0)\n",
      "(51, '2023-04-21 20:26:35.695160', 'CPU', 63.0)\n",
      "(52, '2023-04-21 20:26:35.701156', 'Monitor', 62.0)\n",
      "(53, '2023-04-21 20:26:35.708151', 'Mouse', 59.0)\n",
      "(54, '2023-04-21 20:26:35.713149', 'CPU', 93.0)\n",
      "(55, '2023-04-21 20:26:35.719145', 'Teclado', 90.0)\n",
      "(56, '2023-04-21 20:26:35.723142', 'Teclado', 99.0)\n",
      "(57, '2023-04-21 20:26:35.727139', 'CPU', 53.0)\n",
      "(58, '2023-04-21 20:26:35.735137', 'Mouse', 55.0)\n",
      "(59, '2023-04-21 20:26:35.741131', 'CPU', 92.0)\n",
      "(60, '2023-04-21 20:26:35.746128', 'Monitor', 90.0)\n",
      "(61, '2023-04-21 20:26:35.752125', 'CPU', 88.0)\n",
      "(62, '2023-04-21 20:26:35.756122', 'Teclado', 70.0)\n",
      "(63, '2023-04-21 20:26:35.760119', 'Monitor', 88.0)\n",
      "(64, '2023-04-21 20:26:35.764116', 'Mouse', 85.0)\n",
      "(65, '2023-04-21 20:26:35.773111', 'Monitor', 80.0)\n",
      "(66, '2023-04-21 20:26:35.778108', 'CPU', 76.0)\n",
      "(67, '2023-04-21 20:26:35.783105', 'Monitor', 96.0)\n",
      "(68, '2023-04-21 20:26:35.787102', 'Teclado', 96.0)\n",
      "(69, '2023-04-21 20:26:35.791099', 'CPU', 90.0)\n",
      "(70, '2023-04-21 20:26:35.797097', 'CPU', 65.0)\n",
      "(71, '2023-04-21 20:26:35.808090', 'Teclado', 72.0)\n",
      "(72, '2023-04-21 20:26:35.826078', 'Teclado', 78.0)\n",
      "(73, '2023-04-21 20:26:35.831075', 'Mouse', 55.0)\n",
      "(74, '2023-04-21 20:26:35.841069', 'Monitor', 72.0)\n",
      "(75, '2023-04-21 20:26:35.846066', 'CPU', 97.0)\n",
      "(76, '2023-04-21 20:26:35.853062', 'CPU', 99.0)\n",
      "(77, '2023-04-21 20:26:35.859057', 'Monitor', 73.0)\n",
      "(78, '2023-04-21 20:26:35.864055', 'Monitor', 70.0)\n",
      "(79, '2023-04-21 20:26:35.873049', 'Mouse', 97.0)\n",
      "(80, '2023-04-21 20:26:35.878046', 'Monitor', 64.0)\n",
      "(81, '2023-04-21 20:26:35.882043', 'Teclado', 73.0)\n",
      "(82, '2023-04-21 20:26:35.890039', 'Mouse', 91.0)\n",
      "(83, '2023-04-21 20:26:35.894036', 'Teclado', 94.0)\n",
      "(84, '2023-04-21 20:26:35.930014', 'Mouse', 95.0)\n",
      "(85, '2023-04-21 20:26:35.936012', 'CPU', 53.0)\n",
      "(86, '2023-04-21 20:26:35.942006', 'Teclado', 78.0)\n",
      "(87, '2023-04-21 20:26:35.946004', 'Mouse', 91.0)\n",
      "(88, '2023-04-21 20:26:35.952001', 'Monitor', 73.0)\n",
      "(89, '2023-04-21 20:26:35.958996', 'Mouse', 75.0)\n",
      "(90, '2023-04-21 20:26:35.962994', 'CPU', 52.0)\n",
      "(91, '2023-04-21 20:26:35.969992', 'Mouse', 57.0)\n",
      "(92, '2023-04-21 20:26:35.976986', 'Mouse', 83.0)\n",
      "(93, '2023-04-21 20:26:35.981982', 'CPU', 53.0)\n",
      "(94, '2023-04-21 20:26:35.990976', 'Mouse', 59.0)\n",
      "(95, '2023-04-21 20:26:35.995973', 'Mouse', 56.0)\n",
      "(96, '2023-04-21 20:26:36.003975', 'Teclado', 73.0)\n",
      "(97, '2023-04-21 20:26:36.008965', 'CPU', 72.0)\n",
      "(98, '2023-04-21 20:26:36.013962', 'Teclado', 61.0)\n",
      "(99, '2023-04-21 20:26:36.022957', 'Teclado', 63.0)\n",
      "(100, '2023-04-21 20:26:36.029952', 'Mouse', 52.0)\n"
     ]
    }
   ],
   "source": [
    "# Se nenhum objeto de conexão ou cursor for criado, o bloqueio é evitável.\n",
    "\n",
    "for i in sqlite3.connect(r'../ArquivosParalelos/tempo.db').cursor().execute('select * from produtos').fetchall(): print(i)"
   ]
  },
  {
   "cell_type": "markdown",
   "metadata": {},
   "source": [
    "## Separando colunas em listas independentes."
   ]
  },
  {
   "cell_type": "markdown",
   "metadata": {},
   "source": [
    "Foram feitos dicionários para manter o índice, mas a mesma fórmula pode ser usada para listas, se a ordem não for importante."
   ]
  },
  {
   "cell_type": "code",
   "execution_count": 30,
   "metadata": {},
   "outputs": [
    {
     "name": "stdout",
     "output_type": "stream",
     "text": [
      "['id', 'date', 'prod_name', 'valor']\n",
      "<class 'list'>\n"
     ]
    }
   ],
   "source": [
    "# Filtrando os nomes das colunas\n",
    "\n",
    "columns = []\n",
    "for i in sqlite3.connect(r'../ArquivosParalelos/tempo.db').cursor().execute('select * from produtos').description:\n",
    "    columns.append(i[0])\n",
    "print(columns)\n",
    "print(type(columns))"
   ]
  },
  {
   "cell_type": "code",
   "execution_count": 31,
   "metadata": {
    "scrolled": true
   },
   "outputs": [
    {
     "name": "stdout",
     "output_type": "stream",
     "text": [
      "Dicionário \"id\" criado com sucesso.\n",
      "Dicionário \"date\" criado com sucesso.\n",
      "Dicionário \"prod_name\" criado com sucesso.\n",
      "Dicionário \"valor\" criado com sucesso.\n"
     ]
    }
   ],
   "source": [
    "for N in columns:\n",
    "    ind = columns.index(N)\n",
    "    exec('%s = {}' % (N))\n",
    "    for linha in sqlite3.connect(r'../ArquivosParalelos/tempo.db').cursor().execute('select * from produtos').fetchall():\n",
    "        exec('%s[linha[0]]=linha[%s]' % (N,ind))\n",
    "    print('Dicionário \"%s\" criado com sucesso.' % N)\n",
    "\n"
   ]
  },
  {
   "cell_type": "code",
   "execution_count": 32,
   "metadata": {},
   "outputs": [
    {
     "name": "stdout",
     "output_type": "stream",
     "text": [
      "{1: 1, 2: 2, 3: 3, 4: 4, 5: 5, 6: 6, 7: 7, 8: 8, 9: 9, 10: 10, 11: 11, 12: 12, 13: 13, 14: 14, 15: 15, 16: 16, 17: 17, 18: 18, 19: 19, 20: 20, 21: 21, 22: 22, 23: 23, 24: 24, 25: 25, 26: 26, 27: 27, 28: 28, 29: 29, 30: 30, 31: 31, 32: 32, 33: 33, 34: 34, 35: 35, 36: 36, 37: 37, 38: 38, 39: 39, 40: 40, 41: 41, 42: 42, 43: 43, 44: 44, 45: 45, 46: 46, 47: 47, 48: 48, 49: 49, 50: 50, 51: 51, 52: 52, 53: 53, 54: 54, 55: 55, 56: 56, 57: 57, 58: 58, 59: 59, 60: 60, 61: 61, 62: 62, 63: 63, 64: 64, 65: 65, 66: 66, 67: 67, 68: 68, 69: 69, 70: 70, 71: 71, 72: 72, 73: 73, 74: 74, 75: 75, 76: 76, 77: 77, 78: 78, 79: 79, 80: 80, 81: 81, 82: 82, 83: 83, 84: 84, 85: 85, 86: 86, 87: 87, 88: 88, 89: 89, 90: 90, 91: 91, 92: 92, 93: 93, 94: 94, 95: 95, 96: 96, 97: 97, 98: 98, 99: 99, 100: 100}\n",
      "{1: '2023-04-21 20:26:35.319394', 2: '2023-04-21 20:26:35.337381', 3: '2023-04-21 20:26:35.344377', 4: '2023-04-21 20:26:35.354371', 5: '2023-04-21 20:26:35.361366', 6: '2023-04-21 20:26:35.372359', 7: '2023-04-21 20:26:35.378356', 8: '2023-04-21 20:26:35.386351', 9: '2023-04-21 20:26:35.391347', 10: '2023-04-21 20:26:35.412337', 11: '2023-04-21 20:26:35.417332', 12: '2023-04-21 20:26:35.423330', 13: '2023-04-21 20:26:35.428325', 14: '2023-04-21 20:26:35.434322', 15: '2023-04-21 20:26:35.438319', 16: '2023-04-21 20:26:35.442316', 17: '2023-04-21 20:26:35.447312', 18: '2023-04-21 20:26:35.454308', 19: '2023-04-21 20:26:35.459305', 20: '2023-04-21 20:26:35.466303', 21: '2023-04-21 20:26:35.470298', 22: '2023-04-21 20:26:35.475295', 23: '2023-04-21 20:26:35.480292', 24: '2023-04-21 20:26:35.486289', 25: '2023-04-21 20:26:35.490286', 26: '2023-04-21 20:26:35.496283', 27: '2023-04-21 20:26:35.504278', 28: '2023-04-21 20:26:35.509274', 29: '2023-04-21 20:26:35.516271', 30: '2023-04-21 20:26:35.523266', 31: '2023-04-21 20:26:35.528263', 32: '2023-04-21 20:26:35.535258', 33: '2023-04-21 20:26:35.540257', 34: '2023-04-21 20:26:35.545252', 35: '2023-04-21 20:26:35.551249', 36: '2023-04-21 20:26:35.555247', 37: '2023-04-21 20:26:35.560243', 38: '2023-04-21 20:26:35.564240', 39: '2023-04-21 20:26:35.570236', 40: '2023-04-21 20:26:35.576234', 41: '2023-04-21 20:26:35.580230', 42: '2023-04-21 20:26:35.592223', 43: '2023-04-21 20:26:35.604216', 44: '2023-04-21 20:26:35.611212', 45: '2023-04-21 20:26:35.617208', 46: '2023-04-21 20:26:35.625203', 47: '2023-04-21 20:26:35.641193', 48: '2023-04-21 20:26:35.654185', 49: '2023-04-21 20:26:35.673173', 50: '2023-04-21 20:26:35.687166', 51: '2023-04-21 20:26:35.695160', 52: '2023-04-21 20:26:35.701156', 53: '2023-04-21 20:26:35.708151', 54: '2023-04-21 20:26:35.713149', 55: '2023-04-21 20:26:35.719145', 56: '2023-04-21 20:26:35.723142', 57: '2023-04-21 20:26:35.727139', 58: '2023-04-21 20:26:35.735137', 59: '2023-04-21 20:26:35.741131', 60: '2023-04-21 20:26:35.746128', 61: '2023-04-21 20:26:35.752125', 62: '2023-04-21 20:26:35.756122', 63: '2023-04-21 20:26:35.760119', 64: '2023-04-21 20:26:35.764116', 65: '2023-04-21 20:26:35.773111', 66: '2023-04-21 20:26:35.778108', 67: '2023-04-21 20:26:35.783105', 68: '2023-04-21 20:26:35.787102', 69: '2023-04-21 20:26:35.791099', 70: '2023-04-21 20:26:35.797097', 71: '2023-04-21 20:26:35.808090', 72: '2023-04-21 20:26:35.826078', 73: '2023-04-21 20:26:35.831075', 74: '2023-04-21 20:26:35.841069', 75: '2023-04-21 20:26:35.846066', 76: '2023-04-21 20:26:35.853062', 77: '2023-04-21 20:26:35.859057', 78: '2023-04-21 20:26:35.864055', 79: '2023-04-21 20:26:35.873049', 80: '2023-04-21 20:26:35.878046', 81: '2023-04-21 20:26:35.882043', 82: '2023-04-21 20:26:35.890039', 83: '2023-04-21 20:26:35.894036', 84: '2023-04-21 20:26:35.930014', 85: '2023-04-21 20:26:35.936012', 86: '2023-04-21 20:26:35.942006', 87: '2023-04-21 20:26:35.946004', 88: '2023-04-21 20:26:35.952001', 89: '2023-04-21 20:26:35.958996', 90: '2023-04-21 20:26:35.962994', 91: '2023-04-21 20:26:35.969992', 92: '2023-04-21 20:26:35.976986', 93: '2023-04-21 20:26:35.981982', 94: '2023-04-21 20:26:35.990976', 95: '2023-04-21 20:26:35.995973', 96: '2023-04-21 20:26:36.003975', 97: '2023-04-21 20:26:36.008965', 98: '2023-04-21 20:26:36.013962', 99: '2023-04-21 20:26:36.022957', 100: '2023-04-21 20:26:36.029952'}\n",
      "{1: 'CPU', 2: 'Mouse', 3: 'Teclado', 4: 'Teclado', 5: 'Monitor', 6: 'CPU', 7: 'Monitor', 8: 'Mouse', 9: 'Monitor', 10: 'Monitor', 11: 'Teclado', 12: 'Teclado', 13: 'CPU', 14: 'Teclado', 15: 'Teclado', 16: 'Mouse', 17: 'Teclado', 18: 'CPU', 19: 'Mouse', 20: 'Monitor', 21: 'CPU', 22: 'Mouse', 23: 'Monitor', 24: 'CPU', 25: 'Monitor', 26: 'Monitor', 27: 'Teclado', 28: 'Monitor', 29: 'Teclado', 30: 'Mouse', 31: 'Monitor', 32: 'CPU', 33: 'CPU', 34: 'Monitor', 35: 'Mouse', 36: 'Mouse', 37: 'Teclado', 38: 'Teclado', 39: 'Mouse', 40: 'Monitor', 41: 'Teclado', 42: 'Mouse', 43: 'CPU', 44: 'Mouse', 45: 'CPU', 46: 'CPU', 47: 'Teclado', 48: 'CPU', 49: 'Monitor', 50: 'Teclado', 51: 'CPU', 52: 'Monitor', 53: 'Mouse', 54: 'CPU', 55: 'Teclado', 56: 'Teclado', 57: 'CPU', 58: 'Mouse', 59: 'CPU', 60: 'Monitor', 61: 'CPU', 62: 'Teclado', 63: 'Monitor', 64: 'Mouse', 65: 'Monitor', 66: 'CPU', 67: 'Monitor', 68: 'Teclado', 69: 'CPU', 70: 'CPU', 71: 'Teclado', 72: 'Teclado', 73: 'Mouse', 74: 'Monitor', 75: 'CPU', 76: 'CPU', 77: 'Monitor', 78: 'Monitor', 79: 'Mouse', 80: 'Monitor', 81: 'Teclado', 82: 'Mouse', 83: 'Teclado', 84: 'Mouse', 85: 'CPU', 86: 'Teclado', 87: 'Mouse', 88: 'Monitor', 89: 'Mouse', 90: 'CPU', 91: 'Mouse', 92: 'Mouse', 93: 'CPU', 94: 'Mouse', 95: 'Mouse', 96: 'Teclado', 97: 'CPU', 98: 'Teclado', 99: 'Teclado', 100: 'Mouse'}\n",
      "{1: 95.0, 2: 96.0, 3: 52.0, 4: 54.0, 5: 72.0, 6: 78.0, 7: 74.0, 8: 58.0, 9: 86.0, 10: 81.0, 11: 96.0, 12: 66.0, 13: 77.0, 14: 65.0, 15: 66.0, 16: 94.0, 17: 70.0, 18: 60.0, 19: 71.0, 20: 55.0, 21: 62.0, 22: 69.0, 23: 71.0, 24: 88.0, 25: 55.0, 26: 89.0, 27: 72.0, 28: 54.0, 29: 95.0, 30: 57.0, 31: 56.0, 32: 79.0, 33: 75.0, 34: 82.0, 35: 69.0, 36: 75.0, 37: 74.0, 38: 59.0, 39: 67.0, 40: 57.0, 41: 50.0, 42: 52.0, 43: 53.0, 44: 60.0, 45: 74.0, 46: 66.0, 47: 99.0, 48: 63.0, 49: 85.0, 50: 54.0, 51: 63.0, 52: 62.0, 53: 59.0, 54: 93.0, 55: 90.0, 56: 99.0, 57: 53.0, 58: 55.0, 59: 92.0, 60: 90.0, 61: 88.0, 62: 70.0, 63: 88.0, 64: 85.0, 65: 80.0, 66: 76.0, 67: 96.0, 68: 96.0, 69: 90.0, 70: 65.0, 71: 72.0, 72: 78.0, 73: 55.0, 74: 72.0, 75: 97.0, 76: 99.0, 77: 73.0, 78: 70.0, 79: 97.0, 80: 64.0, 81: 73.0, 82: 91.0, 83: 94.0, 84: 95.0, 85: 53.0, 86: 78.0, 87: 91.0, 88: 73.0, 89: 75.0, 90: 52.0, 91: 57.0, 92: 83.0, 93: 53.0, 94: 59.0, 95: 56.0, 96: 73.0, 97: 72.0, 98: 61.0, 99: 63.0, 100: 52.0}\n"
     ]
    }
   ],
   "source": [
    "for N in columns:\n",
    "    exec('print(%s)' % N)\n",
    "    \n",
    "#Peguei uma string e joguei como variável de outra string dentro de um exec\n",
    "#Com isso, o que seria lido como N foi interpretado como chamada, não como string"
   ]
  },
  {
   "cell_type": "markdown",
   "metadata": {},
   "source": [
    "# Pandas"
   ]
  },
  {
   "cell_type": "markdown",
   "metadata": {},
   "source": [
    "O resultado do .fetchall() é uma lista contendo tuplas para os registos da tabela.\n",
    "\n",
    "Basta criar o dataframe com o pandas, dar nome às colunas e preencher os dados com o resultado do .fetchall()."
   ]
  },
  {
   "cell_type": "code",
   "execution_count": 37,
   "metadata": {},
   "outputs": [
    {
     "name": "stdout",
     "output_type": "stream",
     "text": [
      "     id                        date prod_name  valor\n",
      "0     1  2023-04-21 20:26:35.319394       CPU   95.0\n",
      "1     2  2023-04-21 20:26:35.337381     Mouse   96.0\n",
      "2     3  2023-04-21 20:26:35.344377   Teclado   52.0\n",
      "3     4  2023-04-21 20:26:35.354371   Teclado   54.0\n",
      "4     5  2023-04-21 20:26:35.361366   Monitor   72.0\n",
      "..  ...                         ...       ...    ...\n",
      "95   96  2023-04-21 20:26:36.003975   Teclado   73.0\n",
      "96   97  2023-04-21 20:26:36.008965       CPU   72.0\n",
      "97   98  2023-04-21 20:26:36.013962   Teclado   61.0\n",
      "98   99  2023-04-21 20:26:36.022957   Teclado   63.0\n",
      "99  100  2023-04-21 20:26:36.029952     Mouse   52.0\n",
      "\n",
      "[100 rows x 4 columns]\n"
     ]
    }
   ],
   "source": [
    "import pandas as pd\n",
    "\n",
    "dadosSQL = sqlite3.connect(r'../ArquivosParalelos/tempo.db').cursor().execute('select * from produtos').fetchall()\n",
    "\n",
    "columns = [i[0] for i in sqlite3.connect(r'../ArquivosParalelos/tempo.db').cursor().execute('select * from produtos').description]\n",
    "\n",
    "dadosPandas = pd.DataFrame(dadosSQL, columns = columns)\n",
    "\n",
    "print(dadosPandas)"
   ]
  },
  {
   "cell_type": "code",
   "execution_count": 39,
   "metadata": {},
   "outputs": [
    {
     "name": "stdout",
     "output_type": "stream",
     "text": [
      "     id                        date prod_name  valor\n",
      "0     1  2023-04-21 20:26:35.319394       CPU   95.0\n",
      "1     2  2023-04-21 20:26:35.337381     Mouse   96.0\n",
      "2     3  2023-04-21 20:26:35.344377   Teclado   52.0\n",
      "3     4  2023-04-21 20:26:35.354371   Teclado   54.0\n",
      "4     5  2023-04-21 20:26:35.361366   Monitor   72.0\n",
      "..  ...                         ...       ...    ...\n",
      "95   96  2023-04-21 20:26:36.003975   Teclado   73.0\n",
      "96   97  2023-04-21 20:26:36.008965       CPU   72.0\n",
      "97   98  2023-04-21 20:26:36.013962   Teclado   61.0\n",
      "98   99  2023-04-21 20:26:36.022957   Teclado   63.0\n",
      "99  100  2023-04-21 20:26:36.029952     Mouse   52.0\n",
      "\n",
      "[100 rows x 4 columns]\n"
     ]
    }
   ],
   "source": [
    "dadosPandas = pd.DataFrame(\n",
    "    sqlite3.connect(r'../ArquivosParalelos/tempo.db').cursor().execute('select * from produtos').fetchall(), \n",
    "    columns = [i[0] for i in sqlite3.connect(r'../ArquivosParalelos/tempo.db').cursor().execute('select * from produtos').description]\n",
    "    )\n",
    "\n",
    "print(dadosPandas)"
   ]
  }
 ],
 "metadata": {
  "kernelspec": {
   "display_name": "Python 3.10.6 64-bit (windows store)",
   "language": "python",
   "name": "python3"
  },
  "language_info": {
   "codemirror_mode": {
    "name": "ipython",
    "version": 3
   },
   "file_extension": ".py",
   "mimetype": "text/x-python",
   "name": "python",
   "nbconvert_exporter": "python",
   "pygments_lexer": "ipython3",
   "version": "3.10.11"
  },
  "vscode": {
   "interpreter": {
    "hash": "91b18657112df8a6dc2946b9dfe3559ddfc8e1e2117c2c8071424b5e043bd8e1"
   }
  }
 },
 "nbformat": 4,
 "nbformat_minor": 4
}
