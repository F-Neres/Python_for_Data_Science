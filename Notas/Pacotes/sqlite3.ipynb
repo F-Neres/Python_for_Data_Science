{
 "cells": [
  {
   "cell_type": "markdown",
   "metadata": {},
   "source": [
    "# Standard Query Language"
   ]
  },
  {
   "cell_type": "markdown",
   "metadata": {},
   "source": [
    "Comandos importantes para este pacote:\n",
    "\n",
    "`conexão = sqlite3.connect(r'*path.db*')`\n",
    "Define o database em uso.\n",
    "Ainda não sei se vários bancos podem estar abertos ao mesmo tempo.\n",
    "\n",
    "`cursor = conexão.cursor()`\n",
    "Define um objeto que receberá as ordens para atuar no banco de dados.\n",
    "\n",
    "`cursor.execute('string_query')`\n",
    "Este comando transfere toda linguagem SQL para o Python.\n",
    "As strings são salvas como queries.\n",
    "\n",
    "`cursor.execute('insert into $tabela$ values (?, ?, ?)',tuplas)`\n",
    "Em instruções de listagem, é possível deixar os valores em uma tupla e a query com uma estrutura padrão.\n",
    "Isso é útil quando se deseja usar tuplas prontas, como em laços, e em vários comandos diferentes.\n",
    "\n",
    "`lista = cursor.fetchall()`\n",
    "Cria um objeto que é uma lista com os dados do último \"select\" (eu acho).\n",
    "\n",
    "`conexão.commit()`\n",
    "Salva as alterações em caso de blackout.\n",
    "\n",
    "`cursor.close()` e\n",
    "`conexão.close()`\n",
    "São comandos para fechar o cursos e a conexão."
   ]
  },
  {
   "cell_type": "markdown",
   "metadata": {},
   "source": [
    "#### Error: database is locked ####\n",
    "Ocorre porque há conexões abertas que travam a tabela, impossibilitando-a de ser alterada.\n",
    "Se não tiver certeza de que todas as conexões estão encerradas, reinicie e limpe todas as saídas pelo Kernel."
   ]
  },
  {
   "cell_type": "markdown",
   "metadata": {},
   "source": [
    "Algumas queries dependem de aspas. Basta usar aspas duplas para a string e aspas simples internamente."
   ]
  },
  {
   "cell_type": "code",
   "execution_count": 1,
   "metadata": {},
   "outputs": [
    {
     "name": "stdout",
     "output_type": "stream",
     "text": [
      "Não há conexão \"conn\".\n"
     ]
    }
   ],
   "source": [
    "#Criando um comando para apagar/reiniciar o arquivo.\n",
    "\n",
    "import os\n",
    "\n",
    "def redo(conexão,caminho):\n",
    "    try:\n",
    "        os.remove(caminho) if os.path.exists(caminho) else None\n",
    "    except PermissionError:\n",
    "        print('Redo encerrou a conexão.')\n",
    "        conexão.close()\n",
    "    else:\n",
    "        None\n",
    "    os.remove(caminho) if os.path.exists(caminho) else None\n",
    "    print(\"Redo apagou o arquivo (eu acho)\")\n",
    "    conexão.close()\n",
    "\n",
    "def redoA(conexão,caminho):\n",
    "    conexão.close()\n",
    "    os.remove(caminho) if os.path.exists(caminho) else None\n",
    "\n",
    "try:\n",
    "    conn.close()\n",
    "except:\n",
    "    print('Não há conexão \"conn\".')\n",
    "\n",
    "os.remove(r'../ArquivosParalelos/escola.db') if os.path.exists(r'../ArquivosParalelos/escola.db') else None"
   ]
  },
  {
   "cell_type": "code",
   "execution_count": 2,
   "metadata": {},
   "outputs": [],
   "source": [
    "#Importação do módulo SQLite3\n",
    "\n",
    "import sqlite3"
   ]
  },
  {
   "cell_type": "code",
   "execution_count": 3,
   "metadata": {},
   "outputs": [
    {
     "name": "stdout",
     "output_type": "stream",
     "text": [
      "Não há objeto \"conn\"\n"
     ]
    }
   ],
   "source": [
    "try: #tente\n",
    "    conn #chamar o objeto \"conn\"\n",
    "except NameError: #se o objeto não foi determinado\n",
    "    print('Não há objeto \"conn\"')\n",
    "    None #Nada acontece, não há conexão com determinado nome.\n",
    "else: #caso contrário\n",
    "    redo(conn,r'../ArquivosParalelos/escola.db') #Use a função para fechar a conexão e deletar o arquivo\n",
    "    print('Conexão encerrada e arquivo deletado')\n",
    "#Não consegui aplicar apenas o delete do arquivo"
   ]
  },
  {
   "cell_type": "markdown",
   "metadata": {},
   "source": [
    "## Início"
   ]
  },
  {
   "cell_type": "markdown",
   "metadata": {},
   "source": [
    "### Sumário\n",
    "\n",
    "* Criar o arquivo, se ainda não existir, ou criar a conexão, caso já exista;\n",
    "* Executar queries, criar tabelas;\n",
    "* Inserção de dados com tuplas;\n",
    "* Select e criação de lista com Fetchall"
   ]
  },
  {
   "cell_type": "code",
   "execution_count": 4,
   "metadata": {},
   "outputs": [
    {
     "name": "stdout",
     "output_type": "stream",
     "text": [
      "<class 'sqlite3.Connection'>\n"
     ]
    }
   ],
   "source": [
    "# Cria uma CONEXÃO do script sendo rodado com um banco de dados\n",
    "# Se o Banco de dados com o nome referido não existir no diretório, ele é criado nesse momento.\n",
    "# Um arquivo com o nome (em string) é criado/aberto no diretório.\n",
    "# Arquivos no formato .db são arquivos de banco de dados. A conexão pode ser feita com qualque arquivo.\n",
    "\n",
    "conn = sqlite3.connect(r'../ArquivosParalelos/escola.db')\n",
    "\n",
    "print(type(conn)) # Tipo: conexão"
   ]
  },
  {
   "cell_type": "markdown",
   "metadata": {},
   "source": [
    "Conexões se parecem com a determinação de qual banco de dados está em uso no MySQL."
   ]
  },
  {
   "cell_type": "code",
   "execution_count": 5,
   "metadata": {},
   "outputs": [],
   "source": [
    "#     conn.close()\n",
    "\n",
    "#     redo(conn,r'../ArquivosParalelos/escola.db')\n"
   ]
  },
  {
   "cell_type": "code",
   "execution_count": 6,
   "metadata": {},
   "outputs": [
    {
     "name": "stdout",
     "output_type": "stream",
     "text": [
      "<class 'sqlite3.Cursor'>\n"
     ]
    }
   ],
   "source": [
    "# Criação de um CURSOR.\n",
    "# Um cursor é um objeto que funciona como cordenada.\n",
    "# O cursor é parte de um objeto CONEXÃO; neste caso, do objeto \"conn\".\n",
    "\n",
    "curs = conn.cursor()\n",
    "\n",
    "print(type(curs))"
   ]
  },
  {
   "attachments": {},
   "cell_type": "markdown",
   "metadata": {},
   "source": [
    "## Criação da Tabela no DB"
   ]
  },
  {
   "cell_type": "code",
   "execution_count": 7,
   "metadata": {},
   "outputs": [
    {
     "name": "stdout",
     "output_type": "stream",
     "text": [
      "create table cursos (id integer primary key, titulo varchar(100), categoria varchar(140))\n",
      "create table cursos (id integer primary key, titulo varchar(100), categoria varchar(140))\n"
     ]
    }
   ],
   "source": [
    "# Queries em python são strings executadas.\n",
    "\n",
    "# Criação da string na forma do objeto \"string_executavel\":\n",
    "\n",
    "\n",
    "string_executavel = 'create table cursos '\\\n",
    "'(id integer primary key, '\\\n",
    "'titulo varchar(100), '\\\n",
    "'categoria varchar(140))'\n",
    "# PRYMARY KEY entra como constraint.\n",
    "\n",
    "print(string_executavel)\n",
    "\n",
    "# por extenso\n",
    "string_executavel = 'create table cursos (id integer primary key, titulo varchar(100), categoria varchar(140))'\n",
    "\n",
    "# O nome da tabela é \"cursos\"\n",
    "# A coluna \"id\" é do tipo interger e é uma chave primária, não admitindo valores repetidos.\n",
    "# As colunas \"título\" e \"categoria\" são do tipo varchar, aceitando até 100 e 140 caracteres, respectivamente.\n",
    "\n",
    "print(string_executavel)"
   ]
  },
  {
   "cell_type": "code",
   "execution_count": 8,
   "metadata": {},
   "outputs": [
    {
     "data": {
      "text/plain": [
       "<sqlite3.Cursor at 0x1ca10bcdbc0>"
      ]
     },
     "execution_count": 8,
     "metadata": {},
     "output_type": "execute_result"
    }
   ],
   "source": [
    "# Agora é pedido que o cursor \"curs\" (que está na conexão \"conn\" com o arquivo escola.db) execute o comando descrito em \"string_executavel\"\n",
    "\n",
    "curs.execute(string_executavel)\n",
    "\n",
    "# A tabela existe e possui parâmetros, mas não tem conteúdo."
   ]
  },
  {
   "attachments": {},
   "cell_type": "markdown",
   "metadata": {},
   "source": [
    "## Inserção de dados na tabela"
   ]
  },
  {
   "cell_type": "code",
   "execution_count": 9,
   "metadata": {},
   "outputs": [],
   "source": [
    "# Outra string de query.\n",
    "# A query é criada sem os dados, apenas com as lacunas.\n",
    "\n",
    "query_insercao = 'insert into cursos values (?, ?, ?)'"
   ]
  },
  {
   "cell_type": "code",
   "execution_count": 10,
   "metadata": {},
   "outputs": [
    {
     "name": "stdout",
     "output_type": "stream",
     "text": [
      "<class 'list'>\n",
      "<class 'tuple'>\n"
     ]
    }
   ],
   "source": [
    "# Dados a serem inseridos\n",
    "# O conjunto é uma lista\n",
    "# Cada item da lista é um registro no formato de tupla.\n",
    "recset = [(1000, 'Ciência de Dados', 'Data Science'),\n",
    "          (1001, 'Big Data Fundamentos', 'Big Data'),\n",
    "          (1002, 'Python Fundamentos', 'Análise de Dados')]\n",
    "\n",
    "print(type(recset))\n",
    "print(type(recset[1]))"
   ]
  },
  {
   "cell_type": "code",
   "execution_count": 11,
   "metadata": {},
   "outputs": [],
   "source": [
    "# Finalmente, a execução do comando de inserção de dados\n",
    "\n",
    "# Para cada \"linha\" em \"recset\",\n",
    "# O cursor \"curs\", na conexão \"conn\", executa\n",
    "# o comando na forma de string contido em \"query_insercao\"\n",
    "# adicionando uma \"linha\"\n",
    "\n",
    "for registro in recset:\n",
    "    curs.execute(query_insercao, registro)\n",
    "    #cursor.executa(query, registro)\n",
    "\n",
    "# .execute recebe como parâmetros a estrutura da query e a tupla de registro.\n",
    "# Outra forma de adicionar esses dados seria executando o comando tupla por tupla. A lista serviu apenas para o for.\n",
    "\n",
    "# Se o comando for executado duas vezes, o erro dirá que um dos atributos não pode ser repetido (primary key)."
   ]
  },
  {
   "cell_type": "code",
   "execution_count": 12,
   "metadata": {},
   "outputs": [],
   "source": [
    "# Gravar a transação\n",
    "# Tornar factível, não apenas alterações na conexão.\n",
    "conn.commit()\n",
    "\n",
    "# Se o script for encerrado antes disso, os dados são perdidos."
   ]
  },
  {
   "attachments": {},
   "cell_type": "markdown",
   "metadata": {},
   "source": [
    "# Consulta"
   ]
  },
  {
   "cell_type": "code",
   "execution_count": 13,
   "metadata": {},
   "outputs": [
    {
     "name": "stdout",
     "output_type": "stream",
     "text": [
      "[(1000, 'Ciência de Dados', 'Data Science'), (1001, 'Big Data Fundamentos', 'Big Data'), (1002, 'Python Fundamentos', 'Análise de Dados')]\n",
      "<class 'list'>\n",
      "\n",
      "\n",
      "Curso Id: 1000, Título: Ciência de Dados, Categoria: Data Science \n",
      "\n",
      "Curso Id: 1001, Título: Big Data Fundamentos, Categoria: Big Data \n",
      "\n",
      "Curso Id: 1002, Título: Python Fundamentos, Categoria: Análise de Dados \n",
      "\n"
     ]
    }
   ],
   "source": [
    "# Query de seleção de registros\n",
    "\n",
    "# Selecione todos os atributos (colunas) de \"cursos\".\n",
    "# Notar que o cursos fica no database, não na tabela.\n",
    "\n",
    "string_select = 'select * from cursos'\n",
    "\n",
    "curs.execute(string_select) # O cursor passa a CONTER a seleção.\n",
    "dados = curs.fetchall() # O objeto \"dados\" é a instância \"fetchall\" do cursor \"curs\".\n",
    "\n",
    "#\"fetchall\" revela todos os dados alocados na memória em \"curs\". \n",
    "\n",
    "# \"Dados\" é aquela mesma lista inserida anteriormente.\n",
    "print(dados)\n",
    "print(type(dados))\n",
    "\n",
    "# Numa forma mais apresentável:\n",
    "\n",
    "print('\\n')\n",
    "for i in dados:\n",
    "    print('Curso Id: %d, Título: %s, Categoria: %s \\n' % i)\n"
   ]
  },
  {
   "cell_type": "code",
   "execution_count": 14,
   "metadata": {},
   "outputs": [],
   "source": [
    "# Agora que a tabela possui dados, podemos adicionar dados novos\n",
    "# Isso não é só um arquivo de texto. É, de fato, um banco de dados.\n",
    "\n",
    "recset = [(1003, 'Gestão de Dados com MongoDB', 'Big Data'),\n",
    "          (1004, 'R Fundamentos', 'Análise de Dados')]\n",
    "\n",
    "for i in recset:\n",
    "    curs.execute(query_insercao, i)\n",
    "\n",
    "#string_insercao mantém o padrão das proporções: inserir em cursos valores (?,?,?)."
   ]
  },
  {
   "attachments": {},
   "cell_type": "markdown",
   "metadata": {},
   "source": [
    "## Commit e encerramento da conexão"
   ]
  },
  {
   "cell_type": "code",
   "execution_count": 15,
   "metadata": {},
   "outputs": [
    {
     "name": "stdout",
     "output_type": "stream",
     "text": [
      "Antes do commit:\n",
      "Curso Id: 1000, Título: Ciência de Dados, Categoria: Data Science \n",
      "\n",
      "Curso Id: 1001, Título: Big Data Fundamentos, Categoria: Big Data \n",
      "\n",
      "Curso Id: 1002, Título: Python Fundamentos, Categoria: Análise de Dados \n",
      "\n",
      "Curso Id: 1003, Título: Gestão de Dados com MongoDB, Categoria: Big Data \n",
      "\n",
      "Curso Id: 1004, Título: R Fundamentos, Categoria: Análise de Dados \n",
      "\n",
      "Depois do commit:\n",
      "Curso Id: 1000, Título: Ciência de Dados, Categoria: Data Science \n",
      "\n",
      "Curso Id: 1001, Título: Big Data Fundamentos, Categoria: Big Data \n",
      "\n",
      "Curso Id: 1002, Título: Python Fundamentos, Categoria: Análise de Dados \n",
      "\n",
      "Curso Id: 1003, Título: Gestão de Dados com MongoDB, Categoria: Big Data \n",
      "\n",
      "Curso Id: 1004, Título: R Fundamentos, Categoria: Análise de Dados \n",
      "\n"
     ]
    }
   ],
   "source": [
    "#Vejamos a importância do commit\n",
    "\n",
    "curs.execute('select * from cursos')\n",
    "dados_antes =  curs.fetchall()\n",
    "\n",
    "print('Antes do commit:')\n",
    "\n",
    "for i in dados_antes:\n",
    "    print('Curso Id: %d, Título: %s, Categoria: %s \\n' % i)\n",
    "\n",
    "conn.commit()\n",
    "\n",
    "curs.execute('select * from cursos')\n",
    "dados_depois = curs.fetchall()\n",
    "\n",
    "print('Depois do commit:')\n",
    "\n",
    "for i in dados_depois:\n",
    "    print('Curso Id: %d, Título: %s, Categoria: %s \\n' % i)\n",
    "\n",
    "\n",
    "# O COMMIT SÓ SE MOSTRA EFETIVO SE A CONEXÃO FOR ENCERRADA."
   ]
  },
  {
   "cell_type": "code",
   "execution_count": 16,
   "metadata": {},
   "outputs": [],
   "source": [
    "#Se algo for tentado com o arquivo que possui uma conexão aberda, retornará erro.\n",
    "\n",
    "conn.close()"
   ]
  },
  {
   "cell_type": "code",
   "execution_count": 17,
   "metadata": {},
   "outputs": [
    {
     "name": "stdout",
     "output_type": "stream",
     "text": [
      "Sem commit\n",
      "ID: 1000; Título: Ciência de Dados; Categoria: Data Science\n",
      "\n",
      "ID: 1001; Título: Big Data Fundamentos; Categoria: Big Data\n",
      "\n",
      "ID: 1002; Título: Python Fundamentos; Categoria: Análise de Dados\n",
      "\n",
      "ID: 1003; Título: Gestão de Dados com MongoDB; Categoria: Big Data\n",
      "\n",
      "ID: 1004; Título: R Fundamentos; Categoria: Análise de Dados\n",
      "\n",
      "\n",
      "\n",
      "Com commit\n",
      "ID: 1; Título: teste 1, 2, 3; Categoria: 123\n",
      "\n",
      "ID: 1000; Título: Ciência de Dados; Categoria: Data Science\n",
      "\n",
      "ID: 1001; Título: Big Data Fundamentos; Categoria: Big Data\n",
      "\n",
      "ID: 1002; Título: Python Fundamentos; Categoria: Análise de Dados\n",
      "\n",
      "ID: 1003; Título: Gestão de Dados com MongoDB; Categoria: Big Data\n",
      "\n",
      "ID: 1004; Título: R Fundamentos; Categoria: Análise de Dados\n",
      "\n",
      "ID: 1005; Título: Qualquer coisa; Categoria: Sei lá\n",
      "\n"
     ]
    }
   ],
   "source": [
    "# Fechando sem commit\n",
    "\n",
    "conn = sqlite3.connect(r'../ArquivosParalelos/escola.db')\n",
    "curs = conn.cursor()\n",
    "\n",
    "recset = [(1005,'Qualquer coisa', 'Sei lá'),\n",
    "         (1,'teste 1, 2, 3',123)]\n",
    "\n",
    "for i in recset:\n",
    "    curs.execute(query_insercao, i)\n",
    "    \n",
    "conn.close()\n",
    "\n",
    "conn = sqlite3.connect(r'../ArquivosParalelos/escola.db')\n",
    "curs = conn.cursor()\n",
    "\n",
    "# Usando 'conn.cursos' ao invés de nomeá-lo como 'curs'.\n",
    "curs.execute('select * from cursos')\n",
    "\n",
    "dados2 = curs.fetchall()\n",
    "\n",
    "print('Sem commit')\n",
    "for i in dados2:\n",
    "    print('ID: %d; Título: %s; Categoria: %s\\n' % i)\n",
    "print('\\n')\n",
    "\n",
    "\n",
    "# A mesma coisa, mas usando commit antes de fechar\n",
    "\n",
    "conn = sqlite3.connect(r'../ArquivosParalelos/escola.db')\n",
    "curs = conn.cursor()\n",
    "\n",
    "recset = [(1005,'Qualquer coisa', 'Sei lá'),\n",
    "         (1,'teste 1, 2, 3',123)]\n",
    "\n",
    "for i in recset:\n",
    "    curs.execute(query_insercao, i)\n",
    "    \n",
    "conn.commit()\n",
    "conn.close()\n",
    "\n",
    "conn = sqlite3.connect(r'../ArquivosParalelos/escola.db')\n",
    "curs = conn.cursor()\n",
    "\n",
    "# Usando 'conn.cursos' ao invés de nomeá-lo como 'curs'.\n",
    "curs.execute('select * from cursos')\n",
    "\n",
    "dados2 = curs.fetchall()\n",
    "\n",
    "print('Com commit')\n",
    "for i in dados2:\n",
    "    print('ID: %d; Título: %s; Categoria: %s\\n' % i)"
   ]
  },
  {
   "attachments": {},
   "cell_type": "markdown",
   "metadata": {},
   "source": [
    "## Informações sobre o DB - Metadados"
   ]
  },
  {
   "cell_type": "code",
   "execution_count": 18,
   "metadata": {
    "scrolled": false
   },
   "outputs": [
    {
     "name": "stdout",
     "output_type": "stream",
     "text": [
      "('id', None, None, None, None, None, None) <class 'tuple'>\n",
      "('titulo', None, None, None, None, None, None) <class 'tuple'>\n",
      "('categoria', None, None, None, None, None, None) <class 'tuple'>\n",
      "\n",
      "<class 'tuple'>\n",
      "\n",
      "id <class 'str'>\n",
      "titulo <class 'str'>\n",
      "categoria <class 'str'>\n"
     ]
    }
   ],
   "source": [
    "# Obter informações das colunas.\n",
    "# O resultado é uma tupla composta por tuplas\n",
    "\n",
    "for i in curs.execute('select * from cursos').description:\n",
    "    print(i,type(i))\n",
    "    \n",
    "print('')\n",
    "print(type(curs.execute('select * from cursos').description))\n",
    "\n",
    "print('')\n",
    "\n",
    "# Para obter apenas os nomes.\n",
    "for i in curs.execute('select * from cursos').description:\n",
    "    print(i[0],type(i[0]))"
   ]
  },
  {
   "attachments": {},
   "cell_type": "markdown",
   "metadata": {},
   "source": [
    "# Funções"
   ]
  },
  {
   "cell_type": "markdown",
   "metadata": {},
   "source": [
    "## Função de preenchimento automático"
   ]
  },
  {
   "cell_type": "code",
   "execution_count": 19,
   "metadata": {},
   "outputs": [],
   "source": [
    "import sqlite3\n",
    "import random\n",
    "import time\n",
    "import datetime\n",
    "\n"
   ]
  },
  {
   "cell_type": "code",
   "execution_count": 20,
   "metadata": {},
   "outputs": [],
   "source": [
    "# Função para criar uma tabela\n",
    "def create_table(arquivo):\n",
    "    c = sqlite3.connect(arquivo).cursor() #Isto cria o arquivo se ele já não existe\n",
    "    c.execute('CREATE TABLE IF NOT EXISTS produtos(id INTEGER PRIMARY KEY AUTOINCREMENT NOT NULL, date TEXT, '\\\n",
    "              'prod_name TEXT, valor REAL)')\n",
    "    c.close()"
   ]
  },
  {
   "cell_type": "code",
   "execution_count": 21,
   "metadata": {
    "scrolled": true
   },
   "outputs": [],
   "source": [
    "# Função para inserir uma linha\n",
    "# Esta função serviu de base para a próxima.\n",
    "def data_insert():\n",
    "    c.execute(\"INSERT INTO produtos VALUES('2020-05-02 12:34:45', 'Teclado', 130.00 )\")\n",
    "    conn.commit()\n",
    "    c.close()\n",
    "    conn.close()"
   ]
  },
  {
   "cell_type": "code",
   "execution_count": 22,
   "metadata": {},
   "outputs": [],
   "source": [
    "# \"arquivo\" é o diretório do DB\n",
    "# \"n\" é o número de itens a serem criados na lista.\n",
    "\n",
    "# Esta função depende de a tabela \"produtos\" já existir no DB.\n",
    "\n",
    "def data_insert_var(n,arquivo):\n",
    "    conn = sqlite3.connect(arquivo)\n",
    "    c = conn.cursor() \n",
    "    for i in range(n): #cria n itens na lista.\n",
    "        new_date = datetime.datetime.now() #cria um objeto contendo a data e a hora atuais.\n",
    "        new_prod_name = random.choice(['Monitor', 'CPU', 'Teclado','Mouse']) #Escolhe um item na lista.\n",
    "        new_value = random.randrange(50,100) #Escolhe um preço para ser um valor do item.\n",
    "        c.execute(\"INSERT INTO produtos (date, prod_name, valor) VALUES (?, ?, ?)\", (new_date, new_prod_name, new_value))\n",
    "        conn.commit() #salva a alteração.\n",
    "        time.sleep(0) #aguarda 1 segundo.\n",
    "    c.close()"
   ]
  },
  {
   "cell_type": "code",
   "execution_count": 30,
   "metadata": {},
   "outputs": [
    {
     "name": "stdout",
     "output_type": "stream",
     "text": [
      "Redo apagou o arquivo (eu acho)\n"
     ]
    }
   ],
   "source": [
    "# Mesmo que o DB não exista, ele é criado no momento da conexão na função de criação de tabela.\n",
    "\n",
    "redo(conn,r'../ArquivosParalelos/tempo.db')\n",
    "\n",
    "create_table(r'../ArquivosParalelos/tempo.db')\n",
    "data_insert_var(100,r'../ArquivosParalelos/tempo.db')\n",
    "\n",
    "# Se for executado mais vezes, vai acrescentar mais dados."
   ]
  },
  {
   "cell_type": "markdown",
   "metadata": {},
   "source": [
    "## Função de leitura dos dados"
   ]
  },
  {
   "cell_type": "markdown",
   "metadata": {},
   "source": [
    "Execute as funções de inserção de dados antes."
   ]
  },
  {
   "cell_type": "code",
   "execution_count": 24,
   "metadata": {},
   "outputs": [],
   "source": [
    "def showall():\n",
    "    conn = sqlite3.connect(r'../ArquivosParalelos/tempo.db')\n",
    "    c = conn.cursor()\n",
    "    c.execute('select * from produtos')\n",
    "    data = c.fetchall()\n",
    "    for i in data:\n",
    "        print('Id: %d, Data: %s, Produto: %s, Valor: %d \\n' % i)\n",
    "    c.close()\n",
    "    conn.close()"
   ]
  },
  {
   "cell_type": "code",
   "execution_count": 31,
   "metadata": {},
   "outputs": [
    {
     "name": "stdout",
     "output_type": "stream",
     "text": [
      "Id: 1, Data: 2023-04-21 18:35:41.195725, Produto: Monitor, Valor: 89 \n",
      "\n",
      "Id: 2, Data: 2023-04-21 18:35:41.199724, Produto: Teclado, Valor: 91 \n",
      "\n",
      "Id: 3, Data: 2023-04-21 18:35:41.207717, Produto: Mouse, Valor: 82 \n",
      "\n",
      "Id: 4, Data: 2023-04-21 18:35:41.213714, Produto: Mouse, Valor: 68 \n",
      "\n",
      "Id: 5, Data: 2023-04-21 18:35:41.222707, Produto: CPU, Valor: 57 \n",
      "\n",
      "Id: 6, Data: 2023-04-21 18:35:41.229704, Produto: Monitor, Valor: 72 \n",
      "\n",
      "Id: 7, Data: 2023-04-21 18:35:41.242695, Produto: Teclado, Valor: 55 \n",
      "\n",
      "Id: 8, Data: 2023-04-21 18:35:41.253689, Produto: Monitor, Valor: 91 \n",
      "\n",
      "Id: 9, Data: 2023-04-21 18:35:41.259686, Produto: Teclado, Valor: 64 \n",
      "\n",
      "Id: 10, Data: 2023-04-21 18:35:41.287669, Produto: Teclado, Valor: 81 \n",
      "\n",
      "Id: 11, Data: 2023-04-21 18:35:41.294664, Produto: Teclado, Valor: 86 \n",
      "\n",
      "Id: 12, Data: 2023-04-21 18:35:41.300660, Produto: Teclado, Valor: 84 \n",
      "\n",
      "Id: 13, Data: 2023-04-21 18:35:41.309654, Produto: CPU, Valor: 85 \n",
      "\n",
      "Id: 14, Data: 2023-04-21 18:35:41.339636, Produto: Monitor, Valor: 97 \n",
      "\n",
      "Id: 15, Data: 2023-04-21 18:35:41.369617, Produto: Monitor, Valor: 56 \n",
      "\n",
      "Id: 16, Data: 2023-04-21 18:35:41.382610, Produto: Teclado, Valor: 73 \n",
      "\n",
      "Id: 17, Data: 2023-04-21 18:35:41.389605, Produto: Teclado, Valor: 96 \n",
      "\n",
      "Id: 18, Data: 2023-04-21 18:35:41.399606, Produto: Teclado, Valor: 85 \n",
      "\n",
      "Id: 19, Data: 2023-04-21 18:35:41.408593, Produto: Mouse, Valor: 93 \n",
      "\n",
      "Id: 20, Data: 2023-04-21 18:35:41.421587, Produto: Monitor, Valor: 70 \n",
      "\n",
      "Id: 21, Data: 2023-04-21 18:35:41.434579, Produto: CPU, Valor: 58 \n",
      "\n",
      "Id: 22, Data: 2023-04-21 18:35:41.448568, Produto: CPU, Valor: 92 \n",
      "\n",
      "Id: 23, Data: 2023-04-21 18:35:41.456564, Produto: Monitor, Valor: 55 \n",
      "\n",
      "Id: 24, Data: 2023-04-21 18:35:41.494539, Produto: Mouse, Valor: 62 \n",
      "\n",
      "Id: 25, Data: 2023-04-21 18:35:41.510529, Produto: Mouse, Valor: 70 \n",
      "\n",
      "Id: 26, Data: 2023-04-21 18:35:41.529518, Produto: Mouse, Valor: 85 \n",
      "\n",
      "Id: 27, Data: 2023-04-21 18:35:41.538512, Produto: Monitor, Valor: 79 \n",
      "\n",
      "Id: 28, Data: 2023-04-21 18:35:41.562499, Produto: Mouse, Valor: 95 \n",
      "\n",
      "Id: 29, Data: 2023-04-21 18:35:41.587484, Produto: Teclado, Valor: 87 \n",
      "\n",
      "Id: 30, Data: 2023-04-21 18:35:41.593479, Produto: CPU, Valor: 97 \n",
      "\n",
      "Id: 31, Data: 2023-04-21 18:35:41.606470, Produto: Teclado, Valor: 77 \n",
      "\n",
      "Id: 32, Data: 2023-04-21 18:35:41.613466, Produto: CPU, Valor: 90 \n",
      "\n",
      "Id: 33, Data: 2023-04-21 18:35:41.626460, Produto: Teclado, Valor: 57 \n",
      "\n",
      "Id: 34, Data: 2023-04-21 18:35:41.638451, Produto: CPU, Valor: 96 \n",
      "\n",
      "Id: 35, Data: 2023-04-21 18:35:41.644448, Produto: Teclado, Valor: 94 \n",
      "\n",
      "Id: 36, Data: 2023-04-21 18:35:41.651443, Produto: CPU, Valor: 53 \n",
      "\n",
      "Id: 37, Data: 2023-04-21 18:35:41.657439, Produto: Monitor, Valor: 94 \n",
      "\n",
      "Id: 38, Data: 2023-04-21 18:35:41.667433, Produto: Mouse, Valor: 61 \n",
      "\n",
      "Id: 39, Data: 2023-04-21 18:35:41.673429, Produto: Monitor, Valor: 81 \n",
      "\n",
      "Id: 40, Data: 2023-04-21 18:35:41.679428, Produto: Teclado, Valor: 52 \n",
      "\n",
      "Id: 41, Data: 2023-04-21 18:35:41.685422, Produto: Monitor, Valor: 70 \n",
      "\n",
      "Id: 42, Data: 2023-04-21 18:35:41.692418, Produto: Mouse, Valor: 54 \n",
      "\n",
      "Id: 43, Data: 2023-04-21 18:35:41.697415, Produto: Monitor, Valor: 50 \n",
      "\n",
      "Id: 44, Data: 2023-04-21 18:35:41.705410, Produto: Mouse, Valor: 85 \n",
      "\n",
      "Id: 45, Data: 2023-04-21 18:35:41.710407, Produto: CPU, Valor: 85 \n",
      "\n",
      "Id: 46, Data: 2023-04-21 18:35:41.718402, Produto: Mouse, Valor: 56 \n",
      "\n",
      "Id: 47, Data: 2023-04-21 18:35:41.729394, Produto: Mouse, Valor: 52 \n",
      "\n",
      "Id: 48, Data: 2023-04-21 18:35:41.734391, Produto: Teclado, Valor: 75 \n",
      "\n",
      "Id: 49, Data: 2023-04-21 18:35:41.740387, Produto: Teclado, Valor: 63 \n",
      "\n",
      "Id: 50, Data: 2023-04-21 18:35:41.746384, Produto: Mouse, Valor: 98 \n",
      "\n",
      "Id: 51, Data: 2023-04-21 18:35:41.751380, Produto: Monitor, Valor: 95 \n",
      "\n",
      "Id: 52, Data: 2023-04-21 18:35:41.755378, Produto: Monitor, Valor: 87 \n",
      "\n",
      "Id: 53, Data: 2023-04-21 18:35:41.760376, Produto: CPU, Valor: 69 \n",
      "\n",
      "Id: 54, Data: 2023-04-21 18:35:41.764372, Produto: CPU, Valor: 69 \n",
      "\n",
      "Id: 55, Data: 2023-04-21 18:35:41.771374, Produto: Mouse, Valor: 96 \n",
      "\n",
      "Id: 56, Data: 2023-04-21 18:35:41.776366, Produto: Teclado, Valor: 94 \n",
      "\n",
      "Id: 57, Data: 2023-04-21 18:35:41.780362, Produto: CPU, Valor: 72 \n",
      "\n",
      "Id: 58, Data: 2023-04-21 18:35:41.787358, Produto: Teclado, Valor: 57 \n",
      "\n",
      "Id: 59, Data: 2023-04-21 18:35:41.792356, Produto: Monitor, Valor: 76 \n",
      "\n",
      "Id: 60, Data: 2023-04-21 18:35:41.797352, Produto: CPU, Valor: 91 \n",
      "\n",
      "Id: 61, Data: 2023-04-21 18:35:41.802349, Produto: Monitor, Valor: 71 \n",
      "\n",
      "Id: 62, Data: 2023-04-21 18:35:41.808346, Produto: CPU, Valor: 80 \n",
      "\n",
      "Id: 63, Data: 2023-04-21 18:35:41.837329, Produto: Monitor, Valor: 84 \n",
      "\n",
      "Id: 64, Data: 2023-04-21 18:35:41.846321, Produto: CPU, Valor: 82 \n",
      "\n",
      "Id: 65, Data: 2023-04-21 18:35:41.857315, Produto: Monitor, Valor: 65 \n",
      "\n",
      "Id: 66, Data: 2023-04-21 18:35:41.861312, Produto: Monitor, Valor: 55 \n",
      "\n",
      "Id: 67, Data: 2023-04-21 18:35:41.866309, Produto: CPU, Valor: 66 \n",
      "\n",
      "Id: 68, Data: 2023-04-21 18:35:41.875304, Produto: Mouse, Valor: 63 \n",
      "\n",
      "Id: 69, Data: 2023-04-21 18:35:41.884299, Produto: CPU, Valor: 85 \n",
      "\n",
      "Id: 70, Data: 2023-04-21 18:35:41.892294, Produto: Mouse, Valor: 50 \n",
      "\n",
      "Id: 71, Data: 2023-04-21 18:35:41.897291, Produto: Monitor, Valor: 87 \n",
      "\n",
      "Id: 72, Data: 2023-04-21 18:35:41.904287, Produto: Monitor, Valor: 80 \n",
      "\n",
      "Id: 73, Data: 2023-04-21 18:35:41.908283, Produto: Teclado, Valor: 92 \n",
      "\n",
      "Id: 74, Data: 2023-04-21 18:35:41.912281, Produto: Mouse, Valor: 53 \n",
      "\n",
      "Id: 75, Data: 2023-04-21 18:35:41.918278, Produto: Mouse, Valor: 64 \n",
      "\n",
      "Id: 76, Data: 2023-04-21 18:35:41.923274, Produto: Teclado, Valor: 65 \n",
      "\n",
      "Id: 77, Data: 2023-04-21 18:35:41.927272, Produto: Monitor, Valor: 95 \n",
      "\n",
      "Id: 78, Data: 2023-04-21 18:35:41.932269, Produto: Monitor, Valor: 77 \n",
      "\n",
      "Id: 79, Data: 2023-04-21 18:35:41.938265, Produto: Monitor, Valor: 73 \n",
      "\n",
      "Id: 80, Data: 2023-04-21 18:35:41.942263, Produto: Mouse, Valor: 72 \n",
      "\n",
      "Id: 81, Data: 2023-04-21 18:35:41.948258, Produto: CPU, Valor: 50 \n",
      "\n",
      "Id: 82, Data: 2023-04-21 18:35:41.954255, Produto: Mouse, Valor: 67 \n",
      "\n",
      "Id: 83, Data: 2023-04-21 18:35:41.958252, Produto: Mouse, Valor: 88 \n",
      "\n",
      "Id: 84, Data: 2023-04-21 18:35:41.962250, Produto: Monitor, Valor: 55 \n",
      "\n",
      "Id: 85, Data: 2023-04-21 18:35:41.971252, Produto: Monitor, Valor: 63 \n",
      "\n",
      "Id: 86, Data: 2023-04-21 18:35:41.978240, Produto: Mouse, Valor: 62 \n",
      "\n",
      "Id: 87, Data: 2023-04-21 18:35:41.985236, Produto: CPU, Valor: 99 \n",
      "\n",
      "Id: 88, Data: 2023-04-21 18:35:41.993231, Produto: Monitor, Valor: 74 \n",
      "\n",
      "Id: 89, Data: 2023-04-21 18:35:41.999227, Produto: Mouse, Valor: 63 \n",
      "\n",
      "Id: 90, Data: 2023-04-21 18:35:42.007222, Produto: Teclado, Valor: 94 \n",
      "\n",
      "Id: 91, Data: 2023-04-21 18:35:42.012219, Produto: Mouse, Valor: 62 \n",
      "\n",
      "Id: 92, Data: 2023-04-21 18:35:42.018216, Produto: Teclado, Valor: 94 \n",
      "\n",
      "Id: 93, Data: 2023-04-21 18:35:42.023212, Produto: Teclado, Valor: 96 \n",
      "\n",
      "Id: 94, Data: 2023-04-21 18:35:42.028209, Produto: CPU, Valor: 93 \n",
      "\n",
      "Id: 95, Data: 2023-04-21 18:35:42.033206, Produto: Monitor, Valor: 92 \n",
      "\n",
      "Id: 96, Data: 2023-04-21 18:35:42.041202, Produto: Teclado, Valor: 80 \n",
      "\n",
      "Id: 97, Data: 2023-04-21 18:35:42.046198, Produto: Mouse, Valor: 52 \n",
      "\n",
      "Id: 98, Data: 2023-04-21 18:35:42.054193, Produto: Monitor, Valor: 90 \n",
      "\n",
      "Id: 99, Data: 2023-04-21 18:35:42.065186, Produto: CPU, Valor: 70 \n",
      "\n",
      "Id: 100, Data: 2023-04-21 18:35:42.073182, Produto: Teclado, Valor: 97 \n",
      "\n"
     ]
    }
   ],
   "source": [
    "showall()"
   ]
  },
  {
   "cell_type": "code",
   "execution_count": 26,
   "metadata": {},
   "outputs": [
    {
     "name": "stdout",
     "output_type": "stream",
     "text": [
      "(1, '2023-04-21 18:32:52.514988', 'Monitor', 61.0)\n",
      "(2, '2023-04-21 18:32:52.519984', 'Mouse', 89.0)\n",
      "(3, '2023-04-21 18:32:52.541970', 'CPU', 61.0)\n",
      "(4, '2023-04-21 18:32:52.564958', 'Monitor', 87.0)\n",
      "(5, '2023-04-21 18:32:52.587941', 'CPU', 92.0)\n",
      "(6, '2023-04-21 18:32:52.608927', 'CPU', 89.0)\n",
      "(7, '2023-04-21 18:32:52.620922', 'Mouse', 98.0)\n",
      "(8, '2023-04-21 18:32:52.629916', 'Monitor', 74.0)\n",
      "(9, '2023-04-21 18:32:52.638911', 'Teclado', 51.0)\n",
      "(10, '2023-04-21 18:32:52.653900', 'Teclado', 84.0)\n",
      "(11, '2023-04-21 18:32:52.664894', 'Monitor', 88.0)\n",
      "(12, '2023-04-21 18:32:52.673888', 'Mouse', 58.0)\n",
      "(13, '2023-04-21 18:32:52.683882', 'Monitor', 59.0)\n",
      "(14, '2023-04-21 18:32:52.698874', 'Mouse', 59.0)\n",
      "(15, '2023-04-21 18:32:52.717861', 'CPU', 56.0)\n",
      "(16, '2023-04-21 18:32:52.723856', 'Mouse', 59.0)\n",
      "(17, '2023-04-21 18:32:52.731852', 'Teclado', 91.0)\n",
      "(18, '2023-04-21 18:32:52.736848', 'CPU', 59.0)\n",
      "(19, '2023-04-21 18:32:52.744845', 'Teclado', 72.0)\n",
      "(20, '2023-04-21 18:32:52.764832', 'Teclado', 67.0)\n",
      "(21, '2023-04-21 18:32:52.771828', 'Mouse', 73.0)\n",
      "(22, '2023-04-21 18:32:52.785819', 'Teclado', 92.0)\n",
      "(23, '2023-04-21 18:32:52.792815', 'CPU', 88.0)\n",
      "(24, '2023-04-21 18:32:52.799810', 'Monitor', 85.0)\n",
      "(25, '2023-04-21 18:32:52.806806', 'Teclado', 62.0)\n",
      "(26, '2023-04-21 18:32:52.815800', 'Monitor', 80.0)\n",
      "(27, '2023-04-21 18:32:52.822796', 'CPU', 86.0)\n",
      "(28, '2023-04-21 18:32:52.833790', 'Teclado', 99.0)\n",
      "(29, '2023-04-21 18:32:52.843783', 'Mouse', 99.0)\n",
      "(30, '2023-04-21 18:32:52.853777', 'Teclado', 90.0)\n",
      "(31, '2023-04-21 18:32:52.890753', 'Monitor', 76.0)\n",
      "(32, '2023-04-21 18:32:52.898748', 'Monitor', 70.0)\n",
      "(33, '2023-04-21 18:32:52.911740', 'CPU', 51.0)\n",
      "(34, '2023-04-21 18:32:52.920736', 'Monitor', 59.0)\n",
      "(35, '2023-04-21 18:32:52.929732', 'Monitor', 99.0)\n",
      "(36, '2023-04-21 18:32:52.937725', 'Monitor', 93.0)\n",
      "(37, '2023-04-21 18:32:52.949718', 'Mouse', 66.0)\n",
      "(38, '2023-04-21 18:32:52.967707', 'Teclado', 70.0)\n",
      "(39, '2023-04-21 18:32:52.984696', 'Teclado', 52.0)\n",
      "(40, '2023-04-21 18:32:53.001686', 'CPU', 76.0)\n",
      "(41, '2023-04-21 18:32:53.014677', 'Teclado', 70.0)\n",
      "(42, '2023-04-21 18:32:53.071644', 'Monitor', 51.0)\n",
      "(43, '2023-04-21 18:32:53.123609', 'Monitor', 55.0)\n",
      "(44, '2023-04-21 18:32:53.134602', 'Teclado', 54.0)\n",
      "(45, '2023-04-21 18:32:53.140599', 'Mouse', 56.0)\n",
      "(46, '2023-04-21 18:32:53.172584', 'CPU', 87.0)\n",
      "(47, '2023-04-21 18:32:53.215552', 'Teclado', 71.0)\n",
      "(48, '2023-04-21 18:32:53.237539', 'Mouse', 60.0)\n",
      "(49, '2023-04-21 18:32:53.245534', 'CPU', 51.0)\n",
      "(50, '2023-04-21 18:32:53.252530', 'CPU', 92.0)\n",
      "(51, '2023-04-21 18:32:53.261524', 'Mouse', 53.0)\n",
      "(52, '2023-04-21 18:32:53.278514', 'Monitor', 80.0)\n",
      "(53, '2023-04-21 18:32:53.300503', 'CPU', 51.0)\n",
      "(54, '2023-04-21 18:32:53.306496', 'Monitor', 99.0)\n",
      "(55, '2023-04-21 18:32:53.326485', 'Teclado', 85.0)\n",
      "(56, '2023-04-21 18:32:53.343475', 'CPU', 96.0)\n",
      "(57, '2023-04-21 18:32:53.356466', 'Teclado', 79.0)\n",
      "(58, '2023-04-21 18:32:53.371456', 'Monitor', 59.0)\n",
      "(59, '2023-04-21 18:32:53.385448', 'CPU', 56.0)\n",
      "(60, '2023-04-21 18:32:53.410433', 'Mouse', 55.0)\n",
      "(61, '2023-04-21 18:32:53.421426', 'Mouse', 81.0)\n",
      "(62, '2023-04-21 18:32:53.430419', 'Teclado', 77.0)\n",
      "(63, '2023-04-21 18:32:53.438414', 'Monitor', 53.0)\n",
      "(64, '2023-04-21 18:32:53.448409', 'CPU', 57.0)\n",
      "(65, '2023-04-21 18:32:53.455404', 'Teclado', 58.0)\n",
      "(66, '2023-04-21 18:32:53.461402', 'Teclado', 78.0)\n",
      "(67, '2023-04-21 18:32:53.468396', 'CPU', 87.0)\n",
      "(68, '2023-04-21 18:32:53.477392', 'Monitor', 94.0)\n",
      "(69, '2023-04-21 18:32:53.482387', 'Teclado', 54.0)\n",
      "(70, '2023-04-21 18:32:53.488384', 'CPU', 95.0)\n",
      "(71, '2023-04-21 18:32:53.494384', 'Mouse', 63.0)\n",
      "(72, '2023-04-21 18:32:53.500376', 'Monitor', 96.0)\n",
      "(73, '2023-04-21 18:32:53.508371', 'CPU', 57.0)\n",
      "(74, '2023-04-21 18:32:53.550347', 'Monitor', 91.0)\n",
      "(75, '2023-04-21 18:32:53.612313', 'Monitor', 92.0)\n",
      "(76, '2023-04-21 18:32:53.635292', 'CPU', 67.0)\n",
      "(77, '2023-04-21 18:32:53.685263', 'CPU', 93.0)\n",
      "(78, '2023-04-21 18:32:53.733232', 'Teclado', 98.0)\n",
      "(79, '2023-04-21 18:32:53.744226', 'Teclado', 92.0)\n",
      "(80, '2023-04-21 18:32:53.780204', 'Teclado', 57.0)\n",
      "(81, '2023-04-21 18:32:53.817182', 'CPU', 71.0)\n",
      "(82, '2023-04-21 18:32:53.834171', 'Mouse', 65.0)\n",
      "(83, '2023-04-21 18:32:53.852161', 'Monitor', 70.0)\n",
      "(84, '2023-04-21 18:32:53.864151', 'Mouse', 85.0)\n",
      "(85, '2023-04-21 18:32:53.882142', 'CPU', 81.0)\n",
      "(86, '2023-04-21 18:32:53.900130', 'Monitor', 55.0)\n",
      "(87, '2023-04-21 18:32:53.915129', 'CPU', 51.0)\n",
      "(88, '2023-04-21 18:32:53.933110', 'Mouse', 51.0)\n",
      "(89, '2023-04-21 18:32:53.947101', 'Monitor', 60.0)\n",
      "(90, '2023-04-21 18:32:53.953096', 'Teclado', 81.0)\n",
      "(91, '2023-04-21 18:32:53.966090', 'Monitor', 87.0)\n",
      "(92, '2023-04-21 18:32:53.971086', 'Monitor', 54.0)\n",
      "(93, '2023-04-21 18:32:53.975083', 'CPU', 86.0)\n",
      "(94, '2023-04-21 18:32:53.992073', 'Mouse', 88.0)\n",
      "(95, '2023-04-21 18:32:54.014062', 'CPU', 53.0)\n",
      "(96, '2023-04-21 18:32:54.031048', 'Mouse', 79.0)\n",
      "(97, '2023-04-21 18:32:54.038043', 'CPU', 73.0)\n",
      "(98, '2023-04-21 18:32:54.086014', 'Teclado', 86.0)\n",
      "(99, '2023-04-21 18:32:54.136987', 'Teclado', 54.0)\n",
      "(100, '2023-04-21 18:32:54.172961', 'Mouse', 99.0)\n"
     ]
    }
   ],
   "source": [
    "# Se nenhum objeto de conexão ou cursor for criado, o bloqueio é evitável.\n",
    "\n",
    "for i in sqlite3.connect(r'../ArquivosParalelos/tempo.db').cursor().execute('select * from produtos').fetchall(): print(i)"
   ]
  },
  {
   "cell_type": "markdown",
   "metadata": {},
   "source": [
    "## Separando colunas em listas independentes."
   ]
  },
  {
   "cell_type": "markdown",
   "metadata": {},
   "source": [
    "Foram feitos dicionários para manter o índice, mas a mesma fórmula pode ser usada para listas, se a ordem não for importante."
   ]
  },
  {
   "cell_type": "code",
   "execution_count": 27,
   "metadata": {},
   "outputs": [
    {
     "name": "stdout",
     "output_type": "stream",
     "text": [
      "['id', 'date', 'prod_name', 'valor']\n",
      "<class 'list'>\n"
     ]
    }
   ],
   "source": [
    "# Filtrando os nomes das colunas\n",
    "\n",
    "columns = []\n",
    "for i in sqlite3.connect(r'../ArquivosParalelos/tempo.db').cursor().execute('select * from produtos').description:\n",
    "    columns.append(i[0])\n",
    "print(columns)\n",
    "print(type(columns))"
   ]
  },
  {
   "cell_type": "code",
   "execution_count": 28,
   "metadata": {
    "scrolled": true
   },
   "outputs": [
    {
     "name": "stdout",
     "output_type": "stream",
     "text": [
      "Dicionário \"id\" criado com sucesso.\n",
      "Dicionário \"date\" criado com sucesso.\n",
      "Dicionário \"prod_name\" criado com sucesso.\n",
      "Dicionário \"valor\" criado com sucesso.\n"
     ]
    }
   ],
   "source": [
    "for N in columns:\n",
    "    ind = columns.index(N)\n",
    "    exec('%s = {}' % (N))\n",
    "    for linha in sqlite3.connect(r'../ArquivosParalelos/tempo.db').cursor().execute('select * from produtos').fetchall():\n",
    "        exec('%s[linha[0]]=linha[%s]' % (N,ind))\n",
    "    print('Dicionário \"%s\" criado com sucesso.' % N)\n",
    "\n"
   ]
  },
  {
   "cell_type": "code",
   "execution_count": 29,
   "metadata": {},
   "outputs": [
    {
     "name": "stdout",
     "output_type": "stream",
     "text": [
      "{1: 1, 2: 2, 3: 3, 4: 4, 5: 5, 6: 6, 7: 7, 8: 8, 9: 9, 10: 10, 11: 11, 12: 12, 13: 13, 14: 14, 15: 15, 16: 16, 17: 17, 18: 18, 19: 19, 20: 20, 21: 21, 22: 22, 23: 23, 24: 24, 25: 25, 26: 26, 27: 27, 28: 28, 29: 29, 30: 30, 31: 31, 32: 32, 33: 33, 34: 34, 35: 35, 36: 36, 37: 37, 38: 38, 39: 39, 40: 40, 41: 41, 42: 42, 43: 43, 44: 44, 45: 45, 46: 46, 47: 47, 48: 48, 49: 49, 50: 50, 51: 51, 52: 52, 53: 53, 54: 54, 55: 55, 56: 56, 57: 57, 58: 58, 59: 59, 60: 60, 61: 61, 62: 62, 63: 63, 64: 64, 65: 65, 66: 66, 67: 67, 68: 68, 69: 69, 70: 70, 71: 71, 72: 72, 73: 73, 74: 74, 75: 75, 76: 76, 77: 77, 78: 78, 79: 79, 80: 80, 81: 81, 82: 82, 83: 83, 84: 84, 85: 85, 86: 86, 87: 87, 88: 88, 89: 89, 90: 90, 91: 91, 92: 92, 93: 93, 94: 94, 95: 95, 96: 96, 97: 97, 98: 98, 99: 99, 100: 100}\n",
      "{1: '2023-04-21 18:32:52.514988', 2: '2023-04-21 18:32:52.519984', 3: '2023-04-21 18:32:52.541970', 4: '2023-04-21 18:32:52.564958', 5: '2023-04-21 18:32:52.587941', 6: '2023-04-21 18:32:52.608927', 7: '2023-04-21 18:32:52.620922', 8: '2023-04-21 18:32:52.629916', 9: '2023-04-21 18:32:52.638911', 10: '2023-04-21 18:32:52.653900', 11: '2023-04-21 18:32:52.664894', 12: '2023-04-21 18:32:52.673888', 13: '2023-04-21 18:32:52.683882', 14: '2023-04-21 18:32:52.698874', 15: '2023-04-21 18:32:52.717861', 16: '2023-04-21 18:32:52.723856', 17: '2023-04-21 18:32:52.731852', 18: '2023-04-21 18:32:52.736848', 19: '2023-04-21 18:32:52.744845', 20: '2023-04-21 18:32:52.764832', 21: '2023-04-21 18:32:52.771828', 22: '2023-04-21 18:32:52.785819', 23: '2023-04-21 18:32:52.792815', 24: '2023-04-21 18:32:52.799810', 25: '2023-04-21 18:32:52.806806', 26: '2023-04-21 18:32:52.815800', 27: '2023-04-21 18:32:52.822796', 28: '2023-04-21 18:32:52.833790', 29: '2023-04-21 18:32:52.843783', 30: '2023-04-21 18:32:52.853777', 31: '2023-04-21 18:32:52.890753', 32: '2023-04-21 18:32:52.898748', 33: '2023-04-21 18:32:52.911740', 34: '2023-04-21 18:32:52.920736', 35: '2023-04-21 18:32:52.929732', 36: '2023-04-21 18:32:52.937725', 37: '2023-04-21 18:32:52.949718', 38: '2023-04-21 18:32:52.967707', 39: '2023-04-21 18:32:52.984696', 40: '2023-04-21 18:32:53.001686', 41: '2023-04-21 18:32:53.014677', 42: '2023-04-21 18:32:53.071644', 43: '2023-04-21 18:32:53.123609', 44: '2023-04-21 18:32:53.134602', 45: '2023-04-21 18:32:53.140599', 46: '2023-04-21 18:32:53.172584', 47: '2023-04-21 18:32:53.215552', 48: '2023-04-21 18:32:53.237539', 49: '2023-04-21 18:32:53.245534', 50: '2023-04-21 18:32:53.252530', 51: '2023-04-21 18:32:53.261524', 52: '2023-04-21 18:32:53.278514', 53: '2023-04-21 18:32:53.300503', 54: '2023-04-21 18:32:53.306496', 55: '2023-04-21 18:32:53.326485', 56: '2023-04-21 18:32:53.343475', 57: '2023-04-21 18:32:53.356466', 58: '2023-04-21 18:32:53.371456', 59: '2023-04-21 18:32:53.385448', 60: '2023-04-21 18:32:53.410433', 61: '2023-04-21 18:32:53.421426', 62: '2023-04-21 18:32:53.430419', 63: '2023-04-21 18:32:53.438414', 64: '2023-04-21 18:32:53.448409', 65: '2023-04-21 18:32:53.455404', 66: '2023-04-21 18:32:53.461402', 67: '2023-04-21 18:32:53.468396', 68: '2023-04-21 18:32:53.477392', 69: '2023-04-21 18:32:53.482387', 70: '2023-04-21 18:32:53.488384', 71: '2023-04-21 18:32:53.494384', 72: '2023-04-21 18:32:53.500376', 73: '2023-04-21 18:32:53.508371', 74: '2023-04-21 18:32:53.550347', 75: '2023-04-21 18:32:53.612313', 76: '2023-04-21 18:32:53.635292', 77: '2023-04-21 18:32:53.685263', 78: '2023-04-21 18:32:53.733232', 79: '2023-04-21 18:32:53.744226', 80: '2023-04-21 18:32:53.780204', 81: '2023-04-21 18:32:53.817182', 82: '2023-04-21 18:32:53.834171', 83: '2023-04-21 18:32:53.852161', 84: '2023-04-21 18:32:53.864151', 85: '2023-04-21 18:32:53.882142', 86: '2023-04-21 18:32:53.900130', 87: '2023-04-21 18:32:53.915129', 88: '2023-04-21 18:32:53.933110', 89: '2023-04-21 18:32:53.947101', 90: '2023-04-21 18:32:53.953096', 91: '2023-04-21 18:32:53.966090', 92: '2023-04-21 18:32:53.971086', 93: '2023-04-21 18:32:53.975083', 94: '2023-04-21 18:32:53.992073', 95: '2023-04-21 18:32:54.014062', 96: '2023-04-21 18:32:54.031048', 97: '2023-04-21 18:32:54.038043', 98: '2023-04-21 18:32:54.086014', 99: '2023-04-21 18:32:54.136987', 100: '2023-04-21 18:32:54.172961'}\n",
      "{1: 'Monitor', 2: 'Mouse', 3: 'CPU', 4: 'Monitor', 5: 'CPU', 6: 'CPU', 7: 'Mouse', 8: 'Monitor', 9: 'Teclado', 10: 'Teclado', 11: 'Monitor', 12: 'Mouse', 13: 'Monitor', 14: 'Mouse', 15: 'CPU', 16: 'Mouse', 17: 'Teclado', 18: 'CPU', 19: 'Teclado', 20: 'Teclado', 21: 'Mouse', 22: 'Teclado', 23: 'CPU', 24: 'Monitor', 25: 'Teclado', 26: 'Monitor', 27: 'CPU', 28: 'Teclado', 29: 'Mouse', 30: 'Teclado', 31: 'Monitor', 32: 'Monitor', 33: 'CPU', 34: 'Monitor', 35: 'Monitor', 36: 'Monitor', 37: 'Mouse', 38: 'Teclado', 39: 'Teclado', 40: 'CPU', 41: 'Teclado', 42: 'Monitor', 43: 'Monitor', 44: 'Teclado', 45: 'Mouse', 46: 'CPU', 47: 'Teclado', 48: 'Mouse', 49: 'CPU', 50: 'CPU', 51: 'Mouse', 52: 'Monitor', 53: 'CPU', 54: 'Monitor', 55: 'Teclado', 56: 'CPU', 57: 'Teclado', 58: 'Monitor', 59: 'CPU', 60: 'Mouse', 61: 'Mouse', 62: 'Teclado', 63: 'Monitor', 64: 'CPU', 65: 'Teclado', 66: 'Teclado', 67: 'CPU', 68: 'Monitor', 69: 'Teclado', 70: 'CPU', 71: 'Mouse', 72: 'Monitor', 73: 'CPU', 74: 'Monitor', 75: 'Monitor', 76: 'CPU', 77: 'CPU', 78: 'Teclado', 79: 'Teclado', 80: 'Teclado', 81: 'CPU', 82: 'Mouse', 83: 'Monitor', 84: 'Mouse', 85: 'CPU', 86: 'Monitor', 87: 'CPU', 88: 'Mouse', 89: 'Monitor', 90: 'Teclado', 91: 'Monitor', 92: 'Monitor', 93: 'CPU', 94: 'Mouse', 95: 'CPU', 96: 'Mouse', 97: 'CPU', 98: 'Teclado', 99: 'Teclado', 100: 'Mouse'}\n",
      "{1: 61.0, 2: 89.0, 3: 61.0, 4: 87.0, 5: 92.0, 6: 89.0, 7: 98.0, 8: 74.0, 9: 51.0, 10: 84.0, 11: 88.0, 12: 58.0, 13: 59.0, 14: 59.0, 15: 56.0, 16: 59.0, 17: 91.0, 18: 59.0, 19: 72.0, 20: 67.0, 21: 73.0, 22: 92.0, 23: 88.0, 24: 85.0, 25: 62.0, 26: 80.0, 27: 86.0, 28: 99.0, 29: 99.0, 30: 90.0, 31: 76.0, 32: 70.0, 33: 51.0, 34: 59.0, 35: 99.0, 36: 93.0, 37: 66.0, 38: 70.0, 39: 52.0, 40: 76.0, 41: 70.0, 42: 51.0, 43: 55.0, 44: 54.0, 45: 56.0, 46: 87.0, 47: 71.0, 48: 60.0, 49: 51.0, 50: 92.0, 51: 53.0, 52: 80.0, 53: 51.0, 54: 99.0, 55: 85.0, 56: 96.0, 57: 79.0, 58: 59.0, 59: 56.0, 60: 55.0, 61: 81.0, 62: 77.0, 63: 53.0, 64: 57.0, 65: 58.0, 66: 78.0, 67: 87.0, 68: 94.0, 69: 54.0, 70: 95.0, 71: 63.0, 72: 96.0, 73: 57.0, 74: 91.0, 75: 92.0, 76: 67.0, 77: 93.0, 78: 98.0, 79: 92.0, 80: 57.0, 81: 71.0, 82: 65.0, 83: 70.0, 84: 85.0, 85: 81.0, 86: 55.0, 87: 51.0, 88: 51.0, 89: 60.0, 90: 81.0, 91: 87.0, 92: 54.0, 93: 86.0, 94: 88.0, 95: 53.0, 96: 79.0, 97: 73.0, 98: 86.0, 99: 54.0, 100: 99.0}\n"
     ]
    }
   ],
   "source": [
    "for N in columns:\n",
    "    exec('print(%s)' % N)\n",
    "    \n",
    "#Peguei uma string e joguei como variável de outra string dentro de um exec\n",
    "#Com isso, o que seria lido como N foi interpretado como chamada, não como string"
   ]
  },
  {
   "cell_type": "code",
   "execution_count": null,
   "metadata": {},
   "outputs": [],
   "source": []
  }
 ],
 "metadata": {
  "kernelspec": {
   "display_name": "Python 3.10.6 64-bit (windows store)",
   "language": "python",
   "name": "python3"
  },
  "language_info": {
   "codemirror_mode": {
    "name": "ipython",
    "version": 3
   },
   "file_extension": ".py",
   "mimetype": "text/x-python",
   "name": "python",
   "nbconvert_exporter": "python",
   "pygments_lexer": "ipython3",
   "version": "3.10.11"
  },
  "vscode": {
   "interpreter": {
    "hash": "91b18657112df8a6dc2946b9dfe3559ddfc8e1e2117c2c8071424b5e043bd8e1"
   }
  }
 },
 "nbformat": 4,
 "nbformat_minor": 4
}
