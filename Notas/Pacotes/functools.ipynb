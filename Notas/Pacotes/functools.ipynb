{
 "cells": [
  {
   "cell_type": "code",
   "execution_count": 2,
   "metadata": {},
   "outputs": [],
   "source": [
    "import functools"
   ]
  },
  {
   "cell_type": "markdown",
   "metadata": {},
   "source": [
    "## Reduce"
   ]
  },
  {
   "cell_type": "markdown",
   "metadata": {},
   "source": [
    "A função reduce, do pacote functools, é similar à função map, mas retorna apenas um valor ao invés de uma coleção"
   ]
  },
  {
   "cell_type": "code",
   "execution_count": 3,
   "metadata": {},
   "outputs": [],
   "source": [
    "#Criando uma sequência de elementos numa lista para exemplo\n",
    "\n",
    "from random import randint\n",
    "\n",
    "a = []\n",
    "for i in range(100):\n",
    "    a.append(randint(1,1000))\n",
    "    \n",
    "b = []\n",
    "for i in range(100):\n",
    "    b.append(randint(1,1000))"
   ]
  },
  {
   "cell_type": "code",
   "execution_count": 4,
   "metadata": {},
   "outputs": [
    {
     "name": "stdout",
     "output_type": "stream",
     "text": [
      "49667\n"
     ]
    }
   ],
   "source": [
    "#Recebe uma função e uma coleção como argumentos.\n",
    "#Os argumentos da função estipulada como argumento do reduce serão os elementos da lista.\n",
    "#O retorno é aplicado ao próximo item da lista.\n",
    "\n",
    "def soma2(x,y):\n",
    "    return x+y\n",
    "\n",
    "resultado_da_soma2 = functools.reduce(soma2,a)\n",
    "\n",
    "print(resultado_da_soma2)"
   ]
  },
  {
   "cell_type": "code",
   "execution_count": 5,
   "metadata": {},
   "outputs": [
    {
     "ename": "TypeError",
     "evalue": "soma3() missing 1 required positional argument: 'z'",
     "output_type": "error",
     "traceback": [
      "\u001b[1;31m---------------------------------------------------------------------------\u001b[0m",
      "\u001b[1;31mTypeError\u001b[0m                                 Traceback (most recent call last)",
      "\u001b[1;32mc:\\Users\\fnsb.DESKTOP-7T10APS\\Documents\\MeusProjetos\\Python\\NotasPessoais-Python\\Notas\\Pacotes\\functools.ipynb Célula 6\u001b[0m in \u001b[0;36m<cell line: 8>\u001b[1;34m()\u001b[0m\n\u001b[0;32m      <a href='vscode-notebook-cell:/c%3A/Users/fnsb.DESKTOP-7T10APS/Documents/MeusProjetos/Python/NotasPessoais-Python/Notas/Pacotes/functools.ipynb#W5sZmlsZQ%3D%3D?line=4'>5</a>\u001b[0m \u001b[39mdef\u001b[39;00m \u001b[39msoma3\u001b[39m(x,y,z):\n\u001b[0;32m      <a href='vscode-notebook-cell:/c%3A/Users/fnsb.DESKTOP-7T10APS/Documents/MeusProjetos/Python/NotasPessoais-Python/Notas/Pacotes/functools.ipynb#W5sZmlsZQ%3D%3D?line=5'>6</a>\u001b[0m     \u001b[39mreturn\u001b[39;00m x\u001b[39m+\u001b[39my\u001b[39m+\u001b[39mz\n\u001b[1;32m----> <a href='vscode-notebook-cell:/c%3A/Users/fnsb.DESKTOP-7T10APS/Documents/MeusProjetos/Python/NotasPessoais-Python/Notas/Pacotes/functools.ipynb#W5sZmlsZQ%3D%3D?line=7'>8</a>\u001b[0m resultado_da_soma3 \u001b[39m=\u001b[39m functools\u001b[39m.\u001b[39;49mreduce(soma3,a,a)\n\u001b[0;32m     <a href='vscode-notebook-cell:/c%3A/Users/fnsb.DESKTOP-7T10APS/Documents/MeusProjetos/Python/NotasPessoais-Python/Notas/Pacotes/functools.ipynb#W5sZmlsZQ%3D%3D?line=9'>10</a>\u001b[0m \u001b[39mprint\u001b[39m(resultado_da_soma3)\n",
      "\u001b[1;31mTypeError\u001b[0m: soma3() missing 1 required positional argument: 'z'"
     ]
    }
   ],
   "source": [
    "#A função precisa aceitar apenas 2 argumentos.\n",
    "#No primeiro processo do loop, a função é aplicada aos itens de index 0 e 1, respectivamente.\n",
    "#Nos demais processos, a função é aplicada ao return do processo anterior e ao próximo item ainda não utilizado, até o index -1.\n",
    "\n",
    "def soma3(x,y,z):\n",
    "    return x+y+z\n",
    "\n",
    "resultado_da_soma3 = functools.reduce(soma3,a)\n",
    "\n",
    "print(resultado_da_soma3)"
   ]
  },
  {
   "cell_type": "code",
   "execution_count": 8,
   "metadata": {},
   "outputs": [
    {
     "name": "stdout",
     "output_type": "stream",
     "text": [
      "49667\n"
     ]
    }
   ],
   "source": [
    "# Usando lambda\n",
    "\n",
    "resultado_da_soma4 = functools.reduce(lambda x, y: x+y, a)\n",
    "print(resultado_da_soma4)"
   ]
  },
  {
   "cell_type": "code",
   "execution_count": 11,
   "metadata": {},
   "outputs": [
    {
     "name": "stdout",
     "output_type": "stream",
     "text": [
      "978\n"
     ]
    }
   ],
   "source": [
    "# Encontrar o maior valor\n",
    "\n",
    "resultado_maior = functools.reduce(lambda x,y: x if x>y else y, a)\n",
    "\n",
    "print(resultado_maior)"
   ]
  }
 ],
 "metadata": {
  "kernelspec": {
   "display_name": "base",
   "language": "python",
   "name": "python3"
  },
  "language_info": {
   "codemirror_mode": {
    "name": "ipython",
    "version": 3
   },
   "file_extension": ".py",
   "mimetype": "text/x-python",
   "name": "python",
   "nbconvert_exporter": "python",
   "pygments_lexer": "ipython3",
   "version": "3.9.12"
  },
  "vscode": {
   "interpreter": {
    "hash": "67555092bde78f01d62c7ad50c905647fa560d4e0d76a0ae431fa4c087689397"
   }
  }
 },
 "nbformat": 4,
 "nbformat_minor": 4
}
