{
 "cells": [
  {
   "cell_type": "markdown",
   "metadata": {},
   "source": [
    "# tqdm"
   ]
  },
  {
   "cell_type": "code",
   "execution_count": 28,
   "metadata": {},
   "outputs": [],
   "source": [
    "import pandas\n",
    "import numpy\n",
    "from time import sleep\n",
    "from tqdm import tqdm, trange"
   ]
  },
  {
   "attachments": {},
   "cell_type": "markdown",
   "metadata": {},
   "source": [
    "## Dados de Exemplo"
   ]
  },
  {
   "cell_type": "code",
   "execution_count": 29,
   "metadata": {},
   "outputs": [],
   "source": [
    "cães = numpy.random.choice(['Labrador', 'Beagle', 'Poodle'], size = 500)\n",
    "tamanho = numpy.random.randint(0,100,size = 500)\n",
    "df = pandas.DataFrame(data = numpy.array([cães,tamanho]).T, columns = ['Raça', 'Tamanho'])"
   ]
  },
  {
   "cell_type": "code",
   "execution_count": 30,
   "metadata": {},
   "outputs": [
    {
     "data": {
      "text/html": [
       "<div>\n",
       "<style scoped>\n",
       "    .dataframe tbody tr th:only-of-type {\n",
       "        vertical-align: middle;\n",
       "    }\n",
       "\n",
       "    .dataframe tbody tr th {\n",
       "        vertical-align: top;\n",
       "    }\n",
       "\n",
       "    .dataframe thead th {\n",
       "        text-align: right;\n",
       "    }\n",
       "</style>\n",
       "<table border=\"1\" class=\"dataframe\">\n",
       "  <thead>\n",
       "    <tr style=\"text-align: right;\">\n",
       "      <th></th>\n",
       "      <th>Raça</th>\n",
       "      <th>Tamanho</th>\n",
       "    </tr>\n",
       "  </thead>\n",
       "  <tbody>\n",
       "    <tr>\n",
       "      <th>0</th>\n",
       "      <td>Beagle</td>\n",
       "      <td>62</td>\n",
       "    </tr>\n",
       "    <tr>\n",
       "      <th>1</th>\n",
       "      <td>Labrador</td>\n",
       "      <td>81</td>\n",
       "    </tr>\n",
       "    <tr>\n",
       "      <th>2</th>\n",
       "      <td>Poodle</td>\n",
       "      <td>81</td>\n",
       "    </tr>\n",
       "    <tr>\n",
       "      <th>3</th>\n",
       "      <td>Beagle</td>\n",
       "      <td>43</td>\n",
       "    </tr>\n",
       "    <tr>\n",
       "      <th>4</th>\n",
       "      <td>Labrador</td>\n",
       "      <td>67</td>\n",
       "    </tr>\n",
       "  </tbody>\n",
       "</table>\n",
       "</div>"
      ],
      "text/plain": [
       "       Raça Tamanho\n",
       "0    Beagle      62\n",
       "1  Labrador      81\n",
       "2    Poodle      81\n",
       "3    Beagle      43\n",
       "4  Labrador      67"
      ]
     },
     "execution_count": 30,
     "metadata": {},
     "output_type": "execute_result"
    }
   ],
   "source": [
    "df.head()"
   ]
  },
  {
   "attachments": {},
   "cell_type": "markdown",
   "metadata": {},
   "source": [
    "## Básico"
   ]
  },
  {
   "cell_type": "code",
   "execution_count": 31,
   "metadata": {},
   "outputs": [
    {
     "name": "stderr",
     "output_type": "stream",
     "text": [
      "100%|██████████| 500/500 [00:07<00:00, 63.59it/s]\n"
     ]
    }
   ],
   "source": [
    "for cão in tqdm(cães):\n",
    "    sleep(0.00000000000001)"
   ]
  },
  {
   "cell_type": "code",
   "execution_count": 32,
   "metadata": {},
   "outputs": [
    {
     "name": "stderr",
     "output_type": "stream",
     "text": [
      "100%|██████████| 50/50 [00:05<00:00,  9.00it/s]\n"
     ]
    }
   ],
   "source": [
    "for i in trange(50):\n",
    "    sleep(0.1)"
   ]
  },
  {
   "cell_type": "code",
   "execution_count": 33,
   "metadata": {},
   "outputs": [
    {
     "name": "stderr",
     "output_type": "stream",
     "text": [
      " 67%|██████▋   | 500/750 [00:07<00:03, 63.43it/s]\n",
      "500it [00:07, 63.31it/s]                         \n"
     ]
    }
   ],
   "source": [
    "# Se o total \"esperado\" de iterações é diferente do total real, determinar o total ajuda a ver a discrepância\n",
    "\n",
    "for cão in tqdm(cães, total = 750):\n",
    "    sleep(0.00000000000001)\n",
    "\n",
    "for cão in tqdm(cães, total = 400):\n",
    "    sleep(0.00000000000001)"
   ]
  },
  {
   "cell_type": "code",
   "execution_count": 34,
   "metadata": {},
   "outputs": [
    {
     "name": "stderr",
     "output_type": "stream",
     "text": [
      "100%|██████████| 500/500 [00:07<00:00, 62.96it/s]\n"
     ]
    }
   ],
   "source": [
    "# Usando um objeto tqdm\n",
    "\n",
    "barraA = tqdm(total=500)\n",
    "\n",
    "for cão in cães:\n",
    "    sleep(0.00000000000001)\n",
    "    barraA.update(1)\n",
    "\n",
    "barraA.close()"
   ]
  },
  {
   "attachments": {},
   "cell_type": "markdown",
   "metadata": {},
   "source": [
    "## Características"
   ]
  },
  {
   "cell_type": "code",
   "execution_count": 35,
   "metadata": {},
   "outputs": [
    {
     "name": "stderr",
     "output_type": "stream",
     "text": [
      "Contador de cães: 100%|███████████████████████████████████████████████████████████████████████████████████████| 500/500 [00:08<00:00, 62.28 latidos/s]\n"
     ]
    }
   ],
   "source": [
    "# desc: descrição\n",
    "# unit: unidade\n",
    "# ncols: tamanho da barra\n",
    "# mininterval: intervalo (em segundos) entre as atualizações da barra\n",
    "\n",
    "\n",
    "for cão in tqdm(cães, desc = 'Contador de cães', unit = ' latidos', ncols = 150, mininterval = 0.01):\n",
    "    sleep(0.00000000000001)"
   ]
  },
  {
   "cell_type": "code",
   "execution_count": 36,
   "metadata": {},
   "outputs": [
    {
     "name": "stderr",
     "output_type": "stream",
     "text": [
      "Processando Poodle: 100%|██████████| 10/10 [00:05<00:00,  1.97it/s] \n"
     ]
    }
   ],
   "source": [
    "# Descrição dinâmica\n",
    "\n",
    "barraA = tqdm(cães[:10])\n",
    "\n",
    "for cão in barraA:\n",
    "    sleep(0.5)\n",
    "    barraA.set_description(f'Processando {cão}')"
   ]
  },
  {
   "cell_type": "code",
   "execution_count": 37,
   "metadata": {},
   "outputs": [
    {
     "name": "stderr",
     "output_type": "stream",
     "text": [
      "100%|██████████| 500/500 [00:07<00:00, 63.49it/s]\n"
     ]
    }
   ],
   "source": [
    "# Grantindo a barra apenas quando estiver no modo debug\n",
    "\n",
    "Debug = True\n",
    "\n",
    "for cão in tqdm(cães, disable = not Debug):\n",
    "    sleep(0.00000000000001)"
   ]
  },
  {
   "attachments": {},
   "cell_type": "markdown",
   "metadata": {},
   "source": [
    "## Barra de progresso aninhada"
   ]
  },
  {
   "cell_type": "code",
   "execution_count": 38,
   "metadata": {},
   "outputs": [
    {
     "name": "stderr",
     "output_type": "stream",
     "text": [
      "100%|██████████| 3/3 [00:00<00:00,  8.79it/s]\n",
      "100%|██████████| 3/3 [00:00<00:00,  8.94it/s]\n",
      "100%|██████████| 3/3 [00:00<00:00,  8.91it/s]\n",
      "100%|██████████| 3/3 [00:00<00:00,  8.91it/s]\n",
      "100%|██████████| 3/3 [00:00<00:00,  8.84it/s]\n",
      "100%|██████████| 5/5 [00:01<00:00,  2.83it/s]\n"
     ]
    }
   ],
   "source": [
    "for cão in tqdm(cães[:5], total = 5):\n",
    "    for t in tqdm(tamanho[:3], total = 3):\n",
    "        sleep(0.1)"
   ]
  },
  {
   "attachments": {},
   "cell_type": "markdown",
   "metadata": {},
   "source": [
    "## TQDM + Pandas"
   ]
  },
  {
   "cell_type": "code",
   "execution_count": 39,
   "metadata": {},
   "outputs": [
    {
     "name": "stderr",
     "output_type": "stream",
     "text": [
      "Barra de cães.: 100%|██████████| 500/500 [00:00<00:00, 27795.26it/s]\n"
     ]
    },
    {
     "data": {
      "text/plain": [
       "0      3844.0\n",
       "1      6561.0\n",
       "2      6561.0\n",
       "3      1849.0\n",
       "4      4489.0\n",
       "        ...  \n",
       "495     529.0\n",
       "496    4356.0\n",
       "497    4356.0\n",
       "498    5776.0\n",
       "499    2704.0\n",
       "Length: 500, dtype: float64"
      ]
     },
     "execution_count": 39,
     "metadata": {},
     "output_type": "execute_result"
    }
   ],
   "source": [
    "tqdm.pandas(desc = 'Barra de cães.')\n",
    "\n",
    "df.progress_apply(lambda row: float(row['Tamanho'])**2, axis = 1)"
   ]
  },
  {
   "attachments": {},
   "cell_type": "markdown",
   "metadata": {},
   "source": [
    "## TQDM no Notebook"
   ]
  },
  {
   "cell_type": "code",
   "execution_count": 41,
   "metadata": {},
   "outputs": [],
   "source": [
    "from tqdm.notebook import tqdm"
   ]
  },
  {
   "cell_type": "code",
   "execution_count": 47,
   "metadata": {},
   "outputs": [
    {
     "data": {
      "application/vnd.jupyter.widget-view+json": {
       "model_id": "ed4f7f11c8e543dfbd2f9fd7207847ee",
       "version_major": 2,
       "version_minor": 0
      },
      "text/plain": [
       "  0%|          | 0/500 [00:00<?, ?it/s]"
      ]
     },
     "metadata": {},
     "output_type": "display_data"
    }
   ],
   "source": [
    "for cão in tqdm(cães):\n",
    "    sleep(0.0000001)"
   ]
  },
  {
   "cell_type": "code",
   "execution_count": 45,
   "metadata": {},
   "outputs": [
    {
     "data": {
      "application/vnd.jupyter.widget-view+json": {
       "model_id": "6ae3c7b51614422f906818ac0b4da4ca",
       "version_major": 2,
       "version_minor": 0
      },
      "text/plain": [
       "  0%|          | 0/500 [00:00<?, ?it/s]"
      ]
     },
     "metadata": {},
     "output_type": "display_data"
    }
   ],
   "source": [
    "# Alerta em vermelho se o progresso for interrompido\n",
    "\n",
    "c = 0\n",
    "\n",
    "for cão in tqdm(cães):\n",
    "    sleep(0.0005)\n",
    "    if cão == 'Labrador':\n",
    "        c += 1\n",
    "    if c == 100:\n",
    "        break"
   ]
  },
  {
   "attachments": {},
   "cell_type": "markdown",
   "metadata": {},
   "source": [
    "### Automático"
   ]
  },
  {
   "attachments": {},
   "cell_type": "markdown",
   "metadata": {},
   "source": [
    "Seleciona automaticamente se o tqdm irá rodar na versão print ou na versão notebook."
   ]
  },
  {
   "cell_type": "code",
   "execution_count": 46,
   "metadata": {},
   "outputs": [],
   "source": [
    "from tqdm.auto import tqdm"
   ]
  },
  {
   "cell_type": "code",
   "execution_count": 48,
   "metadata": {},
   "outputs": [
    {
     "data": {
      "application/vnd.jupyter.widget-view+json": {
       "model_id": "59727e14328c4b65a382c2001c4151c3",
       "version_major": 2,
       "version_minor": 0
      },
      "text/plain": [
       "  0%|          | 0/500 [00:00<?, ?it/s]"
      ]
     },
     "metadata": {},
     "output_type": "display_data"
    }
   ],
   "source": [
    "for cão in tqdm(cães):\n",
    "    sleep(0.0000001)"
   ]
  }
 ],
 "metadata": {
  "kernelspec": {
   "display_name": "base",
   "language": "python",
   "name": "python3"
  },
  "language_info": {
   "codemirror_mode": {
    "name": "ipython",
    "version": 3
   },
   "file_extension": ".py",
   "mimetype": "text/x-python",
   "name": "python",
   "nbconvert_exporter": "python",
   "pygments_lexer": "ipython3",
   "version": "3.9.12"
  },
  "orig_nbformat": 4,
  "vscode": {
   "interpreter": {
    "hash": "67555092bde78f01d62c7ad50c905647fa560d4e0d76a0ae431fa4c087689397"
   }
  }
 },
 "nbformat": 4,
 "nbformat_minor": 2
}
