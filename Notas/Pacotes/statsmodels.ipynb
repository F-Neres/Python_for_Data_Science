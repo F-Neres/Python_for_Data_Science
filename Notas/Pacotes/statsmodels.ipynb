{
 "cells": [
  {
   "cell_type": "code",
   "execution_count": 1,
   "metadata": {},
   "outputs": [
    {
     "name": "stdout",
     "output_type": "stream",
     "text": [
      "Collecting statsmodels\n",
      "  Downloading statsmodels-0.13.5-cp310-cp310-win_amd64.whl (9.1 MB)\n",
      "     ---------------------------------------- 9.1/9.1 MB 12.4 MB/s eta 0:00:00\n",
      "Requirement already satisfied: pandas>=0.25 in c:\\users\\fnsb.desktop-7t10aps\\appdata\\local\\packages\\pythonsoftwarefoundation.python.3.10_qbz5n2kfra8p0\\localcache\\local-packages\\python310\\site-packages (from statsmodels) (1.5.0)\n",
      "Collecting patsy>=0.5.2\n",
      "  Downloading patsy-0.5.3-py2.py3-none-any.whl (233 kB)\n",
      "     ------------------------------------- 233.8/233.8 kB 14.9 MB/s eta 0:00:00\n",
      "Requirement already satisfied: scipy>=1.3 in c:\\users\\fnsb.desktop-7t10aps\\appdata\\local\\packages\\pythonsoftwarefoundation.python.3.10_qbz5n2kfra8p0\\localcache\\local-packages\\python310\\site-packages (from statsmodels) (1.10.0)\n",
      "Requirement already satisfied: numpy>=1.22.3 in c:\\users\\fnsb.desktop-7t10aps\\appdata\\local\\packages\\pythonsoftwarefoundation.python.3.10_qbz5n2kfra8p0\\localcache\\local-packages\\python310\\site-packages (from statsmodels) (1.24.2)\n",
      "Requirement already satisfied: packaging>=21.3 in c:\\users\\fnsb.desktop-7t10aps\\appdata\\local\\packages\\pythonsoftwarefoundation.python.3.10_qbz5n2kfra8p0\\localcache\\local-packages\\python310\\site-packages (from statsmodels) (21.3)\n",
      "Requirement already satisfied: pyparsing!=3.0.5,>=2.0.2 in c:\\users\\fnsb.desktop-7t10aps\\appdata\\local\\packages\\pythonsoftwarefoundation.python.3.10_qbz5n2kfra8p0\\localcache\\local-packages\\python310\\site-packages (from packaging>=21.3->statsmodels) (3.0.9)\n",
      "Requirement already satisfied: pytz>=2020.1 in c:\\users\\fnsb.desktop-7t10aps\\appdata\\local\\packages\\pythonsoftwarefoundation.python.3.10_qbz5n2kfra8p0\\localcache\\local-packages\\python310\\site-packages (from pandas>=0.25->statsmodels) (2022.4)\n",
      "Requirement already satisfied: python-dateutil>=2.8.1 in c:\\users\\fnsb.desktop-7t10aps\\appdata\\local\\packages\\pythonsoftwarefoundation.python.3.10_qbz5n2kfra8p0\\localcache\\local-packages\\python310\\site-packages (from pandas>=0.25->statsmodels) (2.8.2)\n",
      "Requirement already satisfied: six in c:\\users\\fnsb.desktop-7t10aps\\appdata\\local\\packages\\pythonsoftwarefoundation.python.3.10_qbz5n2kfra8p0\\localcache\\local-packages\\python310\\site-packages (from patsy>=0.5.2->statsmodels) (1.16.0)\n",
      "Installing collected packages: patsy, statsmodels\n",
      "Successfully installed patsy-0.5.3 statsmodels-0.13.5\n"
     ]
    }
   ],
   "source": [
    "!pip install statsmodels"
   ]
  },
  {
   "cell_type": "code",
   "execution_count": 3,
   "metadata": {},
   "outputs": [],
   "source": [
    "import pandas as pd\n",
    "import matplotlib.pyplot as plt\n",
    "import seaborn as sbn\n",
    "from statsmodels import api as sm"
   ]
  },
  {
   "attachments": {},
   "cell_type": "markdown",
   "metadata": {},
   "source": [
    "## Dados"
   ]
  },
  {
   "cell_type": "code",
   "execution_count": 4,
   "metadata": {},
   "outputs": [],
   "source": [
    "dados = pd.read_csv('..\\ArquivosParalelos\\imobiliario.csv')"
   ]
  },
  {
   "cell_type": "code",
   "execution_count": 5,
   "metadata": {},
   "outputs": [
    {
     "data": {
      "text/plain": [
       "(3000, 7)"
      ]
     },
     "execution_count": 5,
     "metadata": {},
     "output_type": "execute_result"
    }
   ],
   "source": [
    "dados.shape"
   ]
  },
  {
   "cell_type": "code",
   "execution_count": 6,
   "metadata": {},
   "outputs": [
    {
     "data": {
      "text/plain": [
       "<bound method DataFrame.info of       valor_aluguel  area_m2  ano_construcao  codigo_localidade  \\\n",
       "0         120.97436       35            1939                  1   \n",
       "1         436.97433      104            1939                  1   \n",
       "2         355.74360       29            1971                  2   \n",
       "3         282.92310       39            1972                  2   \n",
       "4         807.23080       97            1985                  1   \n",
       "...             ...      ...             ...                ...   \n",
       "2995      560.20514       68            1981                  2   \n",
       "2996      454.00000       56            1970                  1   \n",
       "2997      218.56410       76            1939                  1   \n",
       "2998      739.84610       49            1994                  2   \n",
       "2999      303.74360       41            1973                  1   \n",
       "\n",
       "      numero_banheiros  numero_cozinhas  codigo_bairro  \n",
       "0                    0                0           1112  \n",
       "1                    1                0           1112  \n",
       "2                    0                0           2114  \n",
       "3                    0                0           2148  \n",
       "4                    0                0           2222  \n",
       "...                ...              ...            ...  \n",
       "2995                 0                0            731  \n",
       "2996                 0                0           1712  \n",
       "2997                 0                0           1014  \n",
       "2998                 1                1           1853  \n",
       "2999                 0                0           1643  \n",
       "\n",
       "[3000 rows x 7 columns]>"
      ]
     },
     "execution_count": 6,
     "metadata": {},
     "output_type": "execute_result"
    }
   ],
   "source": [
    "dados.info"
   ]
  },
  {
   "cell_type": "code",
   "execution_count": 8,
   "metadata": {},
   "outputs": [
    {
     "data": {
      "text/plain": [
       "valor_aluguel        float64\n",
       "area_m2                int64\n",
       "ano_construcao         int64\n",
       "codigo_localidade      int64\n",
       "numero_banheiros       int64\n",
       "numero_cozinhas        int64\n",
       "codigo_bairro          int64\n",
       "dtype: object"
      ]
     },
     "execution_count": 8,
     "metadata": {},
     "output_type": "execute_result"
    }
   ],
   "source": [
    "dados.dtypes"
   ]
  },
  {
   "cell_type": "code",
   "execution_count": 9,
   "metadata": {},
   "outputs": [
    {
     "name": "stdout",
     "output_type": "stream",
     "text": [
      "<class 'pandas.core.frame.DataFrame'>\n",
      "RangeIndex: 3000 entries, 0 to 2999\n",
      "Data columns (total 7 columns):\n",
      " #   Column             Non-Null Count  Dtype  \n",
      "---  ------             --------------  -----  \n",
      " 0   valor_aluguel      3000 non-null   float64\n",
      " 1   area_m2            3000 non-null   int64  \n",
      " 2   ano_construcao     3000 non-null   int64  \n",
      " 3   codigo_localidade  3000 non-null   int64  \n",
      " 4   numero_banheiros   3000 non-null   int64  \n",
      " 5   numero_cozinhas    3000 non-null   int64  \n",
      " 6   codigo_bairro      3000 non-null   int64  \n",
      "dtypes: float64(1), int64(6)\n",
      "memory usage: 164.2 KB\n"
     ]
    }
   ],
   "source": [
    "dados.info()"
   ]
  },
  {
   "cell_type": "code",
   "execution_count": 11,
   "metadata": {},
   "outputs": [
    {
     "data": {
      "text/plain": [
       "valor_aluguel        0\n",
       "area_m2              0\n",
       "ano_construcao       0\n",
       "codigo_localidade    0\n",
       "numero_banheiros     0\n",
       "numero_cozinhas      0\n",
       "codigo_bairro        0\n",
       "dtype: int64"
      ]
     },
     "execution_count": 11,
     "metadata": {},
     "output_type": "execute_result"
    }
   ],
   "source": [
    "dados.isnull().sum()"
   ]
  },
  {
   "cell_type": "code",
   "execution_count": 12,
   "metadata": {},
   "outputs": [
    {
     "data": {
      "text/html": [
       "<div>\n",
       "<style scoped>\n",
       "    .dataframe tbody tr th:only-of-type {\n",
       "        vertical-align: middle;\n",
       "    }\n",
       "\n",
       "    .dataframe tbody tr th {\n",
       "        vertical-align: top;\n",
       "    }\n",
       "\n",
       "    .dataframe thead th {\n",
       "        text-align: right;\n",
       "    }\n",
       "</style>\n",
       "<table border=\"1\" class=\"dataframe\">\n",
       "  <thead>\n",
       "    <tr style=\"text-align: right;\">\n",
       "      <th></th>\n",
       "      <th>valor_aluguel</th>\n",
       "      <th>area_m2</th>\n",
       "      <th>ano_construcao</th>\n",
       "      <th>codigo_localidade</th>\n",
       "      <th>numero_banheiros</th>\n",
       "      <th>numero_cozinhas</th>\n",
       "      <th>codigo_bairro</th>\n",
       "    </tr>\n",
       "  </thead>\n",
       "  <tbody>\n",
       "    <tr>\n",
       "      <th>count</th>\n",
       "      <td>3000.000000</td>\n",
       "      <td>3000.000000</td>\n",
       "      <td>3000.000000</td>\n",
       "      <td>3000.000000</td>\n",
       "      <td>3000.000000</td>\n",
       "      <td>3000.000000</td>\n",
       "      <td>3000.000000</td>\n",
       "    </tr>\n",
       "    <tr>\n",
       "      <th>mean</th>\n",
       "      <td>459.643146</td>\n",
       "      <td>67.363333</td>\n",
       "      <td>1956.321333</td>\n",
       "      <td>1.441000</td>\n",
       "      <td>0.061333</td>\n",
       "      <td>0.042000</td>\n",
       "      <td>1173.798667</td>\n",
       "    </tr>\n",
       "    <tr>\n",
       "      <th>std</th>\n",
       "      <td>195.865692</td>\n",
       "      <td>23.675758</td>\n",
       "      <td>22.288136</td>\n",
       "      <td>0.545238</td>\n",
       "      <td>0.239981</td>\n",
       "      <td>0.200623</td>\n",
       "      <td>678.187690</td>\n",
       "    </tr>\n",
       "    <tr>\n",
       "      <th>min</th>\n",
       "      <td>40.512820</td>\n",
       "      <td>20.000000</td>\n",
       "      <td>1918.000000</td>\n",
       "      <td>1.000000</td>\n",
       "      <td>0.000000</td>\n",
       "      <td>0.000000</td>\n",
       "      <td>113.000000</td>\n",
       "    </tr>\n",
       "    <tr>\n",
       "      <th>25%</th>\n",
       "      <td>320.961530</td>\n",
       "      <td>51.000000</td>\n",
       "      <td>1939.000000</td>\n",
       "      <td>1.000000</td>\n",
       "      <td>0.000000</td>\n",
       "      <td>0.000000</td>\n",
       "      <td>561.750000</td>\n",
       "    </tr>\n",
       "    <tr>\n",
       "      <th>50%</th>\n",
       "      <td>426.897435</td>\n",
       "      <td>65.000000</td>\n",
       "      <td>1959.000000</td>\n",
       "      <td>1.000000</td>\n",
       "      <td>0.000000</td>\n",
       "      <td>0.000000</td>\n",
       "      <td>1025.000000</td>\n",
       "    </tr>\n",
       "    <tr>\n",
       "      <th>75%</th>\n",
       "      <td>560.282055</td>\n",
       "      <td>81.000000</td>\n",
       "      <td>1972.000000</td>\n",
       "      <td>2.000000</td>\n",
       "      <td>0.000000</td>\n",
       "      <td>0.000000</td>\n",
       "      <td>1714.000000</td>\n",
       "    </tr>\n",
       "    <tr>\n",
       "      <th>max</th>\n",
       "      <td>1843.384600</td>\n",
       "      <td>160.000000</td>\n",
       "      <td>1997.000000</td>\n",
       "      <td>3.000000</td>\n",
       "      <td>1.000000</td>\n",
       "      <td>1.000000</td>\n",
       "      <td>2529.000000</td>\n",
       "    </tr>\n",
       "  </tbody>\n",
       "</table>\n",
       "</div>"
      ],
      "text/plain": [
       "       valor_aluguel      area_m2  ano_construcao  codigo_localidade  \\\n",
       "count    3000.000000  3000.000000     3000.000000        3000.000000   \n",
       "mean      459.643146    67.363333     1956.321333           1.441000   \n",
       "std       195.865692    23.675758       22.288136           0.545238   \n",
       "min        40.512820    20.000000     1918.000000           1.000000   \n",
       "25%       320.961530    51.000000     1939.000000           1.000000   \n",
       "50%       426.897435    65.000000     1959.000000           1.000000   \n",
       "75%       560.282055    81.000000     1972.000000           2.000000   \n",
       "max      1843.384600   160.000000     1997.000000           3.000000   \n",
       "\n",
       "       numero_banheiros  numero_cozinhas  codigo_bairro  \n",
       "count       3000.000000      3000.000000    3000.000000  \n",
       "mean           0.061333         0.042000    1173.798667  \n",
       "std            0.239981         0.200623     678.187690  \n",
       "min            0.000000         0.000000     113.000000  \n",
       "25%            0.000000         0.000000     561.750000  \n",
       "50%            0.000000         0.000000    1025.000000  \n",
       "75%            0.000000         0.000000    1714.000000  \n",
       "max            1.000000         1.000000    2529.000000  "
      ]
     },
     "execution_count": 12,
     "metadata": {},
     "output_type": "execute_result"
    }
   ],
   "source": [
    "dados.describe()"
   ]
  },
  {
   "attachments": {},
   "cell_type": "markdown",
   "metadata": {},
   "source": [
    "## Problema de Negócios e Análise Explortória"
   ]
  },
  {
   "attachments": {},
   "cell_type": "markdown",
   "metadata": {},
   "source": [
    "Existe alguma relação entre a área do imóvel (em metros quadrados) e o valor do aluguel? Caso exista, como podemos mensurá-la?"
   ]
  },
  {
   "cell_type": "code",
   "execution_count": 13,
   "metadata": {},
   "outputs": [
    {
     "data": {
      "text/plain": [
       "<Axes: xlabel='valor_aluguel', ylabel='Count'>"
      ]
     },
     "execution_count": 13,
     "metadata": {},
     "output_type": "execute_result"
    },
    {
     "data": {
      "image/png": "[encoded data removed]",
      "text/plain": [
       "<Figure size 640x480 with 1 Axes>"
      ]
     },
     "metadata": {},
     "output_type": "display_data"
    }
   ],
   "source": [
    "sbn.histplot(data = dados, x = 'valor_aluguel', kde = True)"
   ]
  },
  {
   "cell_type": "code",
   "execution_count": 14,
   "metadata": {},
   "outputs": [
    {
     "data": {
      "text/html": [
       "<div>\n",
       "<style scoped>\n",
       "    .dataframe tbody tr th:only-of-type {\n",
       "        vertical-align: middle;\n",
       "    }\n",
       "\n",
       "    .dataframe tbody tr th {\n",
       "        vertical-align: top;\n",
       "    }\n",
       "\n",
       "    .dataframe thead th {\n",
       "        text-align: right;\n",
       "    }\n",
       "</style>\n",
       "<table border=\"1\" class=\"dataframe\">\n",
       "  <thead>\n",
       "    <tr style=\"text-align: right;\">\n",
       "      <th></th>\n",
       "      <th>valor_aluguel</th>\n",
       "      <th>area_m2</th>\n",
       "      <th>ano_construcao</th>\n",
       "      <th>codigo_localidade</th>\n",
       "      <th>numero_banheiros</th>\n",
       "      <th>numero_cozinhas</th>\n",
       "      <th>codigo_bairro</th>\n",
       "    </tr>\n",
       "  </thead>\n",
       "  <tbody>\n",
       "    <tr>\n",
       "      <th>valor_aluguel</th>\n",
       "      <td>1.000000</td>\n",
       "      <td>0.584878</td>\n",
       "      <td>0.139194</td>\n",
       "      <td>0.172368</td>\n",
       "      <td>0.250261</td>\n",
       "      <td>0.170707</td>\n",
       "      <td>-0.020846</td>\n",
       "    </tr>\n",
       "    <tr>\n",
       "      <th>area_m2</th>\n",
       "      <td>0.584878</td>\n",
       "      <td>1.000000</td>\n",
       "      <td>-0.226581</td>\n",
       "      <td>0.110046</td>\n",
       "      <td>0.226306</td>\n",
       "      <td>0.045716</td>\n",
       "      <td>-0.089050</td>\n",
       "    </tr>\n",
       "    <tr>\n",
       "      <th>ano_construcao</th>\n",
       "      <td>0.139194</td>\n",
       "      <td>-0.226581</td>\n",
       "      <td>1.000000</td>\n",
       "      <td>-0.152206</td>\n",
       "      <td>0.065824</td>\n",
       "      <td>0.109881</td>\n",
       "      <td>0.327983</td>\n",
       "    </tr>\n",
       "    <tr>\n",
       "      <th>codigo_localidade</th>\n",
       "      <td>0.172368</td>\n",
       "      <td>0.110046</td>\n",
       "      <td>-0.152206</td>\n",
       "      <td>1.000000</td>\n",
       "      <td>0.037858</td>\n",
       "      <td>-0.004774</td>\n",
       "      <td>-0.282528</td>\n",
       "    </tr>\n",
       "    <tr>\n",
       "      <th>numero_banheiros</th>\n",
       "      <td>0.250261</td>\n",
       "      <td>0.226306</td>\n",
       "      <td>0.065824</td>\n",
       "      <td>0.037858</td>\n",
       "      <td>1.000000</td>\n",
       "      <td>0.064216</td>\n",
       "      <td>0.043600</td>\n",
       "    </tr>\n",
       "    <tr>\n",
       "      <th>numero_cozinhas</th>\n",
       "      <td>0.170707</td>\n",
       "      <td>0.045716</td>\n",
       "      <td>0.109881</td>\n",
       "      <td>-0.004774</td>\n",
       "      <td>0.064216</td>\n",
       "      <td>1.000000</td>\n",
       "      <td>0.029495</td>\n",
       "    </tr>\n",
       "    <tr>\n",
       "      <th>codigo_bairro</th>\n",
       "      <td>-0.020846</td>\n",
       "      <td>-0.089050</td>\n",
       "      <td>0.327983</td>\n",
       "      <td>-0.282528</td>\n",
       "      <td>0.043600</td>\n",
       "      <td>0.029495</td>\n",
       "      <td>1.000000</td>\n",
       "    </tr>\n",
       "  </tbody>\n",
       "</table>\n",
       "</div>"
      ],
      "text/plain": [
       "                   valor_aluguel   area_m2  ano_construcao  codigo_localidade  \\\n",
       "valor_aluguel           1.000000  0.584878        0.139194           0.172368   \n",
       "area_m2                 0.584878  1.000000       -0.226581           0.110046   \n",
       "ano_construcao          0.139194 -0.226581        1.000000          -0.152206   \n",
       "codigo_localidade       0.172368  0.110046       -0.152206           1.000000   \n",
       "numero_banheiros        0.250261  0.226306        0.065824           0.037858   \n",
       "numero_cozinhas         0.170707  0.045716        0.109881          -0.004774   \n",
       "codigo_bairro          -0.020846 -0.089050        0.327983          -0.282528   \n",
       "\n",
       "                   numero_banheiros  numero_cozinhas  codigo_bairro  \n",
       "valor_aluguel              0.250261         0.170707      -0.020846  \n",
       "area_m2                    0.226306         0.045716      -0.089050  \n",
       "ano_construcao             0.065824         0.109881       0.327983  \n",
       "codigo_localidade          0.037858        -0.004774      -0.282528  \n",
       "numero_banheiros           1.000000         0.064216       0.043600  \n",
       "numero_cozinhas            0.064216         1.000000       0.029495  \n",
       "codigo_bairro              0.043600         0.029495       1.000000  "
      ]
     },
     "execution_count": 14,
     "metadata": {},
     "output_type": "execute_result"
    }
   ],
   "source": [
    "dados.corr()"
   ]
  }
 ],
 "metadata": {
  "kernelspec": {
   "display_name": "Python 3",
   "language": "python",
   "name": "python3"
  },
  "language_info": {
   "codemirror_mode": {
    "name": "ipython",
    "version": 3
   },
   "file_extension": ".py",
   "mimetype": "text/x-python",
   "name": "python",
   "nbconvert_exporter": "python",
   "pygments_lexer": "ipython3",
   "version": "3.10.11"
  },
  "orig_nbformat": 4
 },
 "nbformat": 4,
 "nbformat_minor": 2
}
