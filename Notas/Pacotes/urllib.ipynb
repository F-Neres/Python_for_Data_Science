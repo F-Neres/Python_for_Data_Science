{
 "cells": [
  {
   "cell_type": "code",
   "execution_count": 2,
   "metadata": {},
   "outputs": [],
   "source": [
    "from urllib.request import urlopen\n",
    "import json\n",
    "\n",
    "from pprint import pprint"
   ]
  },
  {
   "attachments": {},
   "cell_type": "markdown",
   "metadata": {},
   "source": [
    "# Acessando um site"
   ]
  },
  {
   "cell_type": "code",
   "execution_count": 15,
   "metadata": {},
   "outputs": [
    {
     "name": "stdout",
     "output_type": "stream",
     "text": [
      "<class 'http.client.HTTPResponse'>\n"
     ]
    }
   ],
   "source": [
    "resposta = urlopen('http://python.org')\n",
    "\n",
    "print(type(resposta))"
   ]
  },
  {
   "cell_type": "code",
   "execution_count": 14,
   "metadata": {},
   "outputs": [
    {
     "name": "stdout",
     "output_type": "stream",
     "text": [
      "b''\n"
     ]
    }
   ],
   "source": [
    "# Código html da página\n",
    "\n",
    "\n",
    "\n",
    "print(resposta.read())"
   ]
  },
  {
   "attachments": {},
   "cell_type": "markdown",
   "metadata": {},
   "source": [
    "# Baixando arquivo json de uma API"
   ]
  },
  {
   "cell_type": "code",
   "execution_count": 6,
   "metadata": {},
   "outputs": [
    {
     "name": "stdout",
     "output_type": "stream",
     "text": [
      "[{\"id\":57733101,\"title\":\"The Good Man trailer\",\"description\":\"Trailer for the Manifesto Films production, The Good Man, now available in UK\\/Ireland\\/US\\/Canada\\/Australia\\/New Zealand on iTunes (https:\\/\\/itunes.apple.com\\/us\\/movie\\/the-good-man\\/id873130906) and DVD (http:\\/\\/www.amazon.co.uk\\/The-Good-Man-Aiden-Gillen\\/dp\\/B00IIK6CGU\\/). Co-production with Jet Black Entertainment (South Africa). Starring Aidan Gillen, Thabang Sidloyi, Kelly Campbell, Lunathi Mampofu. Written & directed by Phil Harrison. More info at www.thegoodmanfilm.com<br \\/>\\r\\n<br \\/>\\r\\nCheck out the Variety Magazine review here: http:\\/\\/www.variety.com\\/review\\/VE1117947909\\/\",\"url\":\"https:\\/\\/vimeo.com\\/57733101\",\"upload_date\":\"2013-01-19 04:01:15\",\"thumbnail_small\":\"http:\\/\\/i.vimeocdn.com\\/video\\/436057121-e828a1f5478ec0136e957753d107f2a1268c64def9b82faac37c8e30c031cff2-d_100x75\",\"thumbnail_medium\":\"http:\\/\\/i.vimeocdn.com\\/video\\/436057121-e828a1f5478ec0136e957753d107f2a1268c64def9b82faac37c8e30c031cff2-d_200x150\",\"thumbnail_large\":\"http:\\/\\/i.vimeocdn.com\\/video\\/436057121-e828a1f5478ec0136e957753d107f2a1268c64def9b82faac37c8e30c031cff2-d_640\",\"user_id\":1334563,\"user_name\":\"Manifesto Films\",\"user_url\":\"https:\\/\\/vimeo.com\\/manifestofilms\",\"user_portrait_small\":\"http:\\/\\/i.vimeocdn.com\\/portrait\\/4778306_30x30\",\"user_portrait_medium\":\"http:\\/\\/i.vimeocdn.com\\/portrait\\/4778306_75x75\",\"user_portrait_large\":\"http:\\/\\/i.vimeocdn.com\\/portrait\\/4778306_100x100\",\"user_portrait_huge\":\"http:\\/\\/i.vimeocdn.com\\/portrait\\/4778306_300x300\",\"stats_number_of_likes\":17,\"stats_number_of_plays\":6558,\"stats_number_of_comments\":0,\"duration\":143,\"width\":1024,\"height\":576,\"tags\":\"belfast, cape town, africa, ireland, film\",\"embed_privacy\":\"anywhere\"}]\n"
     ]
    }
   ],
   "source": [
    "response = urlopen('http://vimeo.com/api/v2/video/57733101.json').read().decode('utf8')\n",
    "print(response)"
   ]
  },
  {
   "cell_type": "code",
   "execution_count": 10,
   "metadata": {},
   "outputs": [
    {
     "name": "stdout",
     "output_type": "stream",
     "text": [
      "[{'description': 'Trailer for the Manifesto Films production, The Good Man, '\n",
      "                 'now available in UK/Ireland/US/Canada/Australia/New Zealand '\n",
      "                 'on iTunes '\n",
      "                 '(https://itunes.apple.com/us/movie/the-good-man/id873130906) '\n",
      "                 'and DVD '\n",
      "                 '(http://www.amazon.co.uk/The-Good-Man-Aiden-Gillen/dp/B00IIK6CGU/). '\n",
      "                 'Co-production with Jet Black Entertainment (South Africa). '\n",
      "                 'Starring Aidan Gillen, Thabang Sidloyi, Kelly Campbell, '\n",
      "                 'Lunathi Mampofu. Written & directed by Phil Harrison. More '\n",
      "                 'info at www.thegoodmanfilm.com<br />\\r\\n'\n",
      "                 '<br />\\r\\n'\n",
      "                 'Check out the Variety Magazine review here: '\n",
      "                 'http://www.variety.com/review/VE1117947909/',\n",
      "  'duration': 143,\n",
      "  'embed_privacy': 'anywhere',\n",
      "  'height': 576,\n",
      "  'id': 57733101,\n",
      "  'stats_number_of_comments': 0,\n",
      "  'stats_number_of_likes': 17,\n",
      "  'stats_number_of_plays': 6558,\n",
      "  'tags': 'belfast, cape town, africa, ireland, film',\n",
      "  'thumbnail_large': 'http://i.vimeocdn.com/video/436057121-e828a1f5478ec0136e957753d107f2a1268c64def9b82faac37c8e30c031cff2-d_640',\n",
      "  'thumbnail_medium': 'http://i.vimeocdn.com/video/436057121-e828a1f5478ec0136e957753d107f2a1268c64def9b82faac37c8e30c031cff2-d_200x150',\n",
      "  'thumbnail_small': 'http://i.vimeocdn.com/video/436057121-e828a1f5478ec0136e957753d107f2a1268c64def9b82faac37c8e30c031cff2-d_100x75',\n",
      "  'title': 'The Good Man trailer',\n",
      "  'upload_date': '2013-01-19 04:01:15',\n",
      "  'url': 'https://vimeo.com/57733101',\n",
      "  'user_id': 1334563,\n",
      "  'user_name': 'Manifesto Films',\n",
      "  'user_portrait_huge': 'http://i.vimeocdn.com/portrait/4778306_300x300',\n",
      "  'user_portrait_large': 'http://i.vimeocdn.com/portrait/4778306_100x100',\n",
      "  'user_portrait_medium': 'http://i.vimeocdn.com/portrait/4778306_75x75',\n",
      "  'user_portrait_small': 'http://i.vimeocdn.com/portrait/4778306_30x30',\n",
      "  'user_url': 'https://vimeo.com/manifestofilms',\n",
      "  'width': 1024}]\n"
     ]
    }
   ],
   "source": [
    "dados = json.loads(response)\n",
    "pprint(dados)"
   ]
  }
 ],
 "metadata": {
  "kernelspec": {
   "display_name": "base",
   "language": "python",
   "name": "python3"
  },
  "language_info": {
   "codemirror_mode": {
    "name": "ipython",
    "version": 3
   },
   "file_extension": ".py",
   "mimetype": "text/x-python",
   "name": "python",
   "nbconvert_exporter": "python",
   "pygments_lexer": "ipython3",
   "version": "3.9.12"
  },
  "vscode": {
   "interpreter": {
    "hash": "67555092bde78f01d62c7ad50c905647fa560d4e0d76a0ae431fa4c087689397"
   }
  }
 },
 "nbformat": 4,
 "nbformat_minor": 4
}
