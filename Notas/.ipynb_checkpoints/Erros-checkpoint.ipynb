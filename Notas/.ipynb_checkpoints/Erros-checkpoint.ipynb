{
 "cells": [
  {
   "cell_type": "markdown",
   "id": "a5a5ae13",
   "metadata": {},
   "source": [
    "Este será um compilado sobre como lidar com erros esperados e usá-los como parte da lógica do algoritmo."
   ]
  },
  {
   "cell_type": "markdown",
   "id": "6ade59a7",
   "metadata": {},
   "source": [
    "## Verificação de existência"
   ]
  },
  {
   "cell_type": "code",
   "execution_count": 8,
   "id": "e8b518ff",
   "metadata": {},
   "outputs": [
    {
     "ename": "NameError",
     "evalue": "name 'bbb' is not defined",
     "output_type": "error",
     "traceback": [
      "\u001b[1;31m---------------------------------------------------------------------------\u001b[0m",
      "\u001b[1;31mNameError\u001b[0m                                 Traceback (most recent call last)",
      "\u001b[1;32m<ipython-input-8-3ef326d4df63>\u001b[0m in \u001b[0;36m<module>\u001b[1;34m\u001b[0m\n\u001b[0;32m      9\u001b[0m     \u001b[0mprint\u001b[0m\u001b[1;33m(\u001b[0m\u001b[0mresult\u001b[0m\u001b[1;33m)\u001b[0m\u001b[1;33m\u001b[0m\u001b[1;33m\u001b[0m\u001b[0m\n\u001b[0;32m     10\u001b[0m \u001b[1;33m\u001b[0m\u001b[0m\n\u001b[1;32m---> 11\u001b[1;33m \u001b[0mverex\u001b[0m\u001b[1;33m(\u001b[0m\u001b[0mbbb\u001b[0m\u001b[1;33m)\u001b[0m\u001b[1;33m\u001b[0m\u001b[1;33m\u001b[0m\u001b[0m\n\u001b[0m\u001b[0;32m     12\u001b[0m \u001b[1;33m\u001b[0m\u001b[0m\n\u001b[0;32m     13\u001b[0m \u001b[1;31m#Não parece funcionar como função porque o erro ocorre no chamado da função, não dentro dela.\u001b[0m\u001b[1;33m\u001b[0m\u001b[1;33m\u001b[0m\u001b[1;33m\u001b[0m\u001b[0m\n",
      "\u001b[1;31mNameError\u001b[0m: name 'bbb' is not defined"
     ]
    }
   ],
   "source": [
    "def verex(obj):\n",
    "    try:\n",
    "        obj\n",
    "    except NameError:\n",
    "        result = 'Objeto não encontrado.'\n",
    "        None\n",
    "    else:\n",
    "        result = r'Objeto encontrado.\\n{obj}'\n",
    "    print(result)\n",
    "\n",
    "verex(bbb)\n",
    "\n",
    "#Não parece funcionar como função porque o erro ocorre no chamado da função, não dentro dela."
   ]
  },
  {
   "cell_type": "code",
   "execution_count": 6,
   "id": "e3241993",
   "metadata": {},
   "outputs": [
    {
     "name": "stdout",
     "output_type": "stream",
     "text": [
      "Objeto não encontrado.\n",
      "\n",
      "Objeto encontrado.\n",
      "Objeto aqui.\n"
     ]
    }
   ],
   "source": [
    "a = 'Objeto aqui.'\n",
    "\n",
    "try: #tente\n",
    "    b #chamar o objeto \"bbb\"\n",
    "except NameError: #se o objeto não foi determinado\n",
    "    print('Objeto não encontrado.')\n",
    "    None #Nada acontece\n",
    "else: #caso contrário\n",
    "    print(f'Objeto encontrado.\\n{b}')\n",
    "\n",
    "print('')\n",
    "\n",
    "try: #tente\n",
    "    a #chamar o objeto \"bbb\"\n",
    "except NameError: #se o objeto não foi determinado\n",
    "    print('Objeto não encontrado.')\n",
    "    None #Nada acontece\n",
    "else: #caso contrário\n",
    "    print(f'Objeto encontrado:\\n{a}')"
   ]
  },
  {
   "cell_type": "code",
   "execution_count": null,
   "id": "95b69904",
   "metadata": {},
   "outputs": [],
   "source": []
  }
 ],
 "metadata": {
  "kernelspec": {
   "display_name": "Python 3",
   "language": "python",
   "name": "python3"
  },
  "language_info": {
   "codemirror_mode": {
    "name": "ipython",
    "version": 3
   },
   "file_extension": ".py",
   "mimetype": "text/x-python",
   "name": "python",
   "nbconvert_exporter": "python",
   "pygments_lexer": "ipython3",
   "version": "3.8.8"
  }
 },
 "nbformat": 4,
 "nbformat_minor": 5
}
