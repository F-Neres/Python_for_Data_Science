{
 "cells": [
  {
   "cell_type": "markdown",
   "metadata": {},
   "source": [
    "Exige que o usuário, não o programador, preencha a variável."
   ]
  },
  {
   "cell_type": "code",
   "execution_count": null,
   "metadata": {},
   "outputs": [],
   "source": [
    "#O comando pode ser acompanhado de uma mensagem.\n",
    "\n",
    "variável = input(\"Informe um número. Nós o dividiremos por 2\")\n",
    "print(float(variável)/2)"
   ]
  },
  {
   "cell_type": "code",
   "execution_count": null,
   "metadata": {},
   "outputs": [],
   "source": [
    "#Todo input é string por padrão, mesmo que contenha apenas números.\n",
    "# Mas é possível alterar a variável quando for utilizada ou assim que for armazenada.\n",
    "\n",
    "idade = int(input(\"Informe a sua idade: \"))\n",
    "if idade < 18:\n",
    "    print('Não autorizado.')\n",
    "else:\n",
    "    print('Autorizado.')"
   ]
  },
  {
   "cell_type": "code",
   "execution_count": null,
   "metadata": {},
   "outputs": [],
   "source": [
    "while True: #enquanto (o loop) for verdadeiro:\n",
    "    try: # Tente:\n",
    "        idade = int(input(\"Por favor, insira a sua idade: \")) # ...converter o input em número inteiro.\n",
    "    except ValueError: # Se der erro:\n",
    "        print(\"Perdão, mas não consegui entender que número é esse.\")\n",
    "        continue # ...continue tentando (retome o loop).\n",
    "    if idade < 0:\n",
    "        print('Não entendo como uma pessoa pode ter idade negativa. Vamos tentar novamente... ')\n",
    "    else: #Se não:\n",
    "        break # ...quebre o loop.\n",
    "\n",
    "if idade < 18:\n",
    "    print('Não autorizado.')\n",
    "else:\n",
    "    print('Autorizado.')"
   ]
  },
  {
   "cell_type": "code",
   "execution_count": 35,
   "metadata": {},
   "outputs": [
    {
     "ename": "SyntaxError",
     "evalue": "invalid syntax (<ipython-input-35-c19b241e971d>, line 4)",
     "output_type": "error",
     "traceback": [
      "\u001b[1;36m  File \u001b[1;32m\"<ipython-input-35-c19b241e971d>\"\u001b[1;36m, line \u001b[1;32m4\u001b[0m\n\u001b[1;33m    tipo1 = <class '(input(\"Escolha um dos seguintes tipos:\\n[1] int\\n[2] float\\n[3] string\\n\"))>\u001b[0m\n\u001b[1;37m            ^\u001b[0m\n\u001b[1;31mSyntaxError\u001b[0m\u001b[1;31m:\u001b[0m invalid syntax\n"
     ]
    }
   ],
   "source": [
    "#***\n",
    "\n",
    "#Pedindo para o usuário definir um tipo de variável e utilizando-a no código.\n",
    "#Ao invés de dar opções e traduzi-la num tipo, o texto inserido por si só é um tipo utilizável.\n",
    "\n",
    "tipo1 = <class '(input(\"Escolha um dos seguintes tipos:\\n[1] int\\n[2] float\\n[3] string\\n\"))>\n",
    "numero = tipo1(input(\"Escolha um número:\\n\"))\n",
    "print(numero)\n",
    "print(type(numero))\n",
    "print(type(tipo1))"
   ]
  },
  {
   "cell_type": "code",
   "execution_count": 9,
   "metadata": {},
   "outputs": [
    {
     "name": "stdout",
     "output_type": "stream",
     "text": [
      "<class 'type'>\n"
     ]
    }
   ],
   "source": [
    "#O tipo do tipo de uma variável\n",
    "\n",
    "print(type(type(3)))"
   ]
  },
  {
   "cell_type": "code",
   "execution_count": 33,
   "metadata": {},
   "outputs": [
    {
     "name": "stdout",
     "output_type": "stream",
     "text": [
      "<\n"
     ]
    }
   ],
   "source": [
    "strtype = str(type(3))\n",
    "print (strtype[0])"
   ]
  },
  {
   "cell_type": "code",
   "execution_count": null,
   "metadata": {},
   "outputs": [],
   "source": []
  },
  {
   "cell_type": "code",
   "execution_count": null,
   "metadata": {},
   "outputs": [],
   "source": [
    "# ***\n",
    "import numpy as np\n",
    "# String condicional\n",
    "\n",
    "\n",
    "min_ = int(input(\"Digite o limite inferior: \"))\n",
    "max_ = int(input(\"Digite o limite superior: \"))\n",
    "range_ = np.array(range(max_ - min_)) + min_\n",
    "\n",
    "template = \"Você criou {0.start} and {0.stop}.\"\n",
    "print(template.format(range_))"
   ]
  }
 ],
 "metadata": {
  "kernelspec": {
   "display_name": "Python 3",
   "language": "python",
   "name": "python3"
  },
  "language_info": {
   "codemirror_mode": {
    "name": "ipython",
    "version": 3
   },
   "file_extension": ".py",
   "mimetype": "text/x-python",
   "name": "python",
   "nbconvert_exporter": "python",
   "pygments_lexer": "ipython3",
   "version": "3.8.3"
  }
 },
 "nbformat": 4,
 "nbformat_minor": 4
}
