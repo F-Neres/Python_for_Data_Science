{
 "cells": [
  {
   "cell_type": "code",
   "execution_count": 6,
   "metadata": {},
   "outputs": [
    {
     "name": "stdout",
     "output_type": "stream",
     "text": [
      "['A de copas', 'A de espadas', 'A de ouro', 'A de paus', '2 de copas', '2 de espadas', '2 de ouro', '2 de paus', '3 de copas', '3 de espadas', '3 de ouro', '3 de paus', '4 de copas', '4 de espadas', '4 de ouro', '4 de paus', '5 de copas', '5 de espadas', '5 de ouro', '5 de paus', '6 de copas', '6 de espadas', '6 de ouro', '6 de paus', '7 de copas', '7 de espadas', '7 de ouro', '7 de paus', '8 de copas', '8 de espadas', '8 de ouro', '8 de paus', '9 de copas', '9 de espadas', '9 de ouro', '9 de paus', '10 de copas', '10 de espadas', '10 de ouro', '10 de paus', 'J de copas', 'J de espadas', 'J de ouro', 'J de paus', 'Q de copas', 'Q de espadas', 'Q de ouro', 'Q de paus', 'K de copas', 'K de espadas', 'K de ouro', 'K de paus']\n",
      "\n",
      "{'A de copas': {}, 'A de espadas': {}, 'A de ouro': {}, 'A de paus': {}, '2 de copas': {}, '2 de espadas': {}, '2 de ouro': {}, '2 de paus': {}, '3 de copas': {}, '3 de espadas': {}, '3 de ouro': {}, '3 de paus': {}, '4 de copas': {}, '4 de espadas': {}, '4 de ouro': {}, '4 de paus': {}, '5 de copas': {}, '5 de espadas': {}, '5 de ouro': {}, '5 de paus': {}, '6 de copas': {}, '6 de espadas': {}, '6 de ouro': {}, '6 de paus': {}, '7 de copas': {}, '7 de espadas': {}, '7 de ouro': {}, '7 de paus': {}, '8 de copas': {}, '8 de espadas': {}, '8 de ouro': {}, '8 de paus': {}, '9 de copas': {}, '9 de espadas': {}, '9 de ouro': {}, '9 de paus': {}, '10 de copas': {}, '10 de espadas': {}, '10 de ouro': {}, '10 de paus': {}, 'J de copas': {}, 'J de espadas': {}, 'J de ouro': {}, 'J de paus': {}, 'Q de copas': {}, 'Q de espadas': {}, 'Q de ouro': {}, 'Q de paus': {}, 'K de copas': {}, 'K de espadas': {}, 'K de ouro': {}, 'K de paus': {}}\n",
      "\n",
      "{'A de copas': {'valor': 'A', 'naipe': 'copas'}, 'A de espadas': {'valor': 'A', 'naipe': 'espadas'}, 'A de ouro': {'valor': 'A', 'naipe': 'ouro'}, 'A de paus': {'valor': 'A', 'naipe': 'paus'}, '2 de copas': {'valor': 2, 'naipe': 'copas'}, '2 de espadas': {'valor': 2, 'naipe': 'espadas'}, '2 de ouro': {'valor': 2, 'naipe': 'ouro'}, '2 de paus': {'valor': 2, 'naipe': 'paus'}, '3 de copas': {'valor': 3, 'naipe': 'copas'}, '3 de espadas': {'valor': 3, 'naipe': 'espadas'}, '3 de ouro': {'valor': 3, 'naipe': 'ouro'}, '3 de paus': {'valor': 3, 'naipe': 'paus'}, '4 de copas': {'valor': 4, 'naipe': 'copas'}, '4 de espadas': {'valor': 4, 'naipe': 'espadas'}, '4 de ouro': {'valor': 4, 'naipe': 'ouro'}, '4 de paus': {'valor': 4, 'naipe': 'paus'}, '5 de copas': {'valor': 5, 'naipe': 'copas'}, '5 de espadas': {'valor': 5, 'naipe': 'espadas'}, '5 de ouro': {'valor': 5, 'naipe': 'ouro'}, '5 de paus': {'valor': 5, 'naipe': 'paus'}, '6 de copas': {'valor': 6, 'naipe': 'copas'}, '6 de espadas': {'valor': 6, 'naipe': 'espadas'}, '6 de ouro': {'valor': 6, 'naipe': 'ouro'}, '6 de paus': {'valor': 6, 'naipe': 'paus'}, '7 de copas': {'valor': 7, 'naipe': 'copas'}, '7 de espadas': {'valor': 7, 'naipe': 'espadas'}, '7 de ouro': {'valor': 7, 'naipe': 'ouro'}, '7 de paus': {'valor': 7, 'naipe': 'paus'}, '8 de copas': {'valor': 8, 'naipe': 'copas'}, '8 de espadas': {'valor': 8, 'naipe': 'espadas'}, '8 de ouro': {'valor': 8, 'naipe': 'ouro'}, '8 de paus': {'valor': 8, 'naipe': 'paus'}, '9 de copas': {'valor': 9, 'naipe': 'copas'}, '9 de espadas': {'valor': 9, 'naipe': 'espadas'}, '9 de ouro': {'valor': 9, 'naipe': 'ouro'}, '9 de paus': {'valor': 9, 'naipe': 'paus'}, '10 de copas': {'valor': 10, 'naipe': 'copas'}, '10 de espadas': {'valor': 10, 'naipe': 'espadas'}, '10 de ouro': {'valor': 10, 'naipe': 'ouro'}, '10 de paus': {'valor': 10, 'naipe': 'paus'}, 'J de copas': {'valor': 'J', 'naipe': 'copas'}, 'J de espadas': {'valor': 'J', 'naipe': 'espadas'}, 'J de ouro': {'valor': 'J', 'naipe': 'ouro'}, 'J de paus': {'valor': 'J', 'naipe': 'paus'}, 'Q de copas': {'valor': 'Q', 'naipe': 'copas'}, 'Q de espadas': {'valor': 'Q', 'naipe': 'espadas'}, 'Q de ouro': {'valor': 'Q', 'naipe': 'ouro'}, 'Q de paus': {'valor': 'Q', 'naipe': 'paus'}, 'K de copas': {'valor': 'K', 'naipe': 'copas'}, 'K de espadas': {'valor': 'K', 'naipe': 'espadas'}, 'K de ouro': {'valor': 'K', 'naipe': 'ouro'}, 'K de paus': {'valor': 'K', 'naipe': 'paus'}}\n"
     ]
    }
   ],
   "source": [
    "# Criando o baralho\n",
    "\n",
    "Naipes = ['copas','espadas','ouro','paus']\n",
    "Valores = ['A',2,3,4,5,6,7,8,9,10,'J','Q','K']\n",
    "\n",
    "BaralhoL = []\n",
    "\n",
    "for valor in Valores:\n",
    "    for naipe in Naipes:\n",
    "        BaralhoL.append(str(valor)+' de '+naipe)\n",
    "\n",
    "print(BaralhoL)\n",
    "print('')\n",
    "\n",
    "\n",
    "Baralho = {}\n",
    "Mão ={}\n",
    "\n",
    "\n",
    "\n",
    "for carta in BaralhoL:\n",
    "    Baralho[carta] = {}\n",
    "\n",
    "print(Baralho)\n",
    "print('')\n",
    "\n",
    "for valor in Valores:\n",
    "    for naipe in Naipes:\n",
    "        Baralho[str(valor)+' de '+naipe]['valor'] = valor\n",
    "        Baralho[str(valor)+' de '+naipe]['naipe'] = naipe\n",
    "        \n",
    "print(Baralho)"
   ]
  },
  {
   "cell_type": "code",
   "execution_count": 7,
   "metadata": {},
   "outputs": [],
   "source": [
    "from random import choice\n",
    "\n",
    "\n",
    "def draw(quantidade_,fonte_,destino_):\n",
    "    if quantidade_>len(fonte_):\n",
    "        print('O número de cartas movidas não pode ser maior que o número de cartas na fonte')\n",
    "    else:\n",
    "        for i in range(quantidade_):\n",
    "            saque = choice(list(fonte_))\n",
    "            destino_[saque] = fonte_[saque]\n",
    "            del fonte_[saque]\n",
    "        "
   ]
  },
  {
   "cell_type": "code",
   "execution_count": 9,
   "metadata": {},
   "outputs": [
    {
     "name": "stdout",
     "output_type": "stream",
     "text": [
      "Quantas cartas gostaria de comprar?\n",
      "3\n",
      "dict_keys(['A de copas', 'A de espadas', 'A de ouro', '2 de copas', '2 de espadas', '2 de paus', '3 de copas', '3 de espadas', '3 de ouro', '3 de paus', '4 de copas', '4 de espadas', '4 de paus', '5 de copas', '5 de espadas', '5 de ouro', '5 de paus', '6 de copas', '6 de ouro', '7 de copas', '7 de espadas', '7 de paus', '8 de copas', '8 de espadas', '8 de ouro', '8 de paus', '9 de espadas', '9 de ouro', '10 de copas', '10 de paus', 'J de copas', 'J de espadas', 'J de ouro', 'Q de espadas', 'Q de ouro', 'Q de paus', 'K de copas', 'K de espadas', 'K de ouro', 'K de paus'])\n",
      "Cartas no baralho: 40\n",
      "\n",
      "dict_keys(['7 de ouro', '2 de ouro', 'Q de copas', '9 de paus', '10 de ouro', '9 de copas', '10 de espadas', 'J de paus', '6 de espadas', '6 de paus', '4 de ouro', 'A de paus'])\n",
      "Cartas na mão: 12\n"
     ]
    }
   ],
   "source": [
    "comprar = int(input('Quantas cartas gostaria de comprar?\\n'))\n",
    "\n",
    "draw(comprar,Baralho,Mão)\n",
    "\n",
    "print(Baralho.keys())\n",
    "print('Cartas no baralho: '+str(len(Baralho)))\n",
    "print('')\n",
    "print(Mão.keys())\n",
    "print('Cartas na mão: '+str(len(Mão)))"
   ]
  },
  {
   "cell_type": "code",
   "execution_count": null,
   "metadata": {},
   "outputs": [],
   "source": []
  }
 ],
 "metadata": {
  "kernelspec": {
   "display_name": "Python 3",
   "language": "python",
   "name": "python3"
  },
  "language_info": {
   "codemirror_mode": {
    "name": "ipython",
    "version": 3
   },
   "file_extension": ".py",
   "mimetype": "text/x-python",
   "name": "python",
   "nbconvert_exporter": "python",
   "pygments_lexer": "ipython3",
   "version": "3.8.3"
  }
 },
 "nbformat": 4,
 "nbformat_minor": 4
}
