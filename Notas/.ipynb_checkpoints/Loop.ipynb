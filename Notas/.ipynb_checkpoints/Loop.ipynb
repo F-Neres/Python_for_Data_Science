{
 "cells": [
  {
   "cell_type": "markdown",
   "metadata": {},
   "source": [
    "# For"
   ]
  },
  {
   "cell_type": "markdown",
   "metadata": {},
   "source": [
    "Loop For aplica repetição para itens.\n",
    "\n",
    "O objeto no qual o 'for' se ancora precisa ser uma coleção, como tuplas, listas, dicionários, ranges ou até mesmo strings (que têm índice)"
   ]
  },
  {
   "cell_type": "code",
   "execution_count": 1,
   "metadata": {
    "scrolled": true
   },
   "outputs": [
    {
     "name": "stdout",
     "output_type": "stream",
     "text": [
      "2\n",
      "3\n",
      "4\n",
      "5\n",
      "6\n",
      "7\n",
      "8\n",
      "9\n"
     ]
    }
   ],
   "source": [
    "#A ação 'print' é executada várias vezes, uma para cada item da lista\n",
    "# 'i' é uma variável local, e o comando 'for' automaticamente a atribui como itens dentro da coleção.\n",
    "\n",
    "tuplea = (2,3,4,5,6,7,8,9)\n",
    "for i in tuplea:\n",
    "    print(i)"
   ]
  },
  {
   "cell_type": "code",
   "execution_count": 10,
   "metadata": {
    "scrolled": false
   },
   "outputs": [
    {
     "name": "stdout",
     "output_type": "stream",
     "text": [
      "0\n",
      "1\n",
      "2\n",
      "3\n",
      "4\n"
     ]
    }
   ],
   "source": [
    "# Variáveis do tipo 'range' possuem itens buscáveis mas não descritos. É apenas o intervalo.\n",
    "# Como os itens podem ser buscados, o comando 'for' os permite serem impressos.\n",
    "\n",
    "for contador in range(0,5):\n",
    "    print(contador)"
   ]
  },
  {
   "cell_type": "code",
   "execution_count": 12,
   "metadata": {
    "scrolled": false
   },
   "outputs": [
    {
     "name": "stdout",
     "output_type": "stream",
     "text": [
      "0\n",
      "2\n",
      "4\n",
      "6\n",
      "8\n",
      "10\n",
      "12\n",
      "14\n",
      "16\n",
      "18\n",
      "20\n",
      "22\n",
      "24\n",
      "26\n",
      "28\n",
      "30\n",
      "32\n",
      "34\n",
      "36\n",
      "38\n",
      "40\n",
      "42\n",
      "44\n",
      "46\n",
      "48\n",
      "50\n"
     ]
    }
   ],
   "source": [
    "# Aplicação de condições para itens referidos na coleção.\n",
    "# Neste caso, a condição é ser número par.\n",
    "\n",
    "for a in range(0,51): #para cada item 'a' no espaço entre 0 e 101 (excluindo 101)\n",
    "    if a % 2 == 0: #se 'a'/2 tem resto igual 0\n",
    "        print(a) #imprima 'a'"
   ]
  },
  {
   "cell_type": "code",
   "execution_count": 14,
   "metadata": {
    "scrolled": false
   },
   "outputs": [
    {
     "name": "stdout",
     "output_type": "stream",
     "text": [
      "0\n",
      "3\n",
      "6\n",
      "9\n",
      "12\n",
      "15\n",
      "18\n",
      "21\n",
      "24\n",
      "27\n",
      "30\n",
      "33\n",
      "36\n",
      "39\n",
      "42\n",
      "45\n",
      "48\n",
      "51\n",
      "54\n",
      "57\n",
      "60\n"
     ]
    }
   ],
   "source": [
    "# Adendo: o 'range' permite pular números\n",
    "\n",
    "for a in range(0,61,3):\n",
    "    print(a)"
   ]
  },
  {
   "cell_type": "code",
   "execution_count": 19,
   "metadata": {
    "scrolled": true
   },
   "outputs": [
    {
     "name": "stdout",
     "output_type": "stream",
     "text": [
      "í\n",
      "í\n",
      "í\n",
      "í\n",
      "í\n",
      "í\n",
      "í\n",
      "í\n",
      "í\n",
      "í\n"
     ]
    }
   ],
   "source": [
    "# Recorrendo a cada caractere de uma string.\n",
    "\n",
    "stringa = 'É isso aí!'\n",
    "for a in stringa:\n",
    "    print(stringa[8])"
   ]
  },
  {
   "cell_type": "code",
   "execution_count": 21,
   "metadata": {},
   "outputs": [
    {
     "name": "stdout",
     "output_type": "stream",
     "text": [
      "0 0\n",
      "0 1\n",
      "0 2\n",
      "0 3\n",
      "0 4\n",
      "1 0\n",
      "1 1\n",
      "1 2\n",
      "1 3\n",
      "1 4\n",
      "2 0\n",
      "2 1\n",
      "2 2\n",
      "2 3\n",
      "2 4\n",
      "3 0\n",
      "3 1\n",
      "3 2\n",
      "3 3\n",
      "3 4\n",
      "4 0\n",
      "4 1\n",
      "4 2\n",
      "4 3\n",
      "4 4\n"
     ]
    }
   ],
   "source": [
    "# Loop aninhado\n",
    "\n",
    "for i in range(0,5):\n",
    "    for a in range(0,5):\n",
    "        print(i,a)"
   ]
  },
  {
   "cell_type": "code",
   "execution_count": 22,
   "metadata": {},
   "outputs": [
    {
     "data": {
      "text/plain": [
       "2633"
      ]
     },
     "execution_count": 22,
     "metadata": {},
     "output_type": "execute_result"
    }
   ],
   "source": [
    "# Operação utilizando loop e recursividade para somar todos os itens de uma coleção.\n",
    "#Neste caso, é preciso criar uma variável \"nula\" para utilizá-la como lugar de operação.\n",
    "\n",
    "lista = [354,654,185,2,854,584]\n",
    "\n",
    "soma = 0\n",
    "\n",
    "for a in lista:\n",
    "    soma += a\n",
    "\n",
    "soma"
   ]
  },
  {
   "cell_type": "code",
   "execution_count": 23,
   "metadata": {},
   "outputs": [
    {
     "name": "stdout",
     "output_type": "stream",
     "text": [
      "Número encontrado na lista!\n",
      "Número encontrado na lista!\n"
     ]
    }
   ],
   "source": [
    "# Pesquisando em listas\n",
    "#A ação é executada uma vez para cada item que atende os requisitos.\n",
    "listaC = [5, 6, 7, 10, 5, 50]\n",
    "\n",
    "# Loop através da lista\n",
    "for item in listaC:\n",
    "    if item == 5:\n",
    "        print(\"Número encontrado na lista!\")"
   ]
  },
  {
   "cell_type": "code",
   "execution_count": 26,
   "metadata": {
    "scrolled": true
   },
   "outputs": [
    {
     "name": "stdout",
     "output_type": "stream",
     "text": [
      "Número encontrado na lista!\n"
     ]
    }
   ],
   "source": [
    "# Loop através da lista\n",
    "# A variável 'verif' é utilizada para remover a recursividade da impressão.\n",
    "\n",
    "listaD = [5,6,7,8,9,10,5,5]\n",
    "\n",
    "verif = False\n",
    "\n",
    "for item in listaD:\n",
    "    if item == 5:\n",
    "        verif = True\n",
    "if verif == True:\n",
    "    print(\"Número encontrado na lista!\")\n",
    "else:\n",
    "    print(\"Número não encontrado na lista\")"
   ]
  },
  {
   "cell_type": "code",
   "execution_count": 27,
   "metadata": {},
   "outputs": [
    {
     "name": "stdout",
     "output_type": "stream",
     "text": [
      "k1\n",
      "k2\n",
      "k3\n"
     ]
    }
   ],
   "source": [
    "# Listando as chaves de um dicionário.\n",
    "# Os itens de um dicionário são suas chaves.\n",
    "dict = {'k1':'Python','k2':'R','k3':'Scala'}\n",
    "for item in dict:\n",
    "    print(item)"
   ]
  },
  {
   "cell_type": "code",
   "execution_count": 29,
   "metadata": {},
   "outputs": [
    {
     "name": "stdout",
     "output_type": "stream",
     "text": [
      "('k1', 'Python')\n",
      "('k2', 'R')\n",
      "('k3', 'Scala')\n"
     ]
    }
   ],
   "source": [
    "# Imprimindo chave e valor do dicionário. Usando o método items() para retornar chaves e valores como itens do dicionário\n",
    "# Não há distinção entre o que é chave e o que é valor.\n",
    "for v in dict.items():\n",
    "    print (v)"
   ]
  },
  {
   "cell_type": "code",
   "execution_count": 30,
   "metadata": {},
   "outputs": [
    {
     "name": "stdout",
     "output_type": "stream",
     "text": [
      "k1 Python\n",
      "k2 R\n",
      "k3 Scala\n"
     ]
    }
   ],
   "source": [
    "# Imprimindo chave e valor do dicionário. Usando o método items() para retornar os itens de um dicionário\n",
    "# Ordenando o objeto requerido pelo 'for', é possível distinguir entre chave e valor.\n",
    "for a,b in dict.items():\n",
    "    print (a,b)"
   ]
  },
  {
   "cell_type": "markdown",
   "metadata": {},
   "source": [
    "# While"
   ]
  },
  {
   "cell_type": "code",
   "execution_count": 9,
   "metadata": {},
   "outputs": [
    {
     "name": "stdout",
     "output_type": "stream",
     "text": [
      "0\n",
      "1\n",
      "2\n",
      "3\n",
      "4\n",
      "5\n",
      "6\n",
      "7\n",
      "8\n"
     ]
    }
   ],
   "source": [
    "# Diferentemente do loop for, o loop while não \"percorre\" os itens de uma coleção.\n",
    "# Ao invés disso, ele verifica incontáveis vezes se uma condição é verdadeira.\n",
    "# Enquanto verdadeiro, faça.\n",
    "# Ou: Se verdadeiro faça, então volte ou esqueça.\n",
    "\n",
    "counter = 0 #Variável de inicialização.\n",
    "while not counter > 8: #enquanto 'verdadeiro':\n",
    "    print(counter) # faça\n",
    "    counter += 1 #altere a verificação\n",
    "    #else: encerre"
   ]
  },
  {
   "cell_type": "markdown",
   "metadata": {},
   "source": [
    "Tome cuidado para não criar um loop infinito. Não há uma coleção com finitos elementos para interromper as repetições."
   ]
  },
  {
   "cell_type": "code",
   "execution_count": 16,
   "metadata": {},
   "outputs": [
    {
     "name": "stdout",
     "output_type": "stream",
     "text": [
      "Farei uma contagem regressiva a partir de um número. Pode escolher.\n",
      "8\n",
      "8\n",
      "O valor escolhido ainda é 8.\n",
      "7\n",
      "O valor escolhido ainda é 7.\n",
      "6\n",
      "O valor escolhido ainda é 6.\n",
      "5\n",
      "O valor escolhido ainda é 5.\n",
      "4\n",
      "O valor escolhido ainda é 4.\n",
      "3\n",
      "O valor escolhido ainda é 3.\n",
      "2\n",
      "O valor escolhido ainda é 2.\n",
      "1\n",
      "O valor escolhido ainda é 1.\n",
      "0\n",
      "Loop concluído.\n"
     ]
    }
   ],
   "source": [
    "num = int(input('Farei uma contagem regressiva a partir de um número. Pode escolher.\\n'))\n",
    "\n",
    "while num > 0:\n",
    "    print(f'{num}')\n",
    "    print(f'O valor escolhido ainda é {num}.')\n",
    "    num -= 1\n",
    "else: #Execute isso apenas quando o loop terminar\n",
    "    print(num)\n",
    "    print('Loop concluído.')"
   ]
  },
  {
   "cell_type": "markdown",
   "metadata": {},
   "source": [
    "# Excessões"
   ]
  },
  {
   "cell_type": "code",
   "execution_count": 20,
   "metadata": {},
   "outputs": [
    {
     "name": "stdout",
     "output_type": "stream",
     "text": [
      "0\n",
      "1\n",
      "2\n",
      "3\n",
      "4\n",
      "5\n",
      "6\n",
      "7\n",
      "8\n",
      "9\n",
      "10\n",
      "11\n",
      "12\n",
      "98\n",
      "99\n",
      "100\n"
     ]
    }
   ],
   "source": [
    "# O 'pass' foi usado neste exemplo para criar uma condição de não execução\n",
    "\n",
    "ali = 0\n",
    "\n",
    "while ali <101:\n",
    "    if ali>12 and ali<98:\n",
    "        pass\n",
    "    else:\n",
    "        print(ali)\n",
    "    ali += 1"
   ]
  },
  {
   "cell_type": "code",
   "execution_count": 25,
   "metadata": {},
   "outputs": [
    {
     "name": "stdout",
     "output_type": "stream",
     "text": [
      "0\n",
      "1\n",
      "2\n",
      "3\n",
      "4\n",
      "5\n",
      "6\n",
      "7\n",
      "8\n",
      "9\n",
      "10\n",
      "11\n",
      "12\n",
      "98\n",
      "99\n",
      "100\n"
     ]
    }
   ],
   "source": [
    "#É possível fazer o mesmo que na situação acima apenas invertendo os sinais, condicionando a ação (e não a excessão) e removendo o 'else'.\n",
    "\n",
    "ali = 0\n",
    "\n",
    "while ali <101:\n",
    "    if ali<=12 or ali>=98:\n",
    "        print(ali)\n",
    "    ali += 1"
   ]
  },
  {
   "cell_type": "code",
   "execution_count": 34,
   "metadata": {},
   "outputs": [
    {
     "name": "stdout",
     "output_type": "stream",
     "text": [
      "True\n",
      "[0, 1, 2, 3, 4, 5, 6, 7, 8, 9, 10, 11, 12, 98, 99, 100] [0, 1, 2, 3, 4, 5, 6, 7, 8, 9, 10, 11, 12, 98, 99, 100]\n"
     ]
    }
   ],
   "source": [
    "#Demonstração de que dá no mesmo.\n",
    "\n",
    "ali = 0\n",
    "alilist = []\n",
    "\n",
    "while ali <101:\n",
    "    if ali>12 and ali<98:\n",
    "        pass\n",
    "    else:\n",
    "        alilist.append(ali)\n",
    "    ali += 1\n",
    "\n",
    "ala = 0\n",
    "alalist = []\n",
    "\n",
    "while ala <101:\n",
    "    if ala<=12 or ala>=98:\n",
    "        alalist.append(ala)\n",
    "    ala += 1\n",
    "\n",
    "print(alalist == alilist)\n",
    "print(alilist,alalist)"
   ]
  },
  {
   "cell_type": "code",
   "execution_count": 33,
   "metadata": {},
   "outputs": [
    {
     "name": "stdout",
     "output_type": "stream",
     "text": [
      "p\n",
      "y\n",
      "t\n",
      "o\n",
      "n\n",
      "\n",
      "\n",
      "1\n",
      "2\n",
      "4\n",
      "5\n",
      "7\n",
      "8\n",
      "10\n",
      "11\n",
      "13\n",
      "14\n",
      "16\n",
      "17\n",
      "19\n"
     ]
    }
   ],
   "source": [
    "# O 'continue' permite pular execuções sem interromper o loop\n",
    "\n",
    "#pular a letra h\n",
    "for letra in 'python':\n",
    "    if letra == 'h':\n",
    "        continue\n",
    "    print(letra)\n",
    "\n",
    "print('\\n')\n",
    "\n",
    "#pular os números divisíveis por 3.\n",
    "for i in range(0,20):\n",
    "    if i%3 == 0:\n",
    "        continue\n",
    "    print(i)\n",
    "        "
   ]
  },
  {
   "cell_type": "code",
   "execution_count": 38,
   "metadata": {},
   "outputs": [
    {
     "name": "stdout",
     "output_type": "stream",
     "text": [
      "2 é um número primo\n",
      "3 é um número primo\n",
      "5 é um número primo\n",
      "7 é um número primo\n",
      "11 é um número primo\n",
      "13 é um número primo\n",
      "17 é um número primo\n",
      "19 é um número primo\n",
      "23 é um número primo\n",
      "29 é um número primo\n"
     ]
    }
   ],
   "source": [
    "# Utilização de while e for aninhados\n",
    "\n",
    "for numerador in range(2,30): #Para cada elemento testado (numerador) entre 2 e 30\n",
    "    divisor = 2 # divisor recebe o valor de 2, pois começamos os testes tentando dividir por 2\n",
    "    primalert = False # counter recebe o valor de False\n",
    "    while divisor < numerador: # enquanto divisor for menor que numerador, já que não se divide por um número maior\n",
    "        if numerador % divisor == 0: # Se o numerador é divisível pelo divisor:\n",
    "            primalert = True # atribua ao contador o valor True. O Contador é como uma chave lógica para outras funções em qualquer lugar do programa.\n",
    "            divisor = divisor + 1 # e passe para o próximo número divisor\n",
    "        else: # Caso contrário, não altere o contador para True e\n",
    "            divisor = divisor + 1 # apenas passe para o próximo divisor\n",
    "        #Retorna para o while, para comparar com o próximo divisor.\n",
    "    \n",
    "    if primalert == False: #Se a chave lógica não foi ligada nenhuma vez ao longo do loop while, ou seja, se não houve divisor para o numerador \n",
    "        print(str(numerador) + \" é um número primo\") # print(f'{numerador} é um número primo.')\n",
    "        primalert = False #Desligue a chave lógica\n",
    "    else: #Mesmo que não imprima nada, desligue a chave lógica\n",
    "        primalert = False\n",
    "    #Retorne para o for, para comparar o próximo numerador.\n",
    "\n",
    "\n",
    "### IMPORTANTE: MACETE!!! A chave lógica verifica o que não é útil.\n",
    "#Seria possível mandar imprimir penas quando um primo é detectado, o que exigiria >> numerador % divisor != 0 <<"
   ]
  },
  {
   "cell_type": "markdown",
   "metadata": {},
   "source": [
    "# Range"
   ]
  },
  {
   "cell_type": "code",
   "execution_count": 45,
   "metadata": {},
   "outputs": [
    {
     "name": "stdout",
     "output_type": "stream",
     "text": [
      "range(9, 1)\n"
     ]
    }
   ],
   "source": [
    "#O Range não pode ser impresso, mas pode ser buscado, tanto seus itens quanto o index desses itens.\n",
    "\n",
    "rangero = range(9,1)\n",
    "print(rangero)"
   ]
  },
  {
   "cell_type": "code",
   "execution_count": 50,
   "metadata": {},
   "outputs": [
    {
     "name": "stdout",
     "output_type": "stream",
     "text": [
      "0\n",
      "20\n",
      "40\n",
      "60\n",
      "80\n",
      "100\n"
     ]
    }
   ],
   "source": [
    "# De 0 a 101, de 20 em 20\n",
    "\n",
    "for ranran in range(0,101,20):\n",
    "    print(ranran)"
   ]
  },
  {
   "cell_type": "code",
   "execution_count": 51,
   "metadata": {},
   "outputs": [
    {
     "name": "stdout",
     "output_type": "stream",
     "text": [
      "10\n",
      "9\n",
      "8\n",
      "7\n",
      "6\n",
      "5\n",
      "4\n",
      "3\n",
      "2\n",
      "1\n"
     ]
    }
   ],
   "source": [
    "#Lista regressiva\n",
    "\n",
    "for yup in range(10,0,-1):\n",
    "    print(yup)"
   ]
  },
  {
   "cell_type": "code",
   "execution_count": 74,
   "metadata": {},
   "outputs": [
    {
     "name": "stdout",
     "output_type": "stream",
     "text": [
      "Insira um ou mais caracteres.\n",
      "Se quiser adicionar letra alguma, digite \"Ok-Ok\" (Sem as aspas).\n",
      "a\n",
      "Insira mais caracteres.\n",
      "Se quiser encerrar, digite \"Ok-Ok\" (Sem as aspas).\n",
      "s\n",
      "Insira mais caracteres.\n",
      "Se quiser encerrar, digite \"Ok-Ok\" (Sem as aspas).\n",
      "d\n",
      "Insira mais caracteres.\n",
      "Se quiser encerrar, digite \"Ok-Ok\" (Sem as aspas).\n",
      "Ok-Ok\n",
      "Você formou a palavra asd. Essa é uma palavra realmente estranha...\n"
     ]
    }
   ],
   "source": [
    "# Uma ideia para utilizar uma lista modular\n",
    "\n",
    "lista1 = []\n",
    "counter = 0\n",
    "\n",
    "while True:\n",
    "    if counter == 0:\n",
    "        item = input('Insira um ou mais caracteres.\\nSe quiser adicionar letra alguma, digite \"Ok-Ok\" (Sem as aspas).\\n')\n",
    "    else:\n",
    "        item = input('Insira mais caracteres.\\nSe quiser encerrar, digite \"Ok-Ok\" (Sem as aspas).\\n')\n",
    "    counter += 1\n",
    "    if item != 'Ok-Ok':\n",
    "        lista1.append(item)\n",
    "    else:\n",
    "        break\n",
    "        \n",
    "palavrestranha = ''\n",
    "\n",
    "for tumpum in range(0,len(lista1)): #Puxando cada item da lista\n",
    "    palavrestranha = palavrestranha+lista1[tumpum] #Transformando tudo numa string\n",
    "if palavrestranha == '':\n",
    "    print('Não teve muita graça.')\n",
    "else:\n",
    "    print(f'Você formou a palavra {palavrestranha}. Essa é uma palavra realmente estranha...')"
   ]
  },
  {
   "cell_type": "code",
   "execution_count": 76,
   "metadata": {},
   "outputs": [
    {
     "name": "stdout",
     "output_type": "stream",
     "text": [
      "Insira um ou mais caracteres.\n",
      "Se quiser adicionar letra alguma, digite \"Ok-Ok\" (Sem as aspas).\n",
      "a\n",
      "Insira mais caracteres.\n",
      "Se quiser encerrar, digite \"Ok-Ok\" (Sem as aspas).\n",
      "s\n",
      "Insira mais caracteres.\n",
      "Se quiser encerrar, digite \"Ok-Ok\" (Sem as aspas).\n",
      "d\n",
      "Insira mais caracteres.\n",
      "Se quiser encerrar, digite \"Ok-Ok\" (Sem as aspas).\n",
      "f\n",
      "Insira mais caracteres.\n",
      "Se quiser encerrar, digite \"Ok-Ok\" (Sem as aspas).\n",
      "Ok-Ok\n"
     ]
    },
    {
     "ename": "IndexError",
     "evalue": "list index out of range",
     "output_type": "error",
     "traceback": [
      "\u001b[1;31m---------------------------------------------------------------------------\u001b[0m",
      "\u001b[1;31mIndexError\u001b[0m                                Traceback (most recent call last)",
      "\u001b[1;32m<ipython-input-76-5efb31499894>\u001b[0m in \u001b[0;36m<module>\u001b[1;34m\u001b[0m\n\u001b[0;32m     18\u001b[0m \u001b[1;33m\u001b[0m\u001b[0m\n\u001b[0;32m     19\u001b[0m \u001b[1;32mfor\u001b[0m \u001b[0mtumpum\u001b[0m \u001b[1;32min\u001b[0m \u001b[0mrange\u001b[0m\u001b[1;33m(\u001b[0m\u001b[1;36m0\u001b[0m\u001b[1;33m,\u001b[0m\u001b[0mlen\u001b[0m\u001b[1;33m(\u001b[0m\u001b[0mlista1\u001b[0m\u001b[1;33m)\u001b[0m\u001b[1;33m)\u001b[0m\u001b[1;33m:\u001b[0m \u001b[1;31m#Puxando cada item da lista\u001b[0m\u001b[1;33m\u001b[0m\u001b[1;33m\u001b[0m\u001b[0m\n\u001b[1;32m---> 20\u001b[1;33m     \u001b[0mpalavrestranha\u001b[0m \u001b[1;33m=\u001b[0m \u001b[0mpalavrestranha\u001b[0m\u001b[1;33m+\u001b[0m\u001b[0mlista1\u001b[0m\u001b[1;33m[\u001b[0m\u001b[0mlen\u001b[0m\u001b[1;33m(\u001b[0m\u001b[0mlista1\u001b[0m\u001b[1;33m)\u001b[0m\u001b[1;33m-\u001b[0m\u001b[0mtumpum\u001b[0m\u001b[1;33m]\u001b[0m \u001b[1;31m#Transformando tudo numa string\u001b[0m\u001b[1;33m\u001b[0m\u001b[1;33m\u001b[0m\u001b[0m\n\u001b[0m\u001b[0;32m     21\u001b[0m \u001b[1;32mif\u001b[0m \u001b[0mpalavrestranha\u001b[0m \u001b[1;33m==\u001b[0m \u001b[1;34m''\u001b[0m\u001b[1;33m:\u001b[0m\u001b[1;33m\u001b[0m\u001b[1;33m\u001b[0m\u001b[0m\n\u001b[0;32m     22\u001b[0m     \u001b[0mprint\u001b[0m\u001b[1;33m(\u001b[0m\u001b[1;34m'Não teve muita graça.'\u001b[0m\u001b[1;33m)\u001b[0m\u001b[1;33m\u001b[0m\u001b[1;33m\u001b[0m\u001b[0m\n",
      "\u001b[1;31mIndexError\u001b[0m: list index out of range"
     ]
    }
   ],
   "source": [
    "# *** Inverter não está funcionando\n",
    "\n",
    "lista1 = []\n",
    "counter = 0\n",
    "\n",
    "while True:\n",
    "    if counter == 0:\n",
    "        item = input('Insira um ou mais caracteres.\\nSe quiser adicionar letra alguma, digite \"Ok-Ok\" (Sem as aspas).\\n')\n",
    "    else:\n",
    "        item = input('Insira mais caracteres.\\nSe quiser encerrar, digite \"Ok-Ok\" (Sem as aspas).\\n')\n",
    "    counter += 1\n",
    "    if item != 'Ok-Ok':\n",
    "        lista1.append(item)\n",
    "    else:\n",
    "        break\n",
    "        \n",
    "palavrestranha = ''\n",
    "\n",
    "for tumpum in range(0,len(lista1)): #Puxando cada item da lista\n",
    "    palavrestranha = palavrestranha+lista1[len(lista1)-tumpum] #Tentando inverter\n",
    "if palavrestranha == '':\n",
    "    print('Não teve muita graça.')\n",
    "else:\n",
    "    print(f'Você formou a palavra {palavrestranha}. Essa é uma palavra realmente estranha...')"
   ]
  },
  {
   "cell_type": "code",
   "execution_count": null,
   "metadata": {},
   "outputs": [],
   "source": []
  },
  {
   "cell_type": "code",
   "execution_count": null,
   "metadata": {},
   "outputs": [],
   "source": []
  }
 ],
 "metadata": {
  "kernelspec": {
   "display_name": "Python 3",
   "language": "python",
   "name": "python3"
  },
  "language_info": {
   "codemirror_mode": {
    "name": "ipython",
    "version": 3
   },
   "file_extension": ".py",
   "mimetype": "text/x-python",
   "name": "python",
   "nbconvert_exporter": "python",
   "pygments_lexer": "ipython3",
   "version": "3.8.3"
  }
 },
 "nbformat": 4,
 "nbformat_minor": 4
}
