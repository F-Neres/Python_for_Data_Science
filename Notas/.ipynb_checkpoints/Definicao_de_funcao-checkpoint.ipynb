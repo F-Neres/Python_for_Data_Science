{
 "cells": [
  {
   "cell_type": "code",
   "execution_count": 4,
   "metadata": {},
   "outputs": [
    {
     "name": "stdout",
     "output_type": "stream",
     "text": [
      "81\n"
     ]
    }
   ],
   "source": [
    "#Função usando função como parâmetro\n",
    "\n",
    "def quadrado(x):\n",
    "    return(x**2)\n",
    "\n",
    "def aplicador(função,parâmetro):\n",
    "    print(função(parâmetro))\n",
    "    \n",
    "aplicador(quadrado,9)"
   ]
  },
  {
   "cell_type": "code",
   "execution_count": 7,
   "metadata": {},
   "outputs": [
    {
     "name": "stdout",
     "output_type": "stream",
     "text": [
      "9\n",
      "27\n"
     ]
    }
   ],
   "source": [
    "#Lista de funções\n",
    "\n",
    "def quadrado(x):\n",
    "    return(x**2)\n",
    "\n",
    "def cubo(x):\n",
    "    return(x**3)\n",
    "\n",
    "funclist=[quadrado,cubo]\n",
    "\n",
    "def aplicador(função,parâmetro):\n",
    "    for func in função:\n",
    "        print(func(parâmetro))\n",
    "    \n",
    "aplicador(funclist,3)"
   ]
  },
  {
   "cell_type": "code",
   "execution_count": 13,
   "metadata": {},
   "outputs": [
    {
     "name": "stdout",
     "output_type": "stream",
     "text": [
      "[9, 27]\n",
      "\n",
      "[16, 125]\n",
      "\n",
      "[16, 64]\n",
      "[25, 125]\n",
      "[36, 216]\n",
      "[49, 343]\n",
      "[64, 512]\n",
      "[81, 729]\n"
     ]
    }
   ],
   "source": [
    "#Lambda como aplicador de uma lista de funções\n",
    "\n",
    "def quadrado(x):\n",
    "    return(x**2)\n",
    "\n",
    "def cubo(x):\n",
    "    return(x**3)\n",
    "\n",
    "funclist=[quadrado,cubo]\n",
    "\n",
    "#Abaixo, a variável 3 é dada.\n",
    "aplicação1 = map(lambda y: y(3), funclist)\n",
    "print(list((aplicação1)))\n",
    "\n",
    "print('')\n",
    "\n",
    "listagenérica = [4,5,6,7,8,9]\n",
    "\n",
    "#Aqui, a primeira função é aplicada ao primeiro número da listagenérica, e a segunda função ao segundo número.\n",
    "aplicação2 = map(lambda y,z: y(z), funclist,listagenérica)\n",
    "print(list((aplicação2)))\n",
    "\n",
    "print('')\n",
    "\n",
    "#Como na primeira aplicação, mas o parâmetro numérico é dado externamente pelo for, ao invés de dentro do map.\n",
    "for número in listagenérica:\n",
    "    aplicação3 = map(lambda y: y(número), funclist)\n",
    "    print(list((aplicação3)))"
   ]
  },
  {
   "cell_type": "code",
   "execution_count": null,
   "metadata": {
    "collapsed": true
   },
   "outputs": [],
   "source": []
  },
  {
   "cell_type": "code",
   "execution_count": null,
   "metadata": {},
   "outputs": [],
   "source": []
  },
  {
   "cell_type": "code",
   "execution_count": 1,
   "metadata": {},
   "outputs": [
    {
     "name": "stdout",
     "output_type": "stream",
     "text": [
      "Por favor, insira a sua idade: 1\n",
      "Não autorizado.\n"
     ]
    }
   ],
   "source": [
    "# O código abaixo é um modelo de como se pode pedir várias informações usando loop\n",
    "\n",
    "while True: #enquanto (o loop) for verdadeiro:\n",
    "    try: # Tente:\n",
    "        idade = int(input(\"Por favor, insira a sua idade: \")) # ...converter o input em número inteiro.\n",
    "    except ValueError: # Se der erro:\n",
    "        print(\"Perdão, mas não consegui entender que número é esse.\")\n",
    "        continue # ...continue tentando (retome o loop).\n",
    "    if idade < 0:\n",
    "        print('Não entendo como uma pessoa pode ter idade negativa. Vamos tentar novamente... ')\n",
    "    else: #Se não:\n",
    "        break # ...quebre o loop.\n",
    "\n",
    "if idade < 18:\n",
    "    print('Não autorizado.')\n",
    "else:\n",
    "    print('Autorizado.')"
   ]
  },
  {
   "cell_type": "code",
   "execution_count": 4,
   "metadata": {},
   "outputs": [],
   "source": [
    "# São definidos o nome da função e quais parâmetros a função utiliza\n",
    "def sanitised_input(prompt, type_=None, min_=None, max_=None, range_=None):\n",
    "    if min_ is not None and max_ is not None and max_ < min_: #Condicional verificando parâmetros.\n",
    "        raise ValueError(\"min_ must be less than or equal to max_.\") #Mensagem de erro na utilização da função.\n",
    "    while True: #Início do loop.\n",
    "        ui = input(prompt) #Variável dada pelo usuário. Mensagem é a definida no parâmetro quando usada.\n",
    "        if type_ is not None: #Só verifica se um tipo foi especificado no parâmetro.\n",
    "            try: # Utiliza-se a tentativa porque erros são previstos.\n",
    "                ui = type_(ui) #A utilizada anteriormente passa a ser ela mesma transformada no tipo dado como parâmetro.\n",
    "            except ValueError: #Se der erro...\n",
    "                print(\"Input type must be {0}.\".format(type_.__name__)) #Na mensagem há parte do texto que é modular, preenchida pelo nome do tipo dado no parâmetro.\n",
    "                continue #Retorne para o 'while true'\n",
    "        if max_ is not None and ui > max_: # Verifica se o input é maior que o máximo, mas só se o máximo é determinado.\n",
    "            print(\"Input must be less than or equal to {0}.\".format(max_)) # Essa mensagem utiliza uma variável dada no uso da função\n",
    "        elif min_ is not None and ui < min_: #Verifica se o input é menor que o mínimo, mas só se o mínimo é determinado\n",
    "            print(\"Input must be greater than or equal to {0}.\".format(min_)) # Essa mensagem utiliza uma variável dada no uso da função\n",
    "        elif range_ is not None and ui not in range_: #Verifica se o input está dentro do range, se foi designado.\n",
    "            if isinstance(range_, range): #Há dois tipos de range. Um deles é intervalo de valores - instance.\n",
    "                template = \"Input must be between {0.start} and {0.stop}.\"\n",
    "                print(template.format(range_))\n",
    "            else:\n",
    "                template = \"Input must be {0}.\"\n",
    "                if len(range_) == 1:\n",
    "                    print(template.format(*range_))\n",
    "                else:\n",
    "                    expected = \" or \".join((\n",
    "                        \", \".join(str(x) for x in range_[:-1]),\n",
    "                        str(range_[-1])\n",
    "                    ))\n",
    "                    print(template.format(expected))\n",
    "        else:\n",
    "            return ui #Deve ser para prosseguir o código considerando \n",
    "\n",
    "#Não verifica se o tipo no parâmetro é mesmo um tipo válido.\n",
    "# Suponho que o comando .format estipule o que {0} deve aparentar.\n",
    "# type.__name__ deve buscar o nome do tipo designado em \"type_\"\n",
    "# "
   ]
  },
  {
   "cell_type": "code",
   "execution_count": 10,
   "metadata": {
    "scrolled": true
   },
   "outputs": [
    {
     "name": "stdout",
     "output_type": "stream",
     "text": [
      "Enter your age: NÃO SEI\n",
      "Input type must be int.\n",
      "Enter your age: 8\n",
      "Enter your answer: C\n"
     ]
    }
   ],
   "source": [
    "age = sanitised_input(\"Enter your age: \", int, 1, 101)\n",
    "answer = sanitised_input(\"Enter your answer: \", str.lower, range_=('a', 'b', 'c', 'd'))"
   ]
  }
 ],
 "metadata": {
  "kernelspec": {
   "display_name": "Python 3",
   "language": "python",
   "name": "python3"
  },
  "language_info": {
   "codemirror_mode": {
    "name": "ipython",
    "version": 3
   },
   "file_extension": ".py",
   "mimetype": "text/x-python",
   "name": "python",
   "nbconvert_exporter": "python",
   "pygments_lexer": "ipython3",
   "version": "3.8.3"
  }
 },
 "nbformat": 4,
 "nbformat_minor": 4
}
