{
 "cells": [
  {
   "cell_type": "markdown",
   "metadata": {},
   "source": [
    "## ************ ATENÇÃO ************\n",
    "Caso você tenha problemas com acentos nos arquivos:\n",
    "\n",
    "Primeiro, recomendamos a leitura do material sobre Formato Unicode, ao final do capítulo 4.\n",
    "\n",
    "Uma forma de resolver esse problema, é abrir o arquivo em um editor de texto como o Sublime Text, clicar em File - Save with Encoding e então salvar com encoding UTF-8.\n",
    "\n",
    "Outra opção é incluir o parâmetro encoding='utf8' ao abrir o arquivo para leitura ou escrita."
   ]
  },
  {
   "cell_type": "markdown",
   "metadata": {},
   "source": [
    "### Lista de comandos"
   ]
  },
  {
   "cell_type": "code",
   "execution_count": 1,
   "metadata": {},
   "outputs": [],
   "source": [
    "# Abrir como leitura, escrever e fechar."
   ]
  },
  {
   "cell_type": "code",
   "execution_count": 2,
   "metadata": {},
   "outputs": [],
   "source": [
    "# Abrir como leitura, mover o cursos, ler e fechar."
   ]
  },
  {
   "cell_type": "code",
   "execution_count": 3,
   "metadata": {},
   "outputs": [],
   "source": [
    "# Criar/sobrescrever, escrever e fechar/salvar."
   ]
  },
  {
   "cell_type": "code",
   "execution_count": 4,
   "metadata": {},
   "outputs": [],
   "source": [
    "# Abrir como apêndice, escrever e fechar/salvar."
   ]
  },
  {
   "cell_type": "markdown",
   "metadata": {},
   "source": [
    "# Testes"
   ]
  },
  {
   "cell_type": "markdown",
   "metadata": {},
   "source": [
    "Sempre feche as variáveis de arquivo de uma célula para outra, para que um teste não interfica em outro."
   ]
  },
  {
   "cell_type": "markdown",
   "metadata": {},
   "source": [
    "Coloquei uma variável \"teste_start\" antes de cada teste para ter com o que comparar"
   ]
  },
  {
   "cell_type": "code",
   "execution_count": 5,
   "metadata": {},
   "outputs": [],
   "source": [
    "def arqstart(diretório):\n",
    "    teste_start = open(diretório,'w',encoding='utf8')\n",
    "    teste_start.write('Nenhuma modificação foi feita no arquivo.')\n",
    "    teste_start.close()\n",
    "    teste_start = open(diretório,'r',encoding='utf8')\n",
    "    print('Teste zero: '+teste_start.read()+'\\n')\n",
    "    teste_start.close()"
   ]
  },
  {
   "cell_type": "code",
   "execution_count": 6,
   "metadata": {},
   "outputs": [
    {
     "name": "stdout",
     "output_type": "stream",
     "text": [
      "Teste zero: Nenhuma modificação foi feita no arquivo.\n",
      "\n"
     ]
    }
   ],
   "source": [
    "arqstart(r'ArquivosParalelos\\Teste1.txt')"
   ]
  },
  {
   "cell_type": "markdown",
   "metadata": {},
   "source": [
    "### Extraindo um texto com .read e armazenando em uma variável."
   ]
  },
  {
   "cell_type": "code",
   "execution_count": 7,
   "metadata": {},
   "outputs": [
    {
     "name": "stdout",
     "output_type": "stream",
     "text": [
      "Teste zero: Nenhuma modificação foi feita no arquivo.\n",
      "\n",
      "<class 'str'>\n",
      "primeiro teste: Nenhuma modificação foi feita no arquivo.\n"
     ]
    }
   ],
   "source": [
    "arqstart(r'ArquivosParalelos\\Teste1.txt')\n",
    "\n",
    "teste_extract_r = open(r'ArquivosParalelos\\Teste1.txt','r',encoding='utf8')\n",
    "\n",
    "Conteúdo_do_txt = teste_extract_r.read()\n",
    "teste_extract_r.close()\n",
    "\n",
    "print(type(Conteúdo_do_txt))\n",
    "print('primeiro teste: '+Conteúdo_do_txt)\n",
    "\n"
   ]
  },
  {
   "cell_type": "code",
   "execution_count": 8,
   "metadata": {},
   "outputs": [
    {
     "name": "stdout",
     "output_type": "stream",
     "text": [
      "Nenhuma modificação foi feita no arquivo.\n",
      "\n",
      "<class 'str'>\n"
     ]
    }
   ],
   "source": [
    "# De forma menos burocrática\n",
    "\n",
    "Conteúdo_do_txt2 = open(r'ArquivosParalelos\\Teste1.txt','r',encoding='utf8').read()\n",
    "print(Conteúdo_do_txt2)\n",
    "print('')\n",
    "print(type(Conteúdo_do_txt2))\n",
    "\n",
    "#Torna-se desnecessário fechar uma variável que recebeu a informação diretamente como leitura.\n",
    "#Isso só é feito para variáveis que são apenas diretórios.\n",
    "#Aqui, a variável é uma string e não possúi o método de fechamento.\n",
    "#No caso acima, o comando de abertura ficou suspenso apenas para execução.\n",
    "\n",
    "#Conteúdo_do_txt2.close()"
   ]
  },
  {
   "cell_type": "markdown",
   "metadata": {},
   "source": [
    "### A verdade sobre .write"
   ]
  },
  {
   "cell_type": "code",
   "execution_count": 9,
   "metadata": {},
   "outputs": [
    {
     "name": "stdout",
     "output_type": "stream",
     "text": [
      "Qual será o nome do arquivo? wawow\n"
     ]
    }
   ],
   "source": [
    "# Abrir um arquivo como 'w' cria um arquivo novo.\n",
    "#É nesse momento que o diretório do arquivo é definido.\n",
    "#Sem especificar o diretório, ele é criado na mesma pasta onde o scritp foi rodado.\n",
    "\n",
    "filename = input(\"Qual será o nome do arquivo? \")+'.txt'\n",
    "teste_w1 = open(filename,'w',encoding='utf8')\n",
    "\n",
    "# teste_w1 não será fechado para fins do próximo teste.\n",
    "#O arquivo aberto, seja por qual razão seja, é reconhecido como aperto pelo OS.\n",
    "#Se outro arquivo for aberto como w na mesma variável, a abertura anterior é encerrada e o arquivo pode ser manipulado pelo OS."
   ]
  },
  {
   "cell_type": "markdown",
   "metadata": {},
   "source": [
    "Quando um arquivo é aberto sob parâmetro de leitura, o arquivo que existia ali foi completamente apagado."
   ]
  },
  {
   "cell_type": "code",
   "execution_count": 10,
   "metadata": {},
   "outputs": [
    {
     "data": {
      "text/plain": [
       "26"
      ]
     },
     "execution_count": 10,
     "metadata": {},
     "output_type": "execute_result"
    }
   ],
   "source": [
    "#A informação escrita só é gravada quando o arquivo é fechado.\n",
    "\n",
    "teste_w1.write('Escrevendo algo no arquivo')\n",
    "\n",
    "#Esse texto não está lá."
   ]
  },
  {
   "cell_type": "code",
   "execution_count": 11,
   "metadata": {},
   "outputs": [],
   "source": [
    "#Agora o texto estará lá.\n",
    "teste_w1.close()"
   ]
  },
  {
   "cell_type": "code",
   "execution_count": 12,
   "metadata": {},
   "outputs": [],
   "source": [
    "#Se o mesmo arquivo é aberto como \"write\" outra vez, o que havia ali fora apagado.\n",
    "# O comando .open('w') cria o arquivo em branco e o salva no diretório, mesmo que, para isso, tenha que sobrescrever um preexistente.\n",
    "\n",
    "teste_w1 = open(filename,'w',encoding='utf8')"
   ]
  },
  {
   "cell_type": "code",
   "execution_count": 13,
   "metadata": {},
   "outputs": [],
   "source": [
    "#Sempre é bom fechar, mesmo que o arquivo já tenha sido criado.\n",
    "teste_w1.close()"
   ]
  },
  {
   "cell_type": "markdown",
   "metadata": {},
   "source": [
    "### *Tentando criar um diretório com write"
   ]
  },
  {
   "cell_type": "code",
   "execution_count": 14,
   "metadata": {},
   "outputs": [
    {
     "ename": "FileNotFoundError",
     "evalue": "[Errno 2] No such file or directory: 'Diretório Novo\\\\arquivo no diretório novo.txt'",
     "output_type": "error",
     "traceback": [
      "\u001b[1;31m---------------------------------------------------------------------------\u001b[0m",
      "\u001b[1;31mFileNotFoundError\u001b[0m                         Traceback (most recent call last)",
      "\u001b[1;32m<ipython-input-14-a5e35d775c22>\u001b[0m in \u001b[0;36m<module>\u001b[1;34m\u001b[0m\n\u001b[0;32m      1\u001b[0m \u001b[1;31m#O diretório não pode ser criado.\u001b[0m\u001b[1;33m\u001b[0m\u001b[1;33m\u001b[0m\u001b[1;33m\u001b[0m\u001b[0m\n\u001b[0;32m      2\u001b[0m \u001b[1;33m\u001b[0m\u001b[0m\n\u001b[1;32m----> 3\u001b[1;33m \u001b[0mteste_criação_w\u001b[0m \u001b[1;33m=\u001b[0m \u001b[0mopen\u001b[0m\u001b[1;33m(\u001b[0m\u001b[1;34mr'Diretório Novo\\arquivo no diretório novo.txt'\u001b[0m\u001b[1;33m,\u001b[0m\u001b[1;34m'w'\u001b[0m\u001b[1;33m,\u001b[0m\u001b[0mencoding\u001b[0m\u001b[1;33m=\u001b[0m\u001b[1;34m'utf8'\u001b[0m\u001b[1;33m)\u001b[0m\u001b[1;33m\u001b[0m\u001b[1;33m\u001b[0m\u001b[0m\n\u001b[0m\u001b[0;32m      4\u001b[0m \u001b[0mteste_criação_w\u001b[0m\u001b[1;33m.\u001b[0m\u001b[0mclose\u001b[0m\u001b[1;33m(\u001b[0m\u001b[1;33m)\u001b[0m\u001b[1;33m\u001b[0m\u001b[1;33m\u001b[0m\u001b[0m\n",
      "\u001b[1;31mFileNotFoundError\u001b[0m: [Errno 2] No such file or directory: 'Diretório Novo\\\\arquivo no diretório novo.txt'"
     ]
    }
   ],
   "source": [
    "#O diretório não pode ser criado.\n",
    "\n",
    "teste_criação_w = open(r'Diretório Novo\\arquivo no diretório novo.txt','w',encoding='utf8')\n",
    "teste_criação_w.close()"
   ]
  },
  {
   "cell_type": "markdown",
   "metadata": {},
   "source": [
    "### Experimento acerca de abrir e fechar variáveis de arquivo."
   ]
  },
  {
   "cell_type": "code",
   "execution_count": 15,
   "metadata": {},
   "outputs": [
    {
     "name": "stdout",
     "output_type": "stream",
     "text": [
      "Teste zero: Nenhuma modificação foi feita no arquivo.\n",
      "\n",
      "primeiro teste: Uma modificação foi feita no arquivo.\n",
      "\n",
      "segundo teste: \n",
      "\n",
      "terceiro teste: \n",
      "\n",
      "quarto teste: A variável de leitura se modifica conforme o documento também se modifica. Ela não armazena informações, mas apenas caminhos.\n",
      "\n"
     ]
    }
   ],
   "source": [
    "arqstart(r'ArquivosParalelos\\Teste1.txt')\n",
    "\n",
    "# Se em uma variável for armazenada a leitura de um documento,\n",
    "#depois outra variável é armazenada como escrita\n",
    "#então a variável de escrita recebe a ordem de sobrescrever o documento\n",
    "# O que acontece com a variável que armazena a leitura?\n",
    "\n",
    "teste1_r = open(r'C:\\Users\\FELIPEBE\\Documents\\PythonFundamentos-master\\notas\\ArquivosParalelos\\Teste1.txt','r',encoding='utf8')\n",
    "print('primeiro teste: '+teste1_r.read()+'\\n')\n",
    "\n",
    "teste1_w = open(r'C:\\Users\\FELIPEBE\\Documents\\PythonFundamentos-master\\notas\\ArquivosParalelos\\Teste1.txt','w',encoding='utf8')\n",
    "teste1_w.write('A variável de leitura se modifica conforme o documento também se modifica. Ela não armazena informações, mas apenas caminhos.')\n",
    "#Modificando o arquivo.\n",
    "\n",
    "print('segundo teste: '+teste1_r.read()+'\\n')\n",
    "##Após essa modificação, o arquivo de leitura perde a referência\n",
    "\n",
    "teste1_r.close()\n",
    "teste1_r = open(r'C:\\Users\\FELIPEBE\\Documents\\PythonFundamentos-master\\notas\\ArquivosParalelos\\Teste1.txt','r',encoding='utf8')\n",
    "print('terceiro teste: '+teste1_r.read()+'\\n')\n",
    "#Fechando a variável de leitura e abrindo novamente, a variável de leitura ainda não responde\n",
    "\n",
    "teste1_w.close()\n",
    "teste1_r.close()\n",
    "teste1_r = open(r'C:\\Users\\FELIPEBE\\Documents\\PythonFundamentos-master\\notas\\ArquivosParalelos\\Teste1.txt','r',encoding='utf8')\n",
    "print('quarto teste: '+teste1_r.read()+'\\n')\n",
    "#É preciso fechar a variável de escrita para que o arquivo seja, de fato, modificado.\n",
    "\n",
    "teste1_r.close()\n",
    "teste1_w.close()"
   ]
  },
  {
   "cell_type": "markdown",
   "metadata": {},
   "source": [
    "### Apenas fechandor a escrita antes de tentando ler.\n"
   ]
  },
  {
   "cell_type": "code",
   "execution_count": 16,
   "metadata": {
    "scrolled": true
   },
   "outputs": [
    {
     "name": "stdout",
     "output_type": "stream",
     "text": [
      "Teste zero: Nenhuma modificação foi feita no arquivo.\n",
      "\n",
      "primeiro teste: A variável de leitura se modifica conforme o documento também se modifica. Ela não armazena informações, mas apenas caminhos.\n",
      "\n",
      "segundo teste: \n",
      "\n",
      "terceiro teste: Uma modificação foi feita no arquivo.\n",
      "\n"
     ]
    }
   ],
   "source": [
    "#Como o teste acima, mas tentando apenas fechar a escrita primeiro e tentando ler novamente logo em seguida.\n",
    "\n",
    "arqstart(r'ArquivosParalelos\\Teste1.txt')\n",
    "\n",
    "teste2_r = open(r'C:\\Users\\FELIPEBE\\Documents\\PythonFundamentos-master\\notas\\ArquivosParalelos\\Teste1.txt','r',encoding='utf8')\n",
    "print('primeiro teste: '+teste2_r.read()+'\\n')\n",
    "\n",
    "teste2_w = open(r'C:\\Users\\FELIPEBE\\Documents\\PythonFundamentos-master\\notas\\ArquivosParalelos\\Teste1.txt','w',encoding='utf8')\n",
    "teste2_w.write('Uma modificação foi feita no arquivo.')\n",
    "#Modificando o arquivo.\n",
    "\n",
    "teste2_w.close()\n",
    "print('segundo teste: '+teste2_r.read()+'\\n')\n",
    "#Fechando a variável de leitura e ordenando leitura logo em seguida\n",
    "\n",
    "teste2_r.close()\n",
    "teste2_r = open(r'C:\\Users\\FELIPEBE\\Documents\\PythonFundamentos-master\\notas\\ArquivosParalelos\\Teste1.txt','r',encoding='utf8')\n",
    "print('terceiro teste: '+teste2_r.read()+'\\n')\n",
    "#É preciso fechar a variável de escrita para que o arquivo seja, de fato, modificado.\n",
    "\n",
    "teste2_r.close()\n",
    "teste2_w.close()"
   ]
  },
  {
   "cell_type": "markdown",
   "metadata": {},
   "source": [
    "### Uma mesma variável é aberta duas vezes, uma como leitura e outra como escrita, e ambas as operações são executadas depois disso."
   ]
  },
  {
   "cell_type": "code",
   "execution_count": 17,
   "metadata": {},
   "outputs": [
    {
     "name": "stdout",
     "output_type": "stream",
     "text": [
      "Teste zero: Nenhuma modificação foi feita no arquivo.\n",
      "\n",
      "primeiro teste: Você está vendo uma modificação bem-sucedida.\n",
      "\n",
      "<_io.TextIOWrapper name='ArquivosParalelos\\\\Teste1.txt' mode='r' encoding='utf8'>\n"
     ]
    }
   ],
   "source": [
    "arqstart(r'ArquivosParalelos\\Teste1.txt')\n",
    "\n",
    "\n",
    "#Tentando abrir um arquivo para leitura e escrita, então tentando ler e escrever.\n",
    "\n",
    "teste3_rw = open(r'ArquivosParalelos\\Teste1.txt','r',encoding='utf8')\n",
    "teste3_rw = open(r'ArquivosParalelos\\Teste1.txt','w',encoding='utf8')\n",
    "\n",
    "teste3_rw = open(r'ArquivosParalelos\\Teste1.txt','w',encoding='utf8')\n",
    "teste3_rw.write('Você está vendo uma modificação bem-sucedida.')\n",
    "#Modificando o arquivo.\n",
    "\n",
    "teste3_rw = open(r'ArquivosParalelos\\Teste1.txt','r',encoding='utf8')\n",
    "print('primeiro teste: '+teste3_rw.read()+'\\n')\n",
    "#Abrindo o arquivo.\n",
    "\n",
    "print(teste3_rw)\n",
    "teste3_rw.close()"
   ]
  },
  {
   "cell_type": "markdown",
   "metadata": {},
   "source": [
    "### Utilizando seek."
   ]
  },
  {
   "cell_type": "code",
   "execution_count": 18,
   "metadata": {},
   "outputs": [
    {
     "name": "stdout",
     "output_type": "stream",
     "text": [
      "Teste zero: Nenhuma modificação foi feita no arquivo.\n",
      "\n",
      "ma modificação foi feita no arquivo.\n"
     ]
    }
   ],
   "source": [
    "arqstart(r'ArquivosParalelos\\Teste1.txt')\n",
    "\n",
    "#Seek e Read\n",
    "#A leuitura é feita apartir do caractere com o index definido no parâmetro do seek.\n",
    "\n",
    "teste4_r = open(r'ArquivosParalelos\\Teste1.txt','r',encoding='utf8')\n",
    "\n",
    "teste4_r.seek(5,0)\n",
    "\n",
    "print(teste4_r.read())\n",
    "\n",
    "teste4_r.close()"
   ]
  },
  {
   "cell_type": "code",
   "execution_count": 19,
   "metadata": {
    "scrolled": true
   },
   "outputs": [
    {
     "name": "stdout",
     "output_type": "stream",
     "text": [
      "Teste zero: Nenhuma modificação foi feita no arquivo.\n",
      "\n",
      "primeiro teste: \u0000\u0000\u0000\u0000\u0000\u0000\u0000\u0000\u0000\u0000Você está vendo uma modificação bem-sucedida.\n",
      "\n"
     ]
    }
   ],
   "source": [
    "arqstart(r'ArquivosParalelos\\Teste1.txt')\n",
    "\n",
    "#Seek e Write\n",
    "#Não acontece nada...\n",
    "\n",
    "teste5_w = open(r'ArquivosParalelos\\Teste1.txt','w',encoding='utf8')\n",
    "\n",
    "teste5_w.seek(10,0)\n",
    "\n",
    "teste5_w.write('Você está vendo uma modificação bem-sucedida.')\n",
    "teste5_w.close()\n",
    "\n",
    "teste5_r = open(r'ArquivosParalelos\\Teste1.txt','r',encoding='utf8')\n",
    "print('primeiro teste: '+teste5_r.read()+'\\n')\n",
    "teste5_r.close()"
   ]
  },
  {
   "cell_type": "code",
   "execution_count": 20,
   "metadata": {},
   "outputs": [
    {
     "name": "stdout",
     "output_type": "stream",
     "text": [
      "Teste zero: Nenhuma modificação foi feita no arquivo.\n",
      "\n",
      "leitura 1: \n",
      "leitura 2: Nenhuma mo\n",
      "leitura 3: dificação foi feita no arquivo.\n",
      "leitura 4: \n"
     ]
    }
   ],
   "source": [
    "arqstart(r'ArquivosParalelos\\Teste1.txt')\n",
    "\n",
    "#O comando .seek é intimamente vinculado com o comando .read\n",
    "\n",
    "teste_seek_r = open(r'ArquivosParalelos\\Teste1.txt','r',encoding='utf8')\n",
    "\n",
    "print('leitura 1: '+teste_seek_r.read(0))  #Aqui, o arquivo seria lido até antes do caractere de índice 0. Ou seja, nenhum caractere é mostrado.\n",
    "print('leitura 2: '+teste_seek_r.read(10)) #Aqui o arquivo é lido até o caractere de índice 10.\n",
    "#Então o cursor fica parado entre os caracteres de índice 9 e 10 (o 10º e o 11º).\n",
    "print('leitura 3: '+teste_seek_r.read()) #Aqui, na falta de índice, o arquivo é lido de onde o cursor parou até o fim.\n",
    "print('leitura 4: '+teste_seek_r.read()) #Como o cursor estava parado no último índice"
   ]
  },
  {
   "cell_type": "markdown",
   "metadata": {},
   "source": [
    "### Append"
   ]
  },
  {
   "cell_type": "code",
   "execution_count": 21,
   "metadata": {},
   "outputs": [
    {
     "name": "stdout",
     "output_type": "stream",
     "text": [
      "Teste zero: Nenhuma modificação foi feita no arquivo.\n",
      "\n",
      "Primeiro teste = Nenhuma modificação foi feita no arquivo.[Um pedaço de modificação.]\n"
     ]
    }
   ],
   "source": [
    "arqstart(r'ArquivosParalelos\\Teste1.txt')\n",
    "\n",
    "#O parâmetro 'a' exige que o arquivo exista.\n",
    "\n",
    "teste_a_a = open(r'ArquivosParalelos\\Teste1.txt','a',encoding='utf8')\n",
    "\n",
    "teste_a_a.write('[Um pedaço de modificação.]')\n",
    "teste_a_a.close()\n",
    "\n",
    "teste_a_r = open(r'ArquivosParalelos\\Teste1.txt','r',encoding='utf8')\n",
    "print('Primeiro teste = '+teste_a_r.read())"
   ]
  },
  {
   "cell_type": "code",
   "execution_count": 22,
   "metadata": {},
   "outputs": [
    {
     "name": "stdout",
     "output_type": "stream",
     "text": [
      "Teste zero: Nenhuma modificação foi feita no arquivo.\n",
      "\n",
      "Primeiro teste = Nenhuma modificação foi feita no arquivo.[Um pedaço de modificação.]\n"
     ]
    }
   ],
   "source": [
    "arqstart(r'ArquivosParalelos\\Teste1.txt')\n",
    "\n",
    "#Seek continua não funcionando.\n",
    "\n",
    "teste_a_s = open(r'ArquivosParalelos\\Teste1.txt','a',encoding='utf8')\n",
    "\n",
    "teste_a_s.write('[Um pedaço de modificação.]')\n",
    "teste_a_s.seek(3,0)\n",
    "teste_a_s.close()\n",
    "\n",
    "teste_a_r = open(r'ArquivosParalelos\\Teste1.txt','r',encoding='utf8')\n",
    "print('Primeiro teste = '+teste_a_r.read())"
   ]
  },
  {
   "cell_type": "code",
   "execution_count": 23,
   "metadata": {},
   "outputs": [
    {
     "name": "stdout",
     "output_type": "stream",
     "text": [
      "Teste zero: Nenhuma modificação foi feita no arquivo.\n",
      "\n",
      "Primeiro teste = Nenhuma modificação foi feita no arquivo.\n"
     ]
    }
   ],
   "source": [
    "arqstart(r'ArquivosParalelos\\Teste1.txt')\n",
    "\n",
    "\n",
    "#Teste em duas partes.\n",
    "#Parte 1\n",
    "## O arquivo não aparece modificado depois antes de ser fechado.\n",
    "\n",
    "teste_a_a = open(r'ArquivosParalelos\\Teste1.txt','a',encoding='utf8')\n",
    "\n",
    "teste_a_a.write('[Um pedaço de modificação.]')\n",
    "\n",
    "teste_a_r = open(r'ArquivosParalelos\\Teste1.txt','r',encoding='utf8')\n",
    "print('Primeiro teste = '+teste_a_r.read())\n",
    "\n"
   ]
  },
  {
   "cell_type": "code",
   "execution_count": 24,
   "metadata": {},
   "outputs": [
    {
     "name": "stdout",
     "output_type": "stream",
     "text": [
      "Teste zero: Nenhuma modificação foi feita no arquivo.\n",
      "\n",
      "Primeiro teste = Nenhuma modificação foi feita no arquivo.[Um pedaço de modificação.]\n"
     ]
    }
   ],
   "source": [
    "arqstart(r'ArquivosParalelos\\Teste1.txt')\n",
    "\n",
    "\n",
    "#Teste em duas partes.\n",
    "#Parte 2\n",
    "## A modificação só é fato quando a variável com parâmetro 'a' modificada é finalmente fechada.\n",
    "\n",
    "teste_a_a.close()\n",
    "\n",
    "teste_a_r = open(r'ArquivosParalelos\\Teste1.txt','r',encoding='utf8')\n",
    "print('Primeiro teste = '+teste_a_r.read())"
   ]
  },
  {
   "cell_type": "markdown",
   "metadata": {},
   "source": [
    "## Arquivos .csv"
   ]
  },
  {
   "cell_type": "markdown",
   "metadata": {},
   "source": [
    "Na prática, o arquivo csv é um arquivo de texto.\n",
    "Só é preciso definir a extensão.\n",
    "A maior diferença é o tratamento pelo comando .split()"
   ]
  },
  {
   "cell_type": "code",
   "execution_count": 25,
   "metadata": {},
   "outputs": [
    {
     "name": "stdout",
     "output_type": "stream",
     "text": [
      "um, dois, três\n",
      "quatro, cinco, seis\n",
      "sete, oito, nove\n",
      "dez, onze, doze.\n"
     ]
    }
   ],
   "source": [
    "#Criação de uma string como exemplo\n",
    "\n",
    "Conteúdo = 'um, dois, três\\nquatro, cinco, seis\\nsete, oito, nove\\ndez, onze, doze.'\n",
    "\n",
    "print(Conteúdo)"
   ]
  },
  {
   "cell_type": "code",
   "execution_count": 26,
   "metadata": {},
   "outputs": [],
   "source": [
    "#Criando um arquivo csv e inserindo o conteúdo neste.\n",
    "\n",
    "arq_csv_w = open(r'ArquivosParalelos\\Teste2.csv','w',encoding='utf8')\n",
    "arq_csv_w.write(Conteúdo)\n",
    "arq_csv_w.close()"
   ]
  },
  {
   "cell_type": "markdown",
   "metadata": {},
   "source": [
    "Abra o arquivo pelo Excel. Você verá que ele já faz a separação por ENTER."
   ]
  },
  {
   "cell_type": "code",
   "execution_count": 27,
   "metadata": {},
   "outputs": [
    {
     "name": "stdout",
     "output_type": "stream",
     "text": [
      "['um, dois, três', 'quatro, cinco, seis', 'sete, oito, nove', 'dez, onze, doze.']\n",
      "\n",
      "<class 'list'>\n"
     ]
    }
   ],
   "source": [
    "#É possível separar a string em linhas (rows).\n",
    "# Mas isso é feito com a stringo resultante do comando .read\n",
    "#   #   abra('diretório').leia().separe('parâmetro')\n",
    "\n",
    "#O resultado de um split é uma lista\n",
    "\n",
    "arq_rows = open(r'ArquivosParalelos\\Teste2.csv','r',encoding='utf8').read().split('\\n')\n",
    "\n",
    "print(arq_rows)\n",
    "print('')\n",
    "print(type(arq_rows))\n",
    "\n",
    "#Ainda, nenhuma alteração foi feita no arquivo, apenas na variável"
   ]
  },
  {
   "cell_type": "code",
   "execution_count": 28,
   "metadata": {},
   "outputs": [
    {
     "ename": "TypeError",
     "evalue": "write() argument must be str, not list",
     "output_type": "error",
     "traceback": [
      "\u001b[1;31m---------------------------------------------------------------------------\u001b[0m",
      "\u001b[1;31mTypeError\u001b[0m                                 Traceback (most recent call last)",
      "\u001b[1;32m<ipython-input-28-973f7d625992>\u001b[0m in \u001b[0;36m<module>\u001b[1;34m\u001b[0m\n\u001b[0;32m      3\u001b[0m \u001b[0marq_rows_w\u001b[0m \u001b[1;33m=\u001b[0m \u001b[0mopen\u001b[0m\u001b[1;33m(\u001b[0m\u001b[1;34mr'ArquivosParalelos\\Teste2.csv'\u001b[0m\u001b[1;33m,\u001b[0m\u001b[1;34m'w'\u001b[0m\u001b[1;33m,\u001b[0m\u001b[0mencoding\u001b[0m\u001b[1;33m=\u001b[0m\u001b[1;34m'utf8'\u001b[0m\u001b[1;33m)\u001b[0m\u001b[1;33m\u001b[0m\u001b[1;33m\u001b[0m\u001b[0m\n\u001b[0;32m      4\u001b[0m \u001b[1;33m\u001b[0m\u001b[0m\n\u001b[1;32m----> 5\u001b[1;33m \u001b[0marq_rows_w\u001b[0m\u001b[1;33m.\u001b[0m\u001b[0mwrite\u001b[0m\u001b[1;33m(\u001b[0m\u001b[0marq_rows\u001b[0m\u001b[1;33m)\u001b[0m\u001b[1;33m\u001b[0m\u001b[1;33m\u001b[0m\u001b[0m\n\u001b[0m\u001b[0;32m      6\u001b[0m \u001b[1;33m\u001b[0m\u001b[0m\n\u001b[0;32m      7\u001b[0m \u001b[1;31m#É, não tem como... csv é uma strind e cada programa que aceite seu fator de divisão.\u001b[0m\u001b[1;33m\u001b[0m\u001b[1;33m\u001b[0m\u001b[1;33m\u001b[0m\u001b[0m\n",
      "\u001b[1;31mTypeError\u001b[0m: write() argument must be str, not list"
     ]
    }
   ],
   "source": [
    "#Tentanto colocar a lista no csv\n",
    "\n",
    "arq_rows_w = open(r'ArquivosParalelos\\Teste2.csv','w',encoding='utf8')\n",
    "\n",
    "arq_rows_w.write(arq_rows)\n",
    "\n",
    "#É, não tem como... csv é uma string e cada programa que aceite seu fator de divisão."
   ]
  },
  {
   "cell_type": "code",
   "execution_count": 29,
   "metadata": {
    "scrolled": true
   },
   "outputs": [
    {
     "name": "stdout",
     "output_type": "stream",
     "text": [
      "[['um', 'dois', 'três'], ['quatro', 'cinco', 'seis'], ['sete', 'oito', 'nove'], ['dez', 'onze', 'doze.']]\n"
     ]
    }
   ],
   "source": [
    "#Como o arquivo agora é uma lista, não pode receber o comando .split\n",
    "#Mas é uma lista composta inteiramente de strings, que podem receber o comando .split\n",
    "\n",
    "#Cada string, ao receber um .split, se torna uma nova lista dentro da lista.\n",
    "\n",
    "arq_nested = []\n",
    "for i in arq_rows:\n",
    "    arq_nested.append(i.split(', '))\n",
    "print(arq_nested)\n",
    "\n",
    "#pode-se interpretar uma matriz bidimensional 4x3."
   ]
  },
  {
   "cell_type": "code",
   "execution_count": 30,
   "metadata": {},
   "outputs": [
    {
     "name": "stdout",
     "output_type": "stream",
     "text": [
      "['um', 'dois', 'três', 'quatro', 'cinco', 'seis', 'sete', 'oito', 'nove', 'dez', 'onze', 'doze.']\n"
     ]
    }
   ],
   "source": [
    "#Para que o resultado acima seja uma só lista, utilize .extend ao invés de .append\n",
    "\n",
    "arq_list = []\n",
    "for i in arq_rows:\n",
    "    arq_list.extend(i.split(', '))\n",
    "print(arq_list)"
   ]
  },
  {
   "cell_type": "code",
   "execution_count": 31,
   "metadata": {},
   "outputs": [
    {
     "name": "stdout",
     "output_type": "stream",
     "text": [
      "4\n",
      "12\n",
      "\n",
      "3\n"
     ]
    }
   ],
   "source": [
    "#Para contar variáveis os itens de um csv, basta não esquececer que ele não passa de uma string...\n",
    "print(len(arq_nested))\n",
    "print(len(arq_list))\n",
    "\n",
    "print('')\n",
    "\n",
    "#Para contar as \"colunas\", suponto que as toda lista aninhada terá a mesma quantidade de itens:\n",
    "#Basta contar a quantidade de elementos dentro de uma lista aninhada.\n",
    "\n",
    "print(len(arq_nested[0]))"
   ]
  }
 ],
 "metadata": {
  "kernelspec": {
   "display_name": "Python 3",
   "language": "python",
   "name": "python3"
  },
  "language_info": {
   "codemirror_mode": {
    "name": "ipython",
    "version": 3
   },
   "file_extension": ".py",
   "mimetype": "text/x-python",
   "name": "python",
   "nbconvert_exporter": "python",
   "pygments_lexer": "ipython3",
   "version": "3.8.3"
  }
 },
 "nbformat": 4,
 "nbformat_minor": 4
}
