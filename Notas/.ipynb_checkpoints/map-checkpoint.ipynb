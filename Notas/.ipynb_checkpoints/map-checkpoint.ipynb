{
 "cells": [
  {
   "cell_type": "markdown",
   "metadata": {},
   "source": [
    "Aplica uma função a todos os elementos de uma coleção. A função não recebe coleções, mas elementos individuais"
   ]
  },
  {
   "cell_type": "markdown",
   "metadata": {},
   "source": [
    "Um atalho para loop for."
   ]
  },
  {
   "cell_type": "markdown",
   "metadata": {},
   "source": [
    "map(função,coleção,coleção,...)"
   ]
  },
  {
   "cell_type": "code",
   "execution_count": 35,
   "metadata": {},
   "outputs": [],
   "source": [
    "#Duas listas iguais e uma função com return\n",
    "\n",
    "a = [2,3,1,5,7,3,4,6,8,5,3,3,5,8,9]\n",
    "b = [4,2,6,4,3,6,5,4,6,5,3,1,7,1,6]\n",
    "\n",
    "def funcao(itemA,itemB):\n",
    "    if itemA == itemB:\n",
    "        return 'iguais'\n",
    "    elif itemA > itemB:\n",
    "        return 'primeiro maior'\n",
    "    else:\n",
    "        return 'segundo maior'"
   ]
  },
  {
   "cell_type": "code",
   "execution_count": 36,
   "metadata": {},
   "outputs": [
    {
     "name": "stdout",
     "output_type": "stream",
     "text": [
      "<map object at 0x000002485F7B8880>\n",
      "\n",
      "['segundo maior', 'primeiro maior', 'segundo maior', 'primeiro maior', 'primeiro maior', 'segundo maior', 'segundo maior', 'primeiro maior', 'primeiro maior', 'iguais', 'iguais', 'primeiro maior', 'segundo maior', 'primeiro maior', 'primeiro maior']\n"
     ]
    }
   ],
   "source": [
    "# O resultado é um iterador.\n",
    "#Precisa ser transformado em uma lista ou tupla\n",
    "\n",
    "print(map(funcao,a,b))\n",
    "print('')\n",
    "print(list(map(funcao,a,b)))"
   ]
  },
  {
   "cell_type": "code",
   "execution_count": 45,
   "metadata": {},
   "outputs": [
    {
     "name": "stdout",
     "output_type": "stream",
     "text": [
      "[33, 85, 1, 87, 70, 46, 41, 15, 12, 47, 77, 81, 49, 56, 30, 92, 78, 71, 47, 48]\n",
      "\n",
      "[92, 24, 50, 93, 24, 65, 4, 72, 15, 68, 8, 38, 76, 17, 94, 45, 67, 77, 8, 10, 34]\n",
      "\n",
      "['segundo maior', 'primeiro maior', 'segundo maior', 'segundo maior', 'primeiro maior', 'segundo maior', 'primeiro maior', 'segundo maior', 'segundo maior', 'segundo maior', 'primeiro maior', 'primeiro maior', 'segundo maior', 'primeiro maior', 'segundo maior', 'primeiro maior', 'primeiro maior', 'segundo maior', 'primeiro maior', 'primeiro maior']\n",
      "\n",
      "Tamanho da lista mapeada: 20\n",
      "\n",
      "33 92 segundo maior\n",
      "85 24 primeiro maior\n",
      "1 50 segundo maior\n",
      "87 93 segundo maior\n",
      "70 24 primeiro maior\n",
      "46 65 segundo maior\n",
      "41 4 primeiro maior\n",
      "15 72 segundo maior\n",
      "12 15 segundo maior\n",
      "47 68 segundo maior\n",
      "77 8 primeiro maior\n",
      "81 38 primeiro maior\n",
      "49 76 segundo maior\n",
      "56 17 primeiro maior\n",
      "30 94 segundo maior\n",
      "92 45 primeiro maior\n",
      "78 67 primeiro maior\n",
      "71 77 segundo maior\n",
      "47 8 primeiro maior\n",
      "48 10 primeiro maior\n"
     ]
    }
   ],
   "source": [
    "#Listas de tamanhos diferentes.\n",
    "#O resultado terá o tamanhno da menor lista\n",
    "\n",
    "import random\n",
    "\n",
    "c = []\n",
    "for i in range(20):\n",
    "    c.append(random.randint(1,100))\n",
    "print(c)\n",
    "print('')\n",
    "\n",
    "d = []\n",
    "for i in range(21):\n",
    "    d.append(random.randint(1,100))\n",
    "print(d)\n",
    "print('')\n",
    "\n",
    "mapeado = list(map(funcao,c,d))\n",
    "print(mapeado)\n",
    "print('')\n",
    "print('Tamanho da lista mapeada:',(len(mapeado)))\n",
    "print('')\n",
    "\n",
    "for i,j,k in zip(c,d,mapeado):\n",
    "    print(i,j,k)"
   ]
  },
  {
   "cell_type": "code",
   "execution_count": 46,
   "metadata": {},
   "outputs": [
    {
     "name": "stdout",
     "output_type": "stream",
     "text": [
      "[2, 1, -1, 11, 11, 9, 11, 14, 34, 15, 3, -1, 23, -1, 39]\n"
     ]
    }
   ],
   "source": [
    "# Usando lambda como função inline\n",
    "\n",
    "print(list(map(lambda x,y: x*y-x-y,a,b)))"
   ]
  },
  {
   "cell_type": "code",
   "execution_count": null,
   "metadata": {},
   "outputs": [],
   "source": []
  }
 ],
 "metadata": {
  "kernelspec": {
   "display_name": "Python 3",
   "language": "python",
   "name": "python3"
  },
  "language_info": {
   "codemirror_mode": {
    "name": "ipython",
    "version": 3
   },
   "file_extension": ".py",
   "mimetype": "text/x-python",
   "name": "python",
   "nbconvert_exporter": "python",
   "pygments_lexer": "ipython3",
   "version": "3.8.3"
  }
 },
 "nbformat": 4,
 "nbformat_minor": 4
}
