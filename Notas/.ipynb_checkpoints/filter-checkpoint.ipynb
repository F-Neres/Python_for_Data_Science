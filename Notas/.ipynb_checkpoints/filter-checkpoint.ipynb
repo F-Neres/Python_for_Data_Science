{
 "cells": [
  {
   "cell_type": "markdown",
   "metadata": {},
   "source": [
    "Exige uma função que retorna unicamente um resultado booleano e uma coleção de valores que serão verificados."
   ]
  },
  {
   "cell_type": "markdown",
   "metadata": {},
   "source": [
    "O resultado é uma coleção de itens iguais aos itens da lista dada como parâmetro, mas excluindo aqueles cuja função avaliou como \"False\"."
   ]
  },
  {
   "cell_type": "code",
   "execution_count": 17,
   "metadata": {},
   "outputs": [
    {
     "name": "stdout",
     "output_type": "stream",
     "text": [
      "[867, 594, 432, 203, 162, 526, 6, 809, 827, 181, 954, 340, 620, 422, 85, 228, 999, 198, 806, 959, 146, 724, 338, 879, 762, 955, 239, 415, 390, 715, 337, 200, 769, 838, 169, 452, 620, 714, 10, 138, 546, 663, 889, 664, 662, 681, 936, 740, 556, 388, 619, 729, 598, 306, 279, 983, 759, 947, 83, 387, 969, 898, 38, 592, 968, 703, 586, 201, 395, 156, 25, 996, 10, 244, 885, 826, 422, 905, 556, 54, 674, 846, 477, 289, 402, 683, 774, 657, 692, 807, 859, 460, 599, 545, 732, 603, 864, 614, 8, 240]\n"
     ]
    }
   ],
   "source": [
    "# A famigerada lista de números aleatórios\n",
    "from random import randint\n",
    "\n",
    "a = [randint(1,1000) for i in range (100)]\n",
    "print(a)"
   ]
  },
  {
   "cell_type": "code",
   "execution_count": 18,
   "metadata": {},
   "outputs": [],
   "source": [
    "def par(a):\n",
    "    if a%2 == 0:\n",
    "        return True\n",
    "    #else:\n",
    "        #False"
   ]
  },
  {
   "cell_type": "code",
   "execution_count": 19,
   "metadata": {},
   "outputs": [
    {
     "name": "stdout",
     "output_type": "stream",
     "text": [
      "[594, 432, 162, 526, 6, 954, 340, 620, 422, 228, 198, 806, 146, 724, 338, 762, 390, 200, 838, 452, 620, 714, 10, 138, 546, 664, 662, 936, 740, 556, 388, 598, 306, 898, 38, 592, 968, 586, 156, 996, 10, 244, 826, 422, 556, 54, 674, 846, 402, 774, 692, 460, 732, 864, 614, 8, 240]\n"
     ]
    }
   ],
   "source": [
    "#Fora da lista, o resultado é um iterador.\n",
    "\n",
    "print(filter(par,a))\n",
    "\n",
    "print(list(filter(par,a)))"
   ]
  },
  {
   "cell_type": "code",
   "execution_count": 36,
   "metadata": {
    "scrolled": false
   },
   "outputs": [
    {
     "data": {
      "text/plain": [
       "43"
      ]
     },
     "execution_count": 36,
     "metadata": {},
     "output_type": "execute_result"
    }
   ],
   "source": [
    "#Inline\n",
    "\n",
    "list(filter(lambda x: True if x%2 == 0 else False,[randint(1,1000) for i in range (100)]))\n",
    "\n",
    "len(list(filter(lambda x: True if x%2 == 0 else False,[randint(1,1000) for i in range (100)])))"
   ]
  },
  {
   "cell_type": "code",
   "execution_count": 33,
   "metadata": {},
   "outputs": [
    {
     "data": {
      "text/plain": [
       "[536,\n",
       " 488,\n",
       " 284,\n",
       " 798,\n",
       " 452,\n",
       " 572,\n",
       " 856,\n",
       " 254,\n",
       " 12,\n",
       " 350,\n",
       " 960,\n",
       " 214,\n",
       " 164,\n",
       " 124,\n",
       " 386,\n",
       " 12,\n",
       " 792,\n",
       " 902,\n",
       " 764,\n",
       " 144,\n",
       " 196,\n",
       " 604,\n",
       " 344,\n",
       " 890,\n",
       " 950,\n",
       " 720,\n",
       " 924,\n",
       " 786,\n",
       " 358,\n",
       " 50,\n",
       " 452,\n",
       " 254,\n",
       " 422,\n",
       " 484,\n",
       " 794,\n",
       " 536,\n",
       " 236,\n",
       " 4,\n",
       " 930,\n",
       " 710,\n",
       " 4,\n",
       " 150,\n",
       " 608,\n",
       " 682,\n",
       " 844,\n",
       " 1000,\n",
       " 342,\n",
       " 836,\n",
       " 850,\n",
       " 642,\n",
       " 142,\n",
       " 276,\n",
       " 244,\n",
       " 346,\n",
       " 878,\n",
       " 900,\n",
       " 486,\n",
       " 554]"
      ]
     },
     "execution_count": 33,
     "metadata": {},
     "output_type": "execute_result"
    }
   ],
   "source": [
    "#Apenas a verificação já basta, sem o 'if'\n",
    "\n",
    "list(filter(lambda x: x%2 == 0 ,[randint(1,1000) for i in range (100)]))"
   ]
  },
  {
   "cell_type": "code",
   "execution_count": null,
   "metadata": {},
   "outputs": [],
   "source": []
  }
 ],
 "metadata": {
  "kernelspec": {
   "display_name": "Python 3",
   "language": "python",
   "name": "python3"
  },
  "language_info": {
   "codemirror_mode": {
    "name": "ipython",
    "version": 3
   },
   "file_extension": ".py",
   "mimetype": "text/x-python",
   "name": "python",
   "nbconvert_exporter": "python",
   "pygments_lexer": "ipython3",
   "version": "3.8.3"
  }
 },
 "nbformat": 4,
 "nbformat_minor": 4
}
