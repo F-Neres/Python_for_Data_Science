{
 "cells": [
  {
   "cell_type": "markdown",
   "metadata": {},
   "source": [
    "Com \"arquivo\" aberto como \"variável: faça essas coisas."
   ]
  },
  {
   "cell_type": "code",
   "execution_count": 1,
   "metadata": {},
   "outputs": [
    {
     "name": "stdout",
     "output_type": "stream",
     "text": [
      "Nenhuma modificação foi feita no arquivo.\n"
     ]
    }
   ],
   "source": [
    "#Assim quando se associa um método de open a uma variável, o caminho não recebe associação, então não há variável para ser fechada.\n",
    "\n",
    "with open('ArquivosParalelos/Teste1.txt','r',encoding='utf8') as arquivo:\n",
    "    conteudo = arquivo.read()\n",
    "\n",
    "print(conteudo)"
   ]
  },
  {
   "cell_type": "markdown",
   "metadata": {},
   "source": [
    "With aninhado"
   ]
  },
  {
   "cell_type": "code",
   "execution_count": 2,
   "metadata": {},
   "outputs": [
    {
     "name": "stdout",
     "output_type": "stream",
     "text": [
      "a\n",
      "{a:1,b:2,c:3,d:4,e:[5,6,7,8,9,]}\n",
      "b\n"
     ]
    }
   ],
   "source": [
    "#Nada nesta mão...\n",
    "\n",
    "with open(r'ArquivosParalelos/TesteT.txt','w',encoding='utf8') as texistê:\n",
    "    texistê.write('{a:1,b:2,c:3,d:4,e:[5,6,7,8,9,]}')\n",
    "\n",
    "with open(r'ArquivosParalelos/TesteT.txt','r',encoding='utf8') as texistê2:\n",
    "    print('a')\n",
    "    print(texistê2.read())\n",
    "    print('b')"
   ]
  },
  {
   "cell_type": "code",
   "execution_count": 3,
   "metadata": {},
   "outputs": [
    {
     "name": "stdout",
     "output_type": "stream",
     "text": [
      "a\n",
      "\n",
      "b\n"
     ]
    }
   ],
   "source": [
    "#Nada nesta outra...\n",
    "\n",
    "with open(r'ArquivosParalelos/TesteJ.json','w',encoding='utf8'):\n",
    "    pass\n",
    "\n",
    "with open(r'ArquivosParalelos/TesteJ.json','r',encoding='utf8') as testej:\n",
    "    print('a')\n",
    "    print(testej.read())\n",
    "    print('b')"
   ]
  },
  {
   "cell_type": "code",
   "execution_count": 4,
   "metadata": {},
   "outputs": [],
   "source": [
    "#Diretórios em string\n",
    "\n",
    "origem = r'ArquivosParalelos\\TesteT.txt'\n",
    "destino = r'ArquivosParalelos/TesteJ.json'"
   ]
  },
  {
   "cell_type": "code",
   "execution_count": 5,
   "metadata": {},
   "outputs": [],
   "source": [
    "#import os\n",
    "#import json"
   ]
  },
  {
   "cell_type": "code",
   "execution_count": 6,
   "metadata": {},
   "outputs": [],
   "source": [
    "#with aninhado, copiando o conteúdo de um arquivo a outro.\n",
    "\n",
    "with open(origem,'r') as caminho:\n",
    "    leitura = caminho.read()\n",
    "    with open(destino,'w') as outfile:\n",
    "        outfile.write(leitura)  "
   ]
  },
  {
   "cell_type": "code",
   "execution_count": null,
   "metadata": {},
   "outputs": [],
   "source": []
  }
 ],
 "metadata": {
  "kernelspec": {
   "display_name": "Python 3",
   "language": "python",
   "name": "python3"
  },
  "language_info": {
   "codemirror_mode": {
    "name": "ipython",
    "version": 3
   },
   "file_extension": ".py",
   "mimetype": "text/x-python",
   "name": "python",
   "nbconvert_exporter": "python",
   "pygments_lexer": "ipython3",
   "version": "3.8.3"
  }
 },
 "nbformat": 4,
 "nbformat_minor": 4
}
