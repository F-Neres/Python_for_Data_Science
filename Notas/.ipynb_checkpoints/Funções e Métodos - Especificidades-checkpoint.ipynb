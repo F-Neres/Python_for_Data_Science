{
 "cells": [
  {
   "cell_type": "markdown",
   "metadata": {},
   "source": [
    "## Devolução de resultado"
   ]
  },
  {
   "cell_type": "code",
   "execution_count": 10,
   "metadata": {},
   "outputs": [],
   "source": [
    "# A classe A possui um método que gera dois atributos.\n",
    "\n",
    "class ClasseA:\n",
    "    def __init__(k,a):\n",
    "        k.a=a\n",
    "    def calcula(k,b):\n",
    "        k.b=b\n",
    "        k.c=k.a+b"
   ]
  },
  {
   "cell_type": "code",
   "execution_count": 11,
   "metadata": {},
   "outputs": [],
   "source": [
    "# A classe B pessou um método que recebe um objeto que possua um método \"calcula\" e executa esse método.\n",
    "\n",
    "class ClasseB:\n",
    "    def __init__(k,a):\n",
    "        k.a=a\n",
    "    def master(k,classeA):\n",
    "        classeA.calcula(k.a)"
   ]
  },
  {
   "cell_type": "code",
   "execution_count": 12,
   "metadata": {},
   "outputs": [
    {
     "name": "stdout",
     "output_type": "stream",
     "text": [
      "não há x.c\n",
      "3 4 7\n"
     ]
    }
   ],
   "source": [
    "# Quando y recebe x como parâmetro do método 'master', y é intrincecamente modificado.\n",
    "\n",
    "x = ClasseA(3)\n",
    "y = ClasseB(4)\n",
    "\n",
    "try:\n",
    "    print(x.c)\n",
    "except:\n",
    "    print('não há x.c')\n",
    "\n",
    "y.master(x)\n",
    "\n",
    "print(x.a,x.b,x.c)"
   ]
  },
  {
   "cell_type": "code",
   "execution_count": 13,
   "metadata": {},
   "outputs": [],
   "source": [
    "# Mesmo separando 'classeA' de 'k.classeA', o objeto X ainda é modificado.\n",
    "\n",
    "class ClasseC:\n",
    "    def __init__(k,a):\n",
    "        k.a=a\n",
    "    def master(k,classeA):\n",
    "        k.classeA = classeA\n",
    "        k.classeA.calcula(k.a)\n",
    "        print(k.classeA.c)"
   ]
  },
  {
   "cell_type": "code",
   "execution_count": 14,
   "metadata": {},
   "outputs": [
    {
     "name": "stdout",
     "output_type": "stream",
     "text": [
      "9\n",
      "3 6 9\n"
     ]
    }
   ],
   "source": [
    "z = ClasseC(6)\n",
    "\n",
    "z.master(x)\n",
    "\n",
    "print(x.a,x.b,x.c)"
   ]
  },
  {
   "cell_type": "code",
   "execution_count": 15,
   "metadata": {},
   "outputs": [
    {
     "name": "stdout",
     "output_type": "stream",
     "text": [
      "3 6 11\n"
     ]
    }
   ],
   "source": [
    "# Uma vez que X passa a ser um atributo de Z, qualquer modificação em z.classeA também é uma modificação em X.\n",
    "\n",
    "z.classeA.c = 11\n",
    "\n",
    "print(x.a,x.b,x.c)"
   ]
  },
  {
   "cell_type": "code",
   "execution_count": 16,
   "metadata": {},
   "outputs": [
    {
     "name": "stdout",
     "output_type": "stream",
     "text": [
      "7\n"
     ]
    }
   ],
   "source": [
    "# E qualquer modificação em X é uma modificação em z.classeA\n",
    "\n",
    "y.master(x)\n",
    "\n",
    "print(z.classeA.c)"
   ]
  },
  {
   "cell_type": "code",
   "execution_count": 17,
   "metadata": {},
   "outputs": [
    {
     "ename": "AttributeError",
     "evalue": "'ClasseA' object has no attribute 'c'",
     "output_type": "error",
     "traceback": [
      "\u001b[1;31m---------------------------------------------------------------------------\u001b[0m",
      "\u001b[1;31mAttributeError\u001b[0m                            Traceback (most recent call last)",
      "\u001b[1;32m<ipython-input-17-b11dcd933b1e>\u001b[0m in \u001b[0;36m<module>\u001b[1;34m\u001b[0m\n\u001b[0;32m      3\u001b[0m \u001b[1;32mdel\u001b[0m \u001b[0mz\u001b[0m\u001b[1;33m.\u001b[0m\u001b[0mclasseA\u001b[0m\u001b[1;33m.\u001b[0m\u001b[0mc\u001b[0m\u001b[1;33m\u001b[0m\u001b[1;33m\u001b[0m\u001b[0m\n\u001b[0;32m      4\u001b[0m \u001b[1;33m\u001b[0m\u001b[0m\n\u001b[1;32m----> 5\u001b[1;33m \u001b[0mprint\u001b[0m\u001b[1;33m(\u001b[0m\u001b[0mx\u001b[0m\u001b[1;33m.\u001b[0m\u001b[0ma\u001b[0m\u001b[1;33m,\u001b[0m\u001b[0mx\u001b[0m\u001b[1;33m.\u001b[0m\u001b[0mb\u001b[0m\u001b[1;33m,\u001b[0m\u001b[0mx\u001b[0m\u001b[1;33m.\u001b[0m\u001b[0mc\u001b[0m\u001b[1;33m)\u001b[0m\u001b[1;33m\u001b[0m\u001b[1;33m\u001b[0m\u001b[0m\n\u001b[0m",
      "\u001b[1;31mAttributeError\u001b[0m: 'ClasseA' object has no attribute 'c'"
     ]
    }
   ],
   "source": [
    "#Deletar um atributo de uma referência a um objeto deleta o atributo de todas as referências àquele objeto\n",
    "\n",
    "del z.classeA.c\n",
    "\n",
    "print(x.a,x.b,x.c)"
   ]
  },
  {
   "cell_type": "code",
   "execution_count": 18,
   "metadata": {},
   "outputs": [
    {
     "name": "stdout",
     "output_type": "stream",
     "text": [
      "11\n",
      "<__main__.ClasseA object at 0x000001AEAC231370>\n",
      "<__main__.ClasseA object at 0x000001AEAC231370>\n",
      "3 8\n",
      "<__main__.ClasseA object at 0x000001AEAC231370>\n"
     ]
    },
    {
     "ename": "AttributeError",
     "evalue": "'ClasseC' object has no attribute 'classeA'",
     "output_type": "error",
     "traceback": [
      "\u001b[1;31m---------------------------------------------------------------------------\u001b[0m",
      "\u001b[1;31mAttributeError\u001b[0m                            Traceback (most recent call last)",
      "\u001b[1;32m<ipython-input-18-d97fccdc2bc9>\u001b[0m in \u001b[0;36m<module>\u001b[1;34m\u001b[0m\n\u001b[0;32m     11\u001b[0m \u001b[0mprint\u001b[0m\u001b[1;33m(\u001b[0m\u001b[0mx\u001b[0m\u001b[1;33m.\u001b[0m\u001b[0ma\u001b[0m\u001b[1;33m,\u001b[0m\u001b[0mx\u001b[0m\u001b[1;33m.\u001b[0m\u001b[0mb\u001b[0m\u001b[1;33m)\u001b[0m\u001b[1;33m\u001b[0m\u001b[1;33m\u001b[0m\u001b[0m\n\u001b[0;32m     12\u001b[0m \u001b[0mprint\u001b[0m\u001b[1;33m(\u001b[0m\u001b[0mzz\u001b[0m\u001b[1;33m.\u001b[0m\u001b[0mclasseA\u001b[0m\u001b[1;33m)\u001b[0m\u001b[1;33m\u001b[0m\u001b[1;33m\u001b[0m\u001b[0m\n\u001b[1;32m---> 13\u001b[1;33m \u001b[0mprint\u001b[0m\u001b[1;33m(\u001b[0m\u001b[0mz\u001b[0m\u001b[1;33m.\u001b[0m\u001b[0mclasseA\u001b[0m\u001b[1;33m)\u001b[0m\u001b[1;33m\u001b[0m\u001b[1;33m\u001b[0m\u001b[0m\n\u001b[0m",
      "\u001b[1;31mAttributeError\u001b[0m: 'ClasseC' object has no attribute 'classeA'"
     ]
    }
   ],
   "source": [
    "# Entretanto, deletar um atributo de um objeto que é referêcia a outro objeto não deleta o objeto.\n",
    "\n",
    "zz = ClasseC(8)\n",
    "zz.master(x)\n",
    "\n",
    "print(zz.classeA)\n",
    "print(z.classeA)\n",
    "\n",
    "del z.classeA\n",
    "\n",
    "print(x.a,x.b)\n",
    "print(zz.classeA) #Nem deleta outras referências que sejam atributos de outros objetos.\n",
    "print(z.classeA)"
   ]
  },
  {
   "cell_type": "markdown",
   "metadata": {},
   "source": [
    "## Método a-posteriori"
   ]
  },
  {
   "cell_type": "code",
   "execution_count": 42,
   "metadata": {},
   "outputs": [],
   "source": [
    "class ClasseD:\n",
    "    def __init__(self,a):\n",
    "        self.a = a"
   ]
  },
  {
   "cell_type": "code",
   "execution_count": 43,
   "metadata": {},
   "outputs": [],
   "source": [
    "A = ClasseD(9)"
   ]
  },
  {
   "cell_type": "code",
   "execution_count": 44,
   "metadata": {},
   "outputs": [],
   "source": [
    "class ClasseD:\n",
    "    def __init__(self,a):\n",
    "        self.a = a\n",
    "    def methodA(self):\n",
    "        self.b = self.a *2\n",
    "        print(self.b)"
   ]
  },
  {
   "cell_type": "code",
   "execution_count": 45,
   "metadata": {},
   "outputs": [
    {
     "ename": "AttributeError",
     "evalue": "'ClasseD' object has no attribute 'methodA'",
     "output_type": "error",
     "traceback": [
      "\u001b[1;31m---------------------------------------------------------------------------\u001b[0m",
      "\u001b[1;31mAttributeError\u001b[0m                            Traceback (most recent call last)",
      "\u001b[1;32m<ipython-input-45-703a53dab813>\u001b[0m in \u001b[0;36m<module>\u001b[1;34m\u001b[0m\n\u001b[0;32m      1\u001b[0m \u001b[1;31m# Embora objetos de ClasseD possuam o atributo 'methodA', o objeto A não possui.\u001b[0m\u001b[1;33m\u001b[0m\u001b[1;33m\u001b[0m\u001b[1;33m\u001b[0m\u001b[0m\n\u001b[0;32m      2\u001b[0m \u001b[1;33m\u001b[0m\u001b[0m\n\u001b[1;32m----> 3\u001b[1;33m \u001b[0mA\u001b[0m\u001b[1;33m.\u001b[0m\u001b[0mmethodA\u001b[0m\u001b[1;33m(\u001b[0m\u001b[1;33m)\u001b[0m\u001b[1;33m\u001b[0m\u001b[1;33m\u001b[0m\u001b[0m\n\u001b[0m",
      "\u001b[1;31mAttributeError\u001b[0m: 'ClasseD' object has no attribute 'methodA'"
     ]
    }
   ],
   "source": [
    "# Embora objetos de ClasseD possuam o atributo 'methodA', o objeto A não possui.\n",
    "\n",
    "A.methodA()"
   ]
  },
  {
   "cell_type": "code",
   "execution_count": 46,
   "metadata": {},
   "outputs": [
    {
     "name": "stdout",
     "output_type": "stream",
     "text": [
      "18\n"
     ]
    }
   ],
   "source": [
    "# Apenas recriando A como um objeto ClasseD o método é associado a esse.\n",
    "\n",
    "A = ClasseD(9)\n",
    "\n",
    "A.methodA()"
   ]
  },
  {
   "cell_type": "code",
   "execution_count": null,
   "metadata": {},
   "outputs": [],
   "source": []
  },
  {
   "cell_type": "code",
   "execution_count": null,
   "metadata": {},
   "outputs": [],
   "source": []
  }
 ],
 "metadata": {
  "kernelspec": {
   "display_name": "Python 3",
   "language": "python",
   "name": "python3"
  },
  "language_info": {
   "codemirror_mode": {
    "name": "ipython",
    "version": 3
   },
   "file_extension": ".py",
   "mimetype": "text/x-python",
   "name": "python",
   "nbconvert_exporter": "python",
   "pygments_lexer": "ipython3",
   "version": "3.8.3"
  }
 },
 "nbformat": 4,
 "nbformat_minor": 4
}
