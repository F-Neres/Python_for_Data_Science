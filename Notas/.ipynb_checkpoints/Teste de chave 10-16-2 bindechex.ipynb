{
 "cells": [
  {
   "cell_type": "markdown",
   "metadata": {},
   "source": [
    "## Testes e funções"
   ]
  },
  {
   "cell_type": "code",
   "execution_count": 1,
   "metadata": {},
   "outputs": [
    {
     "name": "stdout",
     "output_type": "stream",
     "text": [
      "123456789\n",
      "True\n",
      "\n",
      "\n",
      "456789\n",
      "True\n",
      "\n",
      "\n",
      "1234\n",
      "True\n",
      "\n",
      "\n",
      "456789\n",
      "True\n",
      "\n",
      "\n",
      "1235689\n",
      "True\n",
      "\n",
      "\n",
      "123456789\n",
      "True\n",
      "\n",
      "\n",
      "123456789\n",
      "True\n",
      "\n",
      "\n"
     ]
    }
   ],
   "source": [
    "## Função de corte de números inteiros\n",
    "# Resultado = \"tudo até [ai]\" + \"[mi] a [mf]\" + \"[-af] ao restante\"\n",
    "#Todos os números devem ser positivos\n",
    "#Igualar ai e mi não corta o começo\n",
    "#Igualar mf e af não corta o fim\n",
    "# Os valores de meio não adicionam seus índices\n",
    "\n",
    "\n",
    "def corteint(num, ai=0, mi=0, mf=1, af=1, head=True, mid=True, tail=True):\n",
    "    num = str(num)\n",
    "    if head:\n",
    "        começo = num[:ai]\n",
    "    else:\n",
    "        começo = ''\n",
    "    if mid:\n",
    "        meio = num[mi:-(mf)]\n",
    "    else:\n",
    "        meio = ''\n",
    "    if tail:\n",
    "        fim = num[-(af):]\n",
    "    else:\n",
    "        fim = ''\n",
    "        \n",
    "    result = começo+meio+fim\n",
    "    return int(result)\n",
    "\n",
    "print(corteint(123456789)) #Pelos parâmetros padrão, nada é cortado.\n",
    "print(corteint(123456789)==123456789)\n",
    "print('\\n')\n",
    "\n",
    "print(corteint(123456789,0,3)) #cortou os três primeiros.\n",
    "print(corteint(123456789,0,3)==456789)\n",
    "print('\\n')\n",
    "\n",
    "print(corteint(123456789,0,0,5,tail=False)) #exclui os 5 do fim.\n",
    "print(corteint(123456789,0,0,5,tail=False)==1234)\n",
    "print('\\n')\n",
    "\n",
    "print(corteint(123456789,mi=3,head=False)) #excluir os 3 primeiros\n",
    "print(corteint(123456789,mi=3,head=False)==456789)\n",
    "print('\\n')\n",
    "\n",
    "print(corteint(123456789,3,4,3,2)) # 3 primeiros, 2 do meio e 2 do fim\n",
    "#inclui 3 primeiros\n",
    "#exclui os 4 primeiros\n",
    "#exclui os últimos\n",
    "#inclui os 2 últimos\n",
    "print(corteint(123456789,3,4,3,2)==1235689)\n",
    "print('\\n')\n",
    "\n",
    "print(corteint(123456789))\n",
    "print(corteint(123456789)==123456789)\n",
    "print('\\n')\n",
    "\n",
    "print(corteint(123456789))\n",
    "print(corteint(123456789)==123456789)\n",
    "print('\\n')"
   ]
  },
  {
   "cell_type": "code",
   "execution_count": 2,
   "metadata": {},
   "outputs": [
    {
     "name": "stdout",
     "output_type": "stream",
     "text": [
      "var_int_bin\n",
      "0b111010110111100110100010101\n",
      "\n",
      "\n",
      "var_cut_bin\n",
      "111010110111100110100010101\n",
      "\n",
      "\n",
      "var_stringbin_intdehex\n",
      "21629599136202488495697421205761\n",
      "\n",
      "\n",
      "var_int_to_hex\n",
      "0x111010110111100110100010101\n",
      "\n",
      "\n",
      "var_cut_hex\n",
      "111010110111100110100010101\n",
      "\n",
      "\n",
      "var_bin_int\n",
      "123456789\n",
      "\n",
      "\n",
      "Deu certo?\n",
      "True\n"
     ]
    }
   ],
   "source": [
    "#codificando\n",
    "\n",
    "var_int = 123456789\n",
    "\n",
    "var_int_bin = bin(var_int)\n",
    "print('var_int_bin')\n",
    "print(var_int_bin)\n",
    "print('\\n')\n",
    "\n",
    "var_cut_bin = corteint(var_int_bin,0,2,head=False)\n",
    "print('var_cut_bin')\n",
    "print(var_cut_bin)\n",
    "print('\\n')\n",
    "\n",
    "var_stringbin_intdehex = int(str(var_cut_bin),16)\n",
    "print('var_stringbin_intdehex')\n",
    "print(var_stringbin_intdehex)\n",
    "print('\\n')\n",
    "\n",
    "##\n",
    "\n",
    "#decodificando\n",
    "\n",
    "var_int_to_hex = hex(var_stringbin_intdehex)\n",
    "print('var_int_to_hex')\n",
    "print(var_int_to_hex)\n",
    "print('\\n')\n",
    "\n",
    "var_cut_hex = corteint(var_int_to_hex,0,2,head=False)\n",
    "print('var_cut_hex')\n",
    "print(var_cut_hex)\n",
    "print('\\n')\n",
    "\n",
    "var_bin_int = int(str(var_cut_hex),2)\n",
    "print('var_bin_int')\n",
    "print(var_bin_int)\n",
    "print('\\n')\n",
    "\n",
    "print('Deu certo?')\n",
    "print(var_int == var_bin_int)"
   ]
  },
  {
   "cell_type": "code",
   "execution_count": 3,
   "metadata": {},
   "outputs": [
    {
     "name": "stdout",
     "output_type": "stream",
     "text": [
      "Deu certo?\n",
      "True\n"
     ]
    }
   ],
   "source": [
    "#Combinando tudo acima\n",
    "\n",
    "var_int = 123456789\n",
    "\n",
    "var_coded = int(str(corteint(bin(var_int),0,2,head=False)),16)\n",
    "\n",
    "##\n",
    "\n",
    "#decodificando\n",
    "\n",
    "var_decoded = int(str(corteint(hex(var_coded),0,2,head=False)),2)\n",
    "\n",
    "print('Deu certo?')\n",
    "print(var_int == var_decoded)\n"
   ]
  },
  {
   "cell_type": "markdown",
   "metadata": {},
   "source": [
    "## Encriptando"
   ]
  },
  {
   "cell_type": "code",
   "execution_count": 4,
   "metadata": {},
   "outputs": [],
   "source": [
    "#Variáveis iniciais entregues\n",
    "\n",
    "var1 = True\n",
    "\n",
    "var2 = False"
   ]
  },
  {
   "cell_type": "code",
   "execution_count": 5,
   "metadata": {},
   "outputs": [],
   "source": [
    "#Portas e chaves decriptados\n",
    "#A verificação será feita com portad, fechadurad, chave1r e chave2r\n",
    "\n",
    "from random import randint\n",
    "\n",
    "for _ in range(1000000): portad = randint(0, 1000000)\n",
    "\n",
    "\n",
    "for _ in range(999999): fechadura1 = randint(100000, 999999)\n",
    "fechadura1 = int(str(fechadura1)[:5])\n",
    "\n",
    "for _ in range(999999): fechadura2 = randint(100000, 999999)\n",
    "fechadura2 = int(str(fechadura2)[:5])\n",
    "\n",
    "\n",
    "if var1:\n",
    "    chave1d = portad+fechadura1\n",
    "else:\n",
    "    chave1d = portad-fechadura1\n",
    "\n",
    "if var2:\n",
    "    chave2d = portad+fechadura2\n",
    "else:\n",
    "    chave2d = portad-fechadura2"
   ]
  },
  {
   "cell_type": "code",
   "execution_count": 6,
   "metadata": {},
   "outputs": [],
   "source": [
    "#Criação porta e chaves.\n",
    "\n",
    "portac = int(bin(portad),16)\n",
    "portac = int(str(corteint(bin(portad),0,2,head=False)),16)\n",
    "\n",
    "chave1c = int(bin(chave1d),16)\n",
    "chave1c = int(str(corteint(bin(chave1d),0,2,head=False)),16)\n",
    "chave2c = int(bin(chave2d),16)\n",
    "chave2c = int(str(corteint(bin(chave2d),0,2,head=False)),16)"
   ]
  },
  {
   "cell_type": "code",
   "execution_count": 7,
   "metadata": {},
   "outputs": [],
   "source": [
    "#Anexando fechadura às chaves\n",
    "\n",
    "chave1f= int(str(fechadura1)[:3]+str(chave1c)+str(fechadura1)[3:])\n",
    "chave2f= int(str(fechadura2)[:3]+str(chave2c)+str(fechadura2)[3:])\n",
    "\n",
    "lenf1 = len(str(fechadura1))\n",
    "lenf2 = len(str(fechadura2))\n",
    "\n"
   ]
  },
  {
   "cell_type": "code",
   "execution_count": 8,
   "metadata": {
    "scrolled": false
   },
   "outputs": [
    {
     "name": "stdout",
     "output_type": "stream",
     "text": [
      "chave1d=622868\n",
      "chave2d=513176\n",
      "\n",
      "\n",
      "portad=593632\n",
      "\n",
      "\n",
      "fechadura1=29236\n",
      "fechadura2=80456\n",
      "\n",
      "\n",
      "portac=75576310488748736380928\n",
      "\n",
      "\n",
      "chave1c=75577463391496934850816\n",
      "chave2c=5037186393796109209600\n",
      "\n",
      "\n",
      "chave1f=2927557746339149693485081636\n",
      "chave2f=804503718639379610920960056\n",
      "\n",
      "\n",
      "lenf1=5\n",
      "lenf2=5\n"
     ]
    }
   ],
   "source": [
    "\n",
    "print('chave1d='+str(chave1d))\n",
    "print('chave2d='+str(chave2d))\n",
    "print('\\n')\n",
    "print('portad='+str(portad))\n",
    "print('\\n')\n",
    "print('fechadura1='+str(fechadura1))\n",
    "print('fechadura2='+str(fechadura2))\n",
    "print('\\n')\n",
    "print('portac='+str(portac))\n",
    "print('\\n')\n",
    "print('chave1c='+str(chave1c))\n",
    "print('chave2c='+str(chave2c))\n",
    "print('\\n')\n",
    "print('chave1f='+str(chave1f))\n",
    "print('chave2f='+str(chave2f))\n",
    "print('\\n')\n",
    "print('lenf1='+str(lenf1))\n",
    "print('lenf2='+str(lenf2))"
   ]
  },
  {
   "cell_type": "code",
   "execution_count": 9,
   "metadata": {},
   "outputs": [
    {
     "name": "stdout",
     "output_type": "stream",
     "text": [
      "  porta entregue = 75576310488748736380928\n",
      "chave 1 entregue = 2927557746339149693485081636\n",
      "chave 2 entregue = 804503718639379610920960056\n"
     ]
    }
   ],
   "source": [
    "#Arquivar os valores de chavef1, chavef2 e portac num arquivo individual.\n",
    "print('  porta entregue = '+str(portac))\n",
    "print('chave 1 entregue = '+str(chave1f))\n",
    "print('chave 2 entregue = '+str(chave2f))"
   ]
  },
  {
   "cell_type": "markdown",
   "metadata": {},
   "source": [
    "## Decriptando"
   ]
  },
  {
   "cell_type": "code",
   "execution_count": 10,
   "metadata": {
    "scrolled": true
   },
   "outputs": [],
   "source": [
    "#Testes\n",
    "\n",
    "dchave1c = int(str(chave1f)[3:-2])\n"
   ]
  },
  {
   "cell_type": "code",
   "execution_count": 11,
   "metadata": {
    "scrolled": true
   },
   "outputs": [
    {
     "name": "stdout",
     "output_type": "stream",
     "text": [
      "dchave1c 75577463391496934850816\n",
      "dchave2c 5037186393796109209600\n",
      "dfechadura1 29236\n",
      "dfechadura2 80456\n",
      "True\n",
      "True\n",
      "True\n",
      "True\n"
     ]
    }
   ],
   "source": [
    "#Usando primeiramente as informações de chavef1 e chavef2\n",
    "#Criar chavec1, chavec2 e fechadura. Sabe-se que o fator de separação é 3 do início e 2 do fim\n",
    "#Usarei a letra d na frente de cada variável daqui para frente para distinguir das variáveis originais.\n",
    "\n",
    "dchave1c = int(str(chave1f)[3:-2])\n",
    "dchave2c = int(str(chave2f)[3:-2])\n",
    "\n",
    "dfechadura1 = int(str(chave1f)[:3]+str(chave1f)[-2:])\n",
    "dfechadura2 = int(str(chave2f)[:3]+str(chave2f)[-2:])\n",
    "\n",
    "\n",
    "print('dchave1c '+ str(chave1c))\n",
    "print('dchave2c '+ str(chave2c))\n",
    "print('dfechadura1 '+ str(fechadura1))\n",
    "print('dfechadura2 '+ str(fechadura2))\n",
    "print(dchave1c == chave1c)\n",
    "print(dchave2c == chave2c)\n",
    "print(dfechadura1 == fechadura1)\n",
    "print(dfechadura2 == fechadura2)"
   ]
  },
  {
   "cell_type": "code",
   "execution_count": 12,
   "metadata": {
    "scrolled": true
   },
   "outputs": [
    {
     "name": "stdout",
     "output_type": "stream",
     "text": [
      "porta = 593632\n",
      "chave 1 = 622868\n",
      "chave 2 = 513176\n",
      "True\n",
      "True\n",
      "True\n"
     ]
    }
   ],
   "source": [
    "#Decriptando as chaves e a porta.\n",
    "\n",
    "dportad = int(str(corteint(hex(portac),0,2,head=False)),2)\n",
    "\n",
    "dchave1d = int(str(corteint(hex(dchave1c),0,2,head=False)),2)\n",
    "\n",
    "dchave2d = int(str(corteint(hex(dchave2c),0,2,head=False)),2)\n",
    "\n",
    "\n",
    "print('porta = '+str(dportad))\n",
    "print('chave 1 = '+str(dchave1d))\n",
    "print('chave 2 = '+str(dchave2d))\n",
    "\n",
    "print(dportad == portad)\n",
    "print(dchave1d == chave1d)\n",
    "print(dchave2d == chave2d)"
   ]
  },
  {
   "cell_type": "code",
   "execution_count": 13,
   "metadata": {},
   "outputs": [
    {
     "name": "stdout",
     "output_type": "stream",
     "text": [
      "var1 = True\n",
      "var2 = False\n"
     ]
    }
   ],
   "source": [
    "#Recriando as variáveis iniciais\n",
    "\n",
    "if dchave1d == dportad+dfechadura1: \n",
    "    dvar1 = True\n",
    "elif dchave1d == dportad+dfechadura1:\n",
    "    dvar1 == False\n",
    "else:\n",
    "    dvar1 = \"variável adulterada\"\n",
    "\n",
    "if dchave2d == dportad+dfechadura2: \n",
    "    dvar2 = True\n",
    "elif dchave2d == dportad+dfechadura2:\n",
    "    dvar2 = False\n",
    "else:\n",
    "    dvar2 = \"variável adulterada\"\n",
    "\n",
    "print('var1 = '+str(var1))\n",
    "print('var2 = '+str(var2))"
   ]
  },
  {
   "cell_type": "code",
   "execution_count": 14,
   "metadata": {},
   "outputs": [
    {
     "name": "stdout",
     "output_type": "stream",
     "text": [
      "\n",
      "\n",
      "=\n"
     ]
    }
   ],
   "source": [
    "\n",
    "print('\\n')\n",
    "print('='+str())"
   ]
  },
  {
   "cell_type": "code",
   "execution_count": null,
   "metadata": {},
   "outputs": [],
   "source": []
  }
 ],
 "metadata": {
  "kernelspec": {
   "display_name": "Python 3",
   "language": "python",
   "name": "python3"
  },
  "language_info": {
   "codemirror_mode": {
    "name": "ipython",
    "version": 3
   },
   "file_extension": ".py",
   "mimetype": "text/x-python",
   "name": "python",
   "nbconvert_exporter": "python",
   "pygments_lexer": "ipython3",
   "version": "3.8.3"
  }
 },
 "nbformat": 4,
 "nbformat_minor": 4
}
