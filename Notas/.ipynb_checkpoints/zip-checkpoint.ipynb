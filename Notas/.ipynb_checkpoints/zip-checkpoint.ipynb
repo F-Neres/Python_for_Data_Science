{
 "cells": [
  {
   "cell_type": "markdown",
   "metadata": {},
   "source": [
    "A função zip cria tuplas de elementos com o mesmo index de coleções diferentes"
   ]
  },
  {
   "cell_type": "code",
   "execution_count": 3,
   "metadata": {},
   "outputs": [
    {
     "name": "stdout",
     "output_type": "stream",
     "text": [
      "<zip object at 0x000001D1F87C8E40>\n",
      "[('a', 1), ('b', 2), ('c', 3), ('d', 4), ('e', 5)]\n"
     ]
    }
   ],
   "source": [
    "#O objeto criado pelo zip é um iterador.\n",
    "\n",
    "listaA = ['a','b','c','d','e']\n",
    "listaB = [1,2,3,4,5]\n",
    "\n",
    "zipado = zip(listaA,listaB)\n",
    "\n",
    "print(zipado)\n",
    "\n",
    "print(list(zipado))"
   ]
  },
  {
   "cell_type": "code",
   "execution_count": 6,
   "metadata": {},
   "outputs": [
    {
     "name": "stdout",
     "output_type": "stream",
     "text": [
      "{'a': 1, 'b': 2, 'c': 3, 'd': 4, 'e': 5}\n"
     ]
    }
   ],
   "source": [
    "#Uma aplicação recorrete do zip é na criação de dicionários a partir de outras coleções\n",
    "\n",
    "dictzip = {}\n",
    "for i,j in zip(listaA,listaB):\n",
    "    dictzip[i] = j\n",
    "print(dictzip) "
   ]
  },
  {
   "cell_type": "code",
   "execution_count": 7,
   "metadata": {},
   "outputs": [
    {
     "name": "stdout",
     "output_type": "stream",
     "text": [
      "{'a': 1, 'b': 2, 'c': 3, 'd': 4, 'e': 5}\n"
     ]
    }
   ],
   "source": [
    "#A mesma funcionalidade acima utilizando dict comprehention\n",
    "\n",
    "dictcomprehended = {i:j for i,j in zip(listaA,listaB)}\n",
    "\n",
    "print(dictcomprehended)"
   ]
  },
  {
   "cell_type": "code",
   "execution_count": 21,
   "metadata": {},
   "outputs": [
    {
     "name": "stdout",
     "output_type": "stream",
     "text": [
      "{'a': 'a', 'b': 'b', 'c': 'c', 'd': 'd', 'e': 'e'}\n"
     ]
    }
   ],
   "source": [
    "#Como o pedido de apenas valores ou apenas chaves de um dicionário é dado como uma coleção indexada,\n",
    "# também é possível lidar diretamente com elas.\n",
    "\n",
    "#Objetos de dict não são evocáveis, mas podem ser pedidos como listas\n",
    "\n",
    "dictkeys = {abra:cadabra for abra,cadabra in zip(list(dictzip.keys()),list(dictzip.keys()))}\n",
    "print(dictkeys)"
   ]
  },
  {
   "cell_type": "code",
   "execution_count": null,
   "metadata": {},
   "outputs": [],
   "source": []
  }
 ],
 "metadata": {
  "kernelspec": {
   "display_name": "Python 3",
   "language": "python",
   "name": "python3"
  },
  "language_info": {
   "codemirror_mode": {
    "name": "ipython",
    "version": 3
   },
   "file_extension": ".py",
   "mimetype": "text/x-python",
   "name": "python",
   "nbconvert_exporter": "python",
   "pygments_lexer": "ipython3",
   "version": "3.8.3"
  }
 },
 "nbformat": 4,
 "nbformat_minor": 4
}
