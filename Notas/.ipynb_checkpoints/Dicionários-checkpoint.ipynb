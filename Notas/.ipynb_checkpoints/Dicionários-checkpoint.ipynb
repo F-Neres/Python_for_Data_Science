{
 "cells": [
  {
   "cell_type": "code",
   "execution_count": 1,
   "metadata": {},
   "outputs": [],
   "source": [
    "dict1 = {'k1':4,'k2':6,'k3':8}\n",
    "dict2 = {'k1':3,'k2':5,'k3':7}\n",
    "dict3 = {'k1':2,'k2':10,'k3':17}"
   ]
  },
  {
   "cell_type": "code",
   "execution_count": 2,
   "metadata": {},
   "outputs": [
    {
     "name": "stdout",
     "output_type": "stream",
     "text": [
      "3\n",
      "5\n"
     ]
    }
   ],
   "source": [
    "# Normalmente, igualar cria uma cópia autônoma da variável original.\n",
    "\n",
    "jjj = 3\n",
    "kkk = jjj\n",
    "\n",
    "kkk += 2\n",
    "\n",
    "print(jjj)\n",
    "print(kkk)"
   ]
  },
  {
   "cell_type": "code",
   "execution_count": 3,
   "metadata": {},
   "outputs": [
    {
     "name": "stdout",
     "output_type": "stream",
     "text": [
      "{'k1': 4, 'k2': 18, 'k3': 8}\n",
      "{'k1': 4, 'k2': 18, 'k3': 8}\n"
     ]
    }
   ],
   "source": [
    "#Especificidade dos dicionários:\n",
    "# o símbolo de igualdade não cria uma cópia, mas uma chamada\n",
    "#O que ocorre com a chamada, ocorre com o dicionário original\n",
    "# Igualar a outro dicionário não altera o dicionário original, mas altera a chamada para outro dicionário.\n",
    "\n",
    "dict_atual = dict1\n",
    "dict_atual['k2'] += dict_atual['k2']*2\n",
    "\n",
    "print(dict_atual)\n",
    "print(dict1)"
   ]
  },
  {
   "cell_type": "code",
   "execution_count": 4,
   "metadata": {},
   "outputs": [
    {
     "name": "stdout",
     "output_type": "stream",
     "text": [
      "{'k1': 4, 'k2': 18}\n"
     ]
    }
   ],
   "source": [
    "del dict_atual['k3']\n",
    "print(dict1)"
   ]
  },
  {
   "cell_type": "code",
   "execution_count": 5,
   "metadata": {},
   "outputs": [
    {
     "name": "stdout",
     "output_type": "stream",
     "text": [
      "{'k1': 3, 'k2': 15, 'k3': 7}\n",
      "{'k1': 3, 'k2': 5, 'k3': 7}\n",
      "{'k1': 3, 'k2': 15, 'k3': 7}\n"
     ]
    }
   ],
   "source": [
    "#É preciso utilizar o comando .uptade para copiar os itens de um dicionário para outro.\n",
    "#receptor.update(fonte)\n",
    "#qualquer item do dict fonte que tiver a mesma chave do dict receptor acaba por sobrescrevê-lo.\n",
    "\n",
    "dict_atual.update(dict2)\n",
    "dict_atual['k2'] += dict_atual['k2']*2\n",
    "\n",
    "print(dict_atual)\n",
    "print(dict2)\n",
    "print(dict1)"
   ]
  },
  {
   "cell_type": "code",
   "execution_count": 6,
   "metadata": {},
   "outputs": [
    {
     "name": "stdout",
     "output_type": "stream",
     "text": [
      "{'k1': 3, 'k2': 5, 'k3': 5}\n",
      "{'k1': 3, 'k2': 5, 'k3': 7}\n",
      "{'k1': 2, 'k2': 10, 'k3': 17}\n"
     ]
    }
   ],
   "source": [
    "#Antes de usar o update, é preciso criar a cópia, mesmo que seja vazia.\n",
    "#O comando .update transfere o conteúdo de um dict a outro.\n",
    "\n",
    "dict_atual_2 = {}\n",
    "dict_atual_2.update(dict2)\n",
    "\n",
    "dict_atual_2['k3'] = dict_atual_2['k3']-2\n",
    "\n",
    "print(dict_atual_2)\n",
    "print(dict2)\n",
    "\n",
    "dict_atual_2.update(dict3)\n",
    "\n",
    "print(dict_atual_2)"
   ]
  },
  {
   "cell_type": "code",
   "execution_count": 7,
   "metadata": {},
   "outputs": [
    {
     "name": "stdout",
     "output_type": "stream",
     "text": [
      "{'k1': 3, 'k2': 5, 'k3': 7}\n",
      "{'k1': 3, 'k2': 5, 'k3': 888, 'ki': 8, 'kii': 88}\n"
     ]
    }
   ],
   "source": [
    "dictAppendable = {'ki':8,'kii':88,'k3':888}\n",
    "\n",
    "#Aqui, como o dict2 tem chaves iguais às do dict_atual_2, elas são substituídas\n",
    "dict_atual_2.update(dict2)\n",
    "print(dict_atual_2)\n",
    "\n",
    "#Aqui, como o dictAppendable tem chaves distintas, elas são adicionadas.\n",
    "#Umas das chaves é igual, então ela sobrescreve como visto anteriormente\n",
    "dict_atual_2.update(dictAppendable)\n",
    "print(dict_atual_2)"
   ]
  },
  {
   "cell_type": "code",
   "execution_count": 17,
   "metadata": {},
   "outputs": [
    {
     "name": "stdout",
     "output_type": "stream",
     "text": [
      "{'k1': 3, 'k2': 5, 'k3': 888, 'ki': 8, 'kii': 88}\n"
     ]
    }
   ],
   "source": [
    "#Uma forma (nada conveniente) de garantir que um dicionário será sobrescrito não obstante as chaves é:\n",
    "#1 - Deletar o dicionário que seria sobrescrito\n",
    "#2 - Recriar o dicionário que seria sobrescrito\n",
    "#3 - Utilizar o método .append\n",
    "\n",
    "def override(self,dict_overrider):\n",
    "    del self\n",
    "    self = {}\n",
    "    self.update(dict_overrider)\n",
    "\n",
    "override(dict_atual_2,dictAppendable)\n",
    "print(dict_atual_2)"
   ]
  },
  {
   "cell_type": "code",
   "execution_count": null,
   "metadata": {},
   "outputs": [],
   "source": []
  }
 ],
 "metadata": {
  "kernelspec": {
   "display_name": "Python 3",
   "language": "python",
   "name": "python3"
  },
  "language_info": {
   "codemirror_mode": {
    "name": "ipython",
    "version": 3
   },
   "file_extension": ".py",
   "mimetype": "text/x-python",
   "name": "python",
   "nbconvert_exporter": "python",
   "pygments_lexer": "ipython3",
   "version": "3.8.3"
  }
 },
 "nbformat": 4,
 "nbformat_minor": 4
}
