{
 "cells": [
  {
   "cell_type": "code",
   "execution_count": null,
   "metadata": {},
   "outputs": [],
   "source": [
    "lista = [i+1 for i in range(int(input('elementos ')))]\n",
    "comb = int(input('tamanho das combinações '))\n",
    "índices = {i:i for i in range(comb)}\n",
    "\n",
    "print(lista)\n",
    "print(índices)"
   ]
  },
  {
   "cell_type": "code",
   "execution_count": null,
   "metadata": {
    "scrolled": false
   },
   "outputs": [],
   "source": [
    "lista = [i+1 for i in range(int(input('elementos ')))]\n",
    "comb = int(input('tamanho das combinações '))\n",
    "índices = {i:i for i in range(comb)}\n",
    "\n",
    "print(lista)\n",
    "print(índices)\n",
    "\n",
    "combinações1 = []\n",
    "while True:\n",
    "    a=[]\n",
    "    for i,j in índices.items():\n",
    "        a.append(lista[j])\n",
    "    print(a)\n",
    "    combinações1.append(tuple(a))\n",
    "    for i,j in sorted(índices.items(),reverse=True):\n",
    "        if (i == comb-1):\n",
    "            índices[i] += 1\n",
    "        elif índices[i+1] == (len(lista)-comb+2+i):\n",
    "            índices[i] += 1\n",
    "        else:\n",
    "            pass\n",
    "    if (índices[0] != len(lista)-comb+1):\n",
    "        for i,j in índices.items():\n",
    "            if (índices[i] == len(lista)-comb+1+i):\n",
    "                índices[i] = índices[i-1] +1\n",
    "    else:\n",
    "        break\n",
    "        \n",
    "print(a)\n",
    "print(combinações1)"
   ]
  },
  {
   "cell_type": "code",
   "execution_count": 3,
   "metadata": {},
   "outputs": [],
   "source": [
    "def Combinações(resultado,comb):\n",
    "    resultado = []\n",
    "    índices = {i:i for i in range(comb)}\n",
    "    while True:\n",
    "        a=[]\n",
    "        for i,j in índices.items():\n",
    "            a.append(lista[j])\n",
    "        resultado.append(tuple(a))\n",
    "        for i,j in sorted(índices.items(),reverse=True):\n",
    "            if (i == comb-1):\n",
    "                índices[i] += 1\n",
    "            elif índices[i+1] == (len(lista)-comb+2+i):\n",
    "                índices[i] += 1\n",
    "            else:\n",
    "                pass\n",
    "        if (índices[0] != len(lista)-comb+1):\n",
    "            for i,j in índices.items():\n",
    "                if (índices[i] == len(lista)-comb+1+i):\n",
    "                    índices[i] = índices[i-1] +1\n",
    "        else:\n",
    "            break\n",
    "    return resultado"
   ]
  },
  {
   "cell_type": "code",
   "execution_count": 4,
   "metadata": {},
   "outputs": [
    {
     "name": "stdout",
     "output_type": "stream",
     "text": [
      "elementos 15\n",
      "itens por combinação 5\n",
      "True\n"
     ]
    }
   ],
   "source": [
    "lista = [i+1 for i in range(int(input('elementos ')))]\n",
    "escolhe = int(input('itens por combinação '))\n",
    "\n",
    "from itertools import combinations\n",
    "\n",
    "combinações1 = Combinações(lista,escolhe)\n",
    "combinações2 = list(combinations(lista,escolhe))\n",
    "\n",
    "print(combinações1==combinações2)"
   ]
  }
 ],
 "metadata": {
  "kernelspec": {
   "display_name": "base",
   "language": "python",
   "name": "python3"
  },
  "language_info": {
   "name": "python",
   "version": "3.9.12"
  },
  "vscode": {
   "interpreter": {
    "hash": "67555092bde78f01d62c7ad50c905647fa560d4e0d76a0ae431fa4c087689397"
   }
  }
 },
 "nbformat": 4,
 "nbformat_minor": 4
}
