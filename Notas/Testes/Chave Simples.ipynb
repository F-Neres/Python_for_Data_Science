{
 "cells": [
  {
   "cell_type": "code",
   "execution_count": 1,
   "metadata": {},
   "outputs": [],
   "source": [
    "#Random Pack\n",
    "from random import randint\n",
    "\n",
    "portad = randint(10000, 99999) #cria uma porta 'portad'\n",
    "\n",
    "print(portad)\n",
    "print('')\n",
    "\n",
    "Um = False\n",
    "Dois = False\n",
    "for i in range(0,10000):\n",
    "    aleatório = randint(1, 2)\n",
    "    if aleatório == 2:\n",
    "        Dois = True\n",
    "    if aleatório == 1:\n",
    "        Um = True\n",
    "print('Teve 1 nesse bolo? '+str(Um))\n",
    "print('Teve 2 nesse bolo? '+str(Dois))"
   ]
  },
  {
   "cell_type": "code",
   "execution_count": 2,
   "metadata": {},
   "outputs": [],
   "source": [
    "#Função de corte\n",
    "def corteint(num, ai=0, mi=0, mf=1, af=1, head=True, mid=True, tail=True):\n",
    "    num = str(num)\n",
    "    if head:\n",
    "        começo = num[:ai]\n",
    "    else:\n",
    "        começo = ''\n",
    "    if mid:\n",
    "        meio = num[mi:-(mf)]\n",
    "    else:\n",
    "        meio = ''\n",
    "    if tail:\n",
    "        fim = num[-(af):]\n",
    "    else:\n",
    "        fim = ''\n",
    "        \n",
    "    result = começo+meio+fim\n",
    "    return int(result)"
   ]
  },
  {
   "cell_type": "markdown",
   "metadata": {},
   "source": [
    "## Função de Encriptação"
   ]
  },
  {
   "cell_type": "code",
   "execution_count": 3,
   "metadata": {},
   "outputs": [],
   "source": [
    "def encrypt(lendoor_ = 6,lenhole_ = 6,divhole_ = 3,*boolvar_):\n",
    "    if divhole_>lenhole_:\n",
    "        print(' Parâmetro de divisão da fechadura não pode ser maior que o tamanho da fechadura')\n",
    "    else:\n",
    "        liminfdoor_ = '1'\n",
    "        limaxdoor_ = '9'\n",
    "        liminfhole_ = '1'\n",
    "        limaxhole_ = '9'\n",
    "\n",
    "        for i in range(0,lendoor_): #estabelece o range da porta\n",
    "            liminfdoor_ = liminfdoor_ + '0'\n",
    "            limaxdoor_ = limaxdoor_ + '9'\n",
    "        liminfdoor_ = int(liminfdoor_)\n",
    "        limaxdoor_ = int(limaxdoor_)\n",
    "        print('liminfdoor_'+str(liminfdoor_))\n",
    "        print('limaxdoor_'+str(limaxdoor_))\n",
    "        print('')\n",
    "\n",
    "        for i in range(0,lenhole_ - 1): #estabelece o range da fechadura\n",
    "            liminfhole_ = liminfhole_ + '0'\n",
    "            limaxhole_ = limaxhole_ + '9'\n",
    "        liminfhole_ = int(liminfhole_)\n",
    "        limaxhole_ = int(limaxhole_)\n",
    "        print('liminfhole_'+str(liminfhole_))\n",
    "        print('limaxhole_'+str(limaxhole_))\n",
    "        print('')\n",
    "\n",
    "        portad = randint(liminfdoor_, limaxdoor_) #cria uma porta 'portad'\n",
    "\n",
    "        fechalista = [] #Cada fechadura é um item da lista de fechaduras\n",
    "        for i in boolvar_: # para variável encriptada:\n",
    "            fechadura = randint(liminfhole_, limaxhole_) #cria uma fechadura\n",
    "            fechalista.append(fechadura) #adiciona a fechadura à lista de fechaduras\n",
    "\n",
    "        chavelista = [] #Cada chave é um item da lista de chaves\n",
    "        ind = 0 #É preciso criar uma variável de indexação fora do loop\n",
    "        for i in boolvar_:\n",
    "            if i == True:\n",
    "                chaved = portad+fechalista[ind]\n",
    "                print('chave true = '+str(chaved))\n",
    "            else:\n",
    "                chaved = portad-fechalista[ind]\n",
    "                print('chave false = '+str(chaved))\n",
    "            ind += 1\n",
    "            chavelista.append(chaved)\n",
    "\n",
    "        chaves = []\n",
    "        for i in range(len(boolvar_)): #Cortando fechaduras para integrarem as chaves.\n",
    "            fechaduraini = str(fechalista[i])[:(divhole_-lenhole_)]\n",
    "            chavemid = str(chavelista[i])\n",
    "            fechadurafim = str(fechalista[i])[(divhole_):]\n",
    "            chavef = fechaduraini+chavemid+fechadurafim\n",
    "            chavef = int(chavef)\n",
    "            chaves.append(chavef)\n",
    "\n",
    "        print('lista de chaves')\n",
    "        print(chavelista)\n",
    "        print('')\n",
    "        print('lista de fechaduras')\n",
    "        print(fechalista)\n",
    "        print('')\n",
    "        \n",
    "        return portad, tuple(chaves)"
   ]
  },
  {
   "cell_type": "code",
   "execution_count": 4,
   "metadata": {},
   "outputs": [
    {
     "name": "stdout",
     "output_type": "stream",
     "text": [
      "liminfdoor_10000000\n",
      "limaxdoor_99999999\n",
      "\n",
      "liminfhole_100000\n",
      "limaxhole_999999\n",
      "\n",
      "chave false = 15369984\n",
      "chave true = 16197992\n",
      "chave false = 15229970\n",
      "lista de chaves\n",
      "[15369984, 16197992, 15229970]\n",
      "\n",
      "lista de fechaduras\n",
      "[615487, 212521, 755501]\n",
      "\n",
      "(15985471, (15369984615487, 16197992212521, 15229970755501))\n"
     ]
    }
   ],
   "source": [
    "#Testando a função\n",
    "\n",
    "varcripting0 = False\n",
    "\n",
    "varcripting1 = True\n",
    "\n",
    "varcripting2 = False\n",
    "\n",
    "resultado = encrypt(7,6,0,varcripting0,varcripting1,varcripting2)\n",
    "\n",
    "print(resultado)"
   ]
  },
  {
   "cell_type": "markdown",
   "metadata": {},
   "source": [
    "## Função Decriptação"
   ]
  },
  {
   "cell_type": "code",
   "execution_count": 5,
   "metadata": {},
   "outputs": [],
   "source": [
    "def decrypt(lenhole_,divhole_,porta,*chaves):\n",
    "    chavesd = []\n",
    "    fechadurasd = []\n",
    "    for i in chaves:\n",
    "        chaved = str(i)[(divhole_):(divhole_-lenhole_)]\n",
    "        chaved = int(chaved)\n",
    "        chavesd.append(chaved)\n",
    "        \n",
    "        fechadurad = int(str(i)[:(divhole_)]+str(i)[(divhole_-lenhole_):])\n",
    "        fechadurasd.append(fechadurad)\n",
    "    \n",
    "    boollist = []\n",
    "    for i in range(len(chaves)):\n",
    "        if chavesd[i] == porta-fechadurasd[i]:\n",
    "            boolvar = False\n",
    "        elif chavesd[i] == porta+fechadurasd[i]:\n",
    "            boolvar = True\n",
    "        else:\n",
    "            boolvar = 'Chave '+str(i)+' foi adulterada.'\n",
    "        boollist.append(boolvar)\n",
    "        dvar2 = \"variável adulterada\"\n",
    "\n",
    "    print('lista de chaves')\n",
    "    print(chavesd)\n",
    "    print('')\n",
    "    print('Lista de fechaduras')\n",
    "    print(fechadurasd)\n",
    "    print('')\n",
    "    \n",
    "    return tuple(boollist)"
   ]
  },
  {
   "cell_type": "code",
   "execution_count": 6,
   "metadata": {
    "scrolled": false
   },
   "outputs": [
    {
     "name": "stdout",
     "output_type": "stream",
     "text": [
      "lista de chaves recebidas\n",
      "15369984615487 16197992212521 15229970755501\n",
      "\n",
      "lista de chaves\n",
      "[15369984, 16197992, 15229970]\n",
      "\n",
      "Lista de fechaduras\n",
      "[615487, 212521, 755501]\n",
      "\n",
      "(False, True, False)\n"
     ]
    }
   ],
   "source": [
    "#Pegando resultados da função anterior\n",
    "#Comparando resultados\n",
    "print('lista de chaves recebidas')\n",
    "print(resultado[1][0],resultado[1][1],resultado[1][2])\n",
    "print('')\n",
    "\n",
    "boolvars = decrypt(6,0,resultado[0],resultado[1][0],resultado[1][1],resultado[1][2])\n",
    "\n",
    "print(boolvars)"
   ]
  },
  {
   "cell_type": "code",
   "execution_count": 7,
   "metadata": {},
   "outputs": [],
   "source": [
    "del boolvars"
   ]
  },
  {
   "cell_type": "markdown",
   "metadata": {},
   "source": [
    "### Com alteração de base"
   ]
  },
  {
   "cell_type": "code",
   "execution_count": 23,
   "metadata": {},
   "outputs": [],
   "source": [
    "#Encriptação\n",
    "\n",
    "def encryptx(lendoor_ = 6,lenhole_ = 6,divhole_ = 3,*boolvar_):\n",
    "    if divhole_>lenhole_:\n",
    "        print(' Parâmetro de divisão da fechadura não pode ser maior que o tamanho da fechadura')\n",
    "    else:\n",
    "        liminfdoor_ = '1'\n",
    "        limaxdoor_ = '9'\n",
    "        liminfhole_ = '1'\n",
    "        limaxhole_ = '9'\n",
    "\n",
    "        for i in range(0,lendoor_): #estabelece o range da porta\n",
    "            liminfdoor_ = liminfdoor_ + '0'\n",
    "            limaxdoor_ = limaxdoor_ + '9'\n",
    "        liminfdoor_ = int(liminfdoor_)\n",
    "        limaxdoor_ = int(limaxdoor_)\n",
    "        print('liminfdoor_'+str(liminfdoor_))\n",
    "        print('limaxdoor_'+str(limaxdoor_))\n",
    "        print('')\n",
    "\n",
    "        for i in range(0,lenhole_ - 1): #estabelece o range da fechadura\n",
    "            liminfhole_ = liminfhole_ + '0'\n",
    "            limaxhole_ = limaxhole_ + '9'\n",
    "        liminfhole_ = int(liminfhole_)\n",
    "        limaxhole_ = int(limaxhole_)\n",
    "        print('liminfhole_'+str(liminfhole_))\n",
    "        print('limaxhole_'+str(limaxhole_))\n",
    "        print('')\n",
    "\n",
    "        portad = randint(liminfdoor_, limaxdoor_) #cria uma porta 'portad'\n",
    "\n",
    "        fechalista = [] #Cada fechadura é um item da lista de fechaduras\n",
    "        for i in boolvar_: # para variável encriptada:\n",
    "            fechadura = randint(liminfhole_, limaxhole_) #cria uma fechadura\n",
    "            fechalista.append(fechadura) #adiciona a fechadura à lista de fechaduras\n",
    "\n",
    "        chavelista = [] #Cada chave é um item da lista de chaves\n",
    "        ind = 0 #É preciso criar uma variável de indexação fora do loop\n",
    "        for i in boolvar_:\n",
    "            if i == True:\n",
    "                chaved = portad+fechalista[ind]\n",
    "                print('chave true = '+str(chaved))\n",
    "            else:\n",
    "                chaved = portad-fechalista[ind]\n",
    "                print('chave false = '+str(chaved))\n",
    "            ind += 1\n",
    "            chavelista.append(chaved)\n",
    "\n",
    "        #portac = int(bin(portad),16)\n",
    "        portac = int(str(corteint(bin(portad),0,2,head=False)),16)\n",
    "        \n",
    "        chaves = []\n",
    "        for i in range(len(boolvar_)): #Cortando fechaduras para integrarem as chaves.\n",
    "            fechaduraini = str(fechalista[i])[:(divhole_)]\n",
    "            \n",
    "            #chave1c = int(bin(chavelista[i]),16)\n",
    "            chave1c = int(str(corteint(bin(chavelista[i]),0,2,head=False)),16)\n",
    "            chavemid = str(chave1c)\n",
    "            \n",
    "            \n",
    "            \n",
    "            fechadurafim = str(fechalista[i])[(lenhole_-divhole_-1):]\n",
    "            chavef = fechaduraini+chavemid+fechadurafim\n",
    "            chavef = int(chavef)\n",
    "            chaves.append(chavef)\n",
    "\n",
    "        print('lista de chaves')\n",
    "        print(chavelista)\n",
    "        print('')\n",
    "        print('lista de fechaduras')\n",
    "        print(fechalista)\n",
    "        print('')\n",
    "        \n",
    "        return portad, tuple(chaves)"
   ]
  },
  {
   "cell_type": "code",
   "execution_count": 24,
   "metadata": {},
   "outputs": [
    {
     "name": "stdout",
     "output_type": "stream",
     "text": [
      "liminfdoor_10000000\n",
      "limaxdoor_99999999\n",
      "\n",
      "liminfhole_100000\n",
      "limaxhole_999999\n",
      "\n",
      "chave false = 53373783\n",
      "chave true = 55085904\n",
      "chave false = 53573499\n",
      "lista de chaves\n",
      "[53373783, 55085904, 53573499]\n",
      "\n",
      "lista de fechaduras\n",
      "[803661, 908460, 603945]\n",
      "\n",
      "(54177444, (13468981861310622659792465431211, 13471883233113317492431195340800, 13468993144999507757011126886575))\n"
     ]
    }
   ],
   "source": [
    "#Testando a função\n",
    "\n",
    "varcripting0x = False\n",
    "\n",
    "varcripting1x = True\n",
    "\n",
    "varcripting2x = False\n",
    "\n",
    "resultadox = encryptx(7,6,0,varcripting0x,varcripting1x,varcripting2x)\n",
    "\n",
    "print(resultadox)"
   ]
  },
  {
   "cell_type": "code",
   "execution_count": 29,
   "metadata": {},
   "outputs": [],
   "source": [
    "# Decriptação\n",
    "\n",
    "def decryptx(lenhole_,divhole_,porta,*chaves):\n",
    "    chavesd = []\n",
    "    fechadurasd = []\n",
    "    for i in chaves:\n",
    "        chaved = str(i)[(divhole_):(divhole_-lenhole_)]\n",
    "        chaved = int(chaved)\n",
    "        print(str(hex(chaved))[:2])\n",
    "        chaved = int(str(hex(chaved))[:2],2)\n",
    "        chavesd.append(chaved)\n",
    "        \n",
    "        fechadurad = int(str(i)[:(divhole_)]+str(i)[(divhole_-lenhole_):])\n",
    "        fechadurasd.append(fechadurad)\n",
    "    \n",
    "    \n",
    "    porta = int(str(hex(porta))[:2],2)\n",
    "    \n",
    "    boollist = []\n",
    "    for i in range(len(chaves)):\n",
    "        if chavesd[i] == porta-fechadurasd[i]:\n",
    "            boolvar = False\n",
    "        elif chavesd[i] == porta+fechadurasd[i]:\n",
    "            boolvar = True\n",
    "        else:\n",
    "            boolvar = 'Chave '+str(i)+' foi adulterada.'\n",
    "        boollist.append(boolvar)\n",
    "        dvar2 = \"variável adulterada\"\n",
    "\n",
    "    print('lista de chaves')\n",
    "    print(chavesd)\n",
    "    print('')\n",
    "    print('Lista de fechaduras')\n",
    "    print(fechadurasd)\n",
    "    print('')\n",
    "    \n",
    "    return tuple(boollist)"
   ]
  },
  {
   "cell_type": "code",
   "execution_count": 30,
   "metadata": {
    "scrolled": false
   },
   "outputs": [
    {
     "name": "stdout",
     "output_type": "stream",
     "text": [
      "lista de chaves recebidas\n",
      "13468981861310622659792465431211 13471883233113317492431195340800 13468993144999507757011126886575\n",
      "\n",
      "0x\n"
     ]
    },
    {
     "ename": "ValueError",
     "evalue": "invalid literal for int() with base 2: '0x'",
     "output_type": "error",
     "traceback": [
      "\u001b[1;31m---------------------------------------------------------------------------\u001b[0m",
      "\u001b[1;31mValueError\u001b[0m                                Traceback (most recent call last)",
      "\u001b[1;32m<ipython-input-30-6f572b076655>\u001b[0m in \u001b[0;36m<module>\u001b[1;34m\u001b[0m\n\u001b[0;32m      5\u001b[0m \u001b[0mprint\u001b[0m\u001b[1;33m(\u001b[0m\u001b[1;34m''\u001b[0m\u001b[1;33m)\u001b[0m\u001b[1;33m\u001b[0m\u001b[1;33m\u001b[0m\u001b[0m\n\u001b[0;32m      6\u001b[0m \u001b[1;33m\u001b[0m\u001b[0m\n\u001b[1;32m----> 7\u001b[1;33m \u001b[0mboolvarsx\u001b[0m \u001b[1;33m=\u001b[0m \u001b[0mdecryptx\u001b[0m\u001b[1;33m(\u001b[0m\u001b[1;36m6\u001b[0m\u001b[1;33m,\u001b[0m\u001b[1;36m0\u001b[0m\u001b[1;33m,\u001b[0m\u001b[0mresultadox\u001b[0m\u001b[1;33m[\u001b[0m\u001b[1;36m0\u001b[0m\u001b[1;33m]\u001b[0m\u001b[1;33m,\u001b[0m\u001b[0mresultadox\u001b[0m\u001b[1;33m[\u001b[0m\u001b[1;36m1\u001b[0m\u001b[1;33m]\u001b[0m\u001b[1;33m[\u001b[0m\u001b[1;36m0\u001b[0m\u001b[1;33m]\u001b[0m\u001b[1;33m,\u001b[0m\u001b[0mresultadox\u001b[0m\u001b[1;33m[\u001b[0m\u001b[1;36m1\u001b[0m\u001b[1;33m]\u001b[0m\u001b[1;33m[\u001b[0m\u001b[1;36m1\u001b[0m\u001b[1;33m]\u001b[0m\u001b[1;33m,\u001b[0m\u001b[0mresultadox\u001b[0m\u001b[1;33m[\u001b[0m\u001b[1;36m1\u001b[0m\u001b[1;33m]\u001b[0m\u001b[1;33m[\u001b[0m\u001b[1;36m2\u001b[0m\u001b[1;33m]\u001b[0m\u001b[1;33m)\u001b[0m\u001b[1;33m\u001b[0m\u001b[1;33m\u001b[0m\u001b[0m\n\u001b[0m\u001b[0;32m      8\u001b[0m \u001b[1;33m\u001b[0m\u001b[0m\n\u001b[0;32m      9\u001b[0m \u001b[0mprint\u001b[0m\u001b[1;33m(\u001b[0m\u001b[0mboolvarsx\u001b[0m\u001b[1;33m)\u001b[0m\u001b[1;33m\u001b[0m\u001b[1;33m\u001b[0m\u001b[0m\n",
      "\u001b[1;32m<ipython-input-29-faaf1b6d498b>\u001b[0m in \u001b[0;36mdecryptx\u001b[1;34m(lenhole_, divhole_, porta, *chaves)\u001b[0m\n\u001b[0;32m      8\u001b[0m         \u001b[0mchaved\u001b[0m \u001b[1;33m=\u001b[0m \u001b[0mint\u001b[0m\u001b[1;33m(\u001b[0m\u001b[0mchaved\u001b[0m\u001b[1;33m)\u001b[0m\u001b[1;33m\u001b[0m\u001b[1;33m\u001b[0m\u001b[0m\n\u001b[0;32m      9\u001b[0m         \u001b[0mprint\u001b[0m\u001b[1;33m(\u001b[0m\u001b[0mstr\u001b[0m\u001b[1;33m(\u001b[0m\u001b[0mhex\u001b[0m\u001b[1;33m(\u001b[0m\u001b[0mchaved\u001b[0m\u001b[1;33m)\u001b[0m\u001b[1;33m)\u001b[0m\u001b[1;33m[\u001b[0m\u001b[1;33m:\u001b[0m\u001b[1;36m2\u001b[0m\u001b[1;33m]\u001b[0m\u001b[1;33m)\u001b[0m\u001b[1;33m\u001b[0m\u001b[1;33m\u001b[0m\u001b[0m\n\u001b[1;32m---> 10\u001b[1;33m         \u001b[0mchaved\u001b[0m \u001b[1;33m=\u001b[0m \u001b[0mint\u001b[0m\u001b[1;33m(\u001b[0m\u001b[0mstr\u001b[0m\u001b[1;33m(\u001b[0m\u001b[0mhex\u001b[0m\u001b[1;33m(\u001b[0m\u001b[0mchaved\u001b[0m\u001b[1;33m)\u001b[0m\u001b[1;33m)\u001b[0m\u001b[1;33m[\u001b[0m\u001b[1;33m:\u001b[0m\u001b[1;36m2\u001b[0m\u001b[1;33m]\u001b[0m\u001b[1;33m,\u001b[0m\u001b[1;36m2\u001b[0m\u001b[1;33m)\u001b[0m\u001b[1;33m\u001b[0m\u001b[1;33m\u001b[0m\u001b[0m\n\u001b[0m\u001b[0;32m     11\u001b[0m         \u001b[0mchavesd\u001b[0m\u001b[1;33m.\u001b[0m\u001b[0mappend\u001b[0m\u001b[1;33m(\u001b[0m\u001b[0mchaved\u001b[0m\u001b[1;33m)\u001b[0m\u001b[1;33m\u001b[0m\u001b[1;33m\u001b[0m\u001b[0m\n\u001b[0;32m     12\u001b[0m \u001b[1;33m\u001b[0m\u001b[0m\n",
      "\u001b[1;31mValueError\u001b[0m: invalid literal for int() with base 2: '0x'"
     ]
    }
   ],
   "source": [
    "#Pegando resultados da função anterior\n",
    "#Comparando resultados\n",
    "print('lista de chaves recebidas')\n",
    "print(resultadox[1][0],resultadox[1][1],resultadox[1][2])\n",
    "print('')\n",
    "\n",
    "boolvarsx = decryptx(6,0,resultadox[0],resultadox[1][0],resultadox[1][1],resultadox[1][2])\n",
    "\n",
    "print(boolvarsx)"
   ]
  },
  {
   "cell_type": "markdown",
   "metadata": {},
   "source": [
    "## Teste de corte"
   ]
  },
  {
   "cell_type": "code",
   "execution_count": 13,
   "metadata": {},
   "outputs": [
    {
     "name": "stdout",
     "output_type": "stream",
     "text": [
      "meiúca = 2222222\n",
      "parte da frente = 11111\n",
      "parte de trás =333\n",
      "número inteiro = 111112222222333\n"
     ]
    }
   ],
   "source": [
    "#Aprendendo a cortas =)\n",
    "#encrypt\n",
    "\n",
    "laterais = 8\n",
    "corte = 5\n",
    "\n",
    "meio = '2222222'\n",
    "cantos = '11111333'\n",
    "\n",
    "começo = cantos[:corte-laterais]\n",
    "fim = cantos[corte:]\n",
    "\n",
    "número = começo+meio+fim\n",
    "\n",
    "print('meiúca = '+meio)\n",
    "print('parte da frente = '+começo)\n",
    "print('parte de trás ='+fim)\n",
    "print('número inteiro = '+número)"
   ]
  },
  {
   "cell_type": "code",
   "execution_count": 10,
   "metadata": {},
   "outputs": [
    {
     "name": "stdout",
     "output_type": "stream",
     "text": [
      "número inteiro = 10000222222\n",
      "parte da frente = 1\n",
      "parte de trás =222222\n",
      "meiúca = 0000\n"
     ]
    }
   ],
   "source": [
    "#Aprendendo a cortar strings =)\n",
    "#Decrypt\n",
    "\n",
    "laterais = 7\n",
    "corte = 1\n",
    "\n",
    "\n",
    "número = str(10000222222)\n",
    "\n",
    "começo = número[:corte]\n",
    "\n",
    "fim = número[corte-laterais:]\n",
    "\n",
    "meio = número[corte:corte-laterais]\n",
    "\n",
    "\n",
    "print('número inteiro = '+número)\n",
    "print('parte da frente = '+começo)\n",
    "print('parte de trás ='+fim)\n",
    "print('meiúca = '+meio)"
   ]
  },
  {
   "cell_type": "markdown",
   "metadata": {},
   "source": [
    "## Teste de conversão"
   ]
  },
  {
   "cell_type": "code",
   "execution_count": null,
   "metadata": {},
   "outputs": [],
   "source": []
  }
 ],
 "metadata": {
  "kernelspec": {
   "display_name": "Python 3",
   "language": "python",
   "name": "python3"
  },
  "language_info": {
   "codemirror_mode": {
    "name": "ipython",
    "version": 3
   },
   "file_extension": ".py",
   "mimetype": "text/x-python",
   "name": "python",
   "nbconvert_exporter": "python",
   "pygments_lexer": "ipython3",
   "version": "3.8.3"
  }
 },
 "nbformat": 4,
 "nbformat_minor": 4
}
